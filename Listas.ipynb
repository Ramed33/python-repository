{
 "cells": [
  {
   "cell_type": "markdown",
   "id": "7e29f9f6-b005-42ea-b8db-daa57f674f1b",
   "metadata": {},
   "source": [
    "# Diferentes formas de crear listas"
   ]
  },
  {
   "cell_type": "code",
   "execution_count": 2,
   "id": "2610acdd-6b0d-45d6-8c4e-0c0f81d6ed26",
   "metadata": {},
   "outputs": [
    {
     "name": "stdout",
     "output_type": "stream",
     "text": [
      "[3, 3, 3, 3, 3]\n"
     ]
    }
   ],
   "source": [
    "my_list = [3]*5\n",
    "print(my_list)"
   ]
  },
  {
   "cell_type": "code",
   "execution_count": 4,
   "id": "3b71480c-e72d-4570-b7b0-68d161e0167f",
   "metadata": {},
   "outputs": [
    {
     "name": "stdout",
     "output_type": "stream",
     "text": [
      "[1, 2, 3, 4, 5]\n"
     ]
    }
   ],
   "source": [
    "my_list = [1,2,3,4,5]\n",
    "print(my_list)"
   ]
  },
  {
   "cell_type": "code",
   "execution_count": 6,
   "id": "623b0d17-8cdc-4528-a0f7-ce1cc509cecc",
   "metadata": {},
   "outputs": [
    {
     "name": "stdout",
     "output_type": "stream",
     "text": [
      "[0, 1, 2, 3, 4, 5, 6, 7, 8, 9]\n"
     ]
    }
   ],
   "source": [
    "my_list = []\n",
    "for number in range (10):\n",
    "    my_list.append(number)\n",
    "print(my_list)"
   ]
  },
  {
   "cell_type": "code",
   "execution_count": 10,
   "id": "263055e3-2246-4b20-ad64-446e8fef335c",
   "metadata": {},
   "outputs": [
    {
     "name": "stdout",
     "output_type": "stream",
     "text": [
      "[0, 1, 2, 3, 4, 5, 6, 7, 8, 9]\n"
     ]
    }
   ],
   "source": [
    "my_list = []\n",
    "for number in range (10):\n",
    "    my_list+=[number] # my_list = my_list + [number]\n",
    "print(my_list)"
   ]
  },
  {
   "cell_type": "code",
   "execution_count": 12,
   "id": "422dc766-a74b-4794-a21f-325a94772f2b",
   "metadata": {},
   "outputs": [
    {
     "name": "stdout",
     "output_type": "stream",
     "text": [
      "[0, 1, 2, 3, 4, 5, 6, 7, 8, 9, 10, 11, 12, 13, 14]\n"
     ]
    }
   ],
   "source": [
    "my_list = [number for number in range (15)]\n",
    "print(my_list)"
   ]
  },
  {
   "cell_type": "markdown",
   "id": "4efa7087-4f4c-4ca5-b698-201dc76ee3e1",
   "metadata": {},
   "source": [
    "## Obtener sublista"
   ]
  },
  {
   "cell_type": "code",
   "execution_count": 29,
   "id": "8f73c931-a157-49c2-8f7e-50696a5832a4",
   "metadata": {},
   "outputs": [
    {
     "name": "stdout",
     "output_type": "stream",
     "text": [
      "[5, 6, 7, 8, 9, 10, 11, 12, 13, 14, 15, 16, 17, 18, 19]\n"
     ]
    }
   ],
   "source": [
    "my_list = [number for number in range (5,20)]\n",
    "print(my_list)"
   ]
  },
  {
   "cell_type": "code",
   "execution_count": 31,
   "id": "e160d309-9de4-4ae2-9732-eb05855e0ddd",
   "metadata": {},
   "outputs": [
    {
     "name": "stdout",
     "output_type": "stream",
     "text": [
      "[5, 6, 7, 8]\n"
     ]
    }
   ],
   "source": [
    "my_sublist = my_list[:4]\n",
    "print(my_sublist)"
   ]
  },
  {
   "cell_type": "code",
   "execution_count": 33,
   "id": "1af83633-29f5-44a6-9ddc-38f25924b089",
   "metadata": {},
   "outputs": [
    {
     "name": "stdout",
     "output_type": "stream",
     "text": [
      "[8, 9, 10, 11]\n"
     ]
    }
   ],
   "source": [
    "my_sublist = my_list[3:7]\n",
    "print(my_sublist)"
   ]
  },
  {
   "cell_type": "code",
   "execution_count": 35,
   "id": "1d8830b7-1635-45b8-87df-1861e01f956f",
   "metadata": {},
   "outputs": [
    {
     "name": "stdout",
     "output_type": "stream",
     "text": [
      "[15, 16, 17, 18, 19]\n"
     ]
    }
   ],
   "source": [
    "my_sublist = my_list[10:]\n",
    "print(my_sublist)"
   ]
  },
  {
   "cell_type": "code",
   "execution_count": 37,
   "id": "cb3e1754-48fd-4deb-a41d-8431912ecf57",
   "metadata": {},
   "outputs": [
    {
     "name": "stdout",
     "output_type": "stream",
     "text": [
      "[]\n"
     ]
    }
   ],
   "source": [
    "my_sublist = my_list[500:]\n",
    "print(my_sublist)"
   ]
  },
  {
   "cell_type": "code",
   "execution_count": 39,
   "id": "c189f1bc-10bc-4ef6-8894-1e70cd754676",
   "metadata": {},
   "outputs": [
    {
     "data": {
      "text/plain": [
       "15"
      ]
     },
     "execution_count": 39,
     "metadata": {},
     "output_type": "execute_result"
    }
   ],
   "source": [
    "len(my_list)"
   ]
  },
  {
   "cell_type": "markdown",
   "id": "c539ec73-a42b-4f3f-9a79-0883d320fdd0",
   "metadata": {},
   "source": [
    "## Creación de listas usando range y numpy"
   ]
  },
  {
   "cell_type": "code",
   "execution_count": 44,
   "id": "a8d42998-c44a-4ecb-8e16-514badd9d620",
   "metadata": {},
   "outputs": [
    {
     "name": "stdout",
     "output_type": "stream",
     "text": [
      "[1, 2, 3, 4]\n"
     ]
    }
   ],
   "source": [
    "# range(inicio,fin,paso)\n",
    "my_list = [*range(1,5,1)]\n",
    "print(my_list)"
   ]
  },
  {
   "cell_type": "code",
   "execution_count": 46,
   "id": "23b757f8-642e-4366-b54c-897840dfbdd9",
   "metadata": {},
   "outputs": [
    {
     "name": "stdout",
     "output_type": "stream",
     "text": [
      "[1, 5, 9, 13, 17]\n"
     ]
    }
   ],
   "source": [
    "# range(inicio,fin,paso)\n",
    "my_list = [*range(1,20,4)]\n",
    "print(my_list)"
   ]
  },
  {
   "cell_type": "code",
   "execution_count": 50,
   "id": "314bf29f-594a-4a9d-8eea-c5f14ec1e98d",
   "metadata": {},
   "outputs": [
    {
     "name": "stdout",
     "output_type": "stream",
     "text": [
      "[1, 5, 9, 13, 17]\n"
     ]
    }
   ],
   "source": [
    "import numpy as np\n",
    "my_list = np.arange(1,20,4).tolist()\n",
    "print(my_list)"
   ]
  },
  {
   "cell_type": "markdown",
   "id": "8936dd8f-1082-4ca1-9b47-d7fd49312ef2",
   "metadata": {},
   "source": [
    "## Listas anidadas"
   ]
  },
  {
   "cell_type": "code",
   "execution_count": 53,
   "id": "f8a9341e-a66d-4da1-857b-4d3ffab68ebe",
   "metadata": {},
   "outputs": [
    {
     "name": "stdout",
     "output_type": "stream",
     "text": [
      "[1, 2, 3, 4, 5]\n",
      "4\n"
     ]
    }
   ],
   "source": [
    "my_list = [1,2,3,4,5]\n",
    "print(my_list)\n",
    "print(my_list[3])"
   ]
  },
  {
   "cell_type": "code",
   "execution_count": 57,
   "id": "48a67171-5ed9-499d-a820-92b0a0775947",
   "metadata": {},
   "outputs": [
    {
     "name": "stdout",
     "output_type": "stream",
     "text": [
      "[[1, 3, 5], [2, 4, 6]]\n",
      "[2, 4, 6]\n",
      "6\n"
     ]
    }
   ],
   "source": [
    "my_list = [[1,3,5], [2,4,6]]\n",
    "print(my_list)\n",
    "print(my_list[1])\n",
    "print(my_list[1][2])"
   ]
  },
  {
   "cell_type": "markdown",
   "id": "b32ee4db-ceb5-44ce-aed9-89e08a4b152b",
   "metadata": {},
   "source": [
    "## Ordenando listas"
   ]
  },
  {
   "cell_type": "code",
   "execution_count": 64,
   "id": "f22e9105-078d-4482-91bf-c37f054ad577",
   "metadata": {},
   "outputs": [
    {
     "name": "stdout",
     "output_type": "stream",
     "text": [
      "[5, 3, 1, 15, 2, 20]\n",
      "[1, 2, 3, 5, 15, 20]\n"
     ]
    }
   ],
   "source": [
    "my_list = [5,3,1,15,2,20]\n",
    "print(my_list)\n",
    "my_list.sort()\n",
    "print(my_list)"
   ]
  },
  {
   "cell_type": "code",
   "execution_count": 66,
   "id": "6d407a1c-dee2-4bd0-8e0d-bde297af9292",
   "metadata": {},
   "outputs": [
    {
     "name": "stdout",
     "output_type": "stream",
     "text": [
      "[5, 3, 1, 15, 2, 20]\n",
      "[20, 15, 5, 3, 2, 1]\n"
     ]
    }
   ],
   "source": [
    "my_list = [5,3,1,15,2,20]\n",
    "print(my_list)\n",
    "my_list.sort(reverse=True)\n",
    "print(my_list)"
   ]
  },
  {
   "cell_type": "code",
   "execution_count": 70,
   "id": "58194a7e-ba6a-4211-a4ab-17f29b13f4dc",
   "metadata": {},
   "outputs": [
    {
     "name": "stdout",
     "output_type": "stream",
     "text": [
      "['caballo', 'abeja', 'jirafa', 'ballena']\n",
      "['abeja', 'ballena', 'caballo', 'jirafa']\n"
     ]
    }
   ],
   "source": [
    "my_list = [\"caballo\", \"abeja\", \"jirafa\", \"ballena\"]\n",
    "print(my_list)\n",
    "my_list.sort()\n",
    "print(my_list)"
   ]
  },
  {
   "cell_type": "code",
   "execution_count": 72,
   "id": "2212664c-f0f9-4223-874d-def0691608c9",
   "metadata": {},
   "outputs": [
    {
     "name": "stdout",
     "output_type": "stream",
     "text": [
      "['caballo', 'abeja', 'jirafa', 'ballena']\n",
      "['jirafa', 'caballo', 'ballena', 'abeja']\n"
     ]
    }
   ],
   "source": [
    "my_list = [\"caballo\", \"abeja\", \"jirafa\", \"ballena\"]\n",
    "print(my_list)\n",
    "my_list.sort(reverse=True)\n",
    "print(my_list)"
   ]
  },
  {
   "cell_type": "markdown",
   "id": "c35ef1e1-5aaa-4fda-b739-a8f9290d075e",
   "metadata": {},
   "source": [
    "## Conversión de lista"
   ]
  },
  {
   "cell_type": "markdown",
   "id": "4970d646-e42d-4790-9d86-91d488b8622c",
   "metadata": {},
   "source": [
    "### Cadenas a listas"
   ]
  },
  {
   "cell_type": "code",
   "execution_count": 76,
   "id": "c4c1d27e-61d3-451d-abe5-5cddcfd1962f",
   "metadata": {},
   "outputs": [
    {
     "name": "stdout",
     "output_type": "stream",
     "text": [
      "Curso de Backend Python\n",
      "['Curso', 'de', 'Backend', 'Python']\n"
     ]
    }
   ],
   "source": [
    "# Separar palabras\n",
    "my_string = \"Curso de Backend Python\"\n",
    "my_list = my_string.split()\n",
    "print(my_string)\n",
    "print(my_list)"
   ]
  },
  {
   "cell_type": "code",
   "execution_count": 78,
   "id": "0d09b764-3037-4a95-b919-f2da86d4cfd2",
   "metadata": {},
   "outputs": [
    {
     "name": "stdout",
     "output_type": "stream",
     "text": [
      "Curso de Backend Python\n",
      "['C', 'u', 'r', 's', 'o', ' ', 'd', 'e', ' ', 'B', 'a', 'c', 'k', 'e', 'n', 'd', ' ', 'P', 'y', 't', 'h', 'o', 'n']\n"
     ]
    }
   ],
   "source": [
    "# Separar caracteres\n",
    "my_string = \"Curso de Backend Python\"\n",
    "my_list = list(my_string)\n",
    "print(my_string)\n",
    "print(my_list)"
   ]
  },
  {
   "cell_type": "code",
   "execution_count": 80,
   "id": "bbd7ed30-866f-42c6-95c4-0777ec028c14",
   "metadata": {},
   "outputs": [
    {
     "name": "stdout",
     "output_type": "stream",
     "text": [
      "Curso de Backend Python\n",
      "[['C'], ['u'], ['r'], ['s'], ['o'], [' '], ['d'], ['e'], [' '], ['B'], ['a'], ['c'], ['k'], ['e'], ['n'], ['d'], [' '], ['P'], ['y'], ['t'], ['h'], ['o'], ['n']]\n"
     ]
    }
   ],
   "source": [
    "# Separar los caracteres en una lista de listas\n",
    "my_string = \"Curso de Backend Python\"\n",
    "my_list = list(map(list, my_string))\n",
    "print(my_string)\n",
    "print(my_list)"
   ]
  },
  {
   "cell_type": "markdown",
   "id": "a47b10b7-1c5b-4ef0-b909-993010b758b8",
   "metadata": {},
   "source": [
    "### Listas a cadenas"
   ]
  },
  {
   "cell_type": "code",
   "execution_count": 85,
   "id": "1cd5aca6-4c64-42c2-b114-42bdebdefd90",
   "metadata": {},
   "outputs": [
    {
     "name": "stdout",
     "output_type": "stream",
     "text": [
      "['Curso', 'de', 'Backend', 'Python']\n",
      "Curso de Backend Python\n"
     ]
    }
   ],
   "source": [
    "# Usando espacios entre palabras\n",
    "my_list = ['Curso','de','Backend','Python']\n",
    "my_string = \" \".join(my_list)\n",
    "print(my_list)\n",
    "print(my_string)"
   ]
  },
  {
   "cell_type": "code",
   "execution_count": 87,
   "id": "fc3cee56-4a00-46e6-abe8-6bfcecd501ca",
   "metadata": {},
   "outputs": [
    {
     "name": "stdout",
     "output_type": "stream",
     "text": [
      "['C', 'u', 'r', 's', 'o', ' ', 'd', 'e', ' ', 'B', 'a', 'c', 'k', 'e', 'n', 'd', ' ', 'P', 'y', 't', 'h', 'o', 'n']\n",
      "Curso de Backend Python\n"
     ]
    }
   ],
   "source": [
    "my_list = ['C', 'u', 'r', 's', 'o', ' ', 'd', 'e', ' ', 'B', 'a', 'c', 'k', 'e', 'n', 'd', ' ', 'P', 'y', 't', 'h', 'o', 'n']\n",
    "my_string = \"\".join(my_list)\n",
    "print(my_list)\n",
    "print(my_string)"
   ]
  },
  {
   "cell_type": "code",
   "execution_count": 89,
   "id": "7074fda6-4c26-4e27-9925-77deabdc1d82",
   "metadata": {},
   "outputs": [
    {
     "name": "stdout",
     "output_type": "stream",
     "text": [
      "[['C'], ['u'], ['r'], ['s'], ['o'], [' '], ['d'], ['e'], [' '], ['B'], ['a'], ['c'], ['k'], ['e'], ['n'], ['d'], [' '], ['P'], ['y'], ['t'], ['h'], ['o'], ['n']]\n",
      "Curso de Backend Python\n"
     ]
    }
   ],
   "source": [
    "my_list = [['C'], ['u'], ['r'], ['s'], ['o'], [' '], ['d'], ['e'], [' '], ['B'], ['a'], ['c'], ['k'], ['e'], ['n'], ['d'], [' '], ['P'], ['y'], ['t'], ['h'], ['o'], ['n']]\n",
    "my_string = \"\".join([\"\".join(element) for element in my_list])\n",
    "print(my_list)\n",
    "print(my_string)"
   ]
  },
  {
   "cell_type": "markdown",
   "id": "6210a4ed-b5df-4c2a-87c9-45ad9cb1829f",
   "metadata": {},
   "source": [
    "## Creación de listas con valores de entrada"
   ]
  },
  {
   "cell_type": "code",
   "execution_count": 92,
   "id": "4de0d89b-a9b8-4d86-81e4-8bcb5d11b83f",
   "metadata": {},
   "outputs": [
    {
     "name": "stdin",
     "output_type": "stream",
     "text": [
      "Ingresa los valores separados por espacio:  6 7 4 2 1\n"
     ]
    },
    {
     "name": "stdout",
     "output_type": "stream",
     "text": [
      "6 7 4 2 1\n",
      "['6', '7', '4', '2', '1']\n"
     ]
    }
   ],
   "source": [
    "my_string = input(\"Ingresa los valores separados por espacio: \")\n",
    "my_list = my_string.split()\n",
    "print(my_string)\n",
    "print(my_list)"
   ]
  },
  {
   "cell_type": "markdown",
   "id": "90b57f44-7afb-4f39-a359-a941a9e17d4a",
   "metadata": {},
   "source": [
    "# Métodos para manipulación de listas"
   ]
  },
  {
   "cell_type": "markdown",
   "id": "b21d8418-1360-4417-aed4-57dfc3341119",
   "metadata": {},
   "source": [
    "## append\n",
    "Agregar in elemento al final de una lista"
   ]
  },
  {
   "cell_type": "code",
   "execution_count": 104,
   "id": "8339eec5-8cda-47b7-b7d8-dc233690b40d",
   "metadata": {},
   "outputs": [
    {
     "name": "stdout",
     "output_type": "stream",
     "text": [
      "['caballo', 'abeja', 'jirafa', 'ballena']\n",
      "4\n"
     ]
    }
   ],
   "source": [
    "my_list = [\"caballo\",\"abeja\",\"jirafa\",\"ballena\"]\n",
    "print(my_list)\n",
    "print(len(my_list))"
   ]
  },
  {
   "cell_type": "code",
   "execution_count": 106,
   "id": "ba8b0770-3fd4-4a61-ad72-69b8213d6db5",
   "metadata": {},
   "outputs": [
    {
     "name": "stdout",
     "output_type": "stream",
     "text": [
      "['caballo', 'abeja', 'jirafa', 'ballena', 'delfín']\n",
      "5\n"
     ]
    }
   ],
   "source": [
    "my_list.append(\"delfín\")\n",
    "print(my_list)\n",
    "print(len(my_list))"
   ]
  },
  {
   "cell_type": "code",
   "execution_count": 108,
   "id": "1d02fd73-7260-40f6-a832-6a6ad386bc85",
   "metadata": {},
   "outputs": [
    {
     "name": "stdout",
     "output_type": "stream",
     "text": [
      "['caballo', 'abeja', 'jirafa', 'ballena', 'delfín', 'gato']\n",
      "6\n"
     ]
    }
   ],
   "source": [
    "my_list.append(\"gato\")\n",
    "print(my_list)\n",
    "print(len(my_list))"
   ]
  },
  {
   "cell_type": "code",
   "execution_count": 110,
   "id": "17945d4d-6c2d-40e7-8dc9-f485eb023d40",
   "metadata": {},
   "outputs": [
    {
     "name": "stdout",
     "output_type": "stream",
     "text": [
      "[300, 500, 100, 200]\n",
      "4\n"
     ]
    }
   ],
   "source": [
    "my_list = [300,500,100,200]\n",
    "print(my_list)\n",
    "print(len(my_list))"
   ]
  },
  {
   "cell_type": "code",
   "execution_count": 112,
   "id": "dfa78742-822d-4a7d-beb3-89200cd023d5",
   "metadata": {},
   "outputs": [
    {
     "name": "stdout",
     "output_type": "stream",
     "text": [
      "[300, 500, 100, 200, 111]\n",
      "5\n"
     ]
    }
   ],
   "source": [
    "my_list.append(111)\n",
    "print(my_list)\n",
    "print(len(my_list))"
   ]
  },
  {
   "cell_type": "code",
   "execution_count": 114,
   "id": "51ce4d8b-f3b3-4511-af66-4136166c3609",
   "metadata": {},
   "outputs": [
    {
     "name": "stdout",
     "output_type": "stream",
     "text": [
      "[300, 500, 100, 200, 111, 333]\n",
      "6\n"
     ]
    }
   ],
   "source": [
    "my_list.append(333)\n",
    "print(my_list)\n",
    "print(len(my_list))"
   ]
  },
  {
   "cell_type": "markdown",
   "id": "79c0fe34-5fd3-4081-92c5-e20259994d39",
   "metadata": {},
   "source": [
    "## insert\n",
    "Agrega un valor a una lista en una posición específica\n",
    "\n",
    "insert(índice, valor)"
   ]
  },
  {
   "cell_type": "code",
   "execution_count": 122,
   "id": "2040928c-f651-4a35-95cf-4321f711d4b2",
   "metadata": {},
   "outputs": [
    {
     "name": "stdout",
     "output_type": "stream",
     "text": [
      "['caballo', 'abeja', 'jirafa', 'ballena']\n",
      "4\n"
     ]
    }
   ],
   "source": [
    "my_list = [\"caballo\",\"abeja\",\"jirafa\",\"ballena\"]\n",
    "print(my_list)\n",
    "print(len(my_list))"
   ]
  },
  {
   "cell_type": "code",
   "execution_count": 124,
   "id": "a807b725-c715-4148-94b0-6a52b6fdc6c8",
   "metadata": {},
   "outputs": [
    {
     "name": "stdout",
     "output_type": "stream",
     "text": [
      "['caballo', 'abeja', 'delfín', 'jirafa', 'ballena']\n",
      "5\n"
     ]
    }
   ],
   "source": [
    "my_list.insert(2, \"delfín\")\n",
    "print(my_list)\n",
    "print(len(my_list))"
   ]
  },
  {
   "cell_type": "code",
   "execution_count": 126,
   "id": "f426428b-eb9e-483f-a397-7a128fb520d9",
   "metadata": {},
   "outputs": [
    {
     "name": "stdout",
     "output_type": "stream",
     "text": [
      "['caballo', 'gato', 'abeja', 'delfín', 'jirafa', 'ballena']\n",
      "6\n"
     ]
    }
   ],
   "source": [
    "my_list.insert(1, \"gato\")\n",
    "print(my_list)\n",
    "print(len(my_list))"
   ]
  },
  {
   "cell_type": "markdown",
   "id": "2dc42d3c-3032-45cb-977c-295c9bcd5a2a",
   "metadata": {},
   "source": [
    "## clear\n",
    "Elimina todos los elementos de la lista"
   ]
  },
  {
   "cell_type": "code",
   "execution_count": 129,
   "id": "d53c0db6-b751-488e-96f7-2eb8b4f22410",
   "metadata": {},
   "outputs": [
    {
     "name": "stdout",
     "output_type": "stream",
     "text": [
      "['caballo', 'abeja', 'jirafa', 'ballena']\n",
      "4\n"
     ]
    }
   ],
   "source": [
    "my_list = [\"caballo\",\"abeja\",\"jirafa\",\"ballena\"]\n",
    "print(my_list)\n",
    "print(len(my_list))"
   ]
  },
  {
   "cell_type": "code",
   "execution_count": 131,
   "id": "2f6cf894-d46c-415f-badb-94b09576e22a",
   "metadata": {},
   "outputs": [
    {
     "name": "stdout",
     "output_type": "stream",
     "text": [
      "[]\n",
      "0\n"
     ]
    }
   ],
   "source": [
    "my_list.clear()\n",
    "print(my_list)\n",
    "print(len(my_list))"
   ]
  },
  {
   "cell_type": "code",
   "execution_count": 133,
   "id": "5f0a1a9d-5106-4f72-8f69-cb67e5694e71",
   "metadata": {},
   "outputs": [
    {
     "name": "stdout",
     "output_type": "stream",
     "text": [
      "[300, 500, 100, 200]\n",
      "4\n"
     ]
    }
   ],
   "source": [
    "my_list = [300,500,100,200]\n",
    "print(my_list)\n",
    "print(len(my_list))"
   ]
  },
  {
   "cell_type": "code",
   "execution_count": 135,
   "id": "52c35aec-ec42-4df0-891f-146ab42f46c1",
   "metadata": {},
   "outputs": [
    {
     "name": "stdout",
     "output_type": "stream",
     "text": [
      "[]\n",
      "0\n"
     ]
    }
   ],
   "source": [
    "my_list.clear()\n",
    "print(my_list)\n",
    "print(len(my_list))"
   ]
  },
  {
   "cell_type": "markdown",
   "id": "bd94913f-8613-4ce7-aa0a-cad4f0d39788",
   "metadata": {},
   "source": [
    "## copy\n",
    "Copia los elementos de una lista"
   ]
  },
  {
   "cell_type": "code",
   "execution_count": 138,
   "id": "7e6a4e19-92c3-4975-abf6-ca2e6300d366",
   "metadata": {},
   "outputs": [
    {
     "name": "stdout",
     "output_type": "stream",
     "text": [
      "['caballo', 'abeja', 'jirafa', 'ballena']\n",
      "4\n"
     ]
    }
   ],
   "source": [
    "my_list = [\"caballo\",\"abeja\",\"jirafa\",\"ballena\"]\n",
    "print(my_list)\n",
    "print(len(my_list))"
   ]
  },
  {
   "cell_type": "code",
   "execution_count": 142,
   "id": "e2c8468b-c33f-485d-97ac-5d9b42e57cc0",
   "metadata": {},
   "outputs": [
    {
     "name": "stdout",
     "output_type": "stream",
     "text": [
      "['caballo', 'abeja', 'jirafa', 'ballena']\n",
      "4\n"
     ]
    }
   ],
   "source": [
    "my_list_copy = my_list.copy()\n",
    "print(my_list_copy)\n",
    "print(len(my_list_copy))"
   ]
  },
  {
   "cell_type": "code",
   "execution_count": 144,
   "id": "4d78ed23-62b9-438b-8428-731eb766d311",
   "metadata": {},
   "outputs": [
    {
     "name": "stdout",
     "output_type": "stream",
     "text": [
      "[]\n",
      "0\n",
      "['caballo', 'abeja', 'jirafa', 'ballena']\n",
      "4\n"
     ]
    }
   ],
   "source": [
    "my_list_copy.clear()\n",
    "print(my_list_copy)\n",
    "print(len(my_list_copy))\n",
    "print(my_list)\n",
    "print(len(my_list))"
   ]
  },
  {
   "cell_type": "code",
   "execution_count": 146,
   "id": "da6359c2-0386-44e4-bed0-74be83fa8f87",
   "metadata": {},
   "outputs": [
    {
     "name": "stdout",
     "output_type": "stream",
     "text": [
      "[]\n",
      "0\n",
      "[]\n",
      "0\n"
     ]
    }
   ],
   "source": [
    "my_list_assigned = my_list\n",
    "my_list_assigned.clear()\n",
    "print(my_list_assigned)\n",
    "print(len(my_list_assigned))\n",
    "print(my_list)\n",
    "print(len(my_list))"
   ]
  },
  {
   "cell_type": "markdown",
   "id": "fa64ca10-c6a4-4ad6-8bec-04501d0f677e",
   "metadata": {},
   "source": [
    "## count\n",
    "Cuenta cuántas veces aparece un elemento en una lista"
   ]
  },
  {
   "cell_type": "code",
   "execution_count": 152,
   "id": "53d2497e-4e58-4585-994a-d89159d6ca91",
   "metadata": {},
   "outputs": [
    {
     "name": "stdout",
     "output_type": "stream",
     "text": [
      "[100, 300, 500, 100, 200, 100, 300]\n"
     ]
    }
   ],
   "source": [
    "my_list = [100,300,500,100,200,100,300]\n",
    "print(my_list)"
   ]
  },
  {
   "cell_type": "code",
   "execution_count": 154,
   "id": "60d5d4d5-c011-44b6-b8af-86511b7da7fd",
   "metadata": {},
   "outputs": [
    {
     "name": "stdout",
     "output_type": "stream",
     "text": [
      "El número 100 aparece 3 veces en la lista\n"
     ]
    }
   ],
   "source": [
    "print(\"El número 100 aparece {} veces en la lista\".format(my_list.count(100)))"
   ]
  },
  {
   "cell_type": "code",
   "execution_count": 158,
   "id": "17b31fe7-5ffa-406c-bd01-b4c243ca5d4e",
   "metadata": {},
   "outputs": [
    {
     "name": "stdout",
     "output_type": "stream",
     "text": [
      "El número 300 aparece 2 veces en la lista\n"
     ]
    }
   ],
   "source": [
    "print(\"El número 300 aparece {} veces en la lista\".format(my_list.count(300)))"
   ]
  },
  {
   "cell_type": "markdown",
   "id": "31e599a7-1cd0-48cb-96ad-248e61972f2b",
   "metadata": {},
   "source": [
    "## index\n",
    "Obtiene el primer índice de una lista que hace match con el elemento solicitado"
   ]
  },
  {
   "cell_type": "code",
   "execution_count": 161,
   "id": "93c89f07-c40e-434b-9612-973f5d18108b",
   "metadata": {},
   "outputs": [
    {
     "name": "stdout",
     "output_type": "stream",
     "text": [
      "[100, 300, 500, 100, 200, 100, 300]\n"
     ]
    }
   ],
   "source": [
    "my_list = [100,300,500,100,200,100,300]\n",
    "print(my_list)"
   ]
  },
  {
   "cell_type": "code",
   "execution_count": 163,
   "id": "e79348b5-922d-4bd3-b680-23ba5cce0bac",
   "metadata": {},
   "outputs": [
    {
     "name": "stdout",
     "output_type": "stream",
     "text": [
      "El índice de la primera aparición del número 100 es 0\n"
     ]
    }
   ],
   "source": [
    "print(\"El índice de la primera aparición del número 100 es {}\".format(my_list.index(100)))"
   ]
  },
  {
   "cell_type": "code",
   "execution_count": 169,
   "id": "cdfcb665-ef68-4f6b-a71f-3208446fc6d0",
   "metadata": {},
   "outputs": [
    {
     "name": "stdout",
     "output_type": "stream",
     "text": [
      "El índice de la primera aparición del número 500 es 2\n"
     ]
    }
   ],
   "source": [
    "print(\"El índice de la primera aparición del número 500 es {}\".format(my_list.index(500)))"
   ]
  },
  {
   "cell_type": "code",
   "execution_count": 171,
   "id": "bc82775d-31a0-4edb-a31c-a04e17d6f913",
   "metadata": {},
   "outputs": [
    {
     "name": "stdout",
     "output_type": "stream",
     "text": [
      "El índice de la primera aparición del número 300 es 1\n"
     ]
    }
   ],
   "source": [
    "print(\"El índice de la primera aparición del número 300 es {}\".format(my_list.index(300)))"
   ]
  },
  {
   "cell_type": "markdown",
   "id": "15465d59-6018-4e91-876c-03a578533994",
   "metadata": {},
   "source": [
    "## extend\n",
    "Sirve para combinar dos listas"
   ]
  },
  {
   "cell_type": "code",
   "execution_count": 3,
   "id": "ea2ffb46-7b81-4cb9-96bc-0bc921876c4a",
   "metadata": {},
   "outputs": [
    {
     "name": "stdout",
     "output_type": "stream",
     "text": [
      "['caballo', 'abeja', 'jirafa', 'ballena']\n",
      "4\n"
     ]
    }
   ],
   "source": [
    "my_list = [\"caballo\",\"abeja\",\"jirafa\",\"ballena\"]\n",
    "print(my_list)\n",
    "print(len(my_list))"
   ]
  },
  {
   "cell_type": "code",
   "execution_count": 5,
   "id": "0eb8c9fc-59b2-4f97-8107-63debd6d4a82",
   "metadata": {},
   "outputs": [
    {
     "name": "stdout",
     "output_type": "stream",
     "text": [
      "['delfín', 'gato']\n",
      "2\n"
     ]
    }
   ],
   "source": [
    "my_list_2 = [\"delfín\", \"gato\"]\n",
    "print(my_list_2)\n",
    "print(len(my_list_2))"
   ]
  },
  {
   "cell_type": "code",
   "execution_count": 7,
   "id": "8ed1b986-fe92-4f41-bd84-7803afd724c4",
   "metadata": {},
   "outputs": [
    {
     "name": "stdout",
     "output_type": "stream",
     "text": [
      "['caballo', 'abeja', 'jirafa', 'ballena', 'delfín', 'gato']\n",
      "6\n"
     ]
    }
   ],
   "source": [
    "my_list.extend(my_list_2)\n",
    "print(my_list)\n",
    "print(len(my_list))"
   ]
  },
  {
   "cell_type": "markdown",
   "id": "be5338f7-e6a5-4577-aa5d-24336fcc35f1",
   "metadata": {},
   "source": [
    "## pop\n",
    "Sirve para eliminar elementos de una lista basado en los índices"
   ]
  },
  {
   "cell_type": "code",
   "execution_count": 10,
   "id": "8b155181-e582-48cd-9228-4695ffe0e2ff",
   "metadata": {},
   "outputs": [
    {
     "name": "stdout",
     "output_type": "stream",
     "text": [
      "[100, 300, 500, 100, 200, 100, 300]\n",
      "7\n"
     ]
    }
   ],
   "source": [
    "my_list = [100, 300, 500, 100, 200, 100, 300]\n",
    "print(my_list)\n",
    "print(len(my_list))"
   ]
  },
  {
   "cell_type": "code",
   "execution_count": 12,
   "id": "78d755cc-2095-40ff-b004-07d7a1b069d3",
   "metadata": {},
   "outputs": [
    {
     "name": "stdout",
     "output_type": "stream",
     "text": [
      "[100, 300, 500, 100, 200, 100]\n",
      "6\n"
     ]
    }
   ],
   "source": [
    "# elimina índice -1 por default\n",
    "my_list.pop()\n",
    "print(my_list)\n",
    "print(len(my_list))"
   ]
  },
  {
   "cell_type": "code",
   "execution_count": 14,
   "id": "b26974a3-667a-45c4-a2b8-709eda9c0371",
   "metadata": {},
   "outputs": [
    {
     "name": "stdout",
     "output_type": "stream",
     "text": [
      "[100, 300, 100, 200, 100]\n",
      "5\n"
     ]
    }
   ],
   "source": [
    "my_list.pop(2)\n",
    "print(my_list)\n",
    "print(len(my_list))"
   ]
  },
  {
   "cell_type": "markdown",
   "id": "34eba086-2b90-44a6-9bdd-be3c85bcd655",
   "metadata": {},
   "source": [
    "## remove\n",
    "Sirve para eliminar la primera aparición de un valor en una lista"
   ]
  },
  {
   "cell_type": "code",
   "execution_count": 17,
   "id": "6d6052da-b9a0-4114-b6eb-73bf7005a3c5",
   "metadata": {},
   "outputs": [
    {
     "name": "stdout",
     "output_type": "stream",
     "text": [
      "[100, 300, 500, 100, 200, 100, 300]\n",
      "7\n"
     ]
    }
   ],
   "source": [
    "my_list = [100, 300, 500, 100, 200, 100, 300]\n",
    "print(my_list)\n",
    "print(len(my_list))"
   ]
  },
  {
   "cell_type": "code",
   "execution_count": 19,
   "id": "84620894-0ad8-40ba-a176-aa03d06a16d1",
   "metadata": {},
   "outputs": [
    {
     "name": "stdout",
     "output_type": "stream",
     "text": [
      "[300, 500, 100, 200, 100, 300]\n",
      "6\n"
     ]
    }
   ],
   "source": [
    "my_list.remove(100)\n",
    "print(my_list)\n",
    "print(len(my_list))"
   ]
  },
  {
   "cell_type": "code",
   "execution_count": 21,
   "id": "e97056c5-8556-4a30-a087-8bc47eb5ca7e",
   "metadata": {},
   "outputs": [
    {
     "name": "stdout",
     "output_type": "stream",
     "text": [
      "[300, 500, 200, 100, 300]\n",
      "5\n"
     ]
    }
   ],
   "source": [
    "my_list.remove(100)\n",
    "print(my_list)\n",
    "print(len(my_list))"
   ]
  },
  {
   "cell_type": "code",
   "execution_count": 25,
   "id": "8a0b5772-7910-436e-9a73-71abcda300c2",
   "metadata": {},
   "outputs": [
    {
     "ename": "ValueError",
     "evalue": "list.remove(x): x not in list",
     "output_type": "error",
     "traceback": [
      "\u001b[1;31m---------------------------------------------------------------------------\u001b[0m",
      "\u001b[1;31mValueError\u001b[0m                                Traceback (most recent call last)",
      "Cell \u001b[1;32mIn[25], line 2\u001b[0m\n\u001b[0;32m      1\u001b[0m \u001b[38;5;66;03m# error - el valor debe estar en la lista\u001b[39;00m\n\u001b[1;32m----> 2\u001b[0m my_list\u001b[38;5;241m.\u001b[39mremove(\u001b[38;5;241m600\u001b[39m)\n\u001b[0;32m      3\u001b[0m \u001b[38;5;28mprint\u001b[39m(my_list)\n\u001b[0;32m      4\u001b[0m \u001b[38;5;28mprint\u001b[39m(\u001b[38;5;28mlen\u001b[39m(my_list))\n",
      "\u001b[1;31mValueError\u001b[0m: list.remove(x): x not in list"
     ]
    }
   ],
   "source": [
    "# error - el valor debe estar en la lista\n",
    "my_list.remove(600)\n",
    "print(my_list)\n",
    "print(len(my_list))"
   ]
  },
  {
   "cell_type": "markdown",
   "id": "b8b1b7c9-39c5-44ba-bc45-98c2abdc2892",
   "metadata": {},
   "source": [
    "## reverse\n",
    "Invierte el orden de una lista"
   ]
  },
  {
   "cell_type": "code",
   "execution_count": 28,
   "id": "f5edc8c0-5c50-427d-99ec-683603c7761d",
   "metadata": {},
   "outputs": [
    {
     "name": "stdout",
     "output_type": "stream",
     "text": [
      "['caballo', 'abeja', 'jirafa', 'ballena']\n",
      "4\n"
     ]
    }
   ],
   "source": [
    "my_list = [\"caballo\",\"abeja\",\"jirafa\",\"ballena\"]\n",
    "print(my_list)\n",
    "print(len(my_list))"
   ]
  },
  {
   "cell_type": "code",
   "execution_count": 30,
   "id": "0682e760-063e-4ee5-bb1f-0bb6e3d6cab4",
   "metadata": {},
   "outputs": [
    {
     "name": "stdout",
     "output_type": "stream",
     "text": [
      "['ballena', 'jirafa', 'abeja', 'caballo']\n",
      "4\n"
     ]
    }
   ],
   "source": [
    "my_list.reverse()\n",
    "print(my_list)\n",
    "print(len(my_list))"
   ]
  },
  {
   "cell_type": "markdown",
   "id": "5b18bed5-7d85-48ad-af53-4d76f27bbe80",
   "metadata": {},
   "source": [
    "## sort\n",
    "Ordena los elementos de una lista"
   ]
  },
  {
   "cell_type": "code",
   "execution_count": 33,
   "id": "0cb09b46-3d72-45c7-a30e-39e124b15483",
   "metadata": {},
   "outputs": [
    {
     "name": "stdout",
     "output_type": "stream",
     "text": [
      "[5, 3, 1, 15, 2, 20]\n",
      "[1, 2, 3, 5, 15, 20]\n"
     ]
    }
   ],
   "source": [
    "my_list = [5,3,1,15,2,20]\n",
    "print(my_list)\n",
    "my_list.sort()\n",
    "print(my_list)"
   ]
  },
  {
   "cell_type": "code",
   "execution_count": 35,
   "id": "becc039d-ccd8-4716-8391-30b29af62906",
   "metadata": {},
   "outputs": [
    {
     "name": "stdout",
     "output_type": "stream",
     "text": [
      "[5, 3, 1, 15, 2, 20]\n",
      "[20, 15, 5, 3, 2, 1]\n"
     ]
    }
   ],
   "source": [
    "my_list = [5,3,1,15,2,20]\n",
    "print(my_list)\n",
    "my_list.sort(reverse=True)\n",
    "print(my_list)"
   ]
  },
  {
   "cell_type": "code",
   "execution_count": 39,
   "id": "9eec9c53-376f-47c3-bef8-97fbd92740e6",
   "metadata": {},
   "outputs": [
    {
     "name": "stdout",
     "output_type": "stream",
     "text": [
      "['caballo', 'abeja', 'jirafa', 'ballena']\n",
      "['abeja', 'ballena', 'caballo', 'jirafa']\n"
     ]
    }
   ],
   "source": [
    "my_list = [\"caballo\",\"abeja\",\"jirafa\",\"ballena\"]\n",
    "print(my_list)\n",
    "my_list.sort()\n",
    "print(my_list)"
   ]
  },
  {
   "cell_type": "code",
   "execution_count": 41,
   "id": "00af86da-ddd3-40ee-a747-85449034d893",
   "metadata": {},
   "outputs": [
    {
     "name": "stdout",
     "output_type": "stream",
     "text": [
      "['caballo', 'abeja', 'jirafa', 'ballena']\n",
      "['jirafa', 'caballo', 'ballena', 'abeja']\n"
     ]
    }
   ],
   "source": [
    "my_list = [\"caballo\",\"abeja\",\"jirafa\",\"ballena\"]\n",
    "print(my_list)\n",
    "my_list.sort(reverse=True)\n",
    "print(my_list)"
   ]
  },
  {
   "cell_type": "markdown",
   "id": "0e629a60-ab69-44be-9966-ccce539accaa",
   "metadata": {},
   "source": [
    "## Obtener un elemento aleatorio de una lista"
   ]
  },
  {
   "cell_type": "code",
   "execution_count": 44,
   "id": "ac065dd7-7ebe-4939-b05e-205019a36b6d",
   "metadata": {},
   "outputs": [
    {
     "name": "stdout",
     "output_type": "stream",
     "text": [
      "[5, 3, 1, 15, 2, 20]\n"
     ]
    }
   ],
   "source": [
    "my_list = [5,3,1,15,2,20]\n",
    "print(my_list)"
   ]
  },
  {
   "cell_type": "code",
   "execution_count": 46,
   "id": "511ab1b6-10a1-4a04-8537-9816c5f861d8",
   "metadata": {},
   "outputs": [],
   "source": [
    "import random"
   ]
  },
  {
   "cell_type": "code",
   "execution_count": 48,
   "id": "407dee07-cc05-41ba-adab-8e0d86de7593",
   "metadata": {},
   "outputs": [
    {
     "name": "stdout",
     "output_type": "stream",
     "text": [
      "20\n"
     ]
    }
   ],
   "source": [
    "print(random.choice(my_list))"
   ]
  },
  {
   "cell_type": "code",
   "execution_count": 50,
   "id": "45efa4b7-2022-493d-8d18-78bf0408c2b6",
   "metadata": {},
   "outputs": [
    {
     "name": "stdout",
     "output_type": "stream",
     "text": [
      "5\n"
     ]
    }
   ],
   "source": [
    "print(random.choice(my_list))"
   ]
  },
  {
   "cell_type": "code",
   "execution_count": 52,
   "id": "d77f2ddd-9f68-4fb0-a592-96e3be8b780c",
   "metadata": {},
   "outputs": [
    {
     "name": "stdout",
     "output_type": "stream",
     "text": [
      "15\n"
     ]
    }
   ],
   "source": [
    "print(random.choice(my_list))"
   ]
  },
  {
   "cell_type": "code",
   "execution_count": null,
   "id": "70b57906-4541-4d3e-9419-d4cc297824b0",
   "metadata": {},
   "outputs": [],
   "source": []
  }
 ],
 "metadata": {
  "kernelspec": {
   "display_name": "Python 3 (ipykernel)",
   "language": "python",
   "name": "python3"
  },
  "language_info": {
   "codemirror_mode": {
    "name": "ipython",
    "version": 3
   },
   "file_extension": ".py",
   "mimetype": "text/x-python",
   "name": "python",
   "nbconvert_exporter": "python",
   "pygments_lexer": "ipython3",
   "version": "3.11.5"
  }
 },
 "nbformat": 4,
 "nbformat_minor": 5
}
