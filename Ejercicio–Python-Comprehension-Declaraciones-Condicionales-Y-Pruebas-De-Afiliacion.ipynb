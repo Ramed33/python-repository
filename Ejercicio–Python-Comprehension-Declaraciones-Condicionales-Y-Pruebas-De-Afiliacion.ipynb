{
 "cells": [
  {
   "cell_type": "markdown",
   "id": "829fb362-98b1-45ac-91aa-1310e533e994",
   "metadata": {},
   "source": [
    "# Ejercicio – Python Comprehension, Declaraciones Condicionales y Pruebas de Afiliación"
   ]
  },
  {
   "cell_type": "code",
   "execution_count": 106,
   "id": "a3c5ebb8-a640-46b0-a48f-36e7d2cc4a5a",
   "metadata": {},
   "outputs": [
    {
     "name": "stdout",
     "output_type": "stream",
     "text": [
      "Lista de Reproducción\n",
      "\n",
      "Ingresa la palabra que te gustaría\n",
      "Ejemplo: 'rock', y obtendrás un playlist de canciones o artistas que incluyan la palabra rock\n"
     ]
    },
    {
     "name": "stdin",
     "output_type": "stream",
     "text": [
      " rock\n"
     ]
    },
    {
     "name": "stdout",
     "output_type": "stream",
     "text": [
      "[{'Artista: ': 'Post Malone', 'Cancion': 'rockstar'}, {'Artista: ': 'LISA', 'Cancion': 'Rockstar'}, {'Artista: ': 'Elton John', 'Cancion': \"Rocket Man (I Think It's Going To Be A Long, Long Time)\"}, {'Artista: ': 'Justin Timberlake', 'Cancion': 'Rock Your Body'}, {'Artista: ': 'DaBaby', 'Cancion': 'ROCKSTAR'}, {'Artista: ': 'Junior H', 'Cancion': 'ROCKSTAR'}, {'Artista: ': 'Nickelback', 'Cancion': 'Rockstar'}, {'Artista: ': 'R3HAB', 'Cancion': 'Rock My Body'}, {'Artista: ': 'Kiss', 'Cancion': 'Rock And Roll All Nite'}, {'Artista: ': 'Clean Bandit', 'Cancion': 'Rockabye (feat. Sean Paul & Anne-Marie)'}, {'Artista: ': 'Rockwell', 'Cancion': \"Somebody's Watching Me\"}, {'Artista: ': 'The Clash', 'Cancion': 'Rock the Casbah (Remastered)'}, {'Artista: ': 'Scorpions', 'Cancion': 'Rock You Like a Hurricane (2011)'}, {'Artista: ': 'Scorpions', 'Cancion': 'Rock You Like a Hurricane (2015 - Remaster)'}, {'Artista: ': 'AC/DC', 'Cancion': 'Rock N Roll Train'}, {'Artista: ': 'Michael Jackson', 'Cancion': 'Rock with You (Single Version)'}, {'Artista: ': 'Aaliyah', 'Cancion': 'Rock The Boat'}, {'Artista: ': 'Led Zeppelin', 'Cancion': 'Rock and Roll (Remaster)'}, {'Artista: ': 'Bailey Zimmerman', 'Cancion': 'Rock and A Hard Place'}, {'Artista: ': 'Neil Young', 'Cancion': \"Rockin' in the Free World\"}, {'Artista: ': 'blink-182', 'Cancion': 'The Rock Show'}, {'Artista: ': 'LISA', 'Cancion': 'Rockstar (Extended)'}, {'Artista: ': 'Ken Carson', 'Cancion': 'Rock N Roll'}, {'Artista: ': 'AC/DC', 'Cancion': \"Rock and Roll Ain't Noise Pollution\"}, {'Artista: ': 'Gary Glitter', 'Cancion': \"Rock 'n' Roll (Part 2)\"}]\n"
     ]
    }
   ],
   "source": [
    "import requests\n",
    "\n",
    "print(\"Lista de Reproducción\\n\")\n",
    "\n",
    "# Referencia: https://www.deezer.com/en/channels/explore \n",
    "\n",
    "print(\"Ingresa la palabra que te gustaría\")\n",
    "print(\"Ejemplo: 'rock', y obtendrás un playlist de canciones o artistas que incluyan la palabra rock\")\n",
    "word_to_search = input()\n",
    "\n",
    "url = \"https://deezerdevs-deezer.p.rapidapi.com/search\" \n",
    "querystring = {\"q\":word_to_search} \n",
    "headers = {\n",
    "    \"X-RapidAPI-Key\": \"3ed98f551fmshe4e6260228c4eadp13db17jsn8c893e1194da\", \n",
    "    \"X-RapidAPI-Host\": \"deezerdevs-deezer.p.rapidapi.com\"\n",
    "}\n",
    "response = requests.request(\"GET\", url, headers=headers, params=querystring).json() \n",
    "\n",
    "my_list = []\n",
    "my_dict_1 = {}\n",
    "my_dict_2 = {}\n",
    "\n",
    "for element in response['data']:\n",
    "    artista = element['artist']['name']\n",
    "    cancion = element['title']\n",
    "    my_dict_1[\"Artista: \"] = artista\n",
    "    my_dict_2[\"Cancion\"] = cancion\n",
    "    my_dict_1.update(my_dict_2)\n",
    "    my_dict = my_dict_1.copy()\n",
    "    my_list.append(my_dict)\n",
    "print(my_list)"
   ]
  },
  {
   "cell_type": "code",
   "execution_count": null,
   "id": "6d88de2f-d53e-4905-a4a2-e2d5a1307288",
   "metadata": {},
   "outputs": [],
   "source": []
  }
 ],
 "metadata": {
  "kernelspec": {
   "display_name": "Python 3 (ipykernel)",
   "language": "python",
   "name": "python3"
  },
  "language_info": {
   "codemirror_mode": {
    "name": "ipython",
    "version": 3
   },
   "file_extension": ".py",
   "mimetype": "text/x-python",
   "name": "python",
   "nbconvert_exporter": "python",
   "pygments_lexer": "ipython3",
   "version": "3.11.5"
  }
 },
 "nbformat": 4,
 "nbformat_minor": 5
}
