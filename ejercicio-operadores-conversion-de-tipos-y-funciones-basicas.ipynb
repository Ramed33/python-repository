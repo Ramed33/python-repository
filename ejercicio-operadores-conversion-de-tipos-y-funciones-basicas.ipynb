{
 "cells": [
  {
   "cell_type": "markdown",
   "id": "5bbb8c82-2fab-499f-a6ec-e12de6214a03",
   "metadata": {},
   "source": [
    "# Ejercicio: Operadores, conversion de tipos y funciones básicas"
   ]
  },
  {
   "cell_type": "code",
   "execution_count": 1,
   "id": "32028994-e25e-4eb0-be99-5754fc081878",
   "metadata": {
    "jp-MarkdownHeadingCollapsed": true
   },
   "outputs": [
    {
     "name": "stdin",
     "output_type": "stream",
     "text": [
      " Ingresa + para suma:\n",
      " Ingresa - para resta:\n",
      " Ingresa * para multiplicación:\n",
      " Ingresa / para división:\n",
      " Ingresa ** para potencia:\n",
      " *\n"
     ]
    },
    {
     "name": "stdout",
     "output_type": "stream",
     "text": [
      "Ingresa cinco números a una list: \n",
      "Ingresa el numero 1 a la list: \n"
     ]
    },
    {
     "name": "stdin",
     "output_type": "stream",
     "text": [
      " 1\n"
     ]
    },
    {
     "name": "stdout",
     "output_type": "stream",
     "text": [
      "Ingresa el numero 2 a la list: \n"
     ]
    },
    {
     "name": "stdin",
     "output_type": "stream",
     "text": [
      " 1\n"
     ]
    },
    {
     "name": "stdout",
     "output_type": "stream",
     "text": [
      "Ingresa el numero 3 a la list: \n"
     ]
    },
    {
     "name": "stdin",
     "output_type": "stream",
     "text": [
      " 1\n"
     ]
    },
    {
     "name": "stdout",
     "output_type": "stream",
     "text": [
      "Ingresa el numero 4 a la list: \n"
     ]
    },
    {
     "name": "stdin",
     "output_type": "stream",
     "text": [
      " 1\n"
     ]
    },
    {
     "name": "stdout",
     "output_type": "stream",
     "text": [
      "Ingresa el numero 5 a la list: \n"
     ]
    },
    {
     "name": "stdin",
     "output_type": "stream",
     "text": [
      " 1\n"
     ]
    },
    {
     "name": "stdout",
     "output_type": "stream",
     "text": [
      "Ingresa cinco números a un set: \n",
      "Ingresa el numero 1 al set: \n"
     ]
    },
    {
     "name": "stdin",
     "output_type": "stream",
     "text": [
      " 2\n"
     ]
    },
    {
     "name": "stdout",
     "output_type": "stream",
     "text": [
      "Ingresa el numero 2 al set: \n"
     ]
    },
    {
     "name": "stdin",
     "output_type": "stream",
     "text": [
      " 2\n"
     ]
    },
    {
     "name": "stdout",
     "output_type": "stream",
     "text": [
      "Ingresa el numero 3 al set: \n"
     ]
    },
    {
     "name": "stdin",
     "output_type": "stream",
     "text": [
      " 2\n"
     ]
    },
    {
     "name": "stdout",
     "output_type": "stream",
     "text": [
      "Ingresa el numero 4 al set: \n"
     ]
    },
    {
     "name": "stdin",
     "output_type": "stream",
     "text": [
      " 2\n"
     ]
    },
    {
     "name": "stdout",
     "output_type": "stream",
     "text": [
      "Ingresa el numero 5 al set: \n"
     ]
    },
    {
     "name": "stdin",
     "output_type": "stream",
     "text": [
      " 2\n"
     ]
    },
    {
     "name": "stdout",
     "output_type": "stream",
     "text": [
      "Ingresa cinco números a una tupla: \n",
      "Ingresa el numero 1 a la tupla: \n"
     ]
    },
    {
     "name": "stdin",
     "output_type": "stream",
     "text": [
      " 3\n"
     ]
    },
    {
     "name": "stdout",
     "output_type": "stream",
     "text": [
      "Ingresa el numero 2 a la tupla: \n"
     ]
    },
    {
     "name": "stdin",
     "output_type": "stream",
     "text": [
      " 3\n"
     ]
    },
    {
     "name": "stdout",
     "output_type": "stream",
     "text": [
      "Ingresa el numero 3 a la tupla: \n"
     ]
    },
    {
     "name": "stdin",
     "output_type": "stream",
     "text": [
      " 3\n"
     ]
    },
    {
     "name": "stdout",
     "output_type": "stream",
     "text": [
      "Ingresa el numero 4 a la tupla: \n"
     ]
    },
    {
     "name": "stdin",
     "output_type": "stream",
     "text": [
      " 3\n"
     ]
    },
    {
     "name": "stdout",
     "output_type": "stream",
     "text": [
      "Ingresa el numero 5 a la tupla: \n"
     ]
    },
    {
     "name": "stdin",
     "output_type": "stream",
     "text": [
      " 3\n"
     ]
    },
    {
     "name": "stdout",
     "output_type": "stream",
     "text": [
      "Ingresa cinco números a un diccionario: \n",
      "Ingresa el numero 1 al diccionario: \n"
     ]
    },
    {
     "name": "stdin",
     "output_type": "stream",
     "text": [
      " 4\n"
     ]
    },
    {
     "name": "stdout",
     "output_type": "stream",
     "text": [
      "Ingresa el numero 2 al diccionario: \n"
     ]
    },
    {
     "name": "stdin",
     "output_type": "stream",
     "text": [
      " 4\n"
     ]
    },
    {
     "name": "stdout",
     "output_type": "stream",
     "text": [
      "Ingresa el numero 3 al diccionario: \n"
     ]
    },
    {
     "name": "stdin",
     "output_type": "stream",
     "text": [
      " 4\n"
     ]
    },
    {
     "name": "stdout",
     "output_type": "stream",
     "text": [
      "Ingresa el numero 4 al diccionario: \n"
     ]
    },
    {
     "name": "stdin",
     "output_type": "stream",
     "text": [
      " 4\n"
     ]
    },
    {
     "name": "stdout",
     "output_type": "stream",
     "text": [
      "Ingresa el numero 5 al diccionario: \n"
     ]
    },
    {
     "name": "stdin",
     "output_type": "stream",
     "text": [
      " 4\n"
     ]
    },
    {
     "name": "stdout",
     "output_type": "stream",
     "text": [
      "Los elementos de la lista son:  ['1', '1', '1', '1', '1']\n",
      "<class 'list'>\n",
      "La operacion seleccionada es:  *\n",
      "El resultado es:  1\n",
      "Los elementos del set son:  {'2'}\n",
      "<class 'set'>\n",
      "Los elementos de un set no se pueden indexar, no se puede hacer la operación solicitada\n",
      "Los elementos de la tupla son:  ('3', '3', '3', '3', '3')\n",
      "<class 'tuple'>\n",
      "La operacion seleccionada es:  *\n",
      "El resultado es:  243\n",
      "Los elementos del diccionario son:  {'elemento1': '4', 'elemento2': '4', 'elemento3': '4', 'elemento4': '4', 'elemento5': '4'}\n",
      "<class 'dict'>\n",
      "La operacion seleccionada es:  *\n",
      "El resultado es:  1024\n"
     ]
    }
   ],
   "source": [
    "operacion = input(\" Ingresa + para suma:\\n Ingresa - para resta:\\n Ingresa * para multiplicación:\\n Ingresa / para división:\\n Ingresa ** para potencia:\\n\")\n",
    "my_list = []\n",
    "print(\"Ingresa cinco números a una list: \")\n",
    "for x in range (5):\n",
    "    x+=1\n",
    "    print(\"Ingresa el numero\", x, \"a la list: \")\n",
    "    number = input()\n",
    "    my_list.append(number)\n",
    "\n",
    "my_set = set()\n",
    "print(\"Ingresa cinco números a un set: \")\n",
    "for x in range (5):\n",
    "    x+=1\n",
    "    print(\"Ingresa el numero\", x, \"al set: \")\n",
    "    number = input()\n",
    "    my_set.add(number)\n",
    "\n",
    "my_tuple = ()\n",
    "print(\"Ingresa cinco números a una tupla: \")\n",
    "for x in range (5):\n",
    "    x+=1\n",
    "    print(\"Ingresa el numero\", x, \"a la tupla: \")\n",
    "    number = input()\n",
    "    y = list(my_tuple)\n",
    "    y.append(number)\n",
    "    my_tuple = tuple(y)\n",
    "\n",
    "my_dictionary = {}\n",
    "print(\"Ingresa cinco números a un diccionario: \")\n",
    "for x in range (5):\n",
    "    x += 1\n",
    "    print(\"Ingresa el numero\", x, \"al diccionario: \")\n",
    "    number = input()\n",
    "    y = str(x)\n",
    "    entrada = \"elemento\"+y\n",
    "    my_dictionary[entrada] = number\n",
    "\n",
    "print(\"Los elementos de la lista son: \", my_list)\n",
    "print(type(my_list))\n",
    "resultado = my_list[0]+operacion+my_list[1]+operacion+my_list[2]+operacion+my_list[3]+operacion+my_list[4]\n",
    "print(\"La operacion seleccionada es: \", operacion)\n",
    "print(\"El resultado es: \", eval(resultado))\n",
    "\n",
    "print(\"Los elementos del set son: \", my_set)\n",
    "print(type(my_set))\n",
    "print(\"Los elementos de un set no se pueden indexar, no se puede hacer la operación solicitada\")\n",
    "\n",
    "print(\"Los elementos de la tupla son: \", my_tuple)\n",
    "print(type(my_tuple))\n",
    "resultado = my_tuple[0]+operacion+my_tuple[1]+operacion+my_tuple[2]+operacion+my_tuple[3]+operacion+my_tuple[4]\n",
    "print(\"La operacion seleccionada es: \", operacion)\n",
    "print(\"El resultado es: \", eval(resultado))\n",
    "\n",
    "print(\"Los elementos del diccionario son: \", my_dictionary)\n",
    "print(type(my_dictionary))\n",
    "resultado = my_dictionary['elemento1']+operacion+my_dictionary['elemento2']+operacion+my_dictionary['elemento3']+operacion+my_dictionary['elemento4']+operacion+my_dictionary['elemento5']\n",
    "print(\"La operacion seleccionada es: \", operacion)\n",
    "print(\"El resultado es: \", eval(resultado))"
   ]
  },
  {
   "cell_type": "code",
   "execution_count": null,
   "id": "4352b66b-32f4-45c3-a224-af64b86a8055",
   "metadata": {},
   "outputs": [],
   "source": []
  }
 ],
 "metadata": {
  "kernelspec": {
   "display_name": "Python 3 (ipykernel)",
   "language": "python",
   "name": "python3"
  },
  "language_info": {
   "codemirror_mode": {
    "name": "ipython",
    "version": 3
   },
   "file_extension": ".py",
   "mimetype": "text/x-python",
   "name": "python",
   "nbconvert_exporter": "python",
   "pygments_lexer": "ipython3",
   "version": "3.11.5"
  }
 },
 "nbformat": 4,
 "nbformat_minor": 5
}
