{
 "cells": [
  {
   "cell_type": "markdown",
   "id": "0c358913-2c7c-4c07-b0d6-0928a2a35292",
   "metadata": {},
   "source": [
    "# Ejercicio-Diccionarios"
   ]
  },
  {
   "cell_type": "code",
   "execution_count": 5,
   "id": "608b926c-04bd-47b8-986c-477b28ddf64f",
   "metadata": {},
   "outputs": [
    {
     "name": "stdin",
     "output_type": "stream",
     "text": [
      "Ingresa el nombre de un pokemon\n",
      "\n",
      " pikachu\n"
     ]
    },
    {
     "name": "stdout",
     "output_type": "stream",
     "text": [
      "ID:  25\n",
      "Nombre:  pikachu\n",
      "Altura:  4\n",
      "Peso:  60\n",
      "Descripción:  Le gusta relajarse\n"
     ]
    }
   ],
   "source": [
    "import pokebase as pb \n",
    "import requests\n",
    "pokemon_to_search = input(\"Ingresa el nombre de un pokemon\\n\\n\") \n",
    "data = pb.pokemon(pokemon_to_search).__dict__ \n",
    "id_ = data.get('id_') \n",
    "name = data.get('name') \n",
    "height = data.get('height')\n",
    "weight = data.get('weight')\n",
    "\n",
    "print(\"ID: \", id_)\n",
    "print(\"Nombre: \", name) \n",
    "print(\"Altura: \", height) \n",
    "print(\"Peso: \", weight)\n",
    "\n",
    "url = \"https://pokeapi.co/api/v2/characteristic/{id}/\".format(id=id_) \n",
    "response = requests.get(url)\n",
    "for description_dict in response.json().get(\"descriptions\"): \n",
    "    if description_dict.get(\"language\", {}).get(\"name\") == \"es\": \n",
    "        description = description_dict.get(\"description\") \n",
    "        print(\"Descripción: \",description)"
   ]
  },
  {
   "cell_type": "code",
   "execution_count": null,
   "id": "9237ef8a-4d20-4bae-b406-5c9173ceb21a",
   "metadata": {},
   "outputs": [],
   "source": []
  }
 ],
 "metadata": {
  "kernelspec": {
   "display_name": "Python 3 (ipykernel)",
   "language": "python",
   "name": "python3"
  },
  "language_info": {
   "codemirror_mode": {
    "name": "ipython",
    "version": 3
   },
   "file_extension": ".py",
   "mimetype": "text/x-python",
   "name": "python",
   "nbconvert_exporter": "python",
   "pygments_lexer": "ipython3",
   "version": "3.11.5"
  }
 },
 "nbformat": 4,
 "nbformat_minor": 5
}
