{
 "cells": [
  {
   "cell_type": "markdown",
   "id": "5afd5905-89d8-439e-845d-fcad0739a4b1",
   "metadata": {},
   "source": [
    "## Qué es comprehension en python\n",
    "- Comprehension en python nos permite construir una lógica de manera corta y concisa\n",
    "- Es una forma de escribir un bloque de código para generar una secuencia que puede ser una lista, un diccionario, un set ó un generador usando otra secuencia\n",
    "- Puede involucrar múltiples pasos de conversión entre los diferentes tipos de secuencias"
   ]
  },
  {
   "cell_type": "markdown",
   "id": "02d46bec-ef89-483f-8c8d-23641d7f11bb",
   "metadata": {},
   "source": [
    "## El propósito de comprehension\n",
    "- Son construcciones que nos permiten crear secuencias de otras secuencias\n",
    "- Trabajan más rápido que un ciclo for equivalente\n",
    "- se pueden incorporar múltiples ciclos for y condicionales if fácilmente"
   ]
  },
  {
   "cell_type": "markdown",
   "id": "45091e51-3e2d-4b73-b4bb-f46804500ae3",
   "metadata": {},
   "source": [
    "## List comprehensions\n",
    "- Son usados para crear nuevas listas de otros iterables\n",
    "- Regresan listas\n",
    "- Consisten en expresiones en medio de corchetes\n",
    "- La expresión es usada por cada elemento junto con un ciclo for para iterar en cada elemento\n",
    "- Pueden contener múltiples list comprehensions anidadas"
   ]
  },
  {
   "cell_type": "code",
   "execution_count": 8,
   "id": "ba835a68-3f6d-4a39-beb8-4afcf1de3a03",
   "metadata": {},
   "outputs": [
    {
     "name": "stdout",
     "output_type": "stream",
     "text": [
      "1\n",
      "3\n",
      "5\n",
      "7\n",
      "9\n",
      "11\n",
      "13\n",
      "15\n",
      "17\n",
      "19\n"
     ]
    }
   ],
   "source": [
    "# Ciclo for convensional\n",
    "# Números impares\n",
    "\n",
    "for number in range(20):\n",
    "    if number % 2 == 1:\n",
    "        print(number)"
   ]
  },
  {
   "cell_type": "code",
   "execution_count": 12,
   "id": "47c03a59-5749-44c9-8983-f43edd93d894",
   "metadata": {},
   "outputs": [
    {
     "name": "stdout",
     "output_type": "stream",
     "text": [
      "[1, 3, 5, 7, 9, 11, 13, 15, 17, 19]\n"
     ]
    }
   ],
   "source": [
    "# List comprehension\n",
    "# Números impares\n",
    "\n",
    "odd_numbers = [x for x in range(20) if x%2==1]\n",
    "print(odd_numbers)"
   ]
  },
  {
   "cell_type": "code",
   "execution_count": 16,
   "id": "d8d376dd-47ff-4447-a3fc-6284cd45baee",
   "metadata": {},
   "outputs": [
    {
     "name": "stdout",
     "output_type": "stream",
     "text": [
      "B\n",
      "a\n",
      "c\n",
      "k\n",
      "e\n",
      "n\n",
      "d\n",
      " \n",
      "P\n",
      "y\n",
      "t\n",
      "h\n",
      "o\n",
      "n\n"
     ]
    }
   ],
   "source": [
    "# Ciclo for convensional\n",
    "# Obtener caracteres en una cadena\n",
    "\n",
    "my_string = \"Backend Python\"\n",
    "for letter in my_string:\n",
    "    print(letter)"
   ]
  },
  {
   "cell_type": "code",
   "execution_count": 18,
   "id": "cbbd24a1-cf4e-416e-9652-99d12291e6dd",
   "metadata": {},
   "outputs": [
    {
     "name": "stdout",
     "output_type": "stream",
     "text": [
      "['B', 'a', 'c', 'k', 'e', 'n', 'd', ' ', 'P', 'y', 't', 'h', 'o', 'n']\n"
     ]
    }
   ],
   "source": [
    "# List comprehension\n",
    "# Obtener caracteres en una cadena\n",
    "\n",
    "my_string = \"Backend Python\"\n",
    "letters = [letter for letter in my_string]\n",
    "print(letters)"
   ]
  },
  {
   "cell_type": "markdown",
   "id": "3fd73afd-f1ff-4d50-9a12-2a3eb16cd30e",
   "metadata": {},
   "source": [
    "## Dict comprehension\n",
    "- Son prácticamente igual a list comprehension\n",
    "- Operan de la misma forma pero usamos dos variables, la llave y el valor, en lugar de un solo valor para la iteración de las listas"
   ]
  },
  {
   "cell_type": "code",
   "execution_count": 25,
   "id": "ad3d0635-2c19-4a9e-9171-5e7d5df2ac66",
   "metadata": {},
   "outputs": [
    {
     "name": "stdout",
     "output_type": "stream",
     "text": [
      "{0: 1, 1: 1, 2: 2, 3: 6, 4: 24, 5: 120}\n"
     ]
    }
   ],
   "source": [
    "import math \n",
    "factorials = {x:math.factorial(x) for x in range(6)}\n",
    "print(factorials)\n",
    "# 0 -> 1\n",
    "# 1 -> 1\n",
    "# 2 -> 2*1\n",
    "# 3 -> 3*2*1\n",
    "# 4 -> 4*3*2*1\n",
    "# 5 -> 5*4*3*2*1"
   ]
  },
  {
   "cell_type": "code",
   "execution_count": 29,
   "id": "29d64a0a-0881-4a0c-8367-20686d020072",
   "metadata": {},
   "outputs": [
    {
     "name": "stdout",
     "output_type": "stream",
     "text": [
      "{1: 1, 3: 6, 5: 120}\n"
     ]
    }
   ],
   "source": [
    "import math \n",
    "odd_factorials = {x:math.factorial(x) for x in range(6) if x%2==1}\n",
    "print(odd_factorials)\n",
    "# 1 -> 1\n",
    "# 3 -> 3*2*1\n",
    "# 5 -> 5*4*3*2*1"
   ]
  },
  {
   "cell_type": "code",
   "execution_count": 31,
   "id": "f1461212-5c9a-4c98-ab47-8e804cd538fa",
   "metadata": {},
   "outputs": [
    {
     "name": "stdout",
     "output_type": "stream",
     "text": [
      "{0: 1, 2: 2, 4: 24}\n"
     ]
    }
   ],
   "source": [
    "import math \n",
    "even_factorials = {x:math.factorial(x) for x in range(6) if x%2==0}\n",
    "print(even_factorials)\n",
    "# 0 -> 1\n",
    "# 2 -> 2*1\n",
    "# 4 -> 4*3*2*1"
   ]
  },
  {
   "cell_type": "markdown",
   "id": "caa68b4a-98e7-4a29-b8c0-bd30b31f2a01",
   "metadata": {},
   "source": [
    "## Declaraciones condicionales"
   ]
  },
  {
   "cell_type": "markdown",
   "id": "fa88ec2a-178f-43b6-b1a5-dc9bda37c61b",
   "metadata": {},
   "source": [
    "### Qué son las declaraciones condicionales\n",
    "- Generalmente controlan el flujo del programa\n",
    "- Si la condición es verdadera, el programa ejecuta cierta acción\n",
    "- Si la condición es falsa, el programa ejecuta otra acción\n",
    "- Se usan para evaluar si ciertas condiciones son verdaderas o falsas y decidir qué bloque de codigo ejecutar\n",
    "- Tenemos tres tipos de decleraciones condicionales:\n",
    "  - if\n",
    "  - if else\n",
    "  - if elif else"
   ]
  },
  {
   "cell_type": "markdown",
   "id": "3f198cb7-54e6-42eb-88ff-0a0640bbbabb",
   "metadata": {},
   "source": [
    "### Porqué usar las declaraciones condicionales\n",
    "\n",
    "- Son un concepto central común en cualquier tipo de programación\n",
    "- Se pueden usar para validaciones condicionales\n",
    "- Usamos \"if\" para revisar si una condición es verdadera o falsa\n",
    "- Las declaraciones condicionales incluyen una condición y el bloque de código para esa condición\n",
    "- Dependerá del resultado de una condición si se hace la validación de la siguiente condición\n",
    "- Si una condición es verdadera, pasará a validar la siguiente condición\n",
    "- Si la condición es falsa irá directo al bloque correspondiente o la bloque default"
   ]
  },
  {
   "cell_type": "markdown",
   "id": "bc17ac3c-407b-44ed-9d08-3876fb110d96",
   "metadata": {},
   "source": [
    "# IF"
   ]
  },
  {
   "cell_type": "code",
   "execution_count": 42,
   "id": "ae17db22-007e-4c83-9199-0bb36ea73566",
   "metadata": {},
   "outputs": [
    {
     "name": "stdout",
     "output_type": "stream",
     "text": [
      "Dentro del bloque if\n",
      "Final del ejemplo\n"
     ]
    }
   ],
   "source": [
    "num = 3\n",
    "if num > 1 and num < 10:\n",
    "    print(\"Dentro del bloque if\")\n",
    "print(\"Final del ejemplo\")"
   ]
  },
  {
   "cell_type": "code",
   "execution_count": 46,
   "id": "c2e43c7c-f5fd-4307-b2d2-085c265a27dc",
   "metadata": {},
   "outputs": [
    {
     "name": "stdout",
     "output_type": "stream",
     "text": [
      "Final del ejemplo\n"
     ]
    }
   ],
   "source": [
    "num = 0\n",
    "if num > 1 and num < 10:\n",
    "    print(\"Dentro del bloque if\")\n",
    "    print(\"test\")\n",
    "    print(\"Probando!!!\")\n",
    "print(\"Final del ejemplo\")"
   ]
  },
  {
   "cell_type": "markdown",
   "id": "395d247f-e222-41cd-9d2c-38ffd5f94167",
   "metadata": {},
   "source": [
    "# IF-ELSE"
   ]
  },
  {
   "cell_type": "code",
   "execution_count": 58,
   "id": "c3e9003c-b751-4d70-984f-36f4d06b461e",
   "metadata": {},
   "outputs": [
    {
     "name": "stdout",
     "output_type": "stream",
     "text": [
      "Dentro del bloque if\n",
      "test\n",
      "Probando!!!\n",
      "Final del ejemplo\n"
     ]
    }
   ],
   "source": [
    "num = 3\n",
    "if num > 1 and num < 10:\n",
    "    print(\"Dentro del bloque if\")\n",
    "    print(\"test\")\n",
    "    print(\"Probando!!!\")\n",
    "else: # de lo contrario\n",
    "    print(\"Dentro del bloque else\")\n",
    "    print(\"else\")\n",
    "    print(\"ELSE\")\n",
    "    print(\"La condición no se cumplió\")\n",
    "print(\"Final del ejemplo\")"
   ]
  },
  {
   "cell_type": "code",
   "execution_count": 60,
   "id": "4dfc6656-b490-4988-9bb1-9a22ae5f6b38",
   "metadata": {},
   "outputs": [
    {
     "name": "stdout",
     "output_type": "stream",
     "text": [
      "Dentro del bloque else\n",
      "else\n",
      "ELSE\n",
      "La condición no se cumplió\n",
      "Final del ejemplo\n"
     ]
    }
   ],
   "source": [
    "num = 11\n",
    "if num > 1 and num < 10:\n",
    "    print(\"Dentro del bloque if\")\n",
    "    print(\"test\")\n",
    "    print(\"Probando!!!\")\n",
    "else: # de lo contrario\n",
    "    print(\"Dentro del bloque else\")\n",
    "    print(\"else\")\n",
    "    print(\"ELSE\")\n",
    "    print(\"La condición no se cumplió\")\n",
    "print(\"Final del ejemplo\")"
   ]
  },
  {
   "cell_type": "markdown",
   "id": "f814dde2-fc47-4926-95fd-9584aeeeb5f9",
   "metadata": {},
   "source": [
    "# IF-ELIF-ELSE"
   ]
  },
  {
   "cell_type": "code",
   "execution_count": 64,
   "id": "f84c220c-76bd-4ef0-8a61-3d8f6fcb902d",
   "metadata": {},
   "outputs": [
    {
     "name": "stdout",
     "output_type": "stream",
     "text": [
      "Dentro del bloque if\n",
      "test\n",
      "Probando!!!\n",
      "Final del ejemplo\n"
     ]
    }
   ],
   "source": [
    "num = 4\n",
    "if num > 1 and num < 10:\n",
    "    print(\"Dentro del bloque if\")\n",
    "    print(\"test\")\n",
    "    print(\"Probando!!!\")\n",
    "elif num == 2:\n",
    "    print(\"Dentro del bloque elif\")\n",
    "    print(\"El valor de num es 2\")\n",
    "else: # de lo contrario\n",
    "    print(\"Dentro del bloque else\")\n",
    "    print(\"else\")\n",
    "    print(\"ELSE\")\n",
    "    print(\"La condición no se cumplió\")\n",
    "print(\"Final del ejemplo\")"
   ]
  },
  {
   "cell_type": "code",
   "execution_count": 68,
   "id": "6ac1f7dd-6b42-4b26-af21-e0230078e35c",
   "metadata": {},
   "outputs": [
    {
     "name": "stdout",
     "output_type": "stream",
     "text": [
      "Dentro del bloque elif\n",
      "El valor de num es 11\n",
      "Final del ejemplo\n"
     ]
    }
   ],
   "source": [
    "num = 11\n",
    "if num > 1 and num < 10:\n",
    "    print(\"Dentro del bloque if\")\n",
    "    print(\"test\")\n",
    "    print(\"Probando!!!\")\n",
    "elif num == 11:\n",
    "    print(\"Dentro del bloque elif\")\n",
    "    print(\"El valor de num es 11\")\n",
    "else: # de lo contrario\n",
    "    print(\"Dentro del bloque else\")\n",
    "    print(\"else\")\n",
    "    print(\"ELSE\")\n",
    "    print(\"La condición no se cumplió\")\n",
    "print(\"Final del ejemplo\")"
   ]
  },
  {
   "cell_type": "code",
   "execution_count": 74,
   "id": "3dc9a6d5-d424-42ab-85f5-aac869e0f66c",
   "metadata": {},
   "outputs": [
    {
     "name": "stdout",
     "output_type": "stream",
     "text": [
      "Dentro del bloque elif\n",
      "El valor de num es 12\n",
      "Final del ejemplo\n"
     ]
    }
   ],
   "source": [
    "num = 12\n",
    "if num > 1 and num < 10:\n",
    "    print(\"Dentro del bloque if\")\n",
    "    print(\"test\")\n",
    "    print(\"Probando!!!\")\n",
    "elif num == 11:\n",
    "    print(\"Dentro del bloque elif\")\n",
    "    print(\"El valor de num es 11\")\n",
    "elif num == 12:\n",
    "    print(\"Dentro del bloque elif\")\n",
    "    print(\"El valor de num es 12\")\n",
    "elif num == 13:\n",
    "    print(\"Dentro del bloque elif\")\n",
    "    print(\"El valor de num es 13\")\n",
    "else: # de lo contrario\n",
    "    print(\"Dentro del bloque else\")\n",
    "    print(\"else\")\n",
    "    print(\"ELSE\")\n",
    "    print(\"La condición no se cumplió\")\n",
    "print(\"Final del ejemplo\")"
   ]
  },
  {
   "cell_type": "code",
   "execution_count": 78,
   "id": "95f73509-b1a2-460d-9300-d4160c0c31e8",
   "metadata": {},
   "outputs": [
    {
     "name": "stdout",
     "output_type": "stream",
     "text": [
      "Dentro del bloque else\n",
      "else\n",
      "ELSE\n",
      "Ninguna condiciones se cumplió\n",
      "Final del ejemplo\n"
     ]
    }
   ],
   "source": [
    "num = 14\n",
    "if num > 1 and num < 10:\n",
    "    print(\"Dentro del bloque if\")\n",
    "    print(\"test\")\n",
    "    print(\"Probando!!!\")\n",
    "elif num == 11:\n",
    "    print(\"Dentro del bloque elif\")\n",
    "    print(\"El valor de num es 11\")\n",
    "elif num == 12:\n",
    "    print(\"Dentro del bloque elif\")\n",
    "    print(\"El valor de num es 12\")\n",
    "elif num == 13:\n",
    "    print(\"Dentro del bloque elif\")\n",
    "    print(\"El valor de num es 13\")\n",
    "else: # de lo contrario\n",
    "    print(\"Dentro del bloque else\")\n",
    "    print(\"else\")\n",
    "    print(\"ELSE\")\n",
    "    print(\"Ninguna condiciones se cumplió\")\n",
    "print(\"Final del ejemplo\")"
   ]
  },
  {
   "cell_type": "markdown",
   "id": "08d967d2-8b72-480d-b584-a2ff1d48096b",
   "metadata": {},
   "source": [
    "## IF's anidados\n",
    "- Un if anidado es un if que está dentro de otro if\n",
    "- Son bastante comunes\n",
    "- Los if's anidados solo se evalúan si el if exterior es verdadero"
   ]
  },
  {
   "cell_type": "code",
   "execution_count": 87,
   "id": "8d5a82bb-9d9a-4915-89bf-c822f5c893d9",
   "metadata": {},
   "outputs": [
    {
     "name": "stdout",
     "output_type": "stream",
     "text": [
      "Dentro del bloque if\n",
      "El número es mayor ó igual que 1\n",
      "Final del ejemplo\n"
     ]
    }
   ],
   "source": [
    "num =3\n",
    "if num >= 1:\n",
    "    print(\"Dentro del bloque if\")\n",
    "    print(\"El número es mayor ó igual que 1\")\n",
    "    if num >= 10:\n",
    "        print(\"Dentro del bloque if anidado\")\n",
    "        print(\"El número es mayor ó igual que 10\")\n",
    "print(\"Final del ejemplo\")"
   ]
  },
  {
   "cell_type": "code",
   "execution_count": 89,
   "id": "4309930c-da5e-4774-9919-a9b0809895e8",
   "metadata": {},
   "outputs": [
    {
     "name": "stdout",
     "output_type": "stream",
     "text": [
      "Dentro del bloque if\n",
      "El número es mayor ó igual que 1\n",
      "Dentro del bloque if anidado\n",
      "El número es mayor ó igual que 10\n",
      "Final del ejemplo\n"
     ]
    }
   ],
   "source": [
    "num = 10\n",
    "if num >= 1:\n",
    "    print(\"Dentro del bloque if\")\n",
    "    print(\"El número es mayor ó igual que 1\")\n",
    "    if num >= 10:\n",
    "        print(\"Dentro del bloque if anidado\")\n",
    "        print(\"El número es mayor ó igual que 10\")\n",
    "print(\"Final del ejemplo\")"
   ]
  },
  {
   "cell_type": "code",
   "execution_count": 91,
   "id": "07e9574f-1149-4a10-b1e0-0643aa362dcc",
   "metadata": {},
   "outputs": [
    {
     "name": "stdout",
     "output_type": "stream",
     "text": [
      "Final del ejemplo\n"
     ]
    }
   ],
   "source": [
    "num = 10\n",
    "if num >= 100:\n",
    "    print(\"Dentro del bloque if\")\n",
    "    print(\"El número es mayor ó igual que 1\")\n",
    "    if num >= 10:\n",
    "        print(\"Dentro del bloque if anidado\")\n",
    "        print(\"El número es mayor ó igual que 10\")\n",
    "print(\"Final del ejemplo\")"
   ]
  },
  {
   "cell_type": "markdown",
   "id": "70ec9898-cef7-4835-8c68-617426310deb",
   "metadata": {},
   "source": [
    "num = 11\n",
    "if num >= 1:\n",
    "    print(\"Dentro del bloque if\")\n",
    "    print(\"El número es mayor ó igual que 1\")\n",
    "    if num >= 10:\n",
    "        print(\"Dentro del bloque if anidado\")\n",
    "        print(\"El número es mayor ó igual que 10\")\n",
    "print(\"Final del ejemplo\")"
   ]
  },
  {
   "cell_type": "markdown",
   "id": "43c01204-a730-422e-b698-b9f585dd96f1",
   "metadata": {},
   "source": [
    "## Pruebas de afiliación\n",
    "- Los operadores de afiliación son usados para verificar si un valor está presente ó no en una secuencia\n",
    "- Los operadores son:\n",
    "  - in\n",
    "  - not in\n",
    "- Puedes hacer pruebas de afiliación para todas las estructuras de datos como: Listas, Tuplas, Sets y Diccionarios\n",
    "- También se pueden hacer pruebas de afiliación para cadenas en Python\n",
    "- Los operadores de afiliación se usan para encontrar rápidamente si ciertos valores están disponibles ó no"
   ]
  },
  {
   "cell_type": "markdown",
   "id": "125ea90c-a1ed-4496-ac8e-807d21cba61e",
   "metadata": {},
   "source": [
    "### Prueba de afiliación para cadenas"
   ]
  },
  {
   "cell_type": "code",
   "execution_count": 97,
   "id": "1e1719c1-d53d-4540-b3d3-7aa0fe01dbee",
   "metadata": {},
   "outputs": [
    {
     "name": "stdout",
     "output_type": "stream",
     "text": [
      "True\n"
     ]
    }
   ],
   "source": [
    "my_string = \"Backend Python\"\n",
    "print(\"a\" in my_string)"
   ]
  },
  {
   "cell_type": "code",
   "execution_count": 99,
   "id": "d9335c18-075d-41de-8845-0e3bc8db00f1",
   "metadata": {},
   "outputs": [
    {
     "name": "stdout",
     "output_type": "stream",
     "text": [
      "False\n"
     ]
    }
   ],
   "source": [
    "my_string = \"Backend Python\"\n",
    "print(\"z\" in my_string)"
   ]
  },
  {
   "cell_type": "code",
   "execution_count": 101,
   "id": "e21a33b1-038d-44e0-9a8e-14db912cd015",
   "metadata": {},
   "outputs": [
    {
     "name": "stdout",
     "output_type": "stream",
     "text": [
      "False\n"
     ]
    }
   ],
   "source": [
    "my_string = \"Backend Python\"\n",
    "print(\"a\" not in my_string)"
   ]
  },
  {
   "cell_type": "code",
   "execution_count": 103,
   "id": "1e649f8e-468f-4dec-addc-ccd324e891f8",
   "metadata": {},
   "outputs": [
    {
     "name": "stdout",
     "output_type": "stream",
     "text": [
      "True\n"
     ]
    }
   ],
   "source": [
    "my_string = \"Backend Python\"\n",
    "print(\"z\" not in my_string)"
   ]
  },
  {
   "cell_type": "code",
   "execution_count": 105,
   "id": "b1331a54-3c04-4e25-b46c-0be8610549ae",
   "metadata": {},
   "outputs": [
    {
     "name": "stdout",
     "output_type": "stream",
     "text": [
      "True\n"
     ]
    }
   ],
   "source": [
    "my_string = \"Backend Python\"\n",
    "print(\"Backend\" in my_string)"
   ]
  },
  {
   "cell_type": "code",
   "execution_count": 107,
   "id": "ea8859fa-abb9-486a-bcf2-9f6e63c50c33",
   "metadata": {},
   "outputs": [
    {
     "name": "stdout",
     "output_type": "stream",
     "text": [
      "True\n"
     ]
    }
   ],
   "source": [
    "my_string = \"Backend Python\"\n",
    "print(\"Backend Py\" in my_string)"
   ]
  },
  {
   "cell_type": "code",
   "execution_count": 109,
   "id": "37ce2caa-2091-40a2-94dc-3031c5b4df8f",
   "metadata": {},
   "outputs": [
    {
     "name": "stdout",
     "output_type": "stream",
     "text": [
      "False\n"
     ]
    }
   ],
   "source": [
    "my_string = \"Backend Python\"\n",
    "print(\"BackendPy\" in my_string)"
   ]
  },
  {
   "cell_type": "markdown",
   "id": "04c7bfa7-825d-421e-8d1b-cbebbc8f3ce6",
   "metadata": {},
   "source": [
    "### Prueba de afiliación para tuplas"
   ]
  },
  {
   "cell_type": "code",
   "execution_count": 114,
   "id": "75d1349b-cf34-4512-a5b3-6a1ffa062d8b",
   "metadata": {},
   "outputs": [
    {
     "name": "stdout",
     "output_type": "stream",
     "text": [
      "False\n"
     ]
    }
   ],
   "source": [
    "my_tuple = (\"a\", \"b\", \"c\", \"d\", \"e\")\n",
    "print(\"f\" in my_tuple)"
   ]
  },
  {
   "cell_type": "code",
   "execution_count": 120,
   "id": "df02589f-5f99-4f35-923f-f1603a3b4ce3",
   "metadata": {},
   "outputs": [
    {
     "name": "stdout",
     "output_type": "stream",
     "text": [
      "True\n"
     ]
    }
   ],
   "source": [
    "my_tuple = (\"a\", \"b\", \"c\", \"d\", \"e\")\n",
    "print(\"f\" not in my_tuple)"
   ]
  },
  {
   "cell_type": "code",
   "execution_count": 116,
   "id": "fac2be84-97be-42a8-af11-66442df4683c",
   "metadata": {},
   "outputs": [
    {
     "name": "stdout",
     "output_type": "stream",
     "text": [
      "True\n"
     ]
    }
   ],
   "source": [
    "my_tuple = (1, 2, 3, 4, 5)\n",
    "print(5 in my_tuple)"
   ]
  },
  {
   "cell_type": "code",
   "execution_count": 118,
   "id": "40c8156e-b2d1-407d-85fc-cc74466839d6",
   "metadata": {},
   "outputs": [
    {
     "name": "stdout",
     "output_type": "stream",
     "text": [
      "False\n"
     ]
    }
   ],
   "source": [
    "my_tuple = (1, 2, 3, 4, 5)\n",
    "print(6 in my_tuple)"
   ]
  },
  {
   "cell_type": "code",
   "execution_count": 122,
   "id": "59c98a1b-5f3a-4571-a268-8394b8f3c2fd",
   "metadata": {},
   "outputs": [
    {
     "name": "stdout",
     "output_type": "stream",
     "text": [
      "True\n"
     ]
    }
   ],
   "source": [
    "my_tuple = (1, 2, 3, 4, 5)\n",
    "print(6 not in my_tuple)"
   ]
  },
  {
   "cell_type": "markdown",
   "id": "66788998-ec95-42af-becc-c6b483788df0",
   "metadata": {},
   "source": [
    "### Prueba de afiliación para listas"
   ]
  },
  {
   "cell_type": "code",
   "execution_count": 126,
   "id": "f854f508-30de-4621-80c6-ccb8929c4c1d",
   "metadata": {},
   "outputs": [
    {
     "name": "stdout",
     "output_type": "stream",
     "text": [
      "True\n"
     ]
    }
   ],
   "source": [
    "my_list = [\"a\", \"b\", \"c\", \"d\", \"e\"]\n",
    "print(\"c\" in my_list)"
   ]
  },
  {
   "cell_type": "code",
   "execution_count": 130,
   "id": "d59e75c7-01bb-4565-8c9b-73e3595a6cab",
   "metadata": {},
   "outputs": [
    {
     "name": "stdout",
     "output_type": "stream",
     "text": [
      "False\n"
     ]
    }
   ],
   "source": [
    "my_list = [\"a\", \"b\", \"c\", \"d\", \"e\"]\n",
    "print(\"f\" in my_list)"
   ]
  },
  {
   "cell_type": "code",
   "execution_count": 132,
   "id": "12fc0519-566a-4f09-8e32-b1a790627a5a",
   "metadata": {},
   "outputs": [
    {
     "name": "stdout",
     "output_type": "stream",
     "text": [
      "True\n"
     ]
    }
   ],
   "source": [
    "my_list = [\"a\", \"b\", \"c\", \"d\", \"e\"]\n",
    "print(\"f\" not in my_list)"
   ]
  },
  {
   "cell_type": "code",
   "execution_count": 136,
   "id": "716fa147-b439-4035-824e-23ca33bea932",
   "metadata": {},
   "outputs": [
    {
     "name": "stdout",
     "output_type": "stream",
     "text": [
      "False\n"
     ]
    }
   ],
   "source": [
    "my_list = [1, 2, 3, 4, 5]\n",
    "print(6 in my_list)"
   ]
  },
  {
   "cell_type": "code",
   "execution_count": 138,
   "id": "a22d7961-c931-4d7a-9c1d-a645452cce60",
   "metadata": {},
   "outputs": [
    {
     "name": "stdout",
     "output_type": "stream",
     "text": [
      "True\n"
     ]
    }
   ],
   "source": [
    "my_list = [1, 2, 3, 4, 5]\n",
    "print(6 not in my_list)"
   ]
  },
  {
   "cell_type": "markdown",
   "id": "16f7c1ed-5a2b-4e34-9c3b-e517f798ec8a",
   "metadata": {},
   "source": [
    "### Pruebas de afiliación para sets"
   ]
  },
  {
   "cell_type": "code",
   "execution_count": 143,
   "id": "b7c31d33-8989-46e9-ad87-05e42302c479",
   "metadata": {},
   "outputs": [
    {
     "name": "stdout",
     "output_type": "stream",
     "text": [
      "True\n"
     ]
    }
   ],
   "source": [
    "my_set = {\"a\", \"b\", \"c\", \"d\", \"e\"}\n",
    "print(\"c\" in my_set)"
   ]
  },
  {
   "cell_type": "code",
   "execution_count": 145,
   "id": "503815dc-4203-4d44-bd61-1110baa4665b",
   "metadata": {},
   "outputs": [
    {
     "name": "stdout",
     "output_type": "stream",
     "text": [
      "False\n"
     ]
    }
   ],
   "source": [
    "my_set = {\"a\", \"b\", \"c\", \"d\", \"e\"}\n",
    "print(\"f\" in my_set)"
   ]
  },
  {
   "cell_type": "code",
   "execution_count": 147,
   "id": "d2677360-4951-4177-a6e6-3f9449d51b27",
   "metadata": {},
   "outputs": [
    {
     "name": "stdout",
     "output_type": "stream",
     "text": [
      "True\n"
     ]
    }
   ],
   "source": [
    "my_set = {\"a\", \"b\", \"c\", \"d\", \"e\"}\n",
    "print(\"f\" not in my_set)"
   ]
  },
  {
   "cell_type": "code",
   "execution_count": 151,
   "id": "4d8d9dba-1ef7-4b84-bd36-1404417428ce",
   "metadata": {},
   "outputs": [
    {
     "name": "stdout",
     "output_type": "stream",
     "text": [
      "True\n"
     ]
    }
   ],
   "source": [
    "my_set = {1, 2, 3, 4, 5}\n",
    "print(5 in my_set)"
   ]
  },
  {
   "cell_type": "code",
   "execution_count": 153,
   "id": "92ebb4ea-d342-4366-b7c7-a33643fc4874",
   "metadata": {},
   "outputs": [
    {
     "name": "stdout",
     "output_type": "stream",
     "text": [
      "False\n"
     ]
    }
   ],
   "source": [
    "my_set = {1, 2, 3, 4, 5}\n",
    "print(6 in my_set)"
   ]
  },
  {
   "cell_type": "code",
   "execution_count": 155,
   "id": "30929966-7f36-4b1a-9b39-88037d56a919",
   "metadata": {},
   "outputs": [
    {
     "name": "stdout",
     "output_type": "stream",
     "text": [
      "True\n"
     ]
    }
   ],
   "source": [
    "my_set = {1, 2, 3, 4, 5}\n",
    "print(6 not in my_set)"
   ]
  },
  {
   "cell_type": "markdown",
   "id": "169a744d-e859-4eaa-9b16-070f000767ef",
   "metadata": {},
   "source": [
    "### Pruebas de afiliación para diccionarios\n",
    "- Valida si está presente en las llaves no en los valores"
   ]
  },
  {
   "cell_type": "code",
   "execution_count": 168,
   "id": "d38b9ec6-ddb2-4536-8ac2-926cca735778",
   "metadata": {},
   "outputs": [
    {
     "name": "stdout",
     "output_type": "stream",
     "text": [
      "True\n"
     ]
    }
   ],
   "source": [
    "my_dict = {\"a\":100, \"b\":130, \"c\":100, \"d\":170, \"e\":200}\n",
    "print(\"c\" in my_dict)"
   ]
  },
  {
   "cell_type": "code",
   "execution_count": 170,
   "id": "402ae6e3-a2b2-4a3f-944e-6f2fae8bb66a",
   "metadata": {},
   "outputs": [
    {
     "name": "stdout",
     "output_type": "stream",
     "text": [
      "False\n"
     ]
    }
   ],
   "source": [
    "my_dict = {\"a\":100, \"b\":130, \"c\":100, \"d\":170, \"e\":200}\n",
    "print(100 in my_dict)"
   ]
  },
  {
   "cell_type": "code",
   "execution_count": 172,
   "id": "28fb739e-caed-41a4-8b18-d882b54dd910",
   "metadata": {},
   "outputs": [
    {
     "name": "stdout",
     "output_type": "stream",
     "text": [
      "True\n"
     ]
    }
   ],
   "source": [
    "my_dict = {\"a\":100, \"b\":130, \"c\":100, \"d\":170, \"e\":200}\n",
    "print(100 in my_dict.values())"
   ]
  },
  {
   "cell_type": "code",
   "execution_count": 176,
   "id": "41a475a6-d75f-4e02-934b-963a16b8a509",
   "metadata": {},
   "outputs": [
    {
     "name": "stdout",
     "output_type": "stream",
     "text": [
      "False\n"
     ]
    }
   ],
   "source": [
    "my_dict = {\"a\":100, \"b\":130, \"c\":100, \"d\":170, \"e\":200}\n",
    "print(300 in my_dict.values())"
   ]
  },
  {
   "cell_type": "code",
   "execution_count": 178,
   "id": "4e3c9759-3500-47c0-825c-70ae82556afb",
   "metadata": {},
   "outputs": [
    {
     "name": "stdout",
     "output_type": "stream",
     "text": [
      "True\n"
     ]
    }
   ],
   "source": [
    "my_dict = {\"a\":100, \"b\":130, \"c\":100, \"d\":170, \"e\":200}\n",
    "print(300 not in my_dict.values())"
   ]
  },
  {
   "cell_type": "code",
   "execution_count": null,
   "id": "c925a30f-09dc-4121-9213-64ed52f7f6fb",
   "metadata": {},
   "outputs": [],
   "source": []
  }
 ],
 "metadata": {
  "kernelspec": {
   "display_name": "Python 3 (ipykernel)",
   "language": "python",
   "name": "python3"
  },
  "language_info": {
   "codemirror_mode": {
    "name": "ipython",
    "version": 3
   },
   "file_extension": ".py",
   "mimetype": "text/x-python",
   "name": "python",
   "nbconvert_exporter": "python",
   "pygments_lexer": "ipython3",
   "version": "3.11.5"
  }
 },
 "nbformat": 4,
 "nbformat_minor": 5
}
