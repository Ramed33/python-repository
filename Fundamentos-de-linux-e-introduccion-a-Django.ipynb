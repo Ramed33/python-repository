{
 "cells": [
  {
   "cell_type": "markdown",
   "id": "8ee86022-2a8f-4586-b8e1-427c6e74001b",
   "metadata": {},
   "source": [
    "## El comando SSH\n",
    "SSH - Secure Shell\n",
    "Puedes pensarlo como una manera de acceder a otra computadora\n",
    "\n",
    "Ejemplo:\n",
    "ssh -i directory/key.pem user@ipaddress"
   ]
  },
  {
   "cell_type": "markdown",
   "id": "267cd607-318a-4fce-bab9-09839f073654",
   "metadata": {},
   "source": [
    "## Corriendo linux en un contenedor\n",
    "\n",
    "https://github.com/nickjj/docker-django-example\n",
    "\n",
    "git clone https://github.com/nickjj/docker-django-example hellodjango\n",
    "\n",
    "cd hellodjango\n",
    "\n",
    "cp .env.example .env\n",
    "\n",
    "docker compose up --build  # Dar docker ps para ver contenedor\n",
    "\n",
    "docker exec -it hellodjango-web-1 bash # Para poder entrar al contenedor, dar pwd para saber donde estamos\n",
    "\n",
    "cat /etc/issue  para saber sistema operativo"
   ]
  },
  {
   "cell_type": "markdown",
   "id": "57fd3fa6-adf8-4caf-ba1d-a4d0dea625a2",
   "metadata": {},
   "source": [
    "## Principales carpetas en linux"
   ]
  },
  {
   "cell_type": "markdown",
   "id": "e824e157-3e7a-4542-a612-9e4f61fbb32b",
   "metadata": {},
   "source": [
    "from IPython import display\n",
    "display.Image(\"https://i.stack.imgur.com/3u7dC.jpg\") # Se puede ver imagen en chrome"
   ]
  },
  {
   "cell_type": "markdown",
   "id": "65105b29-e209-499b-9a4a-ac4e78f678f0",
   "metadata": {},
   "source": [
    "dar cd / para mover a carpeta principal python@44be67608668:/$\n",
    "\n",
    "dar ls para ver carpetas del archivo de carpetas anterios\n",
    "\n",
    "dar cd app/src para regresar a donde estabamos\n",
    "\n",
    "dar ls para ver archivos"
   ]
  },
  {
   "cell_type": "code",
   "execution_count": null,
   "id": "f4ac448d-d28e-4b28-b1fa-926b584600f6",
   "metadata": {},
   "outputs": [],
   "source": [
    "## Comandos esenciales\n",
    "\n",
    "pwd - print working directory - imprime la ruta del directorio en el que estamos\n",
    "\n",
    "ls - list - lista los archivos y carpetas en el directorio en el que estamos\n",
    "\n",
    "cd - change directory - cambiar de directorio usar cd .. para carpeta anterior\n",
    "\n",
    "clear - limpiar la terminal\n",
    "\n",
    "mkdir - make directory - hace carpeta\n",
    "\n",
    "touch - create files - crear archivos dentro de la carpeta actual\n",
    "\n",
    "cp - copy - copiar # cp test_file.py copy.py copia test_file.py a copy.py\n",
    "\n",
    "mv - move - mover o renombrar # mv test_file.py my_file_renamed.py # mv copy.py /app/src/ mueve al archivo a otra carpeta # mv copy.py /app/src/copy_rename.py mueve al archivo a otra carpeta y le cambia nombre\n",
    "\n",
    "rm - remove - eliminar archivo # rm-r borrar folder"
   ]
  },
  {
   "cell_type": "markdown",
   "id": "3270b27f-2cea-4067-82cc-5ab06cb80b3a",
   "metadata": {},
   "source": [
    "## Introducción a Django\n",
    "\n",
    "¿Qué es django?\n",
    "- \"Web framework for perfectionist with deadlines\"\n",
    "- Motiva el desarrolo rápido de sitios web de forma limpia y estructurada\n",
    "- Es usado por empresas como Instagram, Youtube, Spotify y muchas otras empresas\n",
    "\n",
    "¿Por qué lo necesitamos?\n",
    "- Con HTML, CSS, JS podemos crear sitios web estáticos (Frontend)\n",
    "- Pero además queremos crear comportamientos a la medida haciendo uso de bases de datos (Backend)\n",
    "- Django nos ayuda a cubrir todo esto"
   ]
  },
  {
   "cell_type": "markdown",
   "id": "cca05eb4-5cf5-4128-ac51-d2df0aeeb005",
   "metadata": {},
   "source": [
    "## Migraciones\n",
    "\n",
    "(Los cambios a las bases de datos, base de datos es donde almacenamos la información)\n",
    "\n",
    "Ir a carpeta donde esta el proyecto\n",
    "\n",
    "En este proyecto:\n",
    "\n",
    "./run manage migrate\n",
    "\n",
    "En django standar:\n",
    "\n",
    "python manage.py migrate\n",
    "\n",
    "Ver el sitio web:\n",
    "\n",
    "http://localhost:8000/"
   ]
  },
  {
   "cell_type": "code",
   "execution_count": null,
   "id": "f36ecc41-4d0a-4659-9703-394b631407b9",
   "metadata": {},
   "outputs": [],
   "source": [
    "## Proyecto y aplicación\n",
    " pip freeze\r\n",
    "amqp==5.2.0\r\n",
    "asgiref==3.8.1\r\n",
    "billiard==4.2.1\r\n",
    "black==24.8.0\r\n",
    "celery==5.4.0\r\n",
    "click==8.1.7\r\n",
    "click-didyoumean==0.3.1\r\n",
    "click-plugins==1.1.1\r\n",
    "click-repl==0.3.0\r\n",
    "Django==5.1\r\n",
    "django-debug-toolbar==4.4.6\r\n",
    "flake8==7.1.1\r\n",
    "gunicorn==23.0.0\r\n",
    "isort==5.13.2\r\n",
    "kombu==5.4.2\r\n",
    "mccabe==0.7.0\r\n",
    "mypy-extensions==1.0.0\r\n",
    "packaging==24.1\r\n",
    "pathspec==0.12.1\r\n",
    "platformdirs==4.3.6\r\n",
    "prompt_toolkit==3.0.47\r\n",
    "psycopg==3.2.1\r\n",
    "pycodestyle==2.12.1\r\n",
    "pyflakes==3.2.0\r\n",
    "python-dateutil==2.9.0.post0\r\n",
    "redis==5.0.8\r\n",
    "setuptools==74.1.2\r\n",
    "six==1.16.0\r\n",
    "sqlparse==0.5.1\r\n",
    "typing_extensions==4.12.2\r\n",
    "tzdata==2024.2\r\n",
    "vine==5.1.0\r\n",
    "wcwidth==0.2.13\r\n",
    "whitenoise==6.7.0"
   ]
  },
  {
   "cell_type": "markdown",
   "id": "921d4075-c2cc-417c-8480-c78dfe8f49db",
   "metadata": {},
   "source": [
    "## Estructura de un proyecto en django"
   ]
  },
  {
   "cell_type": "markdown",
   "id": "fcb5c935-b02c-4432-bec6-d28a474b4025",
   "metadata": {},
   "source": [
    "### Archivos de proyecto\n",
    "\n",
    "- manage.py: es un archivo que contiene muchas funciones que te permiten interactuar con django\n",
    "\n",
    "- config/__init__.py: un archivo vacío que le informa a python que este directorio/carpeta debería ser considerado como un paquete de python\n",
    "\n",
    "- config/settings.py: Configuración o ajustes para el proyecto en django\n",
    "\n",
    "- config/urls.py: las declaraciones de los urls para el proyecto django. Es como una tabla de contenidos con los endpoints del sitio web\n",
    "\n",
    "- config/asgi.py: un punto de entrada para servidores web compatibles con ASGI para desplegar el proyecto\n",
    "\n",
    "- config/wsgi.py: un punto de entrada para servidores web compatibles con WSGI para desplegar el proyecto"
   ]
  },
  {
   "cell_type": "code",
   "execution_count": null,
   "id": "339d2eb5-515c-4953-a42b-3b90a70efd47",
   "metadata": {},
   "outputs": [],
   "source": [
    "### Archivos de aplicación\n",
    "- admin.py: registar tus modelos relacionados con el django admin\n",
    "- apps.py: contiene el código de la configuración de la app\n",
    "- models.py: define tus modelos aquí. Son las tablas en la base de datos para almacenar la información y definir sus relaciones\n",
    "- test.py: test para la app\n",
    "- views.py: definir la información que será mandada a los templates del frontend"
   ]
  },
  {
   "cell_type": "markdown",
   "id": "e0569bda-0def-4a07-b597-27ce7226c261",
   "metadata": {},
   "source": [
    "## Haz tus primeros cambios visibles en el proyecto"
   ]
  },
  {
   "cell_type": "markdown",
   "id": "9293bdf2-c7c6-40b2-8e27-e65caa37984e",
   "metadata": {},
   "source": [
    "Abrir VSC\n",
    "- File Add Folder Seleccionar hellodjango a dar click en add\n",
    "- Dar click en explorer\n",
    "- En carpeta src/config están los archivos de proyecto\n",
    "- En carpeta pages vemos los archivos de la aplicación\n",
    "\n",
    "En el archivo views.py realizar las modificaciones y correr la pagina del contenedor para ver cambios en línea"
   ]
  },
  {
   "cell_type": "code",
   "execution_count": null,
   "id": "ced66564-6824-4be8-a2d3-91a038a6244d",
   "metadata": {},
   "outputs": [],
   "source": [
    "import os\n",
    "\n",
    "from django import get_version\n",
    "from django.conf import settings\n",
    "from django.shortcuts import render\n",
    "\n",
    "\n",
    "def home(request):\n",
    "    context = {\n",
    "        \"debug\": settings.DEBUG,\n",
    "        \"django_ver\": get_version() + \" PROBANDO CAMBIOS\",\n",
    "        \"python_ver\": os.environ[\"PYTHON_VERSION\"] + \" MAS CAMBIOS\",\n",
    "    }\n",
    "\n",
    "    return render(request, \"pages/home.html\", context)"
   ]
  },
  {
   "cell_type": "markdown",
   "id": "695c47dc-d0ff-49d7-bc38-2aa83daf8106",
   "metadata": {},
   "source": [
    "- dar docker ps para ver contenedores corriendo\n",
    "- dar docker compose down para dejar de corre repositorios y no ocupen recursos de la computadora"
   ]
  }
 ],
 "metadata": {
  "kernelspec": {
   "display_name": "Python 3 (ipykernel)",
   "language": "python",
   "name": "python3"
  },
  "language_info": {
   "codemirror_mode": {
    "name": "ipython",
    "version": 3
   },
   "file_extension": ".py",
   "mimetype": "text/x-python",
   "name": "python",
   "nbconvert_exporter": "python",
   "pygments_lexer": "ipython3",
   "version": "3.11.5"
  }
 },
 "nbformat": 4,
 "nbformat_minor": 5
}
