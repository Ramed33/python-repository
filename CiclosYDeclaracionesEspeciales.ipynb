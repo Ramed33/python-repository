{
 "cells": [
  {
   "cell_type": "markdown",
   "id": "a2a5e2e4-8255-44f7-9070-589f0c4555aa",
   "metadata": {},
   "source": [
    "## Ciclos\n",
    "- También son llamados declaraciones iterativas\n",
    "- Son usados para repetir un bloque específico de código\n",
    "- Si vas a hacer un proceso una y otra vez, entonces puedes usar un ciclo para ello\n",
    "- Tipos\n",
    "  - for\n",
    "  - while"
   ]
  },
  {
   "cell_type": "markdown",
   "id": "4755f24e-82cb-4686-9762-cb9c6d122da1",
   "metadata": {},
   "source": [
    "## Ciclo for\n",
    "- Son usados para iterar los valores n número de veces\n",
    "- Usamos la palabra reservada for\n",
    "- Puede iterar los valores de estructuras de datos como listas, tuplas, sets ó diccionarios\n",
    "- También puede iterar sobre cada letra de una cadena\n",
    "- Itera en una secuencia en orden mientras se ejecuta un bloque de código"
   ]
  },
  {
   "cell_type": "code",
   "execution_count": 7,
   "id": "29f55282-3170-47f5-a8a6-f8541e0e70f2",
   "metadata": {},
   "outputs": [
    {
     "name": "stdout",
     "output_type": "stream",
     "text": [
      "Backend Python\n",
      "<class 'str'>\n",
      "antes\n",
      "B\n",
      "después\n",
      "antes\n",
      "a\n",
      "después\n",
      "antes\n",
      "c\n",
      "después\n",
      "antes\n",
      "k\n",
      "después\n",
      "antes\n",
      "e\n",
      "después\n",
      "antes\n",
      "n\n",
      "después\n",
      "antes\n",
      "d\n",
      "después\n",
      "antes\n",
      " \n",
      "después\n",
      "antes\n",
      "P\n",
      "después\n",
      "antes\n",
      "y\n",
      "después\n",
      "antes\n",
      "t\n",
      "después\n",
      "antes\n",
      "h\n",
      "después\n",
      "antes\n",
      "o\n",
      "después\n",
      "antes\n",
      "n\n",
      "después\n"
     ]
    }
   ],
   "source": [
    "my_string = \"Backend Python\"\n",
    "print(my_string)\n",
    "print(type(my_string))\n",
    "\n",
    "for letter in my_string:\n",
    "    print(\"antes\")\n",
    "    print(letter)\n",
    "    print(\"después\")"
   ]
  },
  {
   "cell_type": "code",
   "execution_count": 9,
   "id": "b1d760fe-1823-4def-a6b1-0d07cbde5a98",
   "metadata": {},
   "outputs": [
    {
     "name": "stdout",
     "output_type": "stream",
     "text": [
      "Backend Python\n",
      "<class 'str'>\n",
      "Ciclo for iterando con la letra:  B\n",
      "Ciclo for iterando con la letra:  a\n",
      "Ciclo for iterando con la letra:  c\n",
      "Ciclo for iterando con la letra:  k\n",
      "Ciclo for iterando con la letra:  e\n",
      "Ciclo for iterando con la letra:  n\n",
      "Ciclo for iterando con la letra:  d\n",
      "Ciclo for iterando con la letra:   \n",
      "Ciclo for iterando con la letra:  P\n",
      "Ciclo for iterando con la letra:  y\n",
      "Ciclo for iterando con la letra:  t\n",
      "Ciclo for iterando con la letra:  h\n",
      "Ciclo for iterando con la letra:  o\n",
      "Ciclo for iterando con la letra:  n\n"
     ]
    }
   ],
   "source": [
    "my_string = \"Backend Python\"\n",
    "print(my_string)\n",
    "print(type(my_string))\n",
    "\n",
    "for letter in my_string:\n",
    "    print(\"Ciclo for iterando con la letra: \", letter)"
   ]
  },
  {
   "cell_type": "code",
   "execution_count": 15,
   "id": "5559b5ed-0e74-4074-b12e-ce89f19afc4c",
   "metadata": {},
   "outputs": [
    {
     "name": "stdout",
     "output_type": "stream",
     "text": [
      "[1, 2, 3, 4, 5]\n",
      "<class 'list'>\n",
      "Ciclo for iterando con el número:  1\n",
      "Ciclo for iterando con el número:  2\n",
      "Ciclo for iterando con el número:  3\n",
      "Ciclo for iterando con el número:  4\n",
      "Ciclo for iterando con el número:  5\n"
     ]
    }
   ],
   "source": [
    "my_list = [1, 2, 3, 4, 5]\n",
    "\n",
    "print(my_list)\n",
    "print(type(my_list))\n",
    "\n",
    "for number in my_list:\n",
    "    print(\"Ciclo for iterando con el número: \", number)"
   ]
  },
  {
   "cell_type": "code",
   "execution_count": 17,
   "id": "59a01bd4-e643-4381-886b-a5ed1105f12f",
   "metadata": {},
   "outputs": [
    {
     "name": "stdout",
     "output_type": "stream",
     "text": [
      "[1, 2, 3, 4, 5]\n",
      "<class 'list'>\n",
      "Ciclo for iterando con el número:  1\n",
      "Ciclo for iterando con el número:  2\n",
      "Ciclo for iterando con el número:  3\n",
      "Ciclo for iterando con el número:  4\n",
      "Ciclo for iterando con el número:  5\n"
     ]
    }
   ],
   "source": [
    "my_list = [1, 2, 3, 4, 5]\n",
    "\n",
    "print(my_list)\n",
    "print(type(my_list))\n",
    "\n",
    "for number in range(1,6): # 6 - 1 =5\n",
    "    print(\"Ciclo for iterando con el número: \", number)"
   ]
  },
  {
   "cell_type": "markdown",
   "id": "f43f0ca8-93fa-4154-bc0c-afbb22458850",
   "metadata": {},
   "source": [
    "## Números pares e impares con ciclo for"
   ]
  },
  {
   "cell_type": "code",
   "execution_count": 26,
   "id": "3d11b90c-4bf1-46ad-8008-fd67773fc1d3",
   "metadata": {},
   "outputs": [
    {
     "name": "stdout",
     "output_type": "stream",
     "text": [
      "2 es un número par\n",
      "4 es un número par\n",
      "6 es un número par\n",
      "8 es un número par\n",
      "10 es un número par\n",
      "12 es un número par\n",
      "14 es un número par\n",
      "16 es un número par\n",
      "18 es un número par\n",
      "20 es un número par\n",
      "22 es un número par\n",
      "24 es un número par\n",
      "26 es un número par\n",
      "28 es un número par\n",
      "30 es un número par\n"
     ]
    }
   ],
   "source": [
    "# Pares\n",
    "for number in range(1,30+1): # 31 - 1 = 30\n",
    "    #print(\"Ciclo for iterando con el número: \", number)\n",
    "    if number % 2 == 0:\n",
    "        print(number, \"es un número par\")"
   ]
  },
  {
   "cell_type": "code",
   "execution_count": 28,
   "id": "dfc56e8b-04ab-4341-8109-7db455b77735",
   "metadata": {},
   "outputs": [
    {
     "name": "stdout",
     "output_type": "stream",
     "text": [
      "1 es un número impar\n",
      "3 es un número impar\n",
      "5 es un número impar\n",
      "7 es un número impar\n",
      "9 es un número impar\n",
      "11 es un número impar\n",
      "13 es un número impar\n",
      "15 es un número impar\n",
      "17 es un número impar\n",
      "19 es un número impar\n",
      "21 es un número impar\n",
      "23 es un número impar\n",
      "25 es un número impar\n",
      "27 es un número impar\n",
      "29 es un número impar\n"
     ]
    }
   ],
   "source": [
    "# Impares\n",
    "for number in range(1,30+1): # 31 - 1 = 30\n",
    "    #print(\"Ciclo for iterando con el número: \", number)\n",
    "    if number % 2 == 1:\n",
    "        print(number, \"es un número impar\")"
   ]
  },
  {
   "cell_type": "markdown",
   "id": "22491851-21e5-48c9-9ca2-cb4e1c3cf575",
   "metadata": {},
   "source": [
    "## Ciclo for anidado\n",
    "- Significa un ciclo for dentro de otro ciclo for\n",
    "- Es cuando tienes u  ciclo dentro de otro ciclo\n",
    "- Recuerda, usamos el ciclo for para hacer una tarea cierta cantidad de veces basado en una condición\n",
    "\n",
    "- Ciclo principal\n",
    "  - Ciclo anidado"
   ]
  },
  {
   "cell_type": "code",
   "execution_count": 35,
   "id": "df85f1da-cc65-46e4-886d-1bcca3e37581",
   "metadata": {},
   "outputs": [
    {
     "name": "stdout",
     "output_type": "stream",
     "text": [
      "balón pequeño\n",
      "balón grande\n",
      "balón redondo\n",
      "balón cuadrado\n",
      "balón rojo\n",
      "balón azul\n",
      "bote pequeño\n",
      "bote grande\n",
      "bote redondo\n",
      "bote cuadrado\n",
      "bote rojo\n",
      "bote azul\n",
      "celular pequeño\n",
      "celular grande\n",
      "celular redondo\n",
      "celular cuadrado\n",
      "celular rojo\n",
      "celular azul\n",
      "libro pequeño\n",
      "libro grande\n",
      "libro redondo\n",
      "libro cuadrado\n",
      "libro rojo\n",
      "libro azul\n"
     ]
    }
   ],
   "source": [
    "nouns = [\"balón\", \"bote\", \"celular\", \"libro\"]\n",
    "adjectives = [\"pequeño\", \"grande\", \"redondo\", \"cuadrado\", \"rojo\", \"azul\"]\n",
    "\n",
    "for noun in nouns:\n",
    "    # 0 noun -> balón\n",
    "    for adjective in adjectives:\n",
    "        # adjective _> pequeño\n",
    "        print(\"{} {}\".format(noun, adjective))"
   ]
  },
  {
   "cell_type": "markdown",
   "id": "65bd6927-1885-464a-a49c-e765d606c0e3",
   "metadata": {},
   "source": [
    "## Ciclo while\n",
    "- Sólo se ejecuta si la condición es verdadera\n",
    "- Se puede usar para correr un proceso de forma perpetua\n",
    "- Consiste de una condición y un bloque de código\n",
    "- Valida la condición antes de que el bloque sea ejecutado"
   ]
  },
  {
   "cell_type": "code",
   "execution_count": 38,
   "id": "83fa4f85-cb3c-4333-9191-d44400ec7f57",
   "metadata": {},
   "outputs": [],
   "source": [
    "my_number = 5\n",
    "while my_number < 5:\n",
    "    print(\"El valor de my_number es: \", my_number)"
   ]
  },
  {
   "cell_type": "code",
   "execution_count": 42,
   "id": "4adea2e9-a639-4bb0-9775-80fd0f9b985b",
   "metadata": {},
   "outputs": [
    {
     "name": "stdout",
     "output_type": "stream",
     "text": [
      "Previo al ciclo while\n",
      "Final de ejemplo\n"
     ]
    }
   ],
   "source": [
    "my_number = 5\n",
    "print(\"Previo al ciclo while\")\n",
    "while my_number < 5:\n",
    "    print(\"Dentro del ciclo while\")\n",
    "    print(\"El valor de my_number es: \", my_number)\n",
    "print(\"Final de ejemplo\")"
   ]
  },
  {
   "cell_type": "code",
   "execution_count": 44,
   "id": "c0745302-9619-4f01-ad4c-5dc5d4ff313b",
   "metadata": {},
   "outputs": [
    {
     "name": "stdout",
     "output_type": "stream",
     "text": [
      "Previo al ciclo while\n",
      "Dentro del ciclo while\n",
      "El valor de my_number es:  0\n",
      "Dentro del ciclo while\n",
      "El valor de my_number es:  1\n",
      "Dentro del ciclo while\n",
      "El valor de my_number es:  2\n",
      "Dentro del ciclo while\n",
      "El valor de my_number es:  3\n",
      "Dentro del ciclo while\n",
      "El valor de my_number es:  4\n",
      "Final de ejemplo\n"
     ]
    }
   ],
   "source": [
    "my_number = 0\n",
    "print(\"Previo al ciclo while\")\n",
    "while my_number < 5:\n",
    "    print(\"Dentro del ciclo while\")\n",
    "    print(\"El valor de my_number es: \", my_number)\n",
    "    my_number += 1\n",
    "print(\"Final de ejemplo\")"
   ]
  },
  {
   "cell_type": "code",
   "execution_count": 52,
   "id": "b334be42-ad6e-4196-9e78-19938d03ce40",
   "metadata": {},
   "outputs": [
    {
     "name": "stdout",
     "output_type": "stream",
     "text": [
      "Previo al ciclo while\n",
      "Dentro del ciclo while\n",
      "El valor de my_number es:  0\n",
      "Dentro del ciclo while\n",
      "El valor de my_number es:  1\n",
      "Dentro del ciclo while\n",
      "El valor de my_number es:  2\n",
      "Dentro del ciclo while\n",
      "El valor de my_number es:  3\n",
      "Dentro del ciclo while\n",
      "El valor de my_number es:  4\n",
      "5 es un número negativo ó mayor a 4\n",
      "Final de ejemplo\n"
     ]
    }
   ],
   "source": [
    "my_number = 0\n",
    "print(\"Previo al ciclo while\")\n",
    "while my_number >= 0 and my_number < 5:\n",
    "    print(\"Dentro del ciclo while\")\n",
    "    print(\"El valor de my_number es: \", my_number)\n",
    "    my_number += 1\n",
    "else:\n",
    "    print(my_number, \"es un número negativo ó mayor a 4\")\n",
    "print(\"Final de ejemplo\")"
   ]
  },
  {
   "cell_type": "code",
   "execution_count": 54,
   "id": "57fa8f5d-022c-4bbb-a6c8-5023beef423f",
   "metadata": {},
   "outputs": [
    {
     "name": "stdout",
     "output_type": "stream",
     "text": [
      "Previo al ciclo while\n",
      "-3 es un número negativo ó mayor a 4\n",
      "Final de ejemplo\n"
     ]
    }
   ],
   "source": [
    "my_number = -3\n",
    "print(\"Previo al ciclo while\")\n",
    "while my_number >= 0 and my_number < 5:\n",
    "    print(\"Dentro del ciclo while\")\n",
    "    print(\"El valor de my_number es: \", my_number)\n",
    "    my_number += 1\n",
    "else:\n",
    "    print(my_number, \"es un número negativo ó mayor a 4\")\n",
    "print(\"Final de ejemplo\")"
   ]
  },
  {
   "cell_type": "markdown",
   "id": "ebe8f390-c897-492a-a628-f55cb77c75d0",
   "metadata": {},
   "source": [
    "## Iterando en estructuras de datos"
   ]
  },
  {
   "cell_type": "code",
   "execution_count": 63,
   "id": "925c8d32-bfc6-4b5f-b989-0f5d4b00cef3",
   "metadata": {},
   "outputs": [
    {
     "name": "stdout",
     "output_type": "stream",
     "text": [
      "carlostest.com\n",
      "sofía.test.com\n",
      "alejandro.test.com\n"
     ]
    }
   ],
   "source": [
    "# Listas\n",
    "emails = [\"carlostest.com\", \"sofía.test.com\", \"alejandro.test.com\"]\n",
    "\n",
    "for email in emails:\n",
    "    print(email)"
   ]
  },
  {
   "cell_type": "code",
   "execution_count": 65,
   "id": "2f21e245-ffc1-423f-a473-60cd47ea4f8b",
   "metadata": {},
   "outputs": [
    {
     "name": "stdout",
     "output_type": "stream",
     "text": [
      "1825\n",
      "2461\n",
      "9835\n"
     ]
    }
   ],
   "source": [
    "# Listas\n",
    "user_ids = [1825, 2461, 9835]\n",
    "\n",
    "for user_id in user_ids:\n",
    "    print(user_id)"
   ]
  },
  {
   "cell_type": "code",
   "execution_count": 69,
   "id": "76c2ef83-8031-4711-ab70-10f0ab876e7c",
   "metadata": {},
   "outputs": [
    {
     "name": "stdout",
     "output_type": "stream",
     "text": [
      "{1825: 'carlostest.com', 2461: 'sofía.test.com', 9835: 'alejandro.test.com'}\n",
      "El user 1825 tiene el correo carlostest.com\n",
      "El user 2461 tiene el correo sofía.test.com\n",
      "El user 9835 tiene el correo alejandro.test.com\n"
     ]
    }
   ],
   "source": [
    "# Diccionarios\n",
    "emails = [\"carlostest.com\", \"sofía.test.com\", \"alejandro.test.com\"]\n",
    "user_ids = [1825, 2461, 9835]\n",
    "\n",
    "my_dict = dict(zip(user_ids, emails))\n",
    "\n",
    "print(my_dict)\n",
    "\n",
    "for user_id, email in my_dict.items():\n",
    "    print(\"El user {} tiene el correo {}\".format(user_id, email))"
   ]
  },
  {
   "cell_type": "code",
   "execution_count": 71,
   "id": "215d54d5-42c5-4fa4-aa15-f9bba51e7586",
   "metadata": {},
   "outputs": [
    {
     "name": "stdout",
     "output_type": "stream",
     "text": [
      "(1825, 2461, 9835)\n",
      "<class 'tuple'>\n",
      "1825\n",
      "2461\n",
      "9835\n"
     ]
    }
   ],
   "source": [
    "# Tuplas\n",
    "user_ids = (1825, 2461, 9835)\n",
    "\n",
    "print(user_ids)\n",
    "print(type(user_ids))\n",
    "\n",
    "for user_id in user_ids:\n",
    "    print(user_id)"
   ]
  },
  {
   "cell_type": "code",
   "execution_count": 75,
   "id": "0dd069f9-ae71-4693-b387-ef6c2f58a4ff",
   "metadata": {},
   "outputs": [
    {
     "name": "stdout",
     "output_type": "stream",
     "text": [
      "{1825, 9835, 3740, 2461}\n",
      "<class 'set'>\n",
      "1825\n",
      "9835\n",
      "3740\n",
      "2461\n"
     ]
    }
   ],
   "source": [
    "# Sets\n",
    "user_ids = {1825, 2461, 9835, 3740, 3740}\n",
    "\n",
    "print(user_ids)\n",
    "print(type(user_ids))\n",
    "\n",
    "for user_id in user_ids:\n",
    "    print(user_id)"
   ]
  },
  {
   "cell_type": "markdown",
   "id": "09a530fc-1cd8-4f89-b2c9-d39a3b1ebbb4",
   "metadata": {},
   "source": [
    "## Declaraciones especiales\n",
    "- break: detiene el ciclo\n",
    "- continue: se salta la declaración actual (sin ejecutar el código posterior) y pasar a la siguiente iteración\n",
    "- pass: se usa para escribir ciclos vacíos o para escribir secciones ó clases vacías"
   ]
  },
  {
   "cell_type": "markdown",
   "id": "b30d4422-60b5-42de-8c0b-8bcb691c6bce",
   "metadata": {},
   "source": [
    "## break\n",
    "- Es usado para detener un ciclo basado en ciertas condiciones\n",
    "- Te ayuda a reducir el número de iteraciones innecesarias"
   ]
  },
  {
   "cell_type": "code",
   "execution_count": 79,
   "id": "8d8132c5-e178-461e-b8e5-4e398f1306e2",
   "metadata": {},
   "outputs": [
    {
     "name": "stdout",
     "output_type": "stream",
     "text": [
      "Previo al ciclo while\n",
      "Dentro del ciclo while\n",
      "El valor de my_number es:  0\n",
      "Final de ejemplo\n"
     ]
    }
   ],
   "source": [
    "my_number = 0\n",
    "past_number = None\n",
    "print(\"Previo al ciclo while\")\n",
    "while my_number < 5:\n",
    "    if past_number == my_number:\n",
    "        break\n",
    "    print(\"Dentro del ciclo while\")\n",
    "    print(\"El valor de my_number es: \", my_number)\n",
    "    past_number = my_number\n",
    "print(\"Final de ejemplo\")"
   ]
  },
  {
   "cell_type": "code",
   "execution_count": 81,
   "id": "ccaefa90-4482-4f44-a436-798f611e03a7",
   "metadata": {},
   "outputs": [
    {
     "name": "stdout",
     "output_type": "stream",
     "text": [
      "El valor de my_number es:  0\n",
      "El valor de my_number es:  1\n",
      "El valor de my_number es:  2\n",
      "El valor de my_number es:  3\n",
      "El valor de my_number es:  4\n",
      "Final de ejemplo\n"
     ]
    }
   ],
   "source": [
    "my_number = 0\n",
    "while my_number < 5:\n",
    "    print(\"El valor de my_number es: \", my_number)\n",
    "    my_number += 1\n",
    "print(\"Final de ejemplo\")"
   ]
  },
  {
   "cell_type": "code",
   "execution_count": 83,
   "id": "042b2bcd-281e-4fe3-873f-9b4974355889",
   "metadata": {},
   "outputs": [
    {
     "name": "stdout",
     "output_type": "stream",
     "text": [
      "El valor de my_number es:  0\n",
      "El valor de my_number es:  1\n",
      "El valor de my_number es:  2\n",
      "Antes del break\n",
      "Final de ejemplo\n"
     ]
    }
   ],
   "source": [
    "my_number = 0\n",
    "while my_number < 5:\n",
    "    if my_number == 3:\n",
    "        print(\"Antes del break\")\n",
    "        break\n",
    "        print(\"Después del break\")\n",
    "    print(\"El valor de my_number es: \", my_number)\n",
    "    my_number += 1\n",
    "print(\"Final de ejemplo\")"
   ]
  },
  {
   "cell_type": "markdown",
   "id": "0926a1bc-f679-4eef-abf1-2654e55f71b4",
   "metadata": {},
   "source": [
    "## continue\n",
    "- Salta la iteración actual y pasa a la siguiente iteracción\n",
    "- Se puede usar tanto en ciclos for como en ciclos while"
   ]
  },
  {
   "cell_type": "code",
   "execution_count": 3,
   "id": "4e98d6a9-e8d4-4490-aca0-f74bc93adde0",
   "metadata": {},
   "outputs": [
    {
     "name": "stdout",
     "output_type": "stream",
     "text": [
      "El valor de my_number es:  0\n",
      "El valor de my_number es:  1\n",
      "El valor de my_number es:  2\n",
      "Antes del continue\n",
      "El valor de my_number es:  4\n",
      "Final de ejemplo\n"
     ]
    }
   ],
   "source": [
    "my_number = 0\n",
    "while my_number < 5:\n",
    "    if my_number == 3:\n",
    "        my_number += 1\n",
    "        print(\"Antes del continue\")\n",
    "        continue\n",
    "        print(\"Después del continue\")\n",
    "    print(\"El valor de my_number es: \", my_number)\n",
    "    my_number += 1\n",
    "print(\"Final de ejemplo\")"
   ]
  },
  {
   "cell_type": "code",
   "execution_count": 6,
   "id": "0a1b620b-ce76-4b6a-99c1-44706dad8e24",
   "metadata": {},
   "outputs": [
    {
     "name": "stdout",
     "output_type": "stream",
     "text": [
      "Ciclo for iterando con el número:  1\n",
      "Ciclo for iterando con el número:  2\n",
      "Ciclo for iterando con el número:  3\n",
      "Ciclo for iterando con el número:  4\n",
      "Ciclo for iterando con el número:  5\n",
      "Ciclo for iterando con el número:  6\n",
      "Ciclo for iterando con el número:  7\n",
      "Ciclo for iterando con el número:  8\n",
      "Ciclo for iterando con el número:  9\n",
      "Ciclo for iterando con el número:  11\n",
      "Ciclo for iterando con el número:  12\n",
      "Ciclo for iterando con el número:  13\n",
      "Ciclo for iterando con el número:  14\n",
      "Ciclo for iterando con el número:  15\n",
      "Ciclo for iterando con el número:  16\n",
      "Ciclo for iterando con el número:  17\n",
      "Ciclo for iterando con el número:  18\n",
      "Ciclo for iterando con el número:  19\n",
      "Ciclo for iterando con el número:  20\n"
     ]
    }
   ],
   "source": [
    "for number in range (1,21):\n",
    "    if number == 10:\n",
    "        continue\n",
    "    print(\"Ciclo for iterando con el número: \", number)"
   ]
  },
  {
   "cell_type": "markdown",
   "id": "880d12ba-c30d-4a76-ab02-060c1f5b1f4a",
   "metadata": {},
   "source": [
    "## pass\n",
    "- Se usa para escribir ciclos vacíos ó para escribir funciones ó clases vacías"
   ]
  },
  {
   "cell_type": "code",
   "execution_count": 9,
   "id": "98ca9e97-9ad9-4811-b23b-bc0168ff9583",
   "metadata": {},
   "outputs": [
    {
     "name": "stdout",
     "output_type": "stream",
     "text": [
      "Ciclo for iterando con el número:  1\n",
      "Ciclo for iterando con el número:  2\n",
      "Ciclo for iterando con el número:  3\n",
      "Ciclo for iterando con el número:  4\n",
      "Ciclo for iterando con el número:  5\n",
      "Ciclo for iterando con el número:  6\n",
      "Ciclo for iterando con el número:  7\n",
      "Ciclo for iterando con el número:  8\n",
      "Ciclo for iterando con el número:  9\n",
      "Ciclo for iterando con el número:  10\n",
      "Ciclo for iterando con el número:  11\n",
      "Ciclo for iterando con el número:  12\n",
      "Ciclo for iterando con el número:  13\n",
      "Ciclo for iterando con el número:  14\n",
      "Ciclo for iterando con el número:  15\n",
      "Ciclo for iterando con el número:  16\n",
      "Ciclo for iterando con el número:  17\n",
      "Ciclo for iterando con el número:  18\n",
      "Ciclo for iterando con el número:  19\n",
      "Ciclo for iterando con el número:  20\n"
     ]
    }
   ],
   "source": [
    "for number in range (1,21):\n",
    "    if number == 10:\n",
    "        # TODO: agregar comportamiento especial cuando number == 10\n",
    "        pass\n",
    "    print(\"Ciclo for iterando con el número: \", number)"
   ]
  },
  {
   "cell_type": "code",
   "execution_count": 11,
   "id": "e4321892-c3d0-4f6b-9470-ff1c811844fd",
   "metadata": {},
   "outputs": [],
   "source": [
    "def my_function():\n",
    "    # TODO: agregar comportamiento especial cuando number == 10\n",
    "    pass\n",
    "\n",
    "my_function()"
   ]
  },
  {
   "cell_type": "code",
   "execution_count": 15,
   "id": "34db81fd-3435-4836-ae6c-0acafab2c16c",
   "metadata": {},
   "outputs": [],
   "source": [
    "# Las clases son como moldes, de forma que nos permiten crear varios elementos que tengan ciertos atributos y métodos\n",
    "class MyClass:\n",
    "    # TODO: agregar métodos y atributos de la clase\n",
    "    pass\n",
    "\n",
    "my_object = MyClass()"
   ]
  },
  {
   "cell_type": "code",
   "execution_count": null,
   "id": "fbc7ac37-470a-4e39-826b-77d97dcd9202",
   "metadata": {},
   "outputs": [],
   "source": [
    "    "
   ]
  }
 ],
 "metadata": {
  "kernelspec": {
   "display_name": "Python 3 (ipykernel)",
   "language": "python",
   "name": "python3"
  },
  "language_info": {
   "codemirror_mode": {
    "name": "ipython",
    "version": 3
   },
   "file_extension": ".py",
   "mimetype": "text/x-python",
   "name": "python",
   "nbconvert_exporter": "python",
   "pygments_lexer": "ipython3",
   "version": "3.11.5"
  }
 },
 "nbformat": 4,
 "nbformat_minor": 5
}
