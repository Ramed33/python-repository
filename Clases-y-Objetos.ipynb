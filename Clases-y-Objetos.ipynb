{
 "cells": [
  {
   "cell_type": "markdown",
   "id": "718922df-faab-44fb-96aa-3c4ba43f9783",
   "metadata": {},
   "source": [
    "# Introducción\n",
    "\n",
    "Imagina un carro\n",
    "\n",
    "Carro - Objeto\n",
    "Molde de carro - Clase"
   ]
  },
  {
   "cell_type": "code",
   "execution_count": 2,
   "id": "dbefa7dd-fca0-48b6-bfdb-fb24c267e825",
   "metadata": {},
   "outputs": [],
   "source": [
    "class Car: #Molde\n",
    "    make: \"Tesla\"\n",
    "    model: \"Model 3\"\n",
    "    year: \"2022\"\n",
    "\n",
    "    def turn_on():\n",
    "        pass\n",
    "\n",
    "    def turn_off():\n",
    "        pass"
   ]
  },
  {
   "cell_type": "markdown",
   "id": "d29590e2-aee7-4e5b-89f1-826fb7d317be",
   "metadata": {},
   "source": [
    "Entonces las clase son como moldes\n",
    "De tal forma que puedes utilizar ese mismo molde para crear muchos objetos\n",
    "\n",
    "Clase - Molde de objetos\n",
    "\n",
    "Objeto/Instancia = Una agrupación de métodos y atributos"
   ]
  },
  {
   "cell_type": "code",
   "execution_count": 5,
   "id": "ec12ebc5-ce76-4e6b-9b93-59e776274663",
   "metadata": {},
   "outputs": [],
   "source": [
    "car1 = Car() # Objeto/Instancia\n",
    "car2 = Car() # Objeto/Instancia\n",
    "car3 = Car() # Objeto/Instancia"
   ]
  },
  {
   "cell_type": "code",
   "execution_count": 7,
   "id": "298ce724-a036-4e40-b860-3ba370356fcc",
   "metadata": {},
   "outputs": [
    {
     "data": {
      "text/plain": [
       "['__annotations__',\n",
       " '__class__',\n",
       " '__delattr__',\n",
       " '__dict__',\n",
       " '__dir__',\n",
       " '__doc__',\n",
       " '__eq__',\n",
       " '__format__',\n",
       " '__ge__',\n",
       " '__getattribute__',\n",
       " '__getstate__',\n",
       " '__gt__',\n",
       " '__hash__',\n",
       " '__init__',\n",
       " '__init_subclass__',\n",
       " '__le__',\n",
       " '__lt__',\n",
       " '__module__',\n",
       " '__ne__',\n",
       " '__new__',\n",
       " '__reduce__',\n",
       " '__reduce_ex__',\n",
       " '__repr__',\n",
       " '__setattr__',\n",
       " '__sizeof__',\n",
       " '__str__',\n",
       " '__subclasshook__',\n",
       " '__weakref__',\n",
       " 'turn_off',\n",
       " 'turn_on']"
      ]
     },
     "execution_count": 7,
     "metadata": {},
     "output_type": "execute_result"
    }
   ],
   "source": [
    "dir(car1)"
   ]
  },
  {
   "cell_type": "markdown",
   "id": "d5ed3472-c117-402d-9172-4add0f6760a5",
   "metadata": {},
   "source": [
    "## Creando clases"
   ]
  },
  {
   "cell_type": "code",
   "execution_count": 25,
   "id": "e829ea05-93d5-468e-bc4c-8b9da8c8755f",
   "metadata": {},
   "outputs": [],
   "source": [
    "class Car: # Molde\n",
    "\n",
    "    def __init__(self, make, model, year): # Método constructor de la clase\n",
    "        self.make = make\n",
    "        self.model = model\n",
    "        self.year = year\n",
    "        print(\"Una instancia de la clase se ha creado exitósamente\")\n",
    "\n",
    "    def print_attributes(self):\n",
    "        print(\"Marca: \", self.make)\n",
    "        print(\"Modelo: \", self.model)\n",
    "        print(\"Año: \", self.year)"
   ]
  },
  {
   "cell_type": "markdown",
   "id": "8e4b1c0e-d25f-4948-9b46-a75757311f46",
   "metadata": {},
   "source": [
    "## Creando objetos"
   ]
  },
  {
   "cell_type": "code",
   "execution_count": 36,
   "id": "621bc74e-9855-4387-9b3c-62336a3de80a",
   "metadata": {},
   "outputs": [
    {
     "name": "stdout",
     "output_type": "stream",
     "text": [
      "Una instancia de la clase se ha creado exitósamente\n"
     ]
    }
   ],
   "source": [
    "car1 = Car(\"Tesla\", \"Model 3\", \"2020\")"
   ]
  },
  {
   "cell_type": "code",
   "execution_count": 38,
   "id": "a83c897a-154a-49aa-b9e6-a9df0cacac13",
   "metadata": {},
   "outputs": [
    {
     "name": "stdout",
     "output_type": "stream",
     "text": [
      "Marca:  Tesla\n",
      "Modelo:  Model 3\n",
      "Año:  2020\n"
     ]
    }
   ],
   "source": [
    "car1.print_attributes()"
   ]
  },
  {
   "cell_type": "markdown",
   "id": "6984e2a8-2404-40b1-b12d-2de7e85a266e",
   "metadata": {},
   "source": [
    "## Accediendo a los atributos"
   ]
  },
  {
   "cell_type": "code",
   "execution_count": 49,
   "id": "5fa99f1d-5b87-496f-a57e-8548636f886b",
   "metadata": {},
   "outputs": [
    {
     "name": "stdout",
     "output_type": "stream",
     "text": [
      "Una instancia de la clase se ha creado exitósamente\n",
      "Marca:  Tesla\n",
      "Modelo:  Model Y\n",
      "Año:  2019\n"
     ]
    }
   ],
   "source": [
    "car2 = Car(\"Tesla\", \"Model Y\", \"2019\")\n",
    "car2.print_attributes()"
   ]
  },
  {
   "cell_type": "code",
   "execution_count": 40,
   "id": "2a5b8216-2a9c-46f6-8e07-39a662c0132f",
   "metadata": {},
   "outputs": [
    {
     "data": {
      "text/plain": [
       "['__class__',\n",
       " '__delattr__',\n",
       " '__dict__',\n",
       " '__dir__',\n",
       " '__doc__',\n",
       " '__eq__',\n",
       " '__format__',\n",
       " '__ge__',\n",
       " '__getattribute__',\n",
       " '__getstate__',\n",
       " '__gt__',\n",
       " '__hash__',\n",
       " '__init__',\n",
       " '__init_subclass__',\n",
       " '__le__',\n",
       " '__lt__',\n",
       " '__module__',\n",
       " '__ne__',\n",
       " '__new__',\n",
       " '__reduce__',\n",
       " '__reduce_ex__',\n",
       " '__repr__',\n",
       " '__setattr__',\n",
       " '__sizeof__',\n",
       " '__str__',\n",
       " '__subclasshook__',\n",
       " '__weakref__',\n",
       " 'make',\n",
       " 'model',\n",
       " 'print_attributes',\n",
       " 'year']"
      ]
     },
     "execution_count": 40,
     "metadata": {},
     "output_type": "execute_result"
    }
   ],
   "source": [
    "dir(car2)"
   ]
  },
  {
   "cell_type": "code",
   "execution_count": 42,
   "id": "75b6e000-0628-4b7d-98f2-3e15e0ff4b80",
   "metadata": {},
   "outputs": [
    {
     "name": "stdout",
     "output_type": "stream",
     "text": [
      "Tesla\n"
     ]
    }
   ],
   "source": [
    "print(car2.make)"
   ]
  },
  {
   "cell_type": "code",
   "execution_count": 44,
   "id": "8ba18ece-c461-45f5-9e70-e7332745f1f6",
   "metadata": {},
   "outputs": [
    {
     "name": "stdout",
     "output_type": "stream",
     "text": [
      "Model Y\n"
     ]
    }
   ],
   "source": [
    "print(car2.model)"
   ]
  },
  {
   "cell_type": "code",
   "execution_count": 46,
   "id": "b063b424-bc59-4582-aa37-0ade644d950c",
   "metadata": {},
   "outputs": [
    {
     "name": "stdout",
     "output_type": "stream",
     "text": [
      "2019\n"
     ]
    }
   ],
   "source": [
    "print(car2.year)"
   ]
  },
  {
   "cell_type": "markdown",
   "id": "bf166bfc-deb0-4397-b60e-621f775c453b",
   "metadata": {},
   "source": [
    "## Variables de clase"
   ]
  },
  {
   "cell_type": "code",
   "execution_count": 1,
   "id": "5031c961-6278-41d1-a063-b356bbb39681",
   "metadata": {},
   "outputs": [],
   "source": [
    "class Car: # Molde\n",
    "    opus = 0\n",
    "\n",
    "    def __init__(self, make, model, year): # Método constructor de la clase\n",
    "        Car.opus += 1\n",
    "        self.make = make\n",
    "        self.model = model\n",
    "        self.year = year\n",
    "        print(\"Una instancia de la clase se ha creado exitosamente\")\n",
    "\n",
    "    def print_attributes(self):\n",
    "        print(\"Marca: \", self.make)\n",
    "        print(\"Modelo: \", self.model)\n",
    "        print(\"Año: \", self.year)"
   ]
  },
  {
   "cell_type": "code",
   "execution_count": 3,
   "id": "997c9345-2f86-4fe3-b4f6-c80927216bb5",
   "metadata": {},
   "outputs": [
    {
     "name": "stdout",
     "output_type": "stream",
     "text": [
      "Una instancia de la clase se ha creado exitósamente\n",
      "Una instancia de la clase se ha creado exitósamente\n"
     ]
    }
   ],
   "source": [
    "car1 = Car(\"Tesla\", \"Model 3\", \"2020\")\n",
    "car2 = Car(\"Tesla\", \"Model Y\", \"2019\")"
   ]
  },
  {
   "cell_type": "code",
   "execution_count": 5,
   "id": "894f73b3-df53-47d4-8844-f67c990f483d",
   "metadata": {},
   "outputs": [
    {
     "name": "stdout",
     "output_type": "stream",
     "text": [
      "Hay  2  opus creados\n"
     ]
    }
   ],
   "source": [
    "print(\"Hay \", Car.opus, \" opus creados\")"
   ]
  },
  {
   "cell_type": "code",
   "execution_count": 7,
   "id": "24574bfb-b729-4c5e-ade0-dbe740fa0027",
   "metadata": {},
   "outputs": [
    {
     "name": "stdout",
     "output_type": "stream",
     "text": [
      "Una instancia de la clase se ha creado exitósamente\n"
     ]
    }
   ],
   "source": [
    "car3 = Car(\"Tesla\", \"Model X\", \"2021\")"
   ]
  },
  {
   "cell_type": "code",
   "execution_count": 9,
   "id": "c3111173-767e-4e36-99ca-0f5b35fec76b",
   "metadata": {},
   "outputs": [
    {
     "name": "stdout",
     "output_type": "stream",
     "text": [
      "Una instancia de la clase se ha creado exitósamente\n"
     ]
    }
   ],
   "source": [
    "car4 = Car(\"Tesla\", \"Model S\", \"2021\")"
   ]
  },
  {
   "cell_type": "code",
   "execution_count": 11,
   "id": "e27641a4-2405-4a02-a123-3cf1145ee7cb",
   "metadata": {},
   "outputs": [
    {
     "name": "stdout",
     "output_type": "stream",
     "text": [
      "Hay  4  opus creados\n"
     ]
    }
   ],
   "source": [
    "print(\"Hay \", Car.opus, \" opus creados\")"
   ]
  },
  {
   "cell_type": "markdown",
   "id": "18d1009a-89ba-4b00-b889-ff9cf7c2184f",
   "metadata": {},
   "source": [
    "## Garbage Collection"
   ]
  },
  {
   "cell_type": "code",
   "execution_count": 15,
   "id": "489492bb-6d86-4ea6-a8be-cd50afd21c54",
   "metadata": {},
   "outputs": [],
   "source": [
    "class Car: # Molde\n",
    "    total = 0\n",
    "\n",
    "    def __init__(self, make, model, year): # Método constructor de la clase\n",
    "        Car.total += 1\n",
    "        self.make = make\n",
    "        self.model = model\n",
    "        self.year = year\n",
    "        print(\"Una instancia de la clase se ha creado exitosamente\")\n",
    "\n",
    "    def __del__(self):\n",
    "        Car.total -= 1\n",
    "\n",
    "    def print_attributes(self):\n",
    "        print(\"Marca: \", self.make)\n",
    "        print(\"Modelo: \", self.model)\n",
    "        print(\"Año: \", self.year)"
   ]
  },
  {
   "cell_type": "code",
   "execution_count": 17,
   "id": "ebcb1049-b7c2-4351-a152-8c558c3a05c7",
   "metadata": {},
   "outputs": [
    {
     "name": "stdout",
     "output_type": "stream",
     "text": [
      "Una instancia de la clase se ha creado exitósamente\n",
      "Una instancia de la clase se ha creado exitósamente\n",
      "Una instancia de la clase se ha creado exitósamente\n",
      "Una instancia de la clase se ha creado exitósamente\n"
     ]
    }
   ],
   "source": [
    "car1 = Car(\"Tesla\", \"Model 3\", \"2020\")\n",
    "car2 = Car(\"Tesla\", \"Model Y\", \"2019\")\n",
    "car3 = Car(\"Tesla\", \"Model X\", \"2021\")\n",
    "car4 = Car(\"Tesla\", \"Model S\", \"2021\")"
   ]
  },
  {
   "cell_type": "code",
   "execution_count": 19,
   "id": "5e7d09d7-dc8d-4631-bf4a-0be4472942f2",
   "metadata": {},
   "outputs": [
    {
     "name": "stdout",
     "output_type": "stream",
     "text": [
      "Hay  4  carros creados\n"
     ]
    }
   ],
   "source": [
    "print(\"Hay \", Car.total, \" carros creados\")"
   ]
  },
  {
   "cell_type": "code",
   "execution_count": 21,
   "id": "d928cbb2-f5e5-4467-9643-bb9985399e0a",
   "metadata": {},
   "outputs": [],
   "source": [
    "del car4"
   ]
  },
  {
   "cell_type": "code",
   "execution_count": 23,
   "id": "bc1b1eb1-9c28-4fa6-acf4-7f0d9187895a",
   "metadata": {},
   "outputs": [
    {
     "name": "stdout",
     "output_type": "stream",
     "text": [
      "Hay  3  carros creados\n"
     ]
    }
   ],
   "source": [
    "print(\"Hay \", Car.total, \" carros creados\")"
   ]
  },
  {
   "cell_type": "code",
   "execution_count": 25,
   "id": "06e3dd3d-f8a3-4800-9f4c-bc76faee1d5b",
   "metadata": {},
   "outputs": [
    {
     "ename": "NameError",
     "evalue": "name 'car4' is not defined",
     "output_type": "error",
     "traceback": [
      "\u001b[1;31m---------------------------------------------------------------------------\u001b[0m",
      "\u001b[1;31mNameError\u001b[0m                                 Traceback (most recent call last)",
      "Cell \u001b[1;32mIn[25], line 1\u001b[0m\n\u001b[1;32m----> 1\u001b[0m car4\u001b[38;5;241m.\u001b[39mmake\n",
      "\u001b[1;31mNameError\u001b[0m: name 'car4' is not defined"
     ]
    }
   ],
   "source": [
    "# error\n",
    "car4.make"
   ]
  },
  {
   "cell_type": "markdown",
   "id": "b0c54ac2-8636-4faa-847d-4d021288cb64",
   "metadata": {},
   "source": [
    "## Herencia"
   ]
  },
  {
   "cell_type": "code",
   "execution_count": 13,
   "id": "720e562e-b42b-4155-93e3-5a7706036e4d",
   "metadata": {},
   "outputs": [],
   "source": [
    "class Car:\n",
    "    super_attribute = \"Atributo de la super clase/ Clase Padre\"\n",
    "    def __init__(self):\n",
    "        print(\"Inicialización de la super clase/ Clase Padre\")\n",
    "    def super_method(self):\n",
    "        print(\"Método de la super clase/ Clase Padre\")\n",
    "\n",
    "class CollectionCar(Car): # Hija que va a heredar\n",
    "    sub_attribute = \"Atributo de la sub clase/ Clase Hija\"\n",
    "    def __init__(self):\n",
    "        print(\"Inicialización de la sub clase/ Clase Hija\")\n",
    "    def sub_method(self):\n",
    "        print(\"Método de la sub clase/ Clase Hija\")"
   ]
  },
  {
   "cell_type": "code",
   "execution_count": 15,
   "id": "e223863d-a4d9-47d1-a6a1-f3ebec527002",
   "metadata": {},
   "outputs": [
    {
     "name": "stdout",
     "output_type": "stream",
     "text": [
      "Inicialización de la sub clase/ Clase Hija\n"
     ]
    }
   ],
   "source": [
    "sub_car = CollectionCar()"
   ]
  },
  {
   "cell_type": "code",
   "execution_count": 19,
   "id": "b6196951-1d8d-4471-9765-78e4f357314f",
   "metadata": {},
   "outputs": [
    {
     "name": "stdout",
     "output_type": "stream",
     "text": [
      "Método de la super clase/ Clase Padre\n",
      "Método de la sub clase/ Clase Hija\n",
      "Atributo de la super clase/ Clase Padre\n",
      "Atributo de la sub clase/ Clase Hija\n"
     ]
    }
   ],
   "source": [
    "sub_car.super_method()\n",
    "sub_car.sub_method()\n",
    "print(sub_car.super_attribute)\n",
    "print(sub_car.sub_attribute)"
   ]
  },
  {
   "cell_type": "markdown",
   "id": "eb82c27c-19de-4ae2-bfeb-702b889c7364",
   "metadata": {},
   "source": [
    "## Usando una SubClase como SuperClase"
   ]
  },
  {
   "cell_type": "code",
   "execution_count": 30,
   "id": "c322990c-9b3f-4f3d-a85b-77a2365d4904",
   "metadata": {},
   "outputs": [],
   "source": [
    "class Car:\n",
    "    super_attribute = \"Atributo de la super clase/ Clase Padre/ Abuelo\"\n",
    "    def __init__(self):\n",
    "        print(\"Inicialización de la super clase/ Clase Padre/ Abuelo\")\n",
    "    def super_method(self):\n",
    "        print(\"Método de la super clase/ Clase Padre/ Abuelo\")\n",
    "\n",
    "class CollectionCar(Car): # Hija que va a heredar\n",
    "    sub_attribute = \"Atributo de la sub clase/ Clase Hija\"\n",
    "    def __init__(self):\n",
    "        print(\"Inicialización de la sub clase/ Clase Hija\")\n",
    "    def sub_method(self):\n",
    "        print(\"Método de la sub clase/ Clase Hija\")\n",
    "\n",
    "class SubCollectionCar(CollectionCar): # Nieta que va a heredar\n",
    "    sub_sub_attribute = \"Atributo de la sub clase/ Clase Nieta\"\n",
    "    def __init__(self):\n",
    "        print(\"Inicialización de la sub clase/ Clase Nieta\")\n",
    "    def sub_sub_method(self):\n",
    "        print(\"Método de la sub clase/ Clase Nieta\")"
   ]
  },
  {
   "cell_type": "code",
   "execution_count": 34,
   "id": "b5f99c7e-9885-4569-a3e7-0aaa8fcc47e2",
   "metadata": {},
   "outputs": [
    {
     "name": "stdout",
     "output_type": "stream",
     "text": [
      "Inicialización de la sub clase/ Clase Nieta\n"
     ]
    }
   ],
   "source": [
    "sub_sub_car = SubCollectionCar()"
   ]
  },
  {
   "cell_type": "code",
   "execution_count": 36,
   "id": "7afaf938-6d0f-4fa1-bdae-ce332cba04e2",
   "metadata": {},
   "outputs": [
    {
     "name": "stdout",
     "output_type": "stream",
     "text": [
      "Método de la super clase/ Clase Padre/ Abuelo\n",
      "Método de la sub clase/ Clase Hija\n",
      "Método de la sub clase/ Clase Nieta\n",
      "Atributo de la super clase/ Clase Padre/ Abuelo\n",
      "Atributo de la sub clase/ Clase Hija\n",
      "Atributo de la sub clase/ Clase Nieta\n"
     ]
    }
   ],
   "source": [
    "sub_sub_car.super_method()\n",
    "sub_sub_car.sub_method()\n",
    "sub_sub_car.sub_sub_method()\n",
    "print(sub_sub_car.super_attribute)\n",
    "print(sub_sub_car.sub_attribute)\n",
    "print(sub_sub_car.sub_sub_attribute)"
   ]
  },
  {
   "cell_type": "code",
   "execution_count": null,
   "id": "82a69dff-a34c-4189-9f66-7e34081c34c9",
   "metadata": {},
   "outputs": [],
   "source": []
  }
 ],
 "metadata": {
  "kernelspec": {
   "display_name": "Python 3 (ipykernel)",
   "language": "python",
   "name": "python3"
  },
  "language_info": {
   "codemirror_mode": {
    "name": "ipython",
    "version": 3
   },
   "file_extension": ".py",
   "mimetype": "text/x-python",
   "name": "python",
   "nbconvert_exporter": "python",
   "pygments_lexer": "ipython3",
   "version": "3.11.5"
  }
 },
 "nbformat": 4,
 "nbformat_minor": 5
}
