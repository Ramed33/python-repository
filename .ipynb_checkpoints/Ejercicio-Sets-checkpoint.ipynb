{
 "cells": [
  {
   "cell_type": "markdown",
   "id": "dbaba504-dc84-4803-adcb-6abce1a7bb31",
   "metadata": {},
   "source": [
    "# Ejercicio-Sets"
   ]
  },
  {
   "cell_type": "code",
   "execution_count": 17,
   "id": "7573ad64-fd28-4743-bd2f-6ddb423ccb42",
   "metadata": {},
   "outputs": [
    {
     "name": "stdout",
     "output_type": "stream",
     "text": [
      "{'6A6A', '4A4A', '0AAA', '333D', '4444', '666B', '1B1B', '3CCC', 'D4D4', '5DD5', '9DD9', '6AAA', '444A', '33DD', 'AA11', 'A777', '0D0D', '6BBB', 'CC33', '7A7A', '5BBB', 'AAA6', 'D999', 'AAA2', 'A2A2', 'CCC6', 'C4C4', 'DD00', 'BB00', '66CC', '0CCC', 'A1A1', 'D0D0', 'D00D', 'B000', 'A6A6', 'BB55', 'D111', '0C0C', 'B44B', '000C', 'D9D9', 'A77A', 'AAA8', '6DD6', 'DDD7', '66BB', '555B', 'CCC9', '999D', '222C', '555C', 'AA66', '3AA3', '11AA', 'CC99', '44BB', '777D', 'BB66', 'B555', 'C6C6', '0DDD', 'B22B', 'B111', 'A0A0', 'C222', 'A333', 'DD22', '33AA', '9CCC', 'D55D', 'B666', 'A00A', 'D44D', 'CCC1', '7CC7', '555A', 'CC44', '2B2B', '2DDD', '5CC5', 'B8B8', '3CC3', 'CC00', '7BBB', 'D777', '4D4D', 'A7A7', 'A3A3', '1A1A', 'C8C8', '4B4B', '88AA', '55AA', 'AAAA', 'B888', '2CC2', '3DD3', 'C777', 'A999', '3BB3', 'DDD4', '333B', '9B9B', '0A0A', '6666', 'CCC7', 'DDD5', 'CCCC', 'C000', '4CC4', '666D', 'BBB7', 'DD88', 'BBBB', 'D6D6', '1C1C', '66DD', '7D7D', 'CCC8', 'DDD6', '8AA8', '4BB4', '6CCC', 'DDD3', '1AAA', 'BBB9', 'CC11', 'DDDD', 'DDD0', 'D5D5', '33BB', '11BB', 'AA99', '6BB6', 'B3B3', 'B7B7', 'D666', '8AAA', 'BB99', '7C7C', 'A22A', 'C1C1', '3AAA', '2222', 'B333', '5CCC', '2D2D', '222B', 'B55B', '0BB0', 'C55C', '2C2C', 'D000', 'B6B6', 'BB88', '111B', 'A222', 'CCC2', 'D444', '444C', '2AA2', '3DDD', 'C666', 'B777', '1DD1', 'C999', 'CC77', 'CC66', 'BB44', 'A55A', '8C8C', 'B2B2', 'D7D7', '3333', 'B77B', 'D77D', '88CC', 'DD55', 'A111', 'D22D', '333A', '4AAA', '888B', '77DD', '999B', '5AA5', '1111', '9DDD', '4DD4', '888C', '9CC9', '888D', 'D555', 'D88D', 'AAA7', 'A555', '66AA', '1BB1', '6D6D', 'B5B5', 'C111', 'DD11', '000D', '111A', '22CC', '5C5C', '8CCC', 'C7C7', 'D3D3', '88BB', '2BBB', '00BB', '0DD0', '7AA7', 'A888', '000A', 'AA44', '111C', '11CC', '44AA', 'A444', '9AA9', '4DDD', '7DD7', '8BBB', '444B', '999A', '8D8D', '5DDD', '777C', '4BBB', 'BBB2', '1D1D', 'AAA3', 'C9C9', 'D8D8', 'AAA9', '0AA0', '0000', '5A5A', 'C22C', '555D', '2DD2', 'D33D', '77CC', '4CCC', '8BB8', 'BB77', 'CC22', 'DDD2', '77AA', '000B', 'D99D', 'DD66', 'A8A8', 'CCC0', '7B7B', '6AA6', '777A', '99CC', 'BBB6', '1CC1', '7CCC', 'DD77', 'C99C', '8A8A', 'C88C', 'AAA1', 'C11C', '2AAA', 'D222', '3BBB', 'B00B', '7DDD', '4C4C', 'B11B', '88DD', '9AAA', 'AA00', '9D9D', 'BB22', '8B8B', '55BB', 'A99A', 'CCC4', '8DDD', '2BB2', 'B66B', '9BBB', '222D', 'BBB4', 'DDD8', 'C66C', 'A4A4', 'B88B', 'B33B', '55CC', '5D5D', '9999', 'AA22', '22DD', '1BBB', 'C0C0', 'DD99', 'DD44', '888A', 'AAA4', '5555', '3C3C', '0BBB', 'AA77', '77BB', '666A', 'DDD1', 'DDD9', 'A66A', 'B99B', '1DDD', '22AA', '4AA4', 'D1D1', '11DD', 'A44A', '55DD', '7AAA', 'D888', '9BB9', '6C6C', '8CC8', '00DD', '3D3D', 'CC88', '00CC', '444D', 'C00C', '999C', '8888', 'AA88', '00AA', 'B444', 'BBB5', 'CCC5', '5B5B', '3A3A', '9C9C', '22BB', 'BB33', 'B999', '1AA1', '0CC0', '222A', 'C5C5', 'A5A5', 'BB11', 'B4B4', 'AA33', 'C77C', '111D', '6CC6', 'BBB3', '99BB', '1CCC', '44DD', 'AAA0', '666C', 'A666', 'D333', 'B0B0', 'C888', 'AA55', 'B222', 'C2C2', 'C33C', 'C555', '2A2A', 'CC55', 'A88A', '6DDD', 'BBB8', 'A11A', 'C333', '0B0B', '7777', '9A9A', 'B1B1', '99AA', 'D11D', '3B3B', '33CC', 'BBB0', 'A000', 'A33A', '5BB5', 'D2D2', 'CCC3', '7BB7', '8DD8', 'B9B9', 'C44C', 'AAA5', 'BBB1', 'A9A9', 'DD33', '2CCC', '5AAA', '777B', 'C444', 'C3C3', '6B6B', '333C', 'D66D', '44CC', '99DD'}\n"
     ]
    }
   ],
   "source": [
    "numbers = ['0', '1', '2', '3', '4', '5', '6', '7', '8', '9'] \n",
    "letters = ['A', 'B', 'C','D']\n",
    "\n",
    "unique_combinations = set() \n",
    "for number in numbers:\n",
    "    for letter in letters:\n",
    "        unique_combinations.add(\"{}{}{}{}\".format(number,number,number,number)) \n",
    "        unique_combinations.add(\"{}{}{}{}\".format(number,number,number,letter)) \n",
    "        unique_combinations.add(\"{}{}{}{}\".format(number,number,letter,letter)) \n",
    "        unique_combinations.add(\"{}{}{}{}\".format(number,letter,letter,letter))\n",
    "        unique_combinations.add(\"{}{}{}{}\".format(letter,letter,letter,letter))\n",
    "        unique_combinations.add(\"{}{}{}{}\".format(letter,letter,letter,number)) \n",
    "        unique_combinations.add(\"{}{}{}{}\".format(letter,letter,number,number)) \n",
    "        unique_combinations.add(\"{}{}{}{}\".format(letter,number,number,number)) \n",
    "        unique_combinations.add(\"{}{}{}{}\".format(number,letter,letter,number))\n",
    "        unique_combinations.add(\"{}{}{}{}\".format(letter,number,number,letter)) \n",
    "        unique_combinations.add(\"{}{}{}{}\".format(number,number,letter,letter)) \n",
    "        unique_combinations.add(\"{}{}{}{}\".format(letter,letter,number,number))\n",
    "        unique_combinations.add(\"{}{}{}{}\".format(number,letter,number,letter)) \n",
    "        unique_combinations.add(\"{}{}{}{}\".format(letter,number,letter,number))\n",
    "\n",
    "print(unique_combinations)"
   ]
  },
  {
   "cell_type": "code",
   "execution_count": null,
   "id": "5bd835af-daff-4063-881b-71cf5cafff2c",
   "metadata": {},
   "outputs": [],
   "source": []
  }
 ],
 "metadata": {
  "kernelspec": {
   "display_name": "Python 3 (ipykernel)",
   "language": "python",
   "name": "python3"
  },
  "language_info": {
   "codemirror_mode": {
    "name": "ipython",
    "version": 3
   },
   "file_extension": ".py",
   "mimetype": "text/x-python",
   "name": "python",
   "nbconvert_exporter": "python",
   "pygments_lexer": "ipython3",
   "version": "3.11.5"
  }
 },
 "nbformat": 4,
 "nbformat_minor": 5
}
