{
 "cells": [
  {
   "cell_type": "markdown",
   "id": "4ec97c66-24c7-4e45-bdd7-d43d5d7f9a65",
   "metadata": {},
   "source": [
    "# Panorama\n",
    "int - Integer / Enteros\n",
    "\n",
    "float - Float / Números con decimales\n",
    "\n",
    "complex - Complex / Complejos (Números con una parte real y una imaginaria)\n",
    "\n",
    "bool - Boolean (True/False) / Valores lógicos (Verdadero/Falso)\n",
    "\n",
    "str . Strings / Cadenas, Textos"
   ]
  },
  {
   "cell_type": "markdown",
   "id": "4cd8067b-cc8d-4c11-91ce-35a95063158a",
   "metadata": {},
   "source": [
    "# int - Integer / Enteros"
   ]
  },
  {
   "cell_type": "code",
   "execution_count": 3,
   "id": "231a7b74-895a-4180-8a36-359602fd417b",
   "metadata": {},
   "outputs": [
    {
     "name": "stdout",
     "output_type": "stream",
     "text": [
      "El valor de my_integer es:  11\n",
      "El tipo de dato de my_integer es:  <class 'int'>\n"
     ]
    }
   ],
   "source": [
    "my_integer = 11\n",
    "print(\"El valor de my_integer es: \", my_integer)\n",
    "print(\"El tipo de dato de my_integer es: \", type(my_integer))"
   ]
  },
  {
   "cell_type": "code",
   "execution_count": 5,
   "id": "e0110964-415b-43ce-b1c3-61aeb198beda",
   "metadata": {},
   "outputs": [
    {
     "name": "stdout",
     "output_type": "stream",
     "text": [
      "El valor de my_integer es:  2022\n",
      "El tipo de dato de my_integer es:  <class 'int'>\n"
     ]
    }
   ],
   "source": [
    "my_integer = 2022\n",
    "print(\"El valor de my_integer es: \", my_integer)\n",
    "print(\"El tipo de dato de my_integer es: \", type(my_integer))"
   ]
  },
  {
   "cell_type": "code",
   "execution_count": 7,
   "id": "d5c8e01b-e5e8-42b4-ac53-ae9e1622dd0d",
   "metadata": {},
   "outputs": [
    {
     "ename": "SyntaxError",
     "evalue": "invalid decimal literal (1399723369.py, line 2)",
     "output_type": "error",
     "traceback": [
      "\u001b[1;36m  Cell \u001b[1;32mIn[7], line 2\u001b[1;36m\u001b[0m\n\u001b[1;33m    my_integer = 2022d\u001b[0m\n\u001b[1;37m                    ^\u001b[0m\n\u001b[1;31mSyntaxError\u001b[0m\u001b[1;31m:\u001b[0m invalid decimal literal\n"
     ]
    }
   ],
   "source": [
    "# Error\n",
    "my_integer = 2022d\n",
    "print(\"El valor de my_integer es: \", my_integer)\n",
    "print(\"El tipo de dato de my_integer es: \", type(my_integer))"
   ]
  },
  {
   "cell_type": "markdown",
   "id": "e3e2f876-bfa8-4d88-8824-81c39c93fbd3",
   "metadata": {},
   "source": [
    "# Float - Float / Números con decimales"
   ]
  },
  {
   "cell_type": "code",
   "execution_count": 10,
   "id": "8853fbfa-365e-4619-8d77-6b6fa5c183de",
   "metadata": {},
   "outputs": [
    {
     "name": "stdout",
     "output_type": "stream",
     "text": [
      "El valor de my_float es:  11.1\n",
      "El tipo de dato de my_float es:  <class 'float'>\n"
     ]
    }
   ],
   "source": [
    "my_float = 11.1\n",
    "print(\"El valor de my_float es: \", my_float)\n",
    "print(\"El tipo de dato de my_float es: \", type(my_float))"
   ]
  },
  {
   "cell_type": "code",
   "execution_count": 12,
   "id": "7cb90333-f20a-44e9-921f-eec1cd00a4f4",
   "metadata": {},
   "outputs": [
    {
     "name": "stdout",
     "output_type": "stream",
     "text": [
      "El valor de my_float es:  11.0\n",
      "El tipo de dato de my_float es:  <class 'float'>\n"
     ]
    }
   ],
   "source": [
    "my_float = 11.0\n",
    "print(\"El valor de my_float es: \", my_float)\n",
    "print(\"El tipo de dato de my_float es: \", type(my_float))"
   ]
  },
  {
   "cell_type": "code",
   "execution_count": 14,
   "id": "9b2c9856-3faa-412d-aa8f-58a8b2f1c66a",
   "metadata": {},
   "outputs": [
    {
     "ename": "SyntaxError",
     "evalue": "invalid decimal literal (2775137932.py, line 1)",
     "output_type": "error",
     "traceback": [
      "\u001b[1;36m  Cell \u001b[1;32mIn[14], line 1\u001b[1;36m\u001b[0m\n\u001b[1;33m    my_float = 11.1f\u001b[0m\n\u001b[1;37m                  ^\u001b[0m\n\u001b[1;31mSyntaxError\u001b[0m\u001b[1;31m:\u001b[0m invalid decimal literal\n"
     ]
    }
   ],
   "source": [
    "my_float = 11.1f\n",
    "print(\"El valor de my_float es: \", my_float)\n",
    "print(\"El tipo de dato de my_float es: \", type(my_float))"
   ]
  },
  {
   "cell_type": "code",
   "execution_count": 16,
   "id": "a475e347-cfa2-4376-85a5-a68afb72e456",
   "metadata": {},
   "outputs": [
    {
     "name": "stdout",
     "output_type": "stream",
     "text": [
      "El valor de my_float es:  2000.0\n",
      "El tipo de dato de my_float es:  <class 'float'>\n"
     ]
    }
   ],
   "source": [
    "# Notación científica\n",
    "my_float = 2e3 # 2.0 * 10 ** 3\n",
    "print(\"El valor de my_float es: \", my_float)\n",
    "print(\"El tipo de dato de my_float es: \", type(my_float))"
   ]
  },
  {
   "cell_type": "code",
   "execution_count": 18,
   "id": "dcf218b6-d053-4dcf-b2cc-5fed9c6cee8a",
   "metadata": {},
   "outputs": [
    {
     "data": {
      "text/plain": [
       "1.1"
      ]
     },
     "execution_count": 18,
     "metadata": {},
     "output_type": "execute_result"
    }
   ],
   "source": [
    "1.1e0"
   ]
  },
  {
   "cell_type": "code",
   "execution_count": 20,
   "id": "ddad383e-8c63-4695-ae4b-0b4e0b480e57",
   "metadata": {},
   "outputs": [
    {
     "data": {
      "text/plain": [
       "11.0"
      ]
     },
     "execution_count": 20,
     "metadata": {},
     "output_type": "execute_result"
    }
   ],
   "source": [
    "1.1e1"
   ]
  },
  {
   "cell_type": "code",
   "execution_count": 22,
   "id": "656a854d-1d2f-4d96-8b19-62f9e263db26",
   "metadata": {},
   "outputs": [
    {
     "data": {
      "text/plain": [
       "0.08"
      ]
     },
     "execution_count": 22,
     "metadata": {},
     "output_type": "execute_result"
    }
   ],
   "source": [
    "8e-2 # 8*10**-2"
   ]
  },
  {
   "cell_type": "markdown",
   "id": "b4a44562-540a-4ad5-b30d-6c10ea64d4e1",
   "metadata": {},
   "source": [
    "# complex - Complex / Complejos (Números con una parte real y una imaginaria)\n",
    "complex = x + yj\n",
    "\n",
    "x = parte real\n",
    "\n",
    "yj = parte imaginaria"
   ]
  },
  {
   "cell_type": "code",
   "execution_count": 25,
   "id": "a2031117-943f-4215-8ddf-32bf2aadcbfc",
   "metadata": {},
   "outputs": [
    {
     "name": "stdout",
     "output_type": "stream",
     "text": [
      "El valor de my_complex es:  (3+9j)\n",
      "El tipo de dato de my_complex es:  <class 'complex'>\n"
     ]
    }
   ],
   "source": [
    "my_complex = 3 + 9j\n",
    "print(\"El valor de my_complex es: \", my_complex)\n",
    "print(\"El tipo de dato de my_complex es: \", type(my_complex))"
   ]
  },
  {
   "cell_type": "code",
   "execution_count": 27,
   "id": "cb1c6dbc-9b53-4a20-a9a3-01276165e1c0",
   "metadata": {},
   "outputs": [
    {
     "name": "stdout",
     "output_type": "stream",
     "text": [
      "El valor de my_complex es:  (2+5j)\n",
      "El tipo de dato de my_complex es:  <class 'complex'>\n"
     ]
    }
   ],
   "source": [
    "my_complex = 2 + 5j\n",
    "print(\"El valor de my_complex es: \", my_complex)\n",
    "print(\"El tipo de dato de my_complex es: \", type(my_complex))"
   ]
  },
  {
   "cell_type": "markdown",
   "id": "b09e5c9d-6a91-4e1b-b8bb-b52eefa04429",
   "metadata": {},
   "source": [
    "# bool - Boolean (True/False) / Valores lógicos (Verdadero/Falso)"
   ]
  },
  {
   "cell_type": "code",
   "execution_count": 30,
   "id": "233ffef2-4ae6-4b20-aab9-c9e845be15a5",
   "metadata": {},
   "outputs": [
    {
     "name": "stdout",
     "output_type": "stream",
     "text": [
      "El valor de my_boolean es:  False\n",
      "El tipo de dato de my_boolean es:  <class 'bool'>\n"
     ]
    }
   ],
   "source": [
    "my_boolean = False\n",
    "print(\"El valor de my_boolean es: \", my_boolean)\n",
    "print(\"El tipo de dato de my_boolean es: \", type(my_boolean))"
   ]
  },
  {
   "cell_type": "code",
   "execution_count": 32,
   "id": "257e9997-9ca6-4cb3-be70-6921580bc47e",
   "metadata": {},
   "outputs": [
    {
     "name": "stdout",
     "output_type": "stream",
     "text": [
      "El valor de my_boolean es:  True\n",
      "El tipo de dato de my_boolean es:  <class 'bool'>\n"
     ]
    }
   ],
   "source": [
    "my_boolean = True\n",
    "print(\"El valor de my_boolean es: \", my_boolean)\n",
    "print(\"El tipo de dato de my_boolean es: \", type(my_boolean))"
   ]
  },
  {
   "cell_type": "code",
   "execution_count": 34,
   "id": "9b63683c-3cd1-40c7-8cb9-a4708e6a6113",
   "metadata": {},
   "outputs": [],
   "source": [
    "# True = 1\n",
    "# False = 0"
   ]
  },
  {
   "cell_type": "code",
   "execution_count": 36,
   "id": "92a32d2f-9dd5-4168-8e40-7dcf82ad329c",
   "metadata": {},
   "outputs": [
    {
     "name": "stdout",
     "output_type": "stream",
     "text": [
      "3\n"
     ]
    }
   ],
   "source": [
    "# 3\n",
    "print(True+True+True)"
   ]
  },
  {
   "cell_type": "code",
   "execution_count": 38,
   "id": "7438d583-cc6e-4cbb-949e-81bef27d047d",
   "metadata": {},
   "outputs": [
    {
     "name": "stdout",
     "output_type": "stream",
     "text": [
      "0\n"
     ]
    }
   ],
   "source": [
    "# 3\n",
    "print(False+False+False)"
   ]
  },
  {
   "cell_type": "code",
   "execution_count": 40,
   "id": "a6c8062b-f9e3-4349-a77c-e70e18019c04",
   "metadata": {},
   "outputs": [
    {
     "name": "stdout",
     "output_type": "stream",
     "text": [
      "2\n"
     ]
    }
   ],
   "source": [
    "# 2\n",
    "print(True+False+True)"
   ]
  },
  {
   "cell_type": "code",
   "execution_count": 42,
   "id": "9d3fe6b1-294c-49e8-91cc-67a61bb37c25",
   "metadata": {},
   "outputs": [
    {
     "name": "stdout",
     "output_type": "stream",
     "text": [
      "1\n"
     ]
    }
   ],
   "source": [
    "# 1\n",
    "print(True-True+True)"
   ]
  },
  {
   "cell_type": "code",
   "execution_count": 44,
   "id": "93a33e1e-6154-4757-a27c-7431e03a07b1",
   "metadata": {},
   "outputs": [
    {
     "name": "stdout",
     "output_type": "stream",
     "text": [
      "-2\n"
     ]
    }
   ],
   "source": [
    "# -2\n",
    "print(False-True-True)"
   ]
  },
  {
   "cell_type": "markdown",
   "id": "daff8874-17fa-4d45-ae12-c8e2cb74aef4",
   "metadata": {},
   "source": [
    "# str . Strings / Cadenas, Textos"
   ]
  },
  {
   "cell_type": "code",
   "execution_count": 47,
   "id": "b792fb06-7c80-44d4-89d1-2cf9c4739288",
   "metadata": {},
   "outputs": [
    {
     "name": "stdout",
     "output_type": "stream",
     "text": [
      "El valor de my_string es:  Backend Python\n",
      "El tipo de dato de my_string es:  <class 'str'>\n"
     ]
    }
   ],
   "source": [
    "my_string = \"Backend Python\"\n",
    "print(\"El valor de my_string es: \", my_string)\n",
    "print(\"El tipo de dato de my_string es: \", type(my_string))"
   ]
  },
  {
   "cell_type": "code",
   "execution_count": 49,
   "id": "160ae593-64e5-478d-83ab-c0585c702ae2",
   "metadata": {},
   "outputs": [
    {
     "name": "stdout",
     "output_type": "stream",
     "text": [
      "El valor de my_string es:  Aprendiendo a usar stirngs/cadenas/textos\n",
      "El tipo de dato de my_string es:  <class 'str'>\n"
     ]
    }
   ],
   "source": [
    "my_string = \"Aprendiendo a usar stirngs/cadenas/textos\"\n",
    "print(\"El valor de my_string es: \", my_string)\n",
    "print(\"El tipo de dato de my_string es: \", type(my_string))"
   ]
  },
  {
   "cell_type": "code",
   "execution_count": 51,
   "id": "a5bf11e9-7f9c-46e1-9e39-fb5ca240e20f",
   "metadata": {},
   "outputs": [
    {
     "ename": "SyntaxError",
     "evalue": "unterminated string literal (detected at line 1) (18993320.py, line 1)",
     "output_type": "error",
     "traceback": [
      "\u001b[1;36m  Cell \u001b[1;32mIn[51], line 1\u001b[1;36m\u001b[0m\n\u001b[1;33m    my_string = 'You're amazing'\u001b[0m\n\u001b[1;37m                               ^\u001b[0m\n\u001b[1;31mSyntaxError\u001b[0m\u001b[1;31m:\u001b[0m unterminated string literal (detected at line 1)\n"
     ]
    }
   ],
   "source": [
    "my_string = 'You're amazing'\n",
    "print(\"El valor de my_string es: \", my_string)\n",
    "print(\"El tipo de dato de my_string es: \", type(my_string))"
   ]
  },
  {
   "cell_type": "code",
   "execution_count": 53,
   "id": "bb17d949-fd44-4931-b51b-cc1a3b34edc2",
   "metadata": {},
   "outputs": [
    {
     "name": "stdout",
     "output_type": "stream",
     "text": [
      "El valor de my_string es:  \n",
      "Es una cadena con múltiples líneas\n",
      "\n",
      "Como puedes ver es genial para textos más largos\n",
      "\n",
      "¿Puédes imaginar cuántas cosas podrías hacer manejando texto de Internet?\n",
      "\n",
      "El tipo de dato de my_string es:  <class 'str'>\n"
     ]
    }
   ],
   "source": [
    "my_string = \"\"\"\n",
    "Es una cadena con múltiples líneas\\n\n",
    "Como puedes ver es genial para textos más largos\\n\n",
    "¿Puédes imaginar cuántas cosas podrías hacer manejando texto de Internet?\n",
    "\"\"\"\n",
    "print(\"El valor de my_string es: \", my_string)\n",
    "print(\"El tipo de dato de my_string es: \", type(my_string))"
   ]
  },
  {
   "cell_type": "markdown",
   "id": "0c2760f3-6dc6-4d92-a3bc-8ce5e922101a",
   "metadata": {},
   "source": [
    "# Variables\n",
    "### ¿Qué es una variable?\n",
    "- Son un espacio temporal para guardar un valor con un nombre específico\n",
    "- No hay necesidad de declarar el tipo de dato explícitamente\n",
    "- Python es un lenguaje tipado dinámicamente, lo que quiere decir que el tipo de dato se define mientras corre el programa\n",
    "- Las variables en python funcionan diferente que otros lenguajes de programación\n",
    "- No necesitamos crear variable, sólo asignamos un nombre a un valor usando el operador de asignación\n",
    "\n",
    "# Tipos de variables:\n",
    "- Variables globales: son aquellas que se utilizarán para todo el programa\n",
    "- Variable locales: aquellas que se van a utilizar sólo en un bloque específico\n",
    "\n",
    "# Variables globales\n",
    "\n",
    "- Declaramos variables globales afuera de funciones\n",
    "- El valor de la variable purde ser constante para todo el programa\n",
    "- Cualquier función podrá acceder a estas variables\n",
    "- Podemos decir que las variables globales tienen un alcance global\n",
    "- Normalmente son más usadas para constantes\n",
    "- Las variable globales mantienen sus valores a través de la ejecución completa de tu programa\n",
    "- Una variable global puede ser accesada por cualquier función"
   ]
  },
  {
   "cell_type": "code",
   "execution_count": 56,
   "id": "2eb35234-398b-4996-8d80-aa6ea4e57e13",
   "metadata": {},
   "outputs": [],
   "source": [
    "# Variable global\n",
    "my_global_variable = 50\n",
    "\n",
    "def my_function_1():\n",
    "    pass\n",
    "\n",
    "def my_fuction_2():\n",
    "    pass"
   ]
  },
  {
   "cell_type": "code",
   "execution_count": 58,
   "id": "1249516a-8970-42e7-a334-1fd30c227545",
   "metadata": {},
   "outputs": [],
   "source": [
    "# Variable local\n",
    "\n",
    "def my_function_1():\n",
    "    my_local_variable = 5\n",
    "\n",
    "def my_fuction_2():\n",
    "    my_local_variable = 35"
   ]
  },
  {
   "cell_type": "code",
   "execution_count": 60,
   "id": "f27c73f2-3c13-4580-835f-59e78e0655e7",
   "metadata": {},
   "outputs": [],
   "source": [
    "# Variable global\n",
    "my_global_variable = 50\n",
    "\n",
    "def my_function_1():\n",
    "    print(\"my_function_1 - El valor de my_global_variable es: \", my_global_variable)\n",
    "\n",
    "def my_function_2():\n",
    "    print(\"my_function_2 - El valor de my_global_variable es: \", my_global_variable)"
   ]
  },
  {
   "cell_type": "code",
   "execution_count": 62,
   "id": "618fab5b-11cb-46ef-98ce-e6e4a024a4f0",
   "metadata": {},
   "outputs": [
    {
     "name": "stdout",
     "output_type": "stream",
     "text": [
      "my_function_1 - El valor de my_global_variable es:  50\n"
     ]
    }
   ],
   "source": [
    "my_function_1()"
   ]
  },
  {
   "cell_type": "code",
   "execution_count": 64,
   "id": "cd191c31-5cd7-4631-9eb8-6c4307ca80d8",
   "metadata": {},
   "outputs": [
    {
     "name": "stdout",
     "output_type": "stream",
     "text": [
      "my_function_2 - El valor de my_global_variable es:  50\n"
     ]
    }
   ],
   "source": [
    "my_function_2()"
   ]
  },
  {
   "cell_type": "code",
   "execution_count": 66,
   "id": "b1e54af7-ed9d-4215-b6b8-617f36706a30",
   "metadata": {},
   "outputs": [],
   "source": [
    "# Preferencia al valor local y después al global\n",
    "my_variable = 50 # Global\n",
    "\n",
    "def my_function_1():\n",
    "    my_variable = 10 # Local\n",
    "    print(\"my_function_1 - El valor de my_variable es: \", my_variable)\n",
    "\n",
    "def my_function_2():\n",
    "    my_variable = 20 # Local\n",
    "    print(\"my_function_2 - El valor de my_variable es: \", my_variable)\n",
    "\n",
    "def my_function_3():\n",
    "    print(\"my_function_3 - El valor de my_variable es: \", my_variable)"
   ]
  },
  {
   "cell_type": "code",
   "execution_count": 68,
   "id": "a85e30a7-1346-4680-a028-4eaf09f96a00",
   "metadata": {},
   "outputs": [
    {
     "name": "stdout",
     "output_type": "stream",
     "text": [
      "my_function_1 - El valor de my_variable es:  10\n"
     ]
    }
   ],
   "source": [
    "my_function_1()"
   ]
  },
  {
   "cell_type": "code",
   "execution_count": 70,
   "id": "7564350e-2932-485b-a590-877e1b6a339f",
   "metadata": {},
   "outputs": [
    {
     "name": "stdout",
     "output_type": "stream",
     "text": [
      "my_function_2 - El valor de my_variable es:  20\n"
     ]
    }
   ],
   "source": [
    "my_function_2()"
   ]
  },
  {
   "cell_type": "code",
   "execution_count": 72,
   "id": "971e64a3-7910-4814-b706-e0683d6234c8",
   "metadata": {},
   "outputs": [
    {
     "name": "stdout",
     "output_type": "stream",
     "text": [
      "my_function_3 - El valor de my_variable es:  50\n"
     ]
    }
   ],
   "source": [
    "my_function_3()"
   ]
  },
  {
   "cell_type": "markdown",
   "id": "01e81840-c1bc-4149-b2b9-eae8532da21a",
   "metadata": {},
   "source": [
    "# Variables locales\n",
    "- Podemos usarlas dentro de una función\n",
    "- Podemos tener una restricción al acceder a una variable local desde otra función\n",
    "- No podemos usarlas durante todo el programa\n",
    "- El alcance y visibilidad se limita al interior de la función\n",
    "- Lo que dure la función será lo que dure el alcance de nuestra variable"
   ]
  },
  {
   "cell_type": "code",
   "execution_count": 75,
   "id": "82fbd803-141a-4e4c-a6e2-bb232d44206f",
   "metadata": {},
   "outputs": [],
   "source": [
    "# Variable global\n",
    "my_global_variable = 50\n",
    "\n",
    "def my_function_1():\n",
    "    pass\n",
    "\n",
    "def my_fuction_2():\n",
    "    pass"
   ]
  },
  {
   "cell_type": "code",
   "execution_count": 77,
   "id": "403827f1-d6bf-4aa5-abac-619fd2b353be",
   "metadata": {},
   "outputs": [],
   "source": [
    "# Variable local\n",
    "\n",
    "def my_function_1():\n",
    "    my_local_variable = 5\n",
    "\n",
    "def my_fuction_2():\n",
    "    my_local_variable = 35"
   ]
  },
  {
   "cell_type": "code",
   "execution_count": 95,
   "id": "8e859343-ed6c-4ead-8898-34c3e64447ec",
   "metadata": {},
   "outputs": [],
   "source": [
    "def my_function_1():\n",
    "    my_variable = 10 # Local\n",
    "    print(\"my_function_1 - El valor de my_variable es: \", my_variable)\n",
    "\n",
    "def my_function_2():\n",
    "    my_variable = 20 # Local\n",
    "    print(\"my_function_2 - El valor de my_variable es: \", my_variable)\n",
    "\n",
    "def my_function_3():\n",
    "    print(\"my_function_3 - El valor de my_variable3 es: \", my_variable3)"
   ]
  },
  {
   "cell_type": "code",
   "execution_count": 81,
   "id": "9068a5f9-a1d4-40c1-939a-5a5818556c7d",
   "metadata": {
    "scrolled": true
   },
   "outputs": [
    {
     "name": "stdout",
     "output_type": "stream",
     "text": [
      "my_function_1 - El valor de my_variable es:  10\n"
     ]
    }
   ],
   "source": [
    "my_function_1()"
   ]
  },
  {
   "cell_type": "code",
   "execution_count": 83,
   "id": "3dd38276-777e-4a76-b344-9287c06c9708",
   "metadata": {},
   "outputs": [
    {
     "name": "stdout",
     "output_type": "stream",
     "text": [
      "my_function_2 - El valor de my_variable es:  20\n"
     ]
    }
   ],
   "source": [
    "my_function_2()"
   ]
  },
  {
   "cell_type": "code",
   "execution_count": 99,
   "id": "7cbd49df-d82a-443b-9635-59cb8bfabcc6",
   "metadata": {},
   "outputs": [
    {
     "ename": "NameError",
     "evalue": "name 'my_variable3' is not defined",
     "output_type": "error",
     "traceback": [
      "\u001b[1;31m---------------------------------------------------------------------------\u001b[0m",
      "\u001b[1;31mNameError\u001b[0m                                 Traceback (most recent call last)",
      "Cell \u001b[1;32mIn[99], line 2\u001b[0m\n\u001b[0;32m      1\u001b[0m \u001b[38;5;66;03m# error\u001b[39;00m\n\u001b[1;32m----> 2\u001b[0m my_function_3()\n",
      "Cell \u001b[1;32mIn[95], line 10\u001b[0m, in \u001b[0;36mmy_function_3\u001b[1;34m()\u001b[0m\n\u001b[0;32m      9\u001b[0m \u001b[38;5;28;01mdef\u001b[39;00m \u001b[38;5;21mmy_function_3\u001b[39m():\n\u001b[1;32m---> 10\u001b[0m     \u001b[38;5;28mprint\u001b[39m(\u001b[38;5;124m\"\u001b[39m\u001b[38;5;124mmy_function_3 - El valor de my_variable3 es: \u001b[39m\u001b[38;5;124m\"\u001b[39m, my_variable3)\n",
      "\u001b[1;31mNameError\u001b[0m: name 'my_variable3' is not defined"
     ]
    }
   ],
   "source": [
    "# error\n",
    "my_function_3()"
   ]
  },
  {
   "cell_type": "markdown",
   "id": "130b5b62-4e62-4e35-a512-e02100efdf31",
   "metadata": {},
   "source": [
    "# Palabra reservada \"global\""
   ]
  },
  {
   "cell_type": "code",
   "execution_count": 110,
   "id": "f00fdc19-2fdb-4969-b345-72626a205213",
   "metadata": {},
   "outputs": [],
   "source": [
    "def my_function_1():\n",
    "    my_variable = 10 # Local\n",
    "    print(\"my_function_1 - El valor de my_variable es: \", my_variable)\n",
    "\n",
    "def my_function_2():\n",
    "    global my_variable # Global\n",
    "    my_variable = 20 \n",
    "    print(\"my_function_2 - El valor de my_variable es: \", my_variable)\n",
    "\n",
    "def my_function_3():\n",
    "    print(\"my_function_3 - El valor de my_variable es: \", my_variable)"
   ]
  },
  {
   "cell_type": "code",
   "execution_count": 104,
   "id": "aa460e40-1031-40a9-8179-fa3138da87e4",
   "metadata": {},
   "outputs": [
    {
     "name": "stdout",
     "output_type": "stream",
     "text": [
      "my_function_1 - El valor de my_variable es:  10\n"
     ]
    }
   ],
   "source": [
    "my_function_1()"
   ]
  },
  {
   "cell_type": "code",
   "execution_count": 106,
   "id": "1dc1f8df-6494-48dc-8e38-a71fdcdebc20",
   "metadata": {},
   "outputs": [
    {
     "name": "stdout",
     "output_type": "stream",
     "text": [
      "my_function_2 - El valor de my_variable es:  20\n"
     ]
    }
   ],
   "source": [
    "my_function_2()"
   ]
  },
  {
   "cell_type": "code",
   "execution_count": 108,
   "id": "71dac359-4213-4779-a024-d308467ae69a",
   "metadata": {},
   "outputs": [
    {
     "name": "stdout",
     "output_type": "stream",
     "text": [
      "my_function_3 - El valor de my_variable es:  20\n"
     ]
    }
   ],
   "source": [
    "my_function_3()"
   ]
  },
  {
   "cell_type": "code",
   "execution_count": 112,
   "id": "a8d2e5e2-46d5-40a1-b0e9-3d5640ccead5",
   "metadata": {},
   "outputs": [],
   "source": [
    "def my_function_1():\n",
    "    my_variable = 10 # Local\n",
    "    print(\"my_function_1 - El valor de my_variable es: \", my_variable)\n",
    "\n",
    "def my_function_2():\n",
    "    global a, b, c, d, e # Global\n",
    "    a = 10\n",
    "    b = 20\n",
    "    c = 30\n",
    "    d = 40\n",
    "    e = 50\n",
    "    print(\"my_function_2 - El valor de a es: \", a)\n",
    "    print(\"my_function_2 - El valor de b es: \", b)\n",
    "    print(\"my_function_2 - El valor de c es: \", c)\n",
    "    print(\"my_function_2 - El valor de d es: \", d)\n",
    "    print(\"my_function_2 - El valor de e es: \", e)\n",
    "\n",
    "def my_function_3():\n",
    "    print(\"my_function_2 - El valor de a es: \", a)\n",
    "    print(\"my_function_2 - El valor de b es: \", b)\n",
    "    print(\"my_function_2 - El valor de c es: \", c)\n",
    "    print(\"my_function_2 - El valor de d es: \", d)\n",
    "    print(\"my_function_2 - El valor de e es: \", e)"
   ]
  },
  {
   "cell_type": "code",
   "execution_count": 114,
   "id": "4736f160-3322-4f70-a121-b7e024a1adda",
   "metadata": {},
   "outputs": [
    {
     "name": "stdout",
     "output_type": "stream",
     "text": [
      "my_function_1 - El valor de my_variable es:  10\n"
     ]
    }
   ],
   "source": [
    "my_function_1()"
   ]
  },
  {
   "cell_type": "code",
   "execution_count": 116,
   "id": "2c4931a0-dc78-4c15-bf72-bdeee1eaa0be",
   "metadata": {},
   "outputs": [
    {
     "name": "stdout",
     "output_type": "stream",
     "text": [
      "my_function_2 - El valor de a es:  10\n",
      "my_function_2 - El valor de b es:  20\n",
      "my_function_2 - El valor de c es:  30\n",
      "my_function_2 - El valor de d es:  40\n",
      "my_function_2 - El valor de e es:  50\n"
     ]
    }
   ],
   "source": [
    "my_function_2()"
   ]
  },
  {
   "cell_type": "code",
   "execution_count": 118,
   "id": "24390e5a-0101-4592-a63c-8fe0daf9d20b",
   "metadata": {},
   "outputs": [
    {
     "name": "stdout",
     "output_type": "stream",
     "text": [
      "my_function_2 - El valor de a es:  10\n",
      "my_function_2 - El valor de b es:  20\n",
      "my_function_2 - El valor de c es:  30\n",
      "my_function_2 - El valor de d es:  40\n",
      "my_function_2 - El valor de e es:  50\n"
     ]
    }
   ],
   "source": [
    "my_function_3()"
   ]
  },
  {
   "cell_type": "markdown",
   "id": "42d7c474-7ee5-4e9d-942d-a0663463e44a",
   "metadata": {},
   "source": [
    "# Tipos de enteros\n",
    "- Forma decimal\n",
    "- Forma binaria\n",
    "- Forma octal\n",
    "- Forma hexadecimal"
   ]
  },
  {
   "cell_type": "markdown",
   "id": "d2dd87e6-dbcd-424f-a934-18984fbd4060",
   "metadata": {},
   "source": [
    "# Forma decimal"
   ]
  },
  {
   "cell_type": "code",
   "execution_count": 122,
   "id": "ed2836c2-6496-4a69-b069-feae3c2f2381",
   "metadata": {},
   "outputs": [
    {
     "name": "stdout",
     "output_type": "stream",
     "text": [
      "El valor de my_decimal_number es:  55\n"
     ]
    }
   ],
   "source": [
    "my_decimal_number = 55\n",
    "print(\"El valor de my_decimal_number es: \", my_decimal_number)"
   ]
  },
  {
   "cell_type": "code",
   "execution_count": 126,
   "id": "c95d938f-dde1-4b5b-a30b-d903989a7fb7",
   "metadata": {},
   "outputs": [
    {
     "ename": "SyntaxError",
     "evalue": "invalid decimal literal (1200981838.py, line 2)",
     "output_type": "error",
     "traceback": [
      "\u001b[1;36m  Cell \u001b[1;32mIn[126], line 2\u001b[1;36m\u001b[0m\n\u001b[1;33m    my_decimal_number = 55d\u001b[0m\n\u001b[1;37m                         ^\u001b[0m\n\u001b[1;31mSyntaxError\u001b[0m\u001b[1;31m:\u001b[0m invalid decimal literal\n"
     ]
    }
   ],
   "source": [
    "# error\n",
    "my_decimal_number = 55d\n",
    "print(\"El valor de my_decimal_number es: \", my_decimal_number)"
   ]
  },
  {
   "cell_type": "code",
   "execution_count": 128,
   "id": "58557e67-5b8a-4b20-8077-e65ecba07b79",
   "metadata": {},
   "outputs": [
    {
     "ename": "SyntaxError",
     "evalue": "invalid syntax (4233724529.py, line 1)",
     "output_type": "error",
     "traceback": [
      "\u001b[1;36m  Cell \u001b[1;32mIn[128], line 1\u001b[1;36m\u001b[0m\n\u001b[1;33m    my_decimal_number = 55@\u001b[0m\n\u001b[1;37m                           ^\u001b[0m\n\u001b[1;31mSyntaxError\u001b[0m\u001b[1;31m:\u001b[0m invalid syntax\n"
     ]
    }
   ],
   "source": [
    "my_decimal_number = 55@\n",
    "print(\"El valor de my_decimal_number es: \", my_decimal_number)"
   ]
  },
  {
   "cell_type": "markdown",
   "id": "0b56921f-95e3-47f2-96cf-5c7cd089e71d",
   "metadata": {},
   "source": [
    "# Forma binaria\n",
    "- Código organizado en bytes\n",
    "- Lenguaje binario\n",
    "- Lenguaje de máquinas (1 y 0)\n",
    "\n",
    "### Valor base: 2\n",
    "\n",
    "- Solamente acepta dos dígitos (1 y 0)\n",
    "- Usamos el prefijo '0b' ó '0B'"
   ]
  },
  {
   "cell_type": "code",
   "execution_count": 137,
   "id": "73f596f4-f21b-47b2-8e1d-8bac4ff65279",
   "metadata": {},
   "outputs": [
    {
     "name": "stdout",
     "output_type": "stream",
     "text": [
      "El valor de my_decimal_number es:  11\n"
     ]
    }
   ],
   "source": [
    "my_decimal_number = 11\n",
    "print(\"El valor de my_decimal_number es: \", my_decimal_number)"
   ]
  },
  {
   "cell_type": "code",
   "execution_count": 133,
   "id": "73a04ffa-822e-4085-94d0-4a2cdec88564",
   "metadata": {},
   "outputs": [
    {
     "name": "stdout",
     "output_type": "stream",
     "text": [
      "El valor de my_binary_number es:  3\n"
     ]
    }
   ],
   "source": [
    "my_binary_number = 0b11 # 1*2**1 + 1*2**0\n",
    "print(\"El valor de my_binary_number es: \", my_binary_number)"
   ]
  },
  {
   "cell_type": "code",
   "execution_count": 139,
   "id": "cfee1a90-47ad-4508-ab88-5d1448af131e",
   "metadata": {},
   "outputs": [
    {
     "name": "stdout",
     "output_type": "stream",
     "text": [
      "El valor de my_decimal_number es:  111\n"
     ]
    }
   ],
   "source": [
    "my_decimal_number = 111\n",
    "print(\"El valor de my_decimal_number es: \", my_decimal_number)"
   ]
  },
  {
   "cell_type": "code",
   "execution_count": 141,
   "id": "a7b8180b-0a77-4382-afc2-911fe7195ff4",
   "metadata": {},
   "outputs": [
    {
     "name": "stdout",
     "output_type": "stream",
     "text": [
      "El valor de my_binary_number es:  7\n"
     ]
    }
   ],
   "source": [
    "my_binary_number = 0B111 # 1*2**2 + 1*2**1 + 1*2**0\n",
    "print(\"El valor de my_binary_number es: \", my_binary_number)"
   ]
  },
  {
   "cell_type": "markdown",
   "id": "a89c69c8-092e-4b5d-b167-1b93a792c166",
   "metadata": {},
   "source": [
    "# Forma octal\n",
    "\n",
    "### Valor base 8\n",
    "\n",
    "- Sólo acepta dígitos del 0 al 7\n",
    "- Usamos el prefijo '0o' ó '0O'"
   ]
  },
  {
   "cell_type": "code",
   "execution_count": 145,
   "id": "167e0b94-6311-418a-9919-b750434857af",
   "metadata": {},
   "outputs": [
    {
     "name": "stdout",
     "output_type": "stream",
     "text": [
      "El valor de my_decimal_number es:  17\n"
     ]
    }
   ],
   "source": [
    "my_decimal_number = 17\n",
    "print(\"El valor de my_decimal_number es: \", my_decimal_number)"
   ]
  },
  {
   "cell_type": "code",
   "execution_count": 149,
   "id": "4b48bd94-abf5-4c6d-b283-64af711f5fe2",
   "metadata": {},
   "outputs": [
    {
     "name": "stdout",
     "output_type": "stream",
     "text": [
      "El valor de my_octal_number es:  15\n"
     ]
    }
   ],
   "source": [
    "my_octal_number = 0o17 # 1*8**1 + 7*8**0\n",
    "print(\"El valor de my_octal_number es: \", my_octal_number)"
   ]
  },
  {
   "cell_type": "code",
   "execution_count": 151,
   "id": "30fe4d3c-eaf9-4346-8e7d-30221f36bbeb",
   "metadata": {},
   "outputs": [
    {
     "name": "stdout",
     "output_type": "stream",
     "text": [
      "El valor de my_decimal_number es:  153\n"
     ]
    }
   ],
   "source": [
    "my_decimal_number = 153\n",
    "print(\"El valor de my_decimal_number es: \", my_decimal_number)"
   ]
  },
  {
   "cell_type": "code",
   "execution_count": 155,
   "id": "279d886d-c428-4ff5-9a14-e3820360bf3b",
   "metadata": {},
   "outputs": [
    {
     "name": "stdout",
     "output_type": "stream",
     "text": [
      "El valor de my_octal_number es:  107\n"
     ]
    }
   ],
   "source": [
    "my_octal_number = 0O153 # 1*8**2 + 5*8**1 + 3*8**0\n",
    "print(\"El valor de my_octal_number es: \", my_octal_number)"
   ]
  },
  {
   "cell_type": "markdown",
   "id": "65cd76af-9570-4784-afb5-0255b4a950ac",
   "metadata": {},
   "source": [
    "# Forma hexadecimal\n",
    "### Valor base: 16\n",
    "- Acepta dígitos del 0 al 9\n",
    "- Acepta letras de la 'a/A' a la 'f/F'\n",
    "- Usamos el prefijo '0x' ó '0X'\n",
    "- 0\n",
    "- 1\n",
    "- 2\n",
    "- 3\n",
    "- 4\n",
    "- 5\n",
    "- 6\n",
    "- 7\n",
    "- 8\n",
    "- 9\n",
    "- A = 10\n",
    "- B = 11\n",
    "- C = 12\n",
    "- D = 13\n",
    "- E = 14\n",
    "- F = 15 "
   ]
  },
  {
   "cell_type": "code",
   "execution_count": 159,
   "id": "53032889-2763-4f8a-ab2b-355ed4e4c5d5",
   "metadata": {},
   "outputs": [
    {
     "name": "stdout",
     "output_type": "stream",
     "text": [
      "El valor de my_decimal_number es:  17\n"
     ]
    }
   ],
   "source": [
    "my_decimal_number = 17\n",
    "print(\"El valor de my_decimal_number es: \", my_decimal_number)"
   ]
  },
  {
   "cell_type": "code",
   "execution_count": 161,
   "id": "d8e8eb6d-f16b-4881-8b78-8b137c85d3a6",
   "metadata": {},
   "outputs": [
    {
     "name": "stdout",
     "output_type": "stream",
     "text": [
      "El valor de my_hex_number es:  23\n"
     ]
    }
   ],
   "source": [
    "my_hex_number = 0x17 # 1*16**1 + 7*16**0\n",
    "print(\"El valor de my_hex_number es: \", my_hex_number)"
   ]
  },
  {
   "cell_type": "code",
   "execution_count": 163,
   "id": "936a1fcc-fac4-4ffe-95b8-2454a2fd726c",
   "metadata": {},
   "outputs": [
    {
     "name": "stdout",
     "output_type": "stream",
     "text": [
      "El valor de my_hex_number es:  28\n"
     ]
    }
   ],
   "source": [
    "my_hex_number = 0x1c # 1*16**1 + 12*16**0\n",
    "print(\"El valor de my_hex_number es: \", my_hex_number)"
   ]
  },
  {
   "cell_type": "code",
   "execution_count": null,
   "id": "6b09d7f5-daf1-4e39-870c-927ec24a39a0",
   "metadata": {},
   "outputs": [],
   "source": []
  }
 ],
 "metadata": {
  "kernelspec": {
   "display_name": "Python 3 (ipykernel)",
   "language": "python",
   "name": "python3"
  },
  "language_info": {
   "codemirror_mode": {
    "name": "ipython",
    "version": 3
   },
   "file_extension": ".py",
   "mimetype": "text/x-python",
   "name": "python",
   "nbconvert_exporter": "python",
   "pygments_lexer": "ipython3",
   "version": "3.11.5"
  }
 },
 "nbformat": 4,
 "nbformat_minor": 5
}
