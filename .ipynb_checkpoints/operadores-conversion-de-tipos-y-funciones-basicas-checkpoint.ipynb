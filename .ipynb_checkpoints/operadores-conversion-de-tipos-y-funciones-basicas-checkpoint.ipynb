{
 "cells": [
  {
   "cell_type": "markdown",
   "id": "8fdb7dc4-30c2-42a0-97c0-6d7593e0d62c",
   "metadata": {},
   "source": [
    "# Operadores y tipos de operadores\n",
    "¿Qué son los operadores?\n",
    "- Son un conjunto de símbolos para un lenguaje de programación\n",
    "- Pueden decirle al compilador ó intérprete que ejecute ciertas acciones para producir un resultado final\n",
    "- Pueden ser usados para aplicar operaciones en variables ó valores\n",
    "- Pueden ser clasificados según su tipo (aritméticos, relacionales, de asignación, lógicos, afiliación y de identidad) "
   ]
  },
  {
   "cell_type": "markdown",
   "id": "e970ac01-7d8c-47b2-8085-8e953798dba2",
   "metadata": {},
   "source": [
    "### Tipos de operadores\n",
    "- Aritmeticos\n",
    "- Relacionales\n",
    "- De asignación\n",
    "- Lógicos\n",
    "- De afiliación\n",
    "- De identidad"
   ]
  },
  {
   "cell_type": "markdown",
   "id": "6031e1fc-5af9-4d0c-9714-fd1d0290e736",
   "metadata": {},
   "source": [
    "### Operadores aritméticos\n",
    "- \"+\": suma\n",
    "- \"-\" : resta\n",
    "- \"*\": multiplicación\n",
    "- \"/\": división\n",
    "- \"//\": división con redondeo hacia abajo\n",
    "- \"**\": exponente"
   ]
  },
  {
   "cell_type": "code",
   "execution_count": 6,
   "id": "3979ec94-b5df-42e1-be25-9b418434fc50",
   "metadata": {},
   "outputs": [
    {
     "name": "stdout",
     "output_type": "stream",
     "text": [
      "El resultado de num_1+num_2 es:  800\n"
     ]
    }
   ],
   "source": [
    "# \"+\": suma\n",
    "num_1 = 500\n",
    "num_2 = 300\n",
    "print(\"El resultado de num_1+num_2 es: \", num_1+num_2)"
   ]
  },
  {
   "cell_type": "code",
   "execution_count": 8,
   "id": "b0c251e5-c90f-4094-9f2b-25412a028bc9",
   "metadata": {},
   "outputs": [
    {
     "name": "stdout",
     "output_type": "stream",
     "text": [
      "El resultado de num_1-num_2 es:  200\n"
     ]
    }
   ],
   "source": [
    "# \"-\": resta\n",
    "num_1 = 500\n",
    "num_2 = 300\n",
    "print(\"El resultado de num_1-num_2 es: \", num_1-num_2)"
   ]
  },
  {
   "cell_type": "code",
   "execution_count": 10,
   "id": "ac4f4674-c6b6-4925-a1f6-433d925da1c6",
   "metadata": {},
   "outputs": [
    {
     "name": "stdout",
     "output_type": "stream",
     "text": [
      "El resultado de num_1*num_2 es:  150000\n"
     ]
    }
   ],
   "source": [
    "# \"*\": multiplicación\n",
    "num_1 = 500\n",
    "num_2 = 300\n",
    "print(\"El resultado de num_1*num_2 es: \", num_1*num_2)"
   ]
  },
  {
   "cell_type": "code",
   "execution_count": 14,
   "id": "d00843c1-1c43-464f-a2d7-33b14284623c",
   "metadata": {},
   "outputs": [
    {
     "name": "stdout",
     "output_type": "stream",
     "text": [
      "El resultado de num_1/num_2 es:  2.0\n"
     ]
    }
   ],
   "source": [
    "# \"/\": división\n",
    "num_1 = 500\n",
    "num_2 = 250\n",
    "print(\"El resultado de num_1/num_2 es: \", num_1/num_2)"
   ]
  },
  {
   "cell_type": "code",
   "execution_count": 16,
   "id": "a6fd1169-ecda-4665-9a46-6978439f0e13",
   "metadata": {},
   "outputs": [
    {
     "name": "stdout",
     "output_type": "stream",
     "text": [
      "El resultado de num_1//num_2 es:  1\n"
     ]
    }
   ],
   "source": [
    "# \"//\": división con redondeo hacia abajo, la parte entera del resultado\n",
    "num_1 = 500\n",
    "num_2 = 300\n",
    "print(\"El resultado de num_1//num_2 es: \", num_1//num_2)"
   ]
  },
  {
   "cell_type": "code",
   "execution_count": 18,
   "id": "24a00a0d-ed3d-4dc6-a5ad-40961b652971",
   "metadata": {},
   "outputs": [
    {
     "name": "stdout",
     "output_type": "stream",
     "text": [
      "El resultado de num_1//num_2 es:  0\n"
     ]
    }
   ],
   "source": [
    "# \"//\": división con redondeo hacia abajo, la parte entera del resultado\n",
    "num_1 = 200\n",
    "num_2 = 900\n",
    "print(\"El resultado de num_1//num_2 es: \", num_1//num_2)"
   ]
  },
  {
   "cell_type": "code",
   "execution_count": 20,
   "id": "7c75c0c0-7feb-4429-97fc-eba7e134077e",
   "metadata": {},
   "outputs": [
    {
     "name": "stdout",
     "output_type": "stream",
     "text": [
      "El resultado de num_1**num_2 es:  32\n"
     ]
    }
   ],
   "source": [
    "# \"**\": exponente (elevar un exponente)\n",
    "num_1 = 2\n",
    "num_2 = 5\n",
    "print(\"El resultado de num_1**num_2 es: \", num_1**num_2)"
   ]
  },
  {
   "cell_type": "code",
   "execution_count": 22,
   "id": "83420870-4566-4758-ba5d-dd3c51d31787",
   "metadata": {},
   "outputs": [
    {
     "name": "stdout",
     "output_type": "stream",
     "text": [
      "El resultado de num_1**num_2 es:  27\n"
     ]
    }
   ],
   "source": [
    "# \"**\": exponente (elevar un exponente)\n",
    "num_1 = 3\n",
    "num_2 = 3\n",
    "print(\"El resultado de num_1**num_2 es: \", num_1**num_2)"
   ]
  },
  {
   "cell_type": "markdown",
   "id": "beee820e-1f57-4c67-b7d7-e5582d10c429",
   "metadata": {},
   "source": [
    "### Operadores relacionales"
   ]
  },
  {
   "cell_type": "markdown",
   "id": "b424b5c0-f303-48b7-8e7c-cd6de9ceedfe",
   "metadata": {},
   "source": [
    "¿Qué son los operadores relacionales?\n",
    "- Son también conocidos como operadores de comparación\n",
    "- Regresan un valor booleano (Verdadero ó Falso)\n",
    "- En python, son usados para comparar o relacionar valores\n",
    "- Verdadero/True, es el resultado cuando la condición es exitosa\n",
    "- Falso/False, es el resultado cuando la condición no se cumple\n",
    "- Estos operadores se encargan de las operaciones de comparación"
   ]
  },
  {
   "cell_type": "markdown",
   "id": "cbf402b6-c406-436b-96fb-cbee80e9ceb7",
   "metadata": {},
   "source": [
    "Tipos de operadores relacionales\n",
    "- \"==\": igual a\n",
    "- \"!=\": diferente a\n",
    "- \">\": mayor que\n",
    "- \"<\": menor que\n",
    "- \"<=\": menor ó igual que"
   ]
  },
  {
   "cell_type": "markdown",
   "id": "cab0fb14-e6da-4d58-8f1e-0a0d5e310901",
   "metadata": {},
   "source": [
    "### \"==\": igual a "
   ]
  },
  {
   "cell_type": "code",
   "execution_count": 37,
   "id": "a2fdca7f-c2fb-4039-9ed6-215cca5316a0",
   "metadata": {},
   "outputs": [
    {
     "name": "stdout",
     "output_type": "stream",
     "text": [
      "El resultado de num_1==num_2 es:  False\n"
     ]
    }
   ],
   "source": [
    "num_1 = 570 # asignación\n",
    "num_2 = 420\n",
    "print(\"El resultado de num_1==num_2 es: \", num_1==num_2)"
   ]
  },
  {
   "cell_type": "code",
   "execution_count": 65,
   "id": "47778334-e9a9-4eaf-a68a-f398317ed08a",
   "metadata": {},
   "outputs": [
    {
     "name": "stdout",
     "output_type": "stream",
     "text": [
      "El resultado de num_1==num_2 es:  True\n"
     ]
    }
   ],
   "source": [
    "num_1 = 570 # asignación\n",
    "num_2 = 570\n",
    "print(\"El resultado de num_1==num_2 es: \", num_1==num_2)"
   ]
  },
  {
   "cell_type": "code",
   "execution_count": 39,
   "id": "39e18395-8c32-4285-bec7-ddeb942a462d",
   "metadata": {},
   "outputs": [
    {
     "name": "stdout",
     "output_type": "stream",
     "text": [
      "El resultado de str_1==str_2 es:  True\n"
     ]
    }
   ],
   "source": [
    "str_1 = \"Backend python\" # asignación\n",
    "str_2 = \"Backend python\"\n",
    "print(\"El resultado de str_1==str_2 es: \", str_1==str_2)"
   ]
  },
  {
   "cell_type": "code",
   "execution_count": 41,
   "id": "2f3e5eeb-b2b5-4774-af22-ad99f0a8ce73",
   "metadata": {},
   "outputs": [
    {
     "name": "stdout",
     "output_type": "stream",
     "text": [
      "El resultado de str_1==str_2 es:  False\n"
     ]
    }
   ],
   "source": [
    "str_1 = \"Backend Python\" # asignación\n",
    "str_2 = \"Backend python\"\n",
    "print(\"El resultado de str_1==str_2 es: \", str_1==str_2)"
   ]
  },
  {
   "cell_type": "code",
   "execution_count": 43,
   "id": "eaee000d-85c1-4042-aaff-d90d0e2138cd",
   "metadata": {},
   "outputs": [],
   "source": [
    "### \"!=\": diferente a"
   ]
  },
  {
   "cell_type": "code",
   "execution_count": 67,
   "id": "97f69af3-3fc2-404c-9841-8a72e8234f2c",
   "metadata": {},
   "outputs": [
    {
     "name": "stdout",
     "output_type": "stream",
     "text": [
      "El resultado de num_1!=num_2 es:  True\n"
     ]
    }
   ],
   "source": [
    "num_1 = 570 # asignación\n",
    "num_2 = 420\n",
    "print(\"El resultado de num_1!=num_2 es: \", num_1!=num_2)"
   ]
  },
  {
   "cell_type": "code",
   "execution_count": 69,
   "id": "5a4449b4-e13a-417b-9331-3fe2f6de5268",
   "metadata": {},
   "outputs": [
    {
     "name": "stdout",
     "output_type": "stream",
     "text": [
      "El resultado de num_1!=num_2 es:  False\n"
     ]
    }
   ],
   "source": [
    "num_1 = 570 # asignación\n",
    "num_2 = 570\n",
    "print(\"El resultado de num_1!=num_2 es: \", num_1!=num_2)"
   ]
  },
  {
   "cell_type": "code",
   "execution_count": 49,
   "id": "d7937cb9-f691-4c2f-97a1-c10856ab5e3d",
   "metadata": {},
   "outputs": [
    {
     "name": "stdout",
     "output_type": "stream",
     "text": [
      "El resultado de str_1!=str_2 es:  False\n"
     ]
    }
   ],
   "source": [
    "str_1 = \"Backend python\" # asignación\n",
    "str_2 = \"Backend python\"\n",
    "print(\"El resultado de str_1!=str_2 es: \", str_1!=str_2)"
   ]
  },
  {
   "cell_type": "code",
   "execution_count": 53,
   "id": "c10c0045-5cb0-4b5f-84dd-370b998ea54d",
   "metadata": {},
   "outputs": [
    {
     "name": "stdout",
     "output_type": "stream",
     "text": [
      "El resultado de str_1!=str_2 es:  True\n"
     ]
    }
   ],
   "source": [
    "str_1 = \"Backend Python\" # asignación\n",
    "str_2 = \"Backend python\"\n",
    "print(\"El resultado de str_1!=str_2 es: \", str_1!=str_2)"
   ]
  },
  {
   "cell_type": "markdown",
   "id": "da7f7719-bddf-4ea2-a6af-4992030de10c",
   "metadata": {},
   "source": [
    "### \">\": mayor que"
   ]
  },
  {
   "cell_type": "code",
   "execution_count": 58,
   "id": "e01c3207-7193-46c9-b92d-8a48acc315b3",
   "metadata": {},
   "outputs": [
    {
     "name": "stdout",
     "output_type": "stream",
     "text": [
      "El resultado de num_1>num==2 es:  True\n"
     ]
    }
   ],
   "source": [
    "num_1 = 570 # asignación\n",
    "num_2 = 420\n",
    "print(\"El resultado de num_1>num_2 es: \", num_1>num_2)"
   ]
  },
  {
   "cell_type": "code",
   "execution_count": 71,
   "id": "51f079fd-84a9-43df-941f-02af6681b8dd",
   "metadata": {},
   "outputs": [
    {
     "name": "stdout",
     "output_type": "stream",
     "text": [
      "El resultado de num_1>num_2 es:  False\n"
     ]
    }
   ],
   "source": [
    "num_1 = 570 # asignación\n",
    "num_2 = 570\n",
    "print(\"El resultado de num_1>num_2 es: \", num_1>num_2)"
   ]
  },
  {
   "cell_type": "code",
   "execution_count": 73,
   "id": "6821d020-0bc0-4cf6-901c-4fdffc22b523",
   "metadata": {},
   "outputs": [
    {
     "name": "stdout",
     "output_type": "stream",
     "text": [
      "El resultado de num_1>num_2 es:  False\n"
     ]
    }
   ],
   "source": [
    "num_1 = 570 # asignación\n",
    "num_2 = 890\n",
    "print(\"El resultado de num_1>num_2 es: \", num_1>num_2)"
   ]
  },
  {
   "cell_type": "markdown",
   "id": "18c042a5-4f40-4229-9e44-54a8de1387ad",
   "metadata": {},
   "source": [
    "# \">=\": mayor ó igual que"
   ]
  },
  {
   "cell_type": "code",
   "execution_count": 75,
   "id": "875a2313-7b01-4016-90ba-148280621c0e",
   "metadata": {},
   "outputs": [
    {
     "name": "stdout",
     "output_type": "stream",
     "text": [
      "El resultado de num_1>=num_2 es:  True\n"
     ]
    }
   ],
   "source": [
    "num_1 = 570 # asignación\n",
    "num_2 = 420\n",
    "print(\"El resultado de num_1>=num_2 es: \", num_1>=num_2)"
   ]
  },
  {
   "cell_type": "code",
   "execution_count": 77,
   "id": "5ef8f239-46f1-4334-bad2-771831eb9ec1",
   "metadata": {},
   "outputs": [
    {
     "name": "stdout",
     "output_type": "stream",
     "text": [
      "El resultado de num_1>=num_2 es:  True\n"
     ]
    }
   ],
   "source": [
    "num_1 = 570 # asignación\n",
    "num_2 = 570\n",
    "print(\"El resultado de num_1>=num_2 es: \", num_1>=num_2)"
   ]
  },
  {
   "cell_type": "code",
   "execution_count": 79,
   "id": "77de7a8c-7d26-4017-85f4-7d6b5b9492e7",
   "metadata": {},
   "outputs": [
    {
     "name": "stdout",
     "output_type": "stream",
     "text": [
      "El resultado de num_1>=num_2 es:  False\n"
     ]
    }
   ],
   "source": [
    "num_1 = 570 # asignación\n",
    "num_2 = 890\n",
    "print(\"El resultado de num_1>=num_2 es: \", num_1>=num_2)"
   ]
  },
  {
   "cell_type": "markdown",
   "id": "7c74604d-1fbb-4835-9366-07fcda72df5f",
   "metadata": {},
   "source": [
    "### \"<\": menor que"
   ]
  },
  {
   "cell_type": "code",
   "execution_count": 82,
   "id": "5bff4441-ef68-4417-836b-395264354c15",
   "metadata": {},
   "outputs": [
    {
     "name": "stdout",
     "output_type": "stream",
     "text": [
      "El resultado de num_1<num_2 es:  False\n"
     ]
    }
   ],
   "source": [
    "num_1 = 570 # asignación\n",
    "num_2 = 420\n",
    "print(\"El resultado de num_1<num_2 es: \", num_1<num_2)"
   ]
  },
  {
   "cell_type": "code",
   "execution_count": 84,
   "id": "3070a657-c243-4cc5-bcf5-4dcafa6091b9",
   "metadata": {},
   "outputs": [
    {
     "name": "stdout",
     "output_type": "stream",
     "text": [
      "El resultado de num_1<num_2 es:  False\n"
     ]
    }
   ],
   "source": [
    "num_1 = 570 # asignación\n",
    "num_2 = 570\n",
    "print(\"El resultado de num_1<num_2 es: \", num_1<num_2)"
   ]
  },
  {
   "cell_type": "code",
   "execution_count": 86,
   "id": "540e4fca-0b84-4646-a25f-636b701d5b95",
   "metadata": {},
   "outputs": [
    {
     "name": "stdout",
     "output_type": "stream",
     "text": [
      "El resultado de num_1<num_2 es:  True\n"
     ]
    }
   ],
   "source": [
    "num_1 = 570 # asignación\n",
    "num_2 = 890\n",
    "print(\"El resultado de num_1<num_2 es: \", num_1<num_2)"
   ]
  },
  {
   "cell_type": "markdown",
   "id": "c5d9fce8-6718-4013-98e3-545b6a3c4df7",
   "metadata": {},
   "source": [
    "### \"<=\": menor ó igual que"
   ]
  },
  {
   "cell_type": "code",
   "execution_count": 89,
   "id": "1593a6b8-d4f6-4167-beaa-767f86073114",
   "metadata": {},
   "outputs": [
    {
     "name": "stdout",
     "output_type": "stream",
     "text": [
      "El resultado de num_1<=num_2 es:  False\n"
     ]
    }
   ],
   "source": [
    "num_1 = 570 # asignación\n",
    "num_2 = 420\n",
    "print(\"El resultado de num_1<=num_2 es: \", num_1<=num_2)"
   ]
  },
  {
   "cell_type": "code",
   "execution_count": 93,
   "id": "df6b0b0f-32e4-48e5-a29f-c1b496ad67b7",
   "metadata": {},
   "outputs": [
    {
     "name": "stdout",
     "output_type": "stream",
     "text": [
      "El resultado de num_1<=num_2 es:  True\n"
     ]
    }
   ],
   "source": [
    "num_1 = 570 # asignación\n",
    "num_2 = 570\n",
    "print(\"El resultado de num_1<=num_2 es: \", num_1<=num_2)"
   ]
  },
  {
   "cell_type": "code",
   "execution_count": 95,
   "id": "cfcf5b74-6d2b-43c1-bb87-c25b4423783a",
   "metadata": {},
   "outputs": [
    {
     "name": "stdout",
     "output_type": "stream",
     "text": [
      "El resultado de num_1<=num_2 es:  True\n"
     ]
    }
   ],
   "source": [
    "num_1 = 570 # asignación\n",
    "num_2 = 890\n",
    "print(\"El resultado de num_1<=num_2 es: \", num_1<=num_2)"
   ]
  },
  {
   "cell_type": "markdown",
   "id": "2423584f-444c-4fd6-b4ab-3084a6890113",
   "metadata": {},
   "source": [
    "### Operadores de asignación"
   ]
  },
  {
   "cell_type": "markdown",
   "id": "eb669330-de2a-4cc0-97d4-382d1c0b6db0",
   "metadata": {},
   "source": [
    "¿Qué son los operadoores de asinación?\n",
    "- En python son utilizados para asignar valores a variables\n",
    "- Incluyen al operador de asignación que es el signo de (=)"
   ]
  },
  {
   "cell_type": "markdown",
   "id": "ad907103-bffc-493f-bc56-1ebb2999cd47",
   "metadata": {},
   "source": [
    "### Tipos de operadores de asignación:\n",
    "- \"=\": Operador de asignación\n",
    "- \"+=\": Suamar y asignar\n",
    "- \"-=\": Restar y asignar\n",
    "- \"*=\": Multiplicar y asignar\n",
    "- \"/=\": Dividir y asignar\n",
    "- \"//\": Dividir con redondeo hacia abajo y asignar\n",
    "- \"%=\": Módulo y asignar\n",
    "- \"**=\": Exponente y asignar"
   ]
  },
  {
   "cell_type": "markdown",
   "id": "0097d985-878e-47ea-ae20-ebfaae2382f1",
   "metadata": {},
   "source": [
    "### \"=\": Operador de asignación"
   ]
  },
  {
   "cell_type": "code",
   "execution_count": 102,
   "id": "fa61e495-a4f7-4edd-a6ec-c872ebd244f1",
   "metadata": {},
   "outputs": [],
   "source": [
    "num_1=20\n",
    "num_2=3"
   ]
  },
  {
   "cell_type": "markdown",
   "id": "f67046e8-1365-4d48-9b0f-d1ab88248b9a",
   "metadata": {},
   "source": [
    "### \"+=\": Sumar y asignar"
   ]
  },
  {
   "cell_type": "code",
   "execution_count": 109,
   "id": "d42a6292-7fe2-4d7a-9801-954477078011",
   "metadata": {},
   "outputs": [
    {
     "name": "stdout",
     "output_type": "stream",
     "text": [
      "num_1 antes de la operación:  20\n",
      "num_1 después de la operación:  23\n"
     ]
    }
   ],
   "source": [
    "num_1 = 20\n",
    "num_2 = 3\n",
    "print(\"num_1 antes de la operación: \", num_1)\n",
    "num_1 += num_2 # num_1 = num_1 + num_2\n",
    "print(\"num_1 después de la operación: \", num_1)"
   ]
  },
  {
   "cell_type": "markdown",
   "id": "150736a4-e53c-4c0d-a50d-38fbf4a776b4",
   "metadata": {},
   "source": [
    "### \"-=:\" Restar y asignar"
   ]
  },
  {
   "cell_type": "code",
   "execution_count": 111,
   "id": "04264426-2056-4ab4-a839-88adc76d8789",
   "metadata": {},
   "outputs": [
    {
     "name": "stdout",
     "output_type": "stream",
     "text": [
      "num_1 antes de la operación:  20\n",
      "num_1 después de la operación:  17\n"
     ]
    }
   ],
   "source": [
    "num_1 = 20\n",
    "num_2 = 3\n",
    "print(\"num_1 antes de la operación: \", num_1)\n",
    "num_1 -= num_2 # num_1 = num_1 - num_2\n",
    "print(\"num_1 después de la operación: \", num_1)"
   ]
  },
  {
   "cell_type": "markdown",
   "id": "e0036bbe-41d7-4510-9be7-3e2bf95defce",
   "metadata": {},
   "source": [
    "### \"-=:\" Multiplicar y asignar"
   ]
  },
  {
   "cell_type": "code",
   "execution_count": 122,
   "id": "bbfacc7d-847c-406f-af9d-3ee7eb04c181",
   "metadata": {},
   "outputs": [
    {
     "name": "stdout",
     "output_type": "stream",
     "text": [
      "num_1 antes de la operación:  20\n",
      "num_1 después de la operación:  60\n"
     ]
    }
   ],
   "source": [
    "num_1 = 20\n",
    "num_2 = 3\n",
    "print(\"num_1 antes de la operación: \", num_1)\n",
    "num_1 *= num_2 # num_1 = num_1 * num_2\n",
    "print(\"num_1 después de la operación: \", num_1)"
   ]
  },
  {
   "cell_type": "markdown",
   "id": "57961c75-0cbb-459b-b99a-38650d86d798",
   "metadata": {},
   "source": [
    "### \"/=\": Dividir y asignar"
   ]
  },
  {
   "cell_type": "code",
   "execution_count": 124,
   "id": "7e5667e3-fa84-4588-a1dd-a55db4ab41a4",
   "metadata": {},
   "outputs": [
    {
     "name": "stdout",
     "output_type": "stream",
     "text": [
      "num_1 antes de la operación:  20\n",
      "num_1 después de la operación:  6.666666666666667\n"
     ]
    }
   ],
   "source": [
    "num_1 = 20\n",
    "num_2 = 3\n",
    "print(\"num_1 antes de la operación: \", num_1)\n",
    "num_1 /= num_2 # num_1 = num_1 / num_2\n",
    "print(\"num_1 después de la operación: \", num_1)"
   ]
  },
  {
   "cell_type": "markdown",
   "id": "3b280be2-7d61-4d65-94f7-a57332f62f85",
   "metadata": {},
   "source": [
    "### \"//\": Dividir con redondeo hacia abajo y asignar"
   ]
  },
  {
   "cell_type": "code",
   "execution_count": 127,
   "id": "db972b01-b57d-4c30-9836-142ecd90ed2b",
   "metadata": {},
   "outputs": [
    {
     "name": "stdout",
     "output_type": "stream",
     "text": [
      "num_1 antes de la operación:  20\n",
      "num_1 después de la operación:  6\n"
     ]
    }
   ],
   "source": [
    "num_1 = 20\n",
    "num_2 = 3\n",
    "print(\"num_1 antes de la operación: \", num_1)\n",
    "num_1 //= num_2 # num_1 = num_1 // num_2\n",
    "print(\"num_1 después de la operación: \", num_1)"
   ]
  },
  {
   "cell_type": "markdown",
   "id": "5bc0c221-570e-4bad-8ad1-577a1db9710e",
   "metadata": {},
   "source": [
    "### \"%=\": Módulo y asignar (Módulo - el número que queda después de haber dividido, residuo)"
   ]
  },
  {
   "cell_type": "code",
   "execution_count": 134,
   "id": "e90f996f-62c7-497c-9117-6ce8ee34fbdf",
   "metadata": {},
   "outputs": [
    {
     "name": "stdout",
     "output_type": "stream",
     "text": [
      "num_1 antes de la operación:  20\n",
      "num_1 después de la operación:  2\n"
     ]
    }
   ],
   "source": [
    "num_1 = 20\n",
    "num_2 = 3\n",
    "print(\"num_1 antes de la operación: \", num_1)\n",
    "num_1 %= num_2 # num_1 = num_1 % num_2\n",
    "print(\"num_1 después de la operación: \", num_1)"
   ]
  },
  {
   "cell_type": "markdown",
   "id": "d2e31b08-30b9-40d0-877f-3ff1f529736c",
   "metadata": {},
   "source": [
    "### \"**=\": Exponente y asignar"
   ]
  },
  {
   "cell_type": "code",
   "execution_count": 137,
   "id": "82efbe9a-1e23-4b10-bb92-62d1221f0cca",
   "metadata": {},
   "outputs": [
    {
     "name": "stdout",
     "output_type": "stream",
     "text": [
      "num_1 antes de la operación:  20\n",
      "num_1 después de la operación:  8000\n"
     ]
    }
   ],
   "source": [
    "num_1 = 20\n",
    "num_2 = 3\n",
    "print(\"num_1 antes de la operación: \", num_1)\n",
    "num_1 **= num_2 # num_1 = num_1 ** num_2\n",
    "print(\"num_1 después de la operación: \", num_1)"
   ]
  },
  {
   "cell_type": "code",
   "execution_count": 140,
   "id": "4ac0b4fe-4ece-40ef-ad9f-783f0e088d19",
   "metadata": {},
   "outputs": [],
   "source": [
    "### Operadores lógicos"
   ]
  },
  {
   "cell_type": "markdown",
   "id": "b7d4afd2-6810-40fe-be6e-a08653360a51",
   "metadata": {},
   "source": [
    "¿Qué son los operadores lógicos?\n",
    "- Son usados principalmente para declaraciones condicionales\n",
    "- Son indicadores estructurales\n",
    "- Además de lógicos se les conoce como conectores lógicos\n",
    "- Hay tres tipos de operadores lógicos:\n",
    "      -AND (Y) - Regresa True/Verdadero si ambas operaciones son verdaderas\n",
    "      - OR (O) - Regresa True/Verdadero si por lo menos una de las operaciones es verdadera\n",
    "      - NOT (lo opuesto) - Regresa True/False si la operación es False/Falso"
   ]
  },
  {
   "cell_type": "markdown",
   "id": "7c10b33e-7f45-4abf-8aca-796e78653d36",
   "metadata": {},
   "source": [
    "### AND (Y)\n",
    "### Todas las condiciones deben ser verdaderas"
   ]
  },
  {
   "cell_type": "code",
   "execution_count": 148,
   "id": "934a1bb3-c328-4156-9721-3fef2743899a",
   "metadata": {},
   "outputs": [
    {
     "name": "stdout",
     "output_type": "stream",
     "text": [
      "num_1<=num_2 and num_1!=num_2 True\n"
     ]
    }
   ],
   "source": [
    "num_1 = 11\n",
    "num_2 = 55\n",
    "# num_1<=num_2 True/Verdadero\n",
    "# num_1!=num_2 True/Verdadero\n",
    "print(\"num_1<=num_2 and num_1!=num_2\", num_1<=num_2 and num_1!=num_2 )"
   ]
  },
  {
   "cell_type": "code",
   "execution_count": 146,
   "id": "113a6482-8fa8-43fc-b5c8-c3e5afe63b4c",
   "metadata": {},
   "outputs": [
    {
     "name": "stdout",
     "output_type": "stream",
     "text": [
      "num_1<=num_2 and num_1!=num_2 False\n"
     ]
    }
   ],
   "source": [
    "num_1 = 11\n",
    "num_2 = 11\n",
    "# num_1<=num_2 True/Verdadero\n",
    "# num_1!=num_2 False/Falso\n",
    "print(\"num_1<=num_2 and num_1!=num_2\", num_1<=num_2 and num_1!=num_2 )"
   ]
  },
  {
   "cell_type": "markdown",
   "id": "9e01c2ee-b2c3-4271-9820-88e21b32fa78",
   "metadata": {},
   "source": [
    "### Or (o) Con una de las condiciones que se cumpla se regresa True/Verdadero"
   ]
  },
  {
   "cell_type": "code",
   "execution_count": 10,
   "id": "ba87e699-4111-4b61-a03e-38dc19688ff9",
   "metadata": {},
   "outputs": [
    {
     "name": "stdout",
     "output_type": "stream",
     "text": [
      "num_1<=num_2 or num_1!=num_2 True\n"
     ]
    }
   ],
   "source": [
    "num_1 = 11\n",
    "num_2 = 55\n",
    "# num_1<=num_2 True/Verdadero\n",
    "# num_1!=num_2 True/Verdadero\n",
    "print(\"num_1<=num_2 or num_1!=num_2\", num_1<=num_2 or num_1!=num_2 )"
   ]
  },
  {
   "cell_type": "code",
   "execution_count": 20,
   "id": "987a9784-c4a9-4c29-883b-48af49d7dc69",
   "metadata": {},
   "outputs": [
    {
     "name": "stdout",
     "output_type": "stream",
     "text": [
      "num_1<=num_2 or num_1!=num_2 True\n"
     ]
    }
   ],
   "source": [
    "num_1 = 11\n",
    "num_2 = 11\n",
    "# num_1<=num_2 True/Verdadero\n",
    "# num_1!=num_2 False/Falso\n",
    "print(\"num_1<=num_2 or num_1!=num_2\", num_1<=num_2 or num_1!=num_2)"
   ]
  },
  {
   "cell_type": "code",
   "execution_count": 24,
   "id": "8fd2777a-fb98-421d-aeb3-31b39fed4d4b",
   "metadata": {},
   "outputs": [
    {
     "name": "stdout",
     "output_type": "stream",
     "text": [
      "num_1<=num_2 or num_1!=num_2 or num_1>10 True\n"
     ]
    }
   ],
   "source": [
    "num_1 = 11\n",
    "num_2 = 55\n",
    "# num_1<=num_2 True/Verdadero\n",
    "# num_1!=num_2 True/Verdadero\n",
    "# num_1>10 True/Verdadero\n",
    "print(\"num_1<=num_2 or num_1!=num_2 or num_1>10\", num_1<=num_2 or num_1!=num_2 or num_1>10)"
   ]
  },
  {
   "cell_type": "code",
   "execution_count": 22,
   "id": "fd943e1e-9d14-4777-b19d-588333bcb330",
   "metadata": {},
   "outputs": [
    {
     "name": "stdout",
     "output_type": "stream",
     "text": [
      "num_1<=num_2 or num_1!=num_2 or num_1>10 True\n"
     ]
    }
   ],
   "source": [
    "num_1 = 11\n",
    "num_2 = 11\n",
    "# num_1<=num_2 True/Verdadero\n",
    "# num_1!=num_2 False/Falso\n",
    "# num_1>10 True/Verdadero\n",
    "print(\"num_1<=num_2 or num_1!=num_2 or num_1>10\", num_1<=num_2 or num_1!=num_2 or num_1>10)"
   ]
  },
  {
   "cell_type": "markdown",
   "id": "a1032aed-3cce-487a-b40d-3e5afab49bc4",
   "metadata": {},
   "source": [
    "### NOT (lo opuesto)\n",
    "### La condición debe ser false"
   ]
  },
  {
   "cell_type": "code",
   "execution_count": 30,
   "id": "c53c04c2-546a-4314-943b-f908ea78026a",
   "metadata": {},
   "outputs": [
    {
     "name": "stdout",
     "output_type": "stream",
     "text": [
      "not num_1 <=num_2 False\n"
     ]
    }
   ],
   "source": [
    "num_1 = 11\n",
    "num_2 = 55\n",
    "# num_1<=num_2 True/Verdadero\n",
    "print(\"not num_1 <=num_2\", not num_1<=num_2)"
   ]
  },
  {
   "cell_type": "code",
   "execution_count": 32,
   "id": "3853f17b-745b-454b-b197-ca0de48617aa",
   "metadata": {},
   "outputs": [
    {
     "name": "stdout",
     "output_type": "stream",
     "text": [
      "not num_1!=num_2 False\n"
     ]
    }
   ],
   "source": [
    "num_1 = 11\n",
    "num_2 = 55\n",
    "# num_1!=num_2 True/Verdadero\n",
    "print(\"not num_1!=num_2\", not num_1!=num_2)"
   ]
  },
  {
   "cell_type": "code",
   "execution_count": 34,
   "id": "0ba9533c-1b56-4881-9f4a-ef6a4cc63b3c",
   "metadata": {},
   "outputs": [
    {
     "name": "stdout",
     "output_type": "stream",
     "text": [
      "not num_1>num_2 True\n"
     ]
    }
   ],
   "source": [
    "num_1 = 11\n",
    "num_2 = 55\n",
    "# num_1>num_2 False/Falso\n",
    "print(\"not num_1>num_2\", not num_1>num_2)"
   ]
  },
  {
   "cell_type": "markdown",
   "id": "3eaf9885-443d-4fe4-a919-10e62a9aef6a",
   "metadata": {},
   "source": [
    "### Operadores de afiliación"
   ]
  },
  {
   "cell_type": "markdown",
   "id": "5ff9685a-57f3-488b-9139-a9af2525ffe4",
   "metadata": {},
   "source": [
    "¿Que son los operadores de afiliación?\n",
    "- Son utilizados para validar los elementos en listas, cadenas y tuplas\n",
    "- Validan si una variable está presente en una secuencia\n",
    "- Regresan un valor booleano con el resultado True/False\n",
    "- Regresan True/Verdadero si el valor está presente en la secuencia\n",
    "- Regresan False/Falso si el valor no está presente en la secuencia\n",
    "- Hay dos operadores de afiliación:\n",
    "  - IN - El valor está en la secuencia\n",
    "  - NOT IN - El valor no está presente en la secuencia"
   ]
  },
  {
   "cell_type": "markdown",
   "id": "0335a024-de36-4806-9957-b39a8a692739",
   "metadata": {},
   "source": [
    "### IN - El valor está en la secuencia"
   ]
  },
  {
   "cell_type": "code",
   "execution_count": 43,
   "id": "5d12d590-c3db-46e8-9573-98490e28727f",
   "metadata": {},
   "outputs": [
    {
     "name": "stdout",
     "output_type": "stream",
     "text": [
      "'a' in my_string True\n"
     ]
    }
   ],
   "source": [
    "my_string = \"Backend Python\"\n",
    "print(\"'a' in my_string\", 'a' in my_string)"
   ]
  },
  {
   "cell_type": "code",
   "execution_count": 45,
   "id": "c1ac8cf3-321a-43cf-a583-8c1b9ee34d52",
   "metadata": {},
   "outputs": [
    {
     "name": "stdout",
     "output_type": "stream",
     "text": [
      "'i' in my_string False\n"
     ]
    }
   ],
   "source": [
    "my_string = \"Backend Python\"\n",
    "print(\"'i' in my_string\", 'i' in my_string)"
   ]
  },
  {
   "cell_type": "code",
   "execution_count": 53,
   "id": "65a9ac39-bcb5-4996-a93e-2d48db2da52c",
   "metadata": {},
   "outputs": [
    {
     "name": "stdout",
     "output_type": "stream",
     "text": [
      "5 in my_list False\n"
     ]
    }
   ],
   "source": [
    "my_list = [1, 154, 321, 22, 11]\n",
    "print(\"5 in my_list\", 5 in my_list)"
   ]
  },
  {
   "cell_type": "code",
   "execution_count": 59,
   "id": "16d2b7d8-10a6-4138-914a-31ecda15a3c0",
   "metadata": {},
   "outputs": [
    {
     "name": "stdout",
     "output_type": "stream",
     "text": [
      "5 in my_list True\n"
     ]
    }
   ],
   "source": [
    "my_list = [1, 154, 321, 22, 11, 5, 11, 22, 5, 1]\n",
    "print(\"5 in my_list\", 5 in my_list)"
   ]
  },
  {
   "cell_type": "code",
   "execution_count": 61,
   "id": "10c04a73-700b-4bab-bfaf-823c5d63ba1a",
   "metadata": {},
   "outputs": [
    {
     "data": {
      "text/plain": [
       "[1, 154, 321, 22, 11, 5, 11, 22, 5, 1]"
      ]
     },
     "execution_count": 61,
     "metadata": {},
     "output_type": "execute_result"
    }
   ],
   "source": [
    "my_list"
   ]
  },
  {
   "cell_type": "code",
   "execution_count": 65,
   "id": "c3b59095-02ce-491f-bfc8-fc4c7b440d38",
   "metadata": {},
   "outputs": [
    {
     "name": "stdout",
     "output_type": "stream",
     "text": [
      "5 in my_set True\n"
     ]
    }
   ],
   "source": [
    "my_set = {1, 154, 321, 22, 11, 5, 11, 22, 5, 1}\n",
    "print(\"5 in my_set\", 5 in my_set)"
   ]
  },
  {
   "cell_type": "code",
   "execution_count": 71,
   "id": "29bf4e6e-1759-4cea-a2e2-019fb62728f1",
   "metadata": {},
   "outputs": [
    {
     "data": {
      "text/plain": [
       "{1, 5, 11, 22, 154, 321}"
      ]
     },
     "execution_count": 71,
     "metadata": {},
     "output_type": "execute_result"
    }
   ],
   "source": [
    "my_set #No hay valores repetidos en un set, está diseñado para guardar valores únicos"
   ]
  },
  {
   "cell_type": "markdown",
   "id": "8688c0a8-31a3-41cc-af4d-fbe148e5ff60",
   "metadata": {},
   "source": [
    "### NOT IN: ¿El valor no está presente en la secuencia?"
   ]
  },
  {
   "cell_type": "code",
   "execution_count": 75,
   "id": "a4b31c7f-e91d-465a-9c79-7129dc7dafaa",
   "metadata": {},
   "outputs": [
    {
     "name": "stdout",
     "output_type": "stream",
     "text": [
      "'a' not in my_string False\n"
     ]
    }
   ],
   "source": [
    "my_string = \"Backend Python\"\n",
    "print(\"'a' not in my_string\", 'a' not in my_string)"
   ]
  },
  {
   "cell_type": "code",
   "execution_count": 77,
   "id": "ae66c8df-cecc-4736-9d6d-98f0a17466d6",
   "metadata": {},
   "outputs": [
    {
     "name": "stdout",
     "output_type": "stream",
     "text": [
      "'i' not in my_string True\n"
     ]
    }
   ],
   "source": [
    "my_string = \"Backend Python\"\n",
    "print(\"'i' not in my_string\", 'i' not in my_string)"
   ]
  },
  {
   "cell_type": "code",
   "execution_count": 83,
   "id": "b44e0581-143c-4d20-9bae-e1be8b16da90",
   "metadata": {},
   "outputs": [
    {
     "name": "stdout",
     "output_type": "stream",
     "text": [
      "5 not in my_list True\n"
     ]
    }
   ],
   "source": [
    "my_list = [1, 154, 321, 22, 11]\n",
    "print(\"5 not in my_list\", 5 not in my_list)"
   ]
  },
  {
   "cell_type": "code",
   "execution_count": 87,
   "id": "45cf07a3-20a4-412f-bdda-3e48fffc6d79",
   "metadata": {},
   "outputs": [
    {
     "name": "stdout",
     "output_type": "stream",
     "text": [
      "5 not in my_list False\n"
     ]
    }
   ],
   "source": [
    "my_list = [1, 154, 321, 22, 11, 5]\n",
    "print(\"5 not in my_list\", 5 not in my_list)"
   ]
  },
  {
   "cell_type": "code",
   "execution_count": 89,
   "id": "f6004d9f-9c11-4507-aa90-523b5c96735d",
   "metadata": {},
   "outputs": [
    {
     "name": "stdout",
     "output_type": "stream",
     "text": [
      "5 not in my_set False\n"
     ]
    }
   ],
   "source": [
    "my_set = {1, 154, 321, 22, 11, 5, 11, 22, 5, 1}\n",
    "print(\"5 not in my_set\", 5 not in my_set)"
   ]
  },
  {
   "cell_type": "markdown",
   "id": "4d41852f-917e-440c-8050-831b75426af3",
   "metadata": {},
   "source": [
    "### Operadores de identidad"
   ]
  },
  {
   "cell_type": "markdown",
   "id": "0b47c0b8-d6d4-44dc-87f3-dc83ec069a21",
   "metadata": {},
   "source": [
    "¿Qué son los operadores de identidad?\n",
    "- Son usados para comparar la ubicación en memoria de dos objetos\n",
    "- Se utilizan para validar si los valores comparten el mismo espacio en memoria ó no\n",
    "- Regresa True/Verdadero si lo comparten, y False/Falso si no lo comparten\n",
    "- Hay dos operadores de identidad\n",
    "  - IS\n",
    "  - IS NOT"
   ]
  },
  {
   "cell_type": "markdown",
   "id": "6e003543-626e-484d-a76c-b700b709b794",
   "metadata": {},
   "source": [
    "### IS"
   ]
  },
  {
   "cell_type": "code",
   "execution_count": 93,
   "id": "0ec19889-a78b-47c9-86b2-e8f5b91247cc",
   "metadata": {},
   "outputs": [
    {
     "name": "stdout",
     "output_type": "stream",
     "text": [
      "num_1 is num_2 False\n"
     ]
    }
   ],
   "source": [
    "num_1 = 11\n",
    "num_2 = 55\n",
    "print(\"num_1 is num_2\", num_1 is num_2)"
   ]
  },
  {
   "cell_type": "code",
   "execution_count": 95,
   "id": "3d6d971d-3466-4aff-bdf9-69e5ed9462df",
   "metadata": {},
   "outputs": [
    {
     "name": "stdout",
     "output_type": "stream",
     "text": [
      "num_1 is num_2 True\n"
     ]
    }
   ],
   "source": [
    "num_1 = 77\n",
    "num_2 = 77\n",
    "print(\"num_1 is num_2\", num_1 is num_2)"
   ]
  },
  {
   "cell_type": "markdown",
   "id": "39ab6004-2350-4661-93f8-0954de64032b",
   "metadata": {},
   "source": [
    "### IS NOT"
   ]
  },
  {
   "cell_type": "code",
   "execution_count": 99,
   "id": "57a0820c-3aa2-4848-bf4c-572d56a21531",
   "metadata": {},
   "outputs": [
    {
     "name": "stdout",
     "output_type": "stream",
     "text": [
      "num_1 is not num_2 True\n"
     ]
    }
   ],
   "source": [
    "num_1 = 11\n",
    "num_2 = 55\n",
    "print(\"num_1 is not num_2\", num_1 is not num_2)"
   ]
  },
  {
   "cell_type": "code",
   "execution_count": 101,
   "id": "1739dbef-2fb0-45f4-a672-cb9ce05365b8",
   "metadata": {},
   "outputs": [
    {
     "name": "stdout",
     "output_type": "stream",
     "text": [
      "num_1 is not num_2 False\n"
     ]
    }
   ],
   "source": [
    "num_1 = 77\n",
    "num_2 = 77\n",
    "print(\"num_1 is not num_2\", num_1 is not num_2)"
   ]
  },
  {
   "cell_type": "markdown",
   "id": "0da0addc-f5d8-43e4-954c-5a48e62b0b5c",
   "metadata": {},
   "source": [
    "### Conversión de tipos"
   ]
  },
  {
   "cell_type": "markdown",
   "id": "2c142706-f824-4ae3-a9bc-d95a55af5aaf",
   "metadata": {},
   "source": [
    "¿Qué es la conversión de tipos?\n",
    "- Es el proceso de conversión de un tipo de dato a otro tipo de dato\n",
    "- Es un paso muy importante para combinar múltiples fuentes de datos en un formato específico\n",
    "- Hay dos tipos:\n",
    "    - Conversión implícita: hecha de forma automática por el interprete de python\n",
    "    - Conversión explícita"
   ]
  },
  {
   "cell_type": "markdown",
   "id": "048d5ec6-44ee-47ae-a240-103669edd59b",
   "metadata": {},
   "source": [
    "### Conversión implícita"
   ]
  },
  {
   "cell_type": "code",
   "execution_count": 109,
   "id": "05cb3e76-09ba-4a18-afa0-cf022237fa13",
   "metadata": {},
   "outputs": [
    {
     "data": {
      "text/plain": [
       "16.0"
      ]
     },
     "execution_count": 109,
     "metadata": {},
     "output_type": "execute_result"
    }
   ],
   "source": [
    "14+2.0"
   ]
  },
  {
   "cell_type": "code",
   "execution_count": 111,
   "id": "d62de261-0c3a-4b65-b01b-61b509594628",
   "metadata": {},
   "outputs": [
    {
     "data": {
      "text/plain": [
       "19.0"
      ]
     },
     "execution_count": 111,
     "metadata": {},
     "output_type": "execute_result"
    }
   ],
   "source": [
    "14+2.0+3"
   ]
  },
  {
   "cell_type": "markdown",
   "id": "dd89132b-d60b-4632-ae38-d80e50fcfc51",
   "metadata": {},
   "source": [
    "### Conversión explícita"
   ]
  },
  {
   "cell_type": "code",
   "execution_count": 115,
   "id": "604ad54b-60b2-472f-a701-31165865d433",
   "metadata": {},
   "outputs": [
    {
     "data": {
      "text/plain": [
       "199"
      ]
     },
     "execution_count": 115,
     "metadata": {},
     "output_type": "execute_result"
    }
   ],
   "source": [
    "int(199.99)"
   ]
  },
  {
   "cell_type": "code",
   "execution_count": 117,
   "id": "34d2d059-1b87-42cc-a861-358aed64d9b8",
   "metadata": {},
   "outputs": [
    {
     "data": {
      "text/plain": [
       "58.0"
      ]
     },
     "execution_count": 117,
     "metadata": {},
     "output_type": "execute_result"
    }
   ],
   "source": [
    "float(58)"
   ]
  },
  {
   "cell_type": "code",
   "execution_count": 119,
   "id": "1339e7b7-f811-4f9e-9aeb-3359eb0736aa",
   "metadata": {},
   "outputs": [
    {
     "data": {
      "text/plain": [
       "(4+0j)"
      ]
     },
     "execution_count": 119,
     "metadata": {},
     "output_type": "execute_result"
    }
   ],
   "source": [
    "complex(4)"
   ]
  },
  {
   "cell_type": "markdown",
   "id": "bb007c18-f4ea-45d8-be16-9c9b8e2fa2d8",
   "metadata": {},
   "source": [
    "### Conversiones int"
   ]
  },
  {
   "cell_type": "code",
   "execution_count": 122,
   "id": "0f957aae-a592-4145-9f84-40e6716c24ef",
   "metadata": {},
   "outputs": [
    {
     "data": {
      "text/plain": [
       "10"
      ]
     },
     "execution_count": 122,
     "metadata": {},
     "output_type": "execute_result"
    }
   ],
   "source": [
    "int(10.78) # float a int"
   ]
  },
  {
   "cell_type": "code",
   "execution_count": 124,
   "id": "9dde6ec9-1197-41df-9c02-f5b17d9ed2c5",
   "metadata": {},
   "outputs": [
    {
     "data": {
      "text/plain": [
       "0"
      ]
     },
     "execution_count": 124,
     "metadata": {},
     "output_type": "execute_result"
    }
   ],
   "source": [
    "int(False) # bool a int"
   ]
  },
  {
   "cell_type": "code",
   "execution_count": 126,
   "id": "910fa66c-4d39-4eaf-b81d-07ba6b97aed9",
   "metadata": {},
   "outputs": [
    {
     "data": {
      "text/plain": [
       "1"
      ]
     },
     "execution_count": 126,
     "metadata": {},
     "output_type": "execute_result"
    }
   ],
   "source": [
    "int(True) # bool a int"
   ]
  },
  {
   "cell_type": "code",
   "execution_count": 128,
   "id": "ef6e3836-935a-460e-b0e6-6a64b9d489e8",
   "metadata": {},
   "outputs": [
    {
     "ename": "TypeError",
     "evalue": "int() argument must be a string, a bytes-like object or a real number, not 'complex'",
     "output_type": "error",
     "traceback": [
      "\u001b[1;31m---------------------------------------------------------------------------\u001b[0m",
      "\u001b[1;31mTypeError\u001b[0m                                 Traceback (most recent call last)",
      "Cell \u001b[1;32mIn[128], line 2\u001b[0m\n\u001b[0;32m      1\u001b[0m \u001b[38;5;66;03m# error\u001b[39;00m\n\u001b[1;32m----> 2\u001b[0m \u001b[38;5;28mint\u001b[39m(\u001b[38;5;241m5\u001b[39m\u001b[38;5;241m+\u001b[39m\u001b[38;5;241m3\u001b[39mj)\n",
      "\u001b[1;31mTypeError\u001b[0m: int() argument must be a string, a bytes-like object or a real number, not 'complex'"
     ]
    }
   ],
   "source": [
    "# error\n",
    "int(5+3j) # complex a int"
   ]
  },
  {
   "cell_type": "code",
   "execution_count": 130,
   "id": "caf9c9e6-22a3-4d18-8181-38b929ab8334",
   "metadata": {},
   "outputs": [
    {
     "data": {
      "text/plain": [
       "120"
      ]
     },
     "execution_count": 130,
     "metadata": {},
     "output_type": "execute_result"
    }
   ],
   "source": [
    "int(\"120\") # string a int"
   ]
  },
  {
   "cell_type": "code",
   "execution_count": 134,
   "id": "58837e33-8bac-4ca5-9b4d-06b6ec0cf68d",
   "metadata": {},
   "outputs": [
    {
     "ename": "ValueError",
     "evalue": "invalid literal for int() with base 10: '120.5'",
     "output_type": "error",
     "traceback": [
      "\u001b[1;31m---------------------------------------------------------------------------\u001b[0m",
      "\u001b[1;31mValueError\u001b[0m                                Traceback (most recent call last)",
      "Cell \u001b[1;32mIn[134], line 2\u001b[0m\n\u001b[0;32m      1\u001b[0m \u001b[38;5;66;03m# error\u001b[39;00m\n\u001b[1;32m----> 2\u001b[0m \u001b[38;5;28mint\u001b[39m(\u001b[38;5;124m\"\u001b[39m\u001b[38;5;124m120.5\u001b[39m\u001b[38;5;124m\"\u001b[39m)\n",
      "\u001b[1;31mValueError\u001b[0m: invalid literal for int() with base 10: '120.5'"
     ]
    }
   ],
   "source": [
    "# error\n",
    "int(\"120.5\") # string a int"
   ]
  },
  {
   "cell_type": "markdown",
   "id": "dcd95ff0-5ef0-4a59-9a27-9cca3a929144",
   "metadata": {},
   "source": [
    "### Conversiones Float"
   ]
  },
  {
   "cell_type": "code",
   "execution_count": 137,
   "id": "94c5fad2-c133-4771-b92d-d357357a4643",
   "metadata": {},
   "outputs": [
    {
     "data": {
      "text/plain": [
       "23.0"
      ]
     },
     "execution_count": 137,
     "metadata": {},
     "output_type": "execute_result"
    }
   ],
   "source": [
    "float(23) # int a float"
   ]
  },
  {
   "cell_type": "code",
   "execution_count": 139,
   "id": "de8f6041-01fc-4e3c-80ff-739257ae31f0",
   "metadata": {},
   "outputs": [
    {
     "ename": "TypeError",
     "evalue": "float() argument must be a string or a real number, not 'complex'",
     "output_type": "error",
     "traceback": [
      "\u001b[1;31m---------------------------------------------------------------------------\u001b[0m",
      "\u001b[1;31mTypeError\u001b[0m                                 Traceback (most recent call last)",
      "Cell \u001b[1;32mIn[139], line 1\u001b[0m\n\u001b[1;32m----> 1\u001b[0m \u001b[38;5;28mfloat\u001b[39m(\u001b[38;5;241m23\u001b[39m\u001b[38;5;241m+\u001b[39m\u001b[38;5;241m3\u001b[39mj)\n",
      "\u001b[1;31mTypeError\u001b[0m: float() argument must be a string or a real number, not 'complex'"
     ]
    }
   ],
   "source": [
    "float(23+3j) # complex a float"
   ]
  },
  {
   "cell_type": "code",
   "execution_count": 145,
   "id": "a95bad63-08f4-4baf-8866-a8d132aff20c",
   "metadata": {},
   "outputs": [
    {
     "data": {
      "text/plain": [
       "1.0"
      ]
     },
     "execution_count": 145,
     "metadata": {},
     "output_type": "execute_result"
    }
   ],
   "source": [
    "float(True) # bool a float"
   ]
  },
  {
   "cell_type": "code",
   "execution_count": 143,
   "id": "79dacc07-7f5d-4fc0-ad69-0165d5d283d3",
   "metadata": {},
   "outputs": [
    {
     "data": {
      "text/plain": [
       "843.29"
      ]
     },
     "execution_count": 143,
     "metadata": {},
     "output_type": "execute_result"
    }
   ],
   "source": [
    "float(\"843.29\") # string a float"
   ]
  },
  {
   "cell_type": "code",
   "execution_count": 147,
   "id": "b1665af7-bfb2-467d-8a66-b068b76f49d8",
   "metadata": {},
   "outputs": [
    {
     "data": {
      "text/plain": [
       "843.0"
      ]
     },
     "execution_count": 147,
     "metadata": {},
     "output_type": "execute_result"
    }
   ],
   "source": [
    "float(\"843\") # string a float"
   ]
  },
  {
   "cell_type": "code",
   "execution_count": 149,
   "id": "dd93e12b-f863-482b-8962-9d9ab0845dd8",
   "metadata": {},
   "outputs": [
    {
     "ename": "ValueError",
     "evalue": "could not convert string to float: '843t'",
     "output_type": "error",
     "traceback": [
      "\u001b[1;31m---------------------------------------------------------------------------\u001b[0m",
      "\u001b[1;31mValueError\u001b[0m                                Traceback (most recent call last)",
      "Cell \u001b[1;32mIn[149], line 2\u001b[0m\n\u001b[0;32m      1\u001b[0m \u001b[38;5;66;03m# error\u001b[39;00m\n\u001b[1;32m----> 2\u001b[0m \u001b[38;5;28mfloat\u001b[39m(\u001b[38;5;124m\"\u001b[39m\u001b[38;5;124m843t\u001b[39m\u001b[38;5;124m\"\u001b[39m)\n",
      "\u001b[1;31mValueError\u001b[0m: could not convert string to float: '843t'"
     ]
    }
   ],
   "source": [
    "# error\n",
    "float(\"843t\") # string a float"
   ]
  },
  {
   "cell_type": "code",
   "execution_count": 151,
   "id": "151f3743-4102-48a9-b2e4-0348f2f1d276",
   "metadata": {},
   "outputs": [
    {
     "ename": "ValueError",
     "evalue": "could not convert string to float: 'True'",
     "output_type": "error",
     "traceback": [
      "\u001b[1;31m---------------------------------------------------------------------------\u001b[0m",
      "\u001b[1;31mValueError\u001b[0m                                Traceback (most recent call last)",
      "Cell \u001b[1;32mIn[151], line 2\u001b[0m\n\u001b[0;32m      1\u001b[0m \u001b[38;5;66;03m# error\u001b[39;00m\n\u001b[1;32m----> 2\u001b[0m \u001b[38;5;28mfloat\u001b[39m(\u001b[38;5;124m\"\u001b[39m\u001b[38;5;124mTrue\u001b[39m\u001b[38;5;124m\"\u001b[39m)\n",
      "\u001b[1;31mValueError\u001b[0m: could not convert string to float: 'True'"
     ]
    }
   ],
   "source": [
    "# error\n",
    "float(\"True\") # string a float"
   ]
  },
  {
   "cell_type": "markdown",
   "id": "a6052e9d-772e-42e2-89a1-998f85c6c5f9",
   "metadata": {},
   "source": [
    "### Conversiones complex"
   ]
  },
  {
   "cell_type": "code",
   "execution_count": 154,
   "id": "5cfc5eec-2520-4c39-89e8-00e484c1cc42",
   "metadata": {},
   "outputs": [
    {
     "data": {
      "text/plain": [
       "(42+0j)"
      ]
     },
     "execution_count": 154,
     "metadata": {},
     "output_type": "execute_result"
    }
   ],
   "source": [
    "complex(42) # int a complex"
   ]
  },
  {
   "cell_type": "code",
   "execution_count": 156,
   "id": "efaa6a57-4cc1-416e-bf21-362959e3e78a",
   "metadata": {},
   "outputs": [
    {
     "data": {
      "text/plain": [
       "(92.8+0j)"
      ]
     },
     "execution_count": 156,
     "metadata": {},
     "output_type": "execute_result"
    }
   ],
   "source": [
    "complex(92.8) # float a complex"
   ]
  },
  {
   "cell_type": "code",
   "execution_count": 158,
   "id": "7cea9e2b-ed1e-4a55-9fac-3b1505738947",
   "metadata": {},
   "outputs": [
    {
     "data": {
      "text/plain": [
       "(1+0j)"
      ]
     },
     "execution_count": 158,
     "metadata": {},
     "output_type": "execute_result"
    }
   ],
   "source": [
    "complex(True) # bool complex"
   ]
  },
  {
   "cell_type": "code",
   "execution_count": 160,
   "id": "6562c571-64b3-4492-9fed-c8da8c229864",
   "metadata": {},
   "outputs": [
    {
     "data": {
      "text/plain": [
       "0j"
      ]
     },
     "execution_count": 160,
     "metadata": {},
     "output_type": "execute_result"
    }
   ],
   "source": [
    "complex(False) # bool complex"
   ]
  },
  {
   "cell_type": "code",
   "execution_count": 164,
   "id": "71ecf678-2a2d-4194-be00-8868c46849a5",
   "metadata": {},
   "outputs": [
    {
     "data": {
      "text/plain": [
       "(24+0j)"
      ]
     },
     "execution_count": 164,
     "metadata": {},
     "output_type": "execute_result"
    }
   ],
   "source": [
    "complex(\"24\") # string a complex"
   ]
  },
  {
   "cell_type": "code",
   "execution_count": 166,
   "id": "5bad7268-fe5d-4bc8-a201-d846684be316",
   "metadata": {},
   "outputs": [
    {
     "data": {
      "text/plain": [
       "(24.67+0j)"
      ]
     },
     "execution_count": 166,
     "metadata": {},
     "output_type": "execute_result"
    }
   ],
   "source": [
    "complex(\"24.67\") # string a complex"
   ]
  },
  {
   "cell_type": "code",
   "execution_count": 168,
   "id": "eaccbd96-bb63-43b8-be29-4547e1ecf398",
   "metadata": {},
   "outputs": [
    {
     "ename": "ValueError",
     "evalue": "complex() arg is a malformed string",
     "output_type": "error",
     "traceback": [
      "\u001b[1;31m---------------------------------------------------------------------------\u001b[0m",
      "\u001b[1;31mValueError\u001b[0m                                Traceback (most recent call last)",
      "Cell \u001b[1;32mIn[168], line 2\u001b[0m\n\u001b[0;32m      1\u001b[0m \u001b[38;5;66;03m# error\u001b[39;00m\n\u001b[1;32m----> 2\u001b[0m \u001b[38;5;28mcomplex\u001b[39m(\u001b[38;5;124m\"\u001b[39m\u001b[38;5;124mBackend\u001b[39m\u001b[38;5;124m\"\u001b[39m)\n",
      "\u001b[1;31mValueError\u001b[0m: complex() arg is a malformed string"
     ]
    }
   ],
   "source": [
    "# error\n",
    "complex(\"Backend\") # string a complex"
   ]
  },
  {
   "cell_type": "code",
   "execution_count": 170,
   "id": "7b3c2593-653d-4170-9e3f-c9077dd128a2",
   "metadata": {},
   "outputs": [
    {
     "ename": "ValueError",
     "evalue": "complex() arg is a malformed string",
     "output_type": "error",
     "traceback": [
      "\u001b[1;31m---------------------------------------------------------------------------\u001b[0m",
      "\u001b[1;31mValueError\u001b[0m                                Traceback (most recent call last)",
      "Cell \u001b[1;32mIn[170], line 2\u001b[0m\n\u001b[0;32m      1\u001b[0m \u001b[38;5;66;03m# error\u001b[39;00m\n\u001b[1;32m----> 2\u001b[0m \u001b[38;5;28mcomplex\u001b[39m(\u001b[38;5;124m\"\u001b[39m\u001b[38;5;124m10c\u001b[39m\u001b[38;5;124m\"\u001b[39m)\n",
      "\u001b[1;31mValueError\u001b[0m: complex() arg is a malformed string"
     ]
    }
   ],
   "source": [
    "# error\n",
    "complex(\"10c\") # string a complex"
   ]
  },
  {
   "cell_type": "code",
   "execution_count": 172,
   "id": "d0ff383e-aad6-47fb-8df3-ff6b9945579b",
   "metadata": {},
   "outputs": [
    {
     "data": {
      "text/plain": [
       "10j"
      ]
     },
     "execution_count": 172,
     "metadata": {},
     "output_type": "execute_result"
    }
   ],
   "source": [
    "complex(\"10j\") # string a complex"
   ]
  },
  {
   "cell_type": "code",
   "execution_count": 174,
   "id": "57a975b4-025c-43c1-b348-2e38564e76aa",
   "metadata": {},
   "outputs": [
    {
     "ename": "ValueError",
     "evalue": "complex() arg is a malformed string",
     "output_type": "error",
     "traceback": [
      "\u001b[1;31m---------------------------------------------------------------------------\u001b[0m",
      "\u001b[1;31mValueError\u001b[0m                                Traceback (most recent call last)",
      "Cell \u001b[1;32mIn[174], line 2\u001b[0m\n\u001b[0;32m      1\u001b[0m \u001b[38;5;66;03m# error\u001b[39;00m\n\u001b[1;32m----> 2\u001b[0m \u001b[38;5;28mcomplex\u001b[39m(\u001b[38;5;124m\"\u001b[39m\u001b[38;5;124m10i\u001b[39m\u001b[38;5;124m\"\u001b[39m)\n",
      "\u001b[1;31mValueError\u001b[0m: complex() arg is a malformed string"
     ]
    }
   ],
   "source": [
    "# error\n",
    "complex(\"10i\") # string a complex"
   ]
  },
  {
   "cell_type": "markdown",
   "id": "3bfabec0-bc5c-4f1e-b3f1-7f4867900df0",
   "metadata": {},
   "source": [
    "### Conversiones bool"
   ]
  },
  {
   "cell_type": "code",
   "execution_count": 177,
   "id": "58c48c47-09e0-4672-8a3c-8f9776c67fde",
   "metadata": {},
   "outputs": [
    {
     "data": {
      "text/plain": [
       "False"
      ]
     },
     "execution_count": 177,
     "metadata": {},
     "output_type": "execute_result"
    }
   ],
   "source": [
    "bool(0) # int a bool"
   ]
  },
  {
   "cell_type": "code",
   "execution_count": 179,
   "id": "967188d7-bb60-45f1-a89d-261c66b93bbf",
   "metadata": {},
   "outputs": [
    {
     "data": {
      "text/plain": [
       "True"
      ]
     },
     "execution_count": 179,
     "metadata": {},
     "output_type": "execute_result"
    }
   ],
   "source": [
    "bool(7) # int a bool"
   ]
  },
  {
   "cell_type": "code",
   "execution_count": 181,
   "id": "9bc0e6b1-f47b-4160-8bfd-2b1acf539560",
   "metadata": {},
   "outputs": [
    {
     "data": {
      "text/plain": [
       "True"
      ]
     },
     "execution_count": 181,
     "metadata": {},
     "output_type": "execute_result"
    }
   ],
   "source": [
    "bool(1.8) # float a bool"
   ]
  },
  {
   "cell_type": "code",
   "execution_count": 183,
   "id": "6ad0e275-363e-49c6-b56d-2c19337a7a6e",
   "metadata": {},
   "outputs": [
    {
     "data": {
      "text/plain": [
       "True"
      ]
     },
     "execution_count": 183,
     "metadata": {},
     "output_type": "execute_result"
    }
   ],
   "source": [
    "bool(-1.8) # float a bool"
   ]
  },
  {
   "cell_type": "code",
   "execution_count": 185,
   "id": "4ce8d923-1e7d-40e6-9e1b-5b1f7f05b410",
   "metadata": {},
   "outputs": [
    {
     "data": {
      "text/plain": [
       "False"
      ]
     },
     "execution_count": 185,
     "metadata": {},
     "output_type": "execute_result"
    }
   ],
   "source": [
    "bool(0.0) # float a bool"
   ]
  },
  {
   "cell_type": "code",
   "execution_count": 187,
   "id": "10d6442a-a3d3-40c4-998e-975b3210bde3",
   "metadata": {},
   "outputs": [
    {
     "data": {
      "text/plain": [
       "True"
      ]
     },
     "execution_count": 187,
     "metadata": {},
     "output_type": "execute_result"
    }
   ],
   "source": [
    "bool(0+3j) # complex a bool"
   ]
  },
  {
   "cell_type": "code",
   "execution_count": 189,
   "id": "1cdba2ef-63f2-4c00-a368-281be70365c6",
   "metadata": {},
   "outputs": [
    {
     "data": {
      "text/plain": [
       "False"
      ]
     },
     "execution_count": 189,
     "metadata": {},
     "output_type": "execute_result"
    }
   ],
   "source": [
    "bool(0+0j) # complex a bool"
   ]
  },
  {
   "cell_type": "code",
   "execution_count": 191,
   "id": "3173628f-5eec-4737-9300-2055259221b7",
   "metadata": {},
   "outputs": [
    {
     "data": {
      "text/plain": [
       "True"
      ]
     },
     "execution_count": 191,
     "metadata": {},
     "output_type": "execute_result"
    }
   ],
   "source": [
    "bool(\"python\") # string a bool"
   ]
  },
  {
   "cell_type": "code",
   "execution_count": 193,
   "id": "4f898907-cb54-4583-835a-0e45bca65482",
   "metadata": {},
   "outputs": [
    {
     "data": {
      "text/plain": [
       "True"
      ]
     },
     "execution_count": 193,
     "metadata": {},
     "output_type": "execute_result"
    }
   ],
   "source": [
    "bool(\" \") # string a bool"
   ]
  },
  {
   "cell_type": "code",
   "execution_count": 195,
   "id": "da20d56e-ee80-4cc5-abad-185e34e068a7",
   "metadata": {},
   "outputs": [
    {
     "data": {
      "text/plain": [
       "False"
      ]
     },
     "execution_count": 195,
     "metadata": {},
     "output_type": "execute_result"
    }
   ],
   "source": [
    "bool(\"\") # string a bool"
   ]
  },
  {
   "cell_type": "code",
   "execution_count": 197,
   "id": "48c5ff56-99ef-45e2-a405-3b51e9db7534",
   "metadata": {},
   "outputs": [
    {
     "data": {
      "text/plain": [
       "True"
      ]
     },
     "execution_count": 197,
     "metadata": {},
     "output_type": "execute_result"
    }
   ],
   "source": [
    "bool(\"0\") # string a bool"
   ]
  },
  {
   "cell_type": "markdown",
   "id": "4e8de609-132e-49c9-9c07-91f1954f868a",
   "metadata": {},
   "source": [
    "### Conversiones str"
   ]
  },
  {
   "cell_type": "code",
   "execution_count": 200,
   "id": "6ef98f25-b513-483a-b612-1b60aa7e7d06",
   "metadata": {},
   "outputs": [
    {
     "data": {
      "text/plain": [
       "'25'"
      ]
     },
     "execution_count": 200,
     "metadata": {},
     "output_type": "execute_result"
    }
   ],
   "source": [
    "str(25) # int a str"
   ]
  },
  {
   "cell_type": "code",
   "execution_count": 202,
   "id": "1c63f7e6-fb6b-43af-8f9f-d9567148733a",
   "metadata": {},
   "outputs": [
    {
     "data": {
      "text/plain": [
       "'36.7'"
      ]
     },
     "execution_count": 202,
     "metadata": {},
     "output_type": "execute_result"
    }
   ],
   "source": [
    "str(36.7) # float a str"
   ]
  },
  {
   "cell_type": "code",
   "execution_count": 206,
   "id": "6c1cb777-987a-4d51-8d48-7e228c69f2b8",
   "metadata": {},
   "outputs": [
    {
     "data": {
      "text/plain": [
       "'(6+8j)'"
      ]
     },
     "execution_count": 206,
     "metadata": {},
     "output_type": "execute_result"
    }
   ],
   "source": [
    "str(6+8j) # complex a str"
   ]
  },
  {
   "cell_type": "code",
   "execution_count": 208,
   "id": "8c59847b-7471-4625-b3ee-488bc77cadc1",
   "metadata": {},
   "outputs": [
    {
     "data": {
      "text/plain": [
       "'True'"
      ]
     },
     "execution_count": 208,
     "metadata": {},
     "output_type": "execute_result"
    }
   ],
   "source": [
    "str(True) # bool a str"
   ]
  },
  {
   "cell_type": "markdown",
   "id": "6d0d0818-c639-4615-9275-44042b0712da",
   "metadata": {},
   "source": [
    "### Funciones básicas"
   ]
  },
  {
   "cell_type": "markdown",
   "id": "73c6852a-f80e-45d0-a21d-b9883def9be4",
   "metadata": {},
   "source": [
    "### trunc()"
   ]
  },
  {
   "cell_type": "code",
   "execution_count": 217,
   "id": "95f9facc-a0c5-48ad-9aaf-093190684f14",
   "metadata": {},
   "outputs": [
    {
     "name": "stdout",
     "output_type": "stream",
     "text": [
      "num_1:  64.99\n",
      "num_2:  64.5\n",
      "num_3:  64.51\n",
      "num_4:  64.0000000000001\n"
     ]
    }
   ],
   "source": [
    "num_1 = 64.99\n",
    "num_2 = 64.5\n",
    "num_3 = 64.51\n",
    "num_4 = 64.0000000000001\n",
    "print(\"num_1: \", num_1)\n",
    "print(\"num_2: \", num_2)\n",
    "print(\"num_3: \", num_3)\n",
    "print(\"num_4: \", num_4)"
   ]
  },
  {
   "cell_type": "code",
   "execution_count": 219,
   "id": "b75b2fce-7b8a-4c19-a87f-f7f97a9e67f1",
   "metadata": {},
   "outputs": [
    {
     "name": "stdout",
     "output_type": "stream",
     "text": [
      "trunc(num_1):  64\n",
      "trunc(num_2):  64\n",
      "trunc(num_3):  64\n",
      "trunc(num_4):  64\n"
     ]
    }
   ],
   "source": [
    "from math import trunc\n",
    "num_1 = 64.99\n",
    "num_2 = 64.5\n",
    "num_3 = 64.51\n",
    "num_4 = 64.0000000000001\n",
    "print(\"trunc(num_1): \", trunc(num_1))\n",
    "print(\"trunc(num_2): \", trunc(num_2))\n",
    "print(\"trunc(num_3): \", trunc(num_3))\n",
    "print(\"trunc(num_4): \", trunc(num_4))"
   ]
  },
  {
   "cell_type": "markdown",
   "id": "831e2061-5531-42cb-a595-6987a314919e",
   "metadata": {},
   "source": [
    "### round(), ceil(), floor()"
   ]
  },
  {
   "cell_type": "code",
   "execution_count": 222,
   "id": "436e5f3a-2620-4008-b008-bc4087aa5c91",
   "metadata": {},
   "outputs": [
    {
     "name": "stdout",
     "output_type": "stream",
     "text": [
      "round(num_1):  65\n",
      "round(num_2):  64\n",
      "round(num_3):  65\n",
      "round(num_4):  64\n"
     ]
    }
   ],
   "source": [
    "# round\n",
    "num_1 = 64.99\n",
    "num_2 = 64.5\n",
    "num_3 = 64.51\n",
    "num_4 = 64.0000000000001\n",
    "print(\"round(num_1): \", round(num_1))\n",
    "print(\"round(num_2): \", round(num_2))\n",
    "print(\"round(num_3): \", round(num_3))\n",
    "print(\"round(num_4): \", round(num_4))"
   ]
  },
  {
   "cell_type": "code",
   "execution_count": 224,
   "id": "a5ab8977-fde3-4161-a285-1b66aae67508",
   "metadata": {},
   "outputs": [
    {
     "name": "stdout",
     "output_type": "stream",
     "text": [
      "ceil(num_1):  65\n",
      "ceil(num_2):  65\n",
      "ceil(num_3):  65\n",
      "ceil(num_4):  65\n"
     ]
    }
   ],
   "source": [
    "# ceil - redondeo hacia arriba\n",
    "from math import ceil\n",
    "num_1 = 64.99\n",
    "num_2 = 64.5\n",
    "num_3 = 64.51\n",
    "num_4 = 64.0000000000001\n",
    "print(\"ceil(num_1): \", ceil(num_1))\n",
    "print(\"ceil(num_2): \", ceil(num_2))\n",
    "print(\"ceil(num_3): \", ceil(num_3))\n",
    "print(\"ceil(num_4): \", ceil(num_4))"
   ]
  },
  {
   "cell_type": "code",
   "execution_count": 226,
   "id": "b4bfa11a-6dea-4171-85fb-fdc9241e2a86",
   "metadata": {},
   "outputs": [
    {
     "name": "stdout",
     "output_type": "stream",
     "text": [
      "floor(num_1):  64\n",
      "floor(num_2):  64\n",
      "floor(num_3):  64\n",
      "floor(num_4):  64\n"
     ]
    }
   ],
   "source": [
    "# floor - redondeo hacia abajo\n",
    "from math import floor\n",
    "num_1 = 64.99\n",
    "num_2 = 64.5\n",
    "num_3 = 64.51\n",
    "num_4 = 64.0000000000001\n",
    "print(\"floor(num_1): \", floor(num_1))\n",
    "print(\"floor(num_2): \", floor(num_2))\n",
    "print(\"floor(num_3): \", floor(num_3))\n",
    "print(\"floor(num_4): \", floor(num_4))"
   ]
  },
  {
   "cell_type": "markdown",
   "id": "ee11cf84-60de-491c-b9b2-88dde8c87933",
   "metadata": {},
   "source": [
    "### Función %"
   ]
  },
  {
   "cell_type": "code",
   "execution_count": 233,
   "id": "911706f1-2293-4116-9a41-5e619228131e",
   "metadata": {},
   "outputs": [
    {
     "name": "stdout",
     "output_type": "stream",
     "text": [
      "'%.1f' %num_1:  65.0\n",
      "'%.3f' %num_2:  64.500\n",
      "'%.4f' %num_3:  64.5100\n",
      "'%.5f' %num_4:  64.00000\n"
     ]
    }
   ],
   "source": [
    "num_1 = 64.99\n",
    "num_2 = 64.5\n",
    "num_3 = 64.51\n",
    "num_4 = 64.0000000000001\n",
    "print(\"'%.1f' %num_1: \", '%.1f' % num_1)\n",
    "print(\"'%.3f' %num_2: \", '%.3f' % num_2)\n",
    "print(\"'%.4f' %num_3: \", '%.4f' % num_3)\n",
    "print(\"'%.5f' %num_4: \", '%.5f' % num_4)"
   ]
  },
  {
   "cell_type": "markdown",
   "id": "b0d8f4b6-531a-4d1c-b399-d19f2f99fb2d",
   "metadata": {},
   "source": [
    "### format()"
   ]
  },
  {
   "cell_type": "code",
   "execution_count": 238,
   "id": "d45d84fe-6774-40dd-9895-430489ae1a27",
   "metadata": {},
   "outputs": [
    {
     "name": "stdout",
     "output_type": "stream",
     "text": [
      "{':.1f}'.format(num_1):  65.0\n",
      "{':.3f}'.format(num_2):  64.500\n",
      "{':.4f}'.format(num_3):  64.5100\n",
      "{':.5f}'.format(num_4):  64.00000\n"
     ]
    }
   ],
   "source": [
    "num_1 = 64.99\n",
    "num_2 = 64.5\n",
    "num_3 = 64.51\n",
    "num_4 = 64.0000000000001\n",
    "print(\"{':.1f}'.format(num_1): \", '{:.1f}'.format(num_1))\n",
    "print(\"{':.3f}'.format(num_2): \", '{:.3f}'.format(num_2))\n",
    "print(\"{':.4f}'.format(num_3): \", '{:.4f}'.format(num_3))\n",
    "print(\"{':.5f}'.format(num_4): \", '{:.5f}'.format(num_4))"
   ]
  },
  {
   "cell_type": "code",
   "execution_count": null,
   "id": "199717c5-208f-4d43-872d-d5ffaf8ebf54",
   "metadata": {},
   "outputs": [],
   "source": []
  }
 ],
 "metadata": {
  "kernelspec": {
   "display_name": "Python 3 (ipykernel)",
   "language": "python",
   "name": "python3"
  },
  "language_info": {
   "codemirror_mode": {
    "name": "ipython",
    "version": 3
   },
   "file_extension": ".py",
   "mimetype": "text/x-python",
   "name": "python",
   "nbconvert_exporter": "python",
   "pygments_lexer": "ipython3",
   "version": "3.11.5"
  }
 },
 "nbformat": 4,
 "nbformat_minor": 5
}
