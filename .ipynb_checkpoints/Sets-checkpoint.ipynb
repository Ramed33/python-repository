{
 "cells": [
  {
   "cell_type": "markdown",
   "id": "87dc895f-1812-4eb0-a311-c017559c50cf",
   "metadata": {},
   "source": [
    "## Creando y modificando sets"
   ]
  },
  {
   "cell_type": "code",
   "execution_count": 3,
   "id": "6b1905ad-b5ea-4e10-bbb9-309fae891597",
   "metadata": {},
   "outputs": [
    {
     "name": "stdout",
     "output_type": "stream",
     "text": [
      "<class 'set'>\n",
      "1\n",
      "{'python'}\n"
     ]
    }
   ],
   "source": [
    "my_set = set()\n",
    "my_set.add(\"python\")\n",
    "\n",
    "print(type(my_set))\n",
    "print(len(my_set))\n",
    "print(my_set)"
   ]
  },
  {
   "cell_type": "code",
   "execution_count": 5,
   "id": "b25f6a7e-7c18-48df-bbdd-0628caf72efa",
   "metadata": {},
   "outputs": [],
   "source": [
    "# Lista - []\n",
    "# Tupla - ()\n",
    "# Set - {}"
   ]
  },
  {
   "cell_type": "code",
   "execution_count": 7,
   "id": "4088717d-ce37-4f9a-9ffc-9b36cba73760",
   "metadata": {},
   "outputs": [
    {
     "name": "stdout",
     "output_type": "stream",
     "text": [
      "<class 'set'>\n",
      "4\n",
      "{3.1416, 'Backend', 'python', 23}\n"
     ]
    }
   ],
   "source": [
    "my_set = set()\n",
    "my_set.add(\"python\")\n",
    "my_set.update((23, \"Backend\", 3.1416))\n",
    "\n",
    "print(type(my_set))\n",
    "print(len(my_set))\n",
    "print(my_set)"
   ]
  },
  {
   "cell_type": "code",
   "execution_count": 11,
   "id": "d0aff559-9958-417f-8c2f-0d40a791428d",
   "metadata": {},
   "outputs": [
    {
     "name": "stdout",
     "output_type": "stream",
     "text": [
      "<class 'set'>\n",
      "4\n",
      "{3.1416, 'Backend', 'python', 23}\n"
     ]
    }
   ],
   "source": [
    "my_set = set()\n",
    "my_set.add(\"python\")\n",
    "my_set.update((23, \"Backend\", 3.1416))\n",
    "\n",
    "my_set.add(\"python\")\n",
    "my_set.add(\"python\")\n",
    "my_set.add(\"python\")\n",
    "my_set.add(23)\n",
    "my_set.add(23)\n",
    "my_set.add(3.1416)\n",
    "my_set.add(3.1416)\n",
    "my_set.add(3.1416)\n",
    "my_set.add(3.1416)\n",
    "\n",
    "print(type(my_set))\n",
    "print(len(my_set))\n",
    "print(my_set)"
   ]
  },
  {
   "cell_type": "code",
   "execution_count": 13,
   "id": "bc2f9734-4b4d-49ca-8a37-1eb4076f05c0",
   "metadata": {},
   "outputs": [
    {
     "name": "stdout",
     "output_type": "stream",
     "text": [
      "<class 'set'>\n",
      "4\n",
      "{3.1416, 'python', 'Backend', 23}\n"
     ]
    }
   ],
   "source": [
    "my_set = {3.1416, \"Backend\", \"python\", 23}\n",
    "print(type(my_set))\n",
    "print(len(my_set))\n",
    "print(my_set)"
   ]
  },
  {
   "cell_type": "markdown",
   "id": "ece96bcf-740b-47ec-b9b9-f02c266d8c08",
   "metadata": {},
   "source": [
    "# Métodos para manipulación de sets"
   ]
  },
  {
   "cell_type": "markdown",
   "id": "258d84a2-27db-4483-8833-e903da1eef85",
   "metadata": {},
   "source": [
    "### add\n",
    "Agrega un elemento a un set"
   ]
  },
  {
   "cell_type": "code",
   "execution_count": 17,
   "id": "1bc3bef9-d3fc-4482-8d8e-b67c0dce9e18",
   "metadata": {},
   "outputs": [
    {
     "name": "stdout",
     "output_type": "stream",
     "text": [
      "<class 'set'>\n",
      "4\n",
      "{1, 11, 5, 23}\n"
     ]
    }
   ],
   "source": [
    "my_set = {1, 5, 11, 23}\n",
    "print(type(my_set))\n",
    "print(len(my_set))\n",
    "print(my_set)"
   ]
  },
  {
   "cell_type": "code",
   "execution_count": 19,
   "id": "a0d05bf1-8368-41da-8cc9-4d8b75ab8d1c",
   "metadata": {},
   "outputs": [
    {
     "name": "stdout",
     "output_type": "stream",
     "text": [
      "<class 'set'>\n",
      "6\n",
      "{1, 2, 3, 5, 11, 23}\n"
     ]
    }
   ],
   "source": [
    "my_set.add(1)\n",
    "my_set.add(2)\n",
    "my_set.add(3)\n",
    "\n",
    "print(type(my_set))\n",
    "print(len(my_set))\n",
    "print(my_set)"
   ]
  },
  {
   "cell_type": "markdown",
   "id": "d6f77cff-6145-4532-b5dc-db4a5a5a80a0",
   "metadata": {},
   "source": [
    "### clear\n",
    "Remueve todos los elementos del set"
   ]
  },
  {
   "cell_type": "code",
   "execution_count": 23,
   "id": "5ff11cc7-1f07-4344-a78d-5edc97722789",
   "metadata": {},
   "outputs": [
    {
     "name": "stdout",
     "output_type": "stream",
     "text": [
      "<class 'set'>\n",
      "4\n",
      "{1, 11, 5, 23} \n",
      "\n",
      "<class 'set'>\n",
      "0\n",
      "set()\n"
     ]
    }
   ],
   "source": [
    "my_set = {1, 5, 11, 23}\n",
    "\n",
    "print(type(my_set))\n",
    "print(len(my_set))\n",
    "print(my_set, \"\\n\")\n",
    "\n",
    "my_set.clear()\n",
    "\n",
    "print(type(my_set))\n",
    "print(len(my_set))\n",
    "print(my_set)"
   ]
  },
  {
   "cell_type": "markdown",
   "id": "086bd423-3114-4889-ba53-8e8b3b6b61d8",
   "metadata": {},
   "source": [
    "### copy\n",
    "Copia los elementos en un nuevo set"
   ]
  },
  {
   "cell_type": "code",
   "execution_count": 26,
   "id": "4a23cad1-5c03-4c9c-abb4-36b1bcd3427d",
   "metadata": {},
   "outputs": [
    {
     "name": "stdout",
     "output_type": "stream",
     "text": [
      "<class 'set'>\n",
      "4\n",
      "{1, 11, 5, 23} \n",
      "\n",
      "<class 'set'>\n",
      "4\n",
      "{1, 11, 5, 23} \n",
      "\n",
      "<class 'set'>\n",
      "4\n",
      "{1, 11, 5, 23} \n",
      "\n",
      "<class 'set'>\n",
      "0\n",
      "set() \n",
      "\n"
     ]
    }
   ],
   "source": [
    "my_set = {1, 5, 11, 23}\n",
    "my_set_2 = my_set.copy()\n",
    "\n",
    "print(type(my_set))\n",
    "print(len(my_set))\n",
    "print(my_set, \"\\n\")\n",
    "\n",
    "print(type(my_set_2))\n",
    "print(len(my_set_2))\n",
    "print(my_set_2, \"\\n\")\n",
    "\n",
    "my_set_2.clear()\n",
    "\n",
    "print(type(my_set))\n",
    "print(len(my_set))\n",
    "print(my_set, \"\\n\")\n",
    "\n",
    "print(type(my_set_2))\n",
    "print(len(my_set_2))\n",
    "print(my_set_2, \"\\n\")"
   ]
  },
  {
   "cell_type": "code",
   "execution_count": 30,
   "id": "ee2d3774-45bb-4f74-9204-8b0325f6c213",
   "metadata": {},
   "outputs": [
    {
     "name": "stdout",
     "output_type": "stream",
     "text": [
      "<class 'set'>\n",
      "4\n",
      "{1, 11, 5, 23} \n",
      "\n",
      "<class 'set'>\n",
      "4\n",
      "{1, 11, 5, 23} \n",
      "\n",
      "<class 'set'>\n",
      "0\n",
      "set() \n",
      "\n",
      "<class 'set'>\n",
      "0\n",
      "set() \n",
      "\n"
     ]
    }
   ],
   "source": [
    "my_set = {1, 5, 11, 23}\n",
    "my_set_2 = my_set\n",
    "\n",
    "print(type(my_set))\n",
    "print(len(my_set))\n",
    "print(my_set, \"\\n\")\n",
    "\n",
    "print(type(my_set_2))\n",
    "print(len(my_set_2))\n",
    "print(my_set_2, \"\\n\")\n",
    "\n",
    "my_set_2.clear()\n",
    "\n",
    "print(type(my_set))\n",
    "print(len(my_set))\n",
    "print(my_set, \"\\n\")\n",
    "\n",
    "print(type(my_set_2))\n",
    "print(len(my_set_2))\n",
    "print(my_set_2, \"\\n\")"
   ]
  },
  {
   "cell_type": "markdown",
   "id": "af27b9ec-84f3-4c53-8c62-ba06b1540e8c",
   "metadata": {},
   "source": [
    "### difference\n",
    "Obtiene los valores presentes en el primer set y faltantes en el segundo set"
   ]
  },
  {
   "cell_type": "code",
   "execution_count": 39,
   "id": "28ba1c35-d675-4eb0-8836-2cd52f63d420",
   "metadata": {},
   "outputs": [
    {
     "name": "stdout",
     "output_type": "stream",
     "text": [
      "{8, 2, 4, 6}\n",
      "{9, 3, 5}\n"
     ]
    }
   ],
   "source": [
    "set_a = {1,3,5,7,9}\n",
    "set_b = {1,2,4,6,7,8}\n",
    "\n",
    "# Valores que hay en set_b faltantes en set a\n",
    "print(set_b.difference(set_a))\n",
    "\n",
    "# Valores que hay en set_a faltantes en set b\n",
    "print(set_a.difference(set_b))"
   ]
  },
  {
   "cell_type": "markdown",
   "id": "4b863dfb-56af-4780-a764-dc539011af29",
   "metadata": {},
   "source": [
    "### difference_update\n",
    "Conserva sólo los valores diferentes entre el set solicitado y el que es mandado como parámetro"
   ]
  },
  {
   "cell_type": "code",
   "execution_count": 42,
   "id": "40888f87-668e-4e3c-9bec-e51d3cb31d7d",
   "metadata": {},
   "outputs": [
    {
     "name": "stdout",
     "output_type": "stream",
     "text": [
      "{2, 4, 6, 8}\n",
      "{1, 3, 5, 7, 9}\n"
     ]
    }
   ],
   "source": [
    "set_a = {1,3,5,7,9}\n",
    "set_b = {1,2,4,6,7,8}\n",
    "\n",
    "# Valores que hay en set_b faltantes en set a\n",
    "set_b.difference_update(set_a)\n",
    "print(set_b)\n",
    "\n",
    "# Valores que hay en set_a faltantes en set b\n",
    "set_a.difference_update(set_b)\n",
    "print(set_a)"
   ]
  },
  {
   "cell_type": "code",
   "execution_count": 44,
   "id": "32b070f6-b8b4-46a1-8c5c-711102830a7b",
   "metadata": {},
   "outputs": [
    {
     "name": "stdout",
     "output_type": "stream",
     "text": [
      "{3, 5, 9}\n",
      "{1, 2, 4, 6, 7, 8}\n"
     ]
    }
   ],
   "source": [
    "set_a = {1,3,5,7,9}\n",
    "set_b = {1,2,4,6,7,8}\n",
    "\n",
    "# Valores que hay en set_a faltantes en set b\n",
    "set_a.difference_update(set_b)\n",
    "print(set_a)\n",
    "\n",
    "# Valores que hay en set_b faltantes en set a\n",
    "set_b.difference_update(set_a)\n",
    "print(set_b)"
   ]
  },
  {
   "cell_type": "markdown",
   "id": "d36c2339-ad77-4dd0-9185-f2a557182a0d",
   "metadata": {},
   "source": [
    "### discard\n",
    "Elimina un elemento del set si está presente"
   ]
  },
  {
   "cell_type": "code",
   "execution_count": 53,
   "id": "7bbce3f6-7e5e-4a2a-b958-5c9e6a5d5f2c",
   "metadata": {},
   "outputs": [
    {
     "name": "stdout",
     "output_type": "stream",
     "text": [
      "<class 'set'>\n",
      "4\n",
      "{'Go', 'Javascript', 'Scala', 'Python'} \n",
      "\n",
      "<class 'set'>\n",
      "3\n",
      "{'Javascript', 'Scala', 'Python'} \n",
      "\n",
      "<class 'set'>\n",
      "3\n",
      "{'Javascript', 'Scala', 'Python'} \n",
      "\n"
     ]
    }
   ],
   "source": [
    "my_set = {\"Python\", \"Javascript\", \"Go\", \"Scala\"}\n",
    "print(type(my_set))\n",
    "print(len(my_set))\n",
    "print(my_set, \"\\n\")\n",
    "\n",
    "my_set.discard(\"Go\")\n",
    "print(type(my_set))\n",
    "print(len(my_set))\n",
    "print(my_set, \"\\n\")\n",
    "\n",
    "# no importa que el valor no esté presente\n",
    "my_set.discard(\"test\")\n",
    "print(type(my_set))\n",
    "print(len(my_set))\n",
    "print(my_set, \"\\n\")"
   ]
  },
  {
   "cell_type": "markdown",
   "id": "3415190f-5bdb-403e-ae5d-cb9923b761fd",
   "metadata": {},
   "source": [
    "### intersection\n",
    "Obtiene los valores en común en dos sets"
   ]
  },
  {
   "cell_type": "code",
   "execution_count": 62,
   "id": "bb1f8a20-86de-44fc-8dd9-8d16277fc28a",
   "metadata": {},
   "outputs": [
    {
     "name": "stdout",
     "output_type": "stream",
     "text": [
      "{1, 7}\n",
      "{1, 7}\n"
     ]
    }
   ],
   "source": [
    "set_a = {1,3,5,7,9}\n",
    "set_b = {1,2,4,6,7,8}\n",
    "\n",
    "print(set_a.intersection(set_b))\n",
    "print(set_b.intersection(set_a))"
   ]
  },
  {
   "cell_type": "markdown",
   "id": "1bc4deef-48af-4ed4-8c00-e48c6673f2c3",
   "metadata": {},
   "source": [
    "### intersection_update\n",
    "Obtiene los valores en común en dos sets y los asigna al set que manda a llamar el método"
   ]
  },
  {
   "cell_type": "code",
   "execution_count": 71,
   "id": "f7d0bdf7-c2b2-4a30-9769-d642f72018e0",
   "metadata": {},
   "outputs": [
    {
     "name": "stdout",
     "output_type": "stream",
     "text": [
      "<class 'set'>\n",
      "2\n",
      "{1, 7} \n",
      "\n",
      "<class 'set'>\n",
      "6\n",
      "{1, 2, 4, 6, 7, 8} \n",
      "\n"
     ]
    }
   ],
   "source": [
    "set_a = {1,3,5,7,9}\n",
    "set_b = {1,2,4,6,7,8}\n",
    "\n",
    "set_a.intersection_update(set_b)\n",
    "print(type(set_a))\n",
    "print(len(set_a))\n",
    "print(set_a, \"\\n\")\n",
    "\n",
    "print(type(set_b))\n",
    "print(len(set_b))\n",
    "print(set_b, \"\\n\")"
   ]
  },
  {
   "cell_type": "markdown",
   "id": "24bfb002-6a16-4e37-910b-2de7d724aa02",
   "metadata": {},
   "source": [
    "### isdisjoint\n",
    "True: si no hay valores compartidos por ambos sets\n",
    "\n",
    "False: si hay por lo menos un valor compartido por ambos sets"
   ]
  },
  {
   "cell_type": "code",
   "execution_count": 74,
   "id": "7a38179f-429f-4798-8f8d-c13af273e0dc",
   "metadata": {},
   "outputs": [
    {
     "name": "stdout",
     "output_type": "stream",
     "text": [
      "False\n"
     ]
    }
   ],
   "source": [
    "set_a = {1,3,5,7,9}\n",
    "set_b = {1,2,4,6,7,8}\n",
    "\n",
    "print(set_a.isdisjoint(set_b))"
   ]
  },
  {
   "cell_type": "code",
   "execution_count": 78,
   "id": "0d623a20-8495-4e4d-8c40-7d9aee89ba6d",
   "metadata": {},
   "outputs": [
    {
     "name": "stdout",
     "output_type": "stream",
     "text": [
      "False\n"
     ]
    }
   ],
   "source": [
    "set_a = {1,3}\n",
    "set_b = {1,2,4,6,7,8}\n",
    "\n",
    "print(set_a.isdisjoint(set_b))"
   ]
  },
  {
   "cell_type": "code",
   "execution_count": 80,
   "id": "0a44ee29-178f-461e-be3e-c7846675fd4a",
   "metadata": {},
   "outputs": [
    {
     "name": "stdout",
     "output_type": "stream",
     "text": [
      "True\n"
     ]
    }
   ],
   "source": [
    "set_a = {0,3}\n",
    "set_b = {1,2,4,6,7,8}\n",
    "\n",
    "print(set_a.isdisjoint(set_b))"
   ]
  },
  {
   "cell_type": "markdown",
   "id": "b486ac84-7577-4980-9ad8-2a453e9fd0c3",
   "metadata": {},
   "source": [
    "### issubset\n",
    "True: si todos loa valores del set llamado están en el set pasado como parámetro"
   ]
  },
  {
   "cell_type": "code",
   "execution_count": 83,
   "id": "5a1b1e14-b481-433e-9e69-8eac11926e32",
   "metadata": {},
   "outputs": [
    {
     "name": "stdout",
     "output_type": "stream",
     "text": [
      "True\n"
     ]
    }
   ],
   "source": [
    "set_a = {1,8}\n",
    "set_b = {1,2,4,6,7,8}\n",
    "\n",
    "print(set_a.issubset(set_b))"
   ]
  },
  {
   "cell_type": "code",
   "execution_count": 85,
   "id": "da7bc2ec-27b0-4c93-98a3-a5a45a56fac0",
   "metadata": {},
   "outputs": [
    {
     "name": "stdout",
     "output_type": "stream",
     "text": [
      "False\n"
     ]
    }
   ],
   "source": [
    "set_a = {1,3,8}\n",
    "set_b = {1,2,4,6,7,8}\n",
    "\n",
    "print(set_a.issubset(set_b))"
   ]
  },
  {
   "cell_type": "markdown",
   "id": "c2511348-b700-4dd4-98aa-1c5caa05585f",
   "metadata": {},
   "source": [
    "### issuperset\n",
    "En cierta forma es opuesto a issubset\n",
    "Analiza si todos los valores del set pasado como parámetro están en el set llamado"
   ]
  },
  {
   "cell_type": "code",
   "execution_count": 92,
   "id": "d24dac0f-0e23-486d-98ab-cc2a66d95655",
   "metadata": {},
   "outputs": [
    {
     "name": "stdout",
     "output_type": "stream",
     "text": [
      "True\n"
     ]
    }
   ],
   "source": [
    "set_a = {1,8}\n",
    "set_b = {1,2,4,6,7,8}\n",
    "\n",
    "print(set_b.issuperset(set_a))"
   ]
  },
  {
   "cell_type": "code",
   "execution_count": 94,
   "id": "25b62f62-ee10-464f-af17-98aeb387de4a",
   "metadata": {},
   "outputs": [
    {
     "name": "stdout",
     "output_type": "stream",
     "text": [
      "False\n"
     ]
    }
   ],
   "source": [
    "set_a = {1,3,8}\n",
    "set_b = {1,2,4,6,7,8}\n",
    "\n",
    "print(set_b.issuperset(set_a))"
   ]
  },
  {
   "cell_type": "markdown",
   "id": "5821ee0a-4e0a-4165-a943-845d852be134",
   "metadata": {},
   "source": [
    "### pop\n",
    "Elimina el primer elemento del set"
   ]
  },
  {
   "cell_type": "code",
   "execution_count": 111,
   "id": "037a74b9-bdc2-4cd3-b01f-b9449f15f257",
   "metadata": {},
   "outputs": [
    {
     "name": "stdout",
     "output_type": "stream",
     "text": [
      "<class 'set'>\n",
      "6\n",
      "{1, 2, 4, 6, 7, 8} \n",
      "\n",
      "1\n",
      "2\n",
      "4 \n",
      "\n",
      "<class 'set'>\n",
      "3\n",
      "{6, 7, 8}\n"
     ]
    }
   ],
   "source": [
    "my_set = {1,2,4,6,7,8}\n",
    "\n",
    "print(type(my_set))\n",
    "print(len(my_set))\n",
    "print(my_set, \"\\n\")\n",
    "\n",
    "print(my_set.pop())\n",
    "print(my_set.pop())\n",
    "print(my_set.pop(), \"\\n\")\n",
    "\n",
    "print(type(my_set))\n",
    "print(len(my_set))\n",
    "print(my_set)"
   ]
  },
  {
   "cell_type": "markdown",
   "id": "afb65a6d-4d65-48ad-a371-95c7877cde35",
   "metadata": {},
   "source": [
    "### remove\n",
    "Elimina el elemento pasado como parámetro (debe estar presente en el set ó mandará error)"
   ]
  },
  {
   "cell_type": "code",
   "execution_count": 114,
   "id": "7e054d6f-e8d4-4587-91c6-424e545a454e",
   "metadata": {},
   "outputs": [
    {
     "name": "stdout",
     "output_type": "stream",
     "text": [
      "<class 'set'>\n",
      "6\n",
      "{1, 2, 4, 6, 7, 8} \n",
      "\n",
      "<class 'set'>\n",
      "5\n",
      "{1, 2, 6, 7, 8} \n",
      "\n"
     ]
    },
    {
     "ename": "KeyError",
     "evalue": "3",
     "output_type": "error",
     "traceback": [
      "\u001b[1;31m---------------------------------------------------------------------------\u001b[0m",
      "\u001b[1;31mKeyError\u001b[0m                                  Traceback (most recent call last)",
      "Cell \u001b[1;32mIn[114], line 13\u001b[0m\n\u001b[0;32m     10\u001b[0m \u001b[38;5;28mprint\u001b[39m(\u001b[38;5;28mlen\u001b[39m(my_set))\n\u001b[0;32m     11\u001b[0m \u001b[38;5;28mprint\u001b[39m(my_set, \u001b[38;5;124m\"\u001b[39m\u001b[38;5;130;01m\\n\u001b[39;00m\u001b[38;5;124m\"\u001b[39m)\n\u001b[1;32m---> 13\u001b[0m my_set\u001b[38;5;241m.\u001b[39mremove(\u001b[38;5;241m3\u001b[39m)\n\u001b[0;32m     15\u001b[0m \u001b[38;5;28mprint\u001b[39m(\u001b[38;5;28mtype\u001b[39m(my_set))\n\u001b[0;32m     16\u001b[0m \u001b[38;5;28mprint\u001b[39m(\u001b[38;5;28mlen\u001b[39m(my_set))\n",
      "\u001b[1;31mKeyError\u001b[0m: 3"
     ]
    }
   ],
   "source": [
    "my_set = {1,2,4,6,7,8}\n",
    "\n",
    "print(type(my_set))\n",
    "print(len(my_set))\n",
    "print(my_set, \"\\n\")\n",
    "\n",
    "my_set.remove(4)\n",
    "\n",
    "print(type(my_set))\n",
    "print(len(my_set))\n",
    "print(my_set, \"\\n\")\n",
    "\n",
    "my_set.remove(3)\n",
    "\n",
    "print(type(my_set))\n",
    "print(len(my_set))\n",
    "print(my_set, \"\\n\")"
   ]
  },
  {
   "cell_type": "markdown",
   "id": "d9375b58-4fd8-47eb-becb-9fd882dd4c0b",
   "metadata": {},
   "source": [
    "### union\n",
    "Combina dos sets"
   ]
  },
  {
   "cell_type": "code",
   "execution_count": 117,
   "id": "8cd04bc2-c6d9-4f88-81d3-210e207f7612",
   "metadata": {},
   "outputs": [
    {
     "name": "stdout",
     "output_type": "stream",
     "text": [
      "{1, 2, 3, 4, 6, 7, 8}\n"
     ]
    }
   ],
   "source": [
    "set_a = {1,3,8}\n",
    "set_b = {1,2,4,6,7,8}\n",
    "\n",
    "set_c = set_a.union(set_b)\n",
    "\n",
    "print(set_c)"
   ]
  },
  {
   "cell_type": "markdown",
   "id": "83874925-96c8-409c-8f4d-384d2ce1a760",
   "metadata": {},
   "source": [
    "### update\n",
    "Añade los valores del set pasado como parámetro al set llamado"
   ]
  },
  {
   "cell_type": "code",
   "execution_count": 124,
   "id": "20eb6b32-8af1-4e1f-87b4-75ebb6c589d9",
   "metadata": {},
   "outputs": [
    {
     "name": "stdout",
     "output_type": "stream",
     "text": [
      "{1, 2, 3, 4, 6, 7, 8}\n",
      "{1, 2, 4, 6, 7, 8}\n"
     ]
    }
   ],
   "source": [
    "set_a = {1,3,8}\n",
    "set_b = {1,2,4,6,7,8}\n",
    "\n",
    "set_a.update(set_b)\n",
    "\n",
    "print(set_a)\n",
    "print(set_b)"
   ]
  },
  {
   "cell_type": "markdown",
   "id": "6077a8d3-2641-4489-80e5-34242ef796b9",
   "metadata": {},
   "source": [
    "### symmetric_difference\n",
    "Obtiene las diferencias en ambos sets"
   ]
  },
  {
   "cell_type": "code",
   "execution_count": 131,
   "id": "1c38aa08-ae67-4422-82fa-81f2378a7467",
   "metadata": {},
   "outputs": [
    {
     "name": "stdout",
     "output_type": "stream",
     "text": [
      "{2, 3, 4, 6, 7}\n",
      "{2, 3, 4, 6, 7}\n"
     ]
    }
   ],
   "source": [
    "set_a = {1,3,8}\n",
    "set_b = {1,2,4,6,7,8}\n",
    "\n",
    "print(set_a.symmetric_difference(set_b))\n",
    "print(set_b.symmetric_difference(set_a))"
   ]
  },
  {
   "cell_type": "markdown",
   "id": "02fac4e9-fb40-4013-8b4c-5b6b43615527",
   "metadata": {},
   "source": [
    "### symmetric_difference_update\n",
    "Obtiene las diferencias en ambos sets y asigna los valores al set llamado"
   ]
  },
  {
   "cell_type": "code",
   "execution_count": 137,
   "id": "46be75e0-3c35-4e98-9193-595cb84e72c1",
   "metadata": {},
   "outputs": [
    {
     "name": "stdout",
     "output_type": "stream",
     "text": [
      "{2, 3, 4, 6, 7}\n",
      "{1, 2, 4, 6, 7, 8}\n"
     ]
    }
   ],
   "source": [
    "set_a = {1,3,8}\n",
    "set_b = {1,2,4,6,7,8}\n",
    "\n",
    "set_a.symmetric_difference_update(set_b)\n",
    "print(set_a)\n",
    "print(set_b)"
   ]
  },
  {
   "cell_type": "markdown",
   "id": "7b993785-bdfa-4a81-977d-1e7a8307df37",
   "metadata": {},
   "source": [
    "# Coversión de sets"
   ]
  },
  {
   "cell_type": "markdown",
   "id": "132b9321-6dfc-4e27-a146-01b058597e76",
   "metadata": {},
   "source": [
    "### Cadena a set"
   ]
  },
  {
   "cell_type": "code",
   "execution_count": 9,
   "id": "7629419d-1a8e-45c6-aa8b-acb79520d48e",
   "metadata": {},
   "outputs": [
    {
     "name": "stdout",
     "output_type": "stream",
     "text": [
      "<class 'str'>\n",
      "Backend Python \n",
      "\n",
      "<class 'set'>\n",
      "{'c', 'k', 'y', 'n', 'e', 'a', ' ', 'o', 'B', 'd', 'P', 't', 'h'} \n",
      "\n"
     ]
    }
   ],
   "source": [
    "my_string = \"Backend Python\"\n",
    "my_set = set(my_string)\n",
    "\n",
    "print(type(my_string))\n",
    "print(my_string, \"\\n\")\n",
    "\n",
    "print(type(my_set))\n",
    "print(my_set, \"\\n\")"
   ]
  },
  {
   "cell_type": "markdown",
   "id": "7d45c984-8e3f-4a50-b03a-9f8e9344cfc6",
   "metadata": {},
   "source": [
    "### List a set"
   ]
  },
  {
   "cell_type": "code",
   "execution_count": 16,
   "id": "024f4c78-4c83-47c5-9198-95f823526f4f",
   "metadata": {},
   "outputs": [
    {
     "name": "stdout",
     "output_type": "stream",
     "text": [
      "<class 'list'>\n",
      "[1, 1, 1, 1, 1, 1, 2, 2, 2, 2, 2, 3, 3, 3, 3, 4, 4, 4, 4, 5] \n",
      "\n",
      "<class 'set'>\n",
      "{1, 2, 3, 4, 5} \n",
      "\n"
     ]
    }
   ],
   "source": [
    "my_list = [1,1,1,1,1,1,2,2,2,2,2,3,3,3,3,4,4,4,4,5]\n",
    "my_set = set(my_list)\n",
    "\n",
    "print(type(my_list))\n",
    "print(my_list, \"\\n\")\n",
    "\n",
    "print(type(my_set))\n",
    "print(my_set, \"\\n\")"
   ]
  },
  {
   "cell_type": "markdown",
   "id": "d8378910-e389-4e70-b25e-acb8d286a648",
   "metadata": {},
   "source": [
    "### Tupla a set"
   ]
  },
  {
   "cell_type": "code",
   "execution_count": 19,
   "id": "5eba1e56-d4c2-408b-9097-a6077f420c85",
   "metadata": {},
   "outputs": [
    {
     "name": "stdout",
     "output_type": "stream",
     "text": [
      "<class 'tuple'>\n",
      "(1, 1, 1, 1, 1, 1, 2, 2, 2, 2, 2, 3, 3, 3, 3, 4, 4, 4, 4, 5) \n",
      "\n",
      "<class 'set'>\n",
      "{1, 2, 3, 4, 5} \n",
      "\n"
     ]
    }
   ],
   "source": [
    "my_tuple = (1,1,1,1,1,1,2,2,2,2,2,3,3,3,3,4,4,4,4,5)\n",
    "my_set = set(my_tuple)\n",
    "\n",
    "print(type(my_tuple))\n",
    "print(my_tuple, \"\\n\")\n",
    "\n",
    "print(type(my_set))\n",
    "print(my_set, \"\\n\")"
   ]
  },
  {
   "cell_type": "markdown",
   "id": "0eed113a-26e2-4c34-9001-bb0946d554fd",
   "metadata": {},
   "source": [
    "### Set a cadena"
   ]
  },
  {
   "cell_type": "code",
   "execution_count": 22,
   "id": "d09ca18f-cf50-40a9-80eb-000be2618d35",
   "metadata": {},
   "outputs": [
    {
     "name": "stdout",
     "output_type": "stream",
     "text": [
      "<class 'set'>\n",
      "{'c', 'k', 'y', 'n', 'e', 'a', ' ', 'o', 'B', 'd', 'P', 't', 'h'} \n",
      "\n",
      "<class 'str'>\n",
      "ckynea oBdPth \n",
      "\n"
     ]
    }
   ],
   "source": [
    "my_set = {'c', 'k', 'y', 'n', 'e', 'a', ' ', 'o', 'B', 'd', 'P', 't', 'h'}\n",
    "my_string = \"\".join(my_set)\n",
    "\n",
    "print(type(my_set))\n",
    "print(my_set, \"\\n\")\n",
    "\n",
    "print(type(my_string))\n",
    "print(my_string, \"\\n\")"
   ]
  },
  {
   "cell_type": "markdown",
   "id": "1fe06711-a239-4b0e-9193-db768b3c5a3a",
   "metadata": {},
   "source": [
    "### Set a lista"
   ]
  },
  {
   "cell_type": "code",
   "execution_count": 27,
   "id": "6926ee76-49df-4d12-9b70-afb85588f8ce",
   "metadata": {},
   "outputs": [
    {
     "name": "stdout",
     "output_type": "stream",
     "text": [
      "<class 'set'>\n",
      "{1, 2, 3, 4, 5} \n",
      "\n",
      "<class 'list'>\n",
      "[1, 2, 3, 4, 5] \n",
      "\n"
     ]
    }
   ],
   "source": [
    "my_set = {1,2,3,4,5}\n",
    "my_list = list(my_set)\n",
    "\n",
    "print(type(my_set))\n",
    "print(my_set, \"\\n\")\n",
    "\n",
    "print(type(my_list))\n",
    "print(my_list, \"\\n\")"
   ]
  },
  {
   "cell_type": "markdown",
   "id": "0093f00e-45a9-4fda-88b6-6b3fac6e47e9",
   "metadata": {},
   "source": [
    "### Set a tupla"
   ]
  },
  {
   "cell_type": "code",
   "execution_count": 30,
   "id": "791f2058-1d42-4aa8-8be7-7bd3478f4ff2",
   "metadata": {},
   "outputs": [
    {
     "name": "stdout",
     "output_type": "stream",
     "text": [
      "<class 'set'>\n",
      "{1, 2, 3, 4, 5} \n",
      "\n",
      "<class 'tuple'>\n",
      "(1, 2, 3, 4, 5) \n",
      "\n"
     ]
    }
   ],
   "source": [
    "my_set = {1,2,3,4,5}\n",
    "my_tuple = tuple(my_set)\n",
    "\n",
    "print(type(my_set))\n",
    "print(my_set, \"\\n\")\n",
    "\n",
    "print(type(my_tuple))\n",
    "print(my_tuple, \"\\n\")"
   ]
  },
  {
   "cell_type": "code",
   "execution_count": null,
   "id": "ed6299e8-926f-4f42-86af-dc0780086dda",
   "metadata": {},
   "outputs": [],
   "source": []
  }
 ],
 "metadata": {
  "kernelspec": {
   "display_name": "Python 3 (ipykernel)",
   "language": "python",
   "name": "python3"
  },
  "language_info": {
   "codemirror_mode": {
    "name": "ipython",
    "version": 3
   },
   "file_extension": ".py",
   "mimetype": "text/x-python",
   "name": "python",
   "nbconvert_exporter": "python",
   "pygments_lexer": "ipython3",
   "version": "3.11.5"
  }
 },
 "nbformat": 4,
 "nbformat_minor": 5
}
