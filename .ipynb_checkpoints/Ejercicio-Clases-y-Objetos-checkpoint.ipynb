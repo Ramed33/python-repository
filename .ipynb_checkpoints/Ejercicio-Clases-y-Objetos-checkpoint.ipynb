{
 "cells": [
  {
   "cell_type": "markdown",
   "id": "dfa80339-83a3-43ce-85d8-535b53615b9a",
   "metadata": {},
   "source": [
    "# Ejercicio Clases y Objetos"
   ]
  },
  {
   "cell_type": "code",
   "execution_count": 179,
   "id": "279461ca-e82a-4b82-a004-dea3e85026f9",
   "metadata": {},
   "outputs": [],
   "source": [
    "class Ubicacion:\n",
    "\n",
    "    def __init__(self, departamento, seccion, subseccion):\n",
    "        self.departamento = departamento\n",
    "        self.seccion = seccion\n",
    "        self.subseccion = subseccion\n",
    "        print(\"El departamento, la sección, la subsección y la ubicación se han creado correctamente\")\n",
    "\n",
    "    def print_departamento(self):\n",
    "        print(\"El departamento creado es: {}\".format(self.departamento))\n",
    "\n",
    "    def print_seccion(self):\n",
    "        print(\"La seccion creada es: {}\".format(self.seccion))\n",
    "\n",
    "    def print_subseccion(self):\n",
    "        print(\"La subsección creada es: {}\".format(self.subseccion))\n",
    "\n",
    "    def print_ubicacion(self):\n",
    "        print(\" La ubicación del artículo es:\\n Departamento: {} \\n Sección: {}\\n Subsección: {}\".format(self.departamento, self.seccion, self.subseccion))\n",
    "\n",
    "class Articulo(Ubicacion):\n",
    "\n",
    "    def __init__(self, departamento, seccion, subseccion, nombre, marca, precio):\n",
    "        super().__init__(departamento, seccion, subseccion)\n",
    "        self.nombre = nombre\n",
    "        self.marca = marca\n",
    "        self.precio = precio\n",
    "        print(\"El nombre, marca y precio del artículo se han creado correctamente\")\n",
    "\n",
    "    def print_article(self):\n",
    "        print(\" El artículo se encuentra en:\\n El departamento de {} \\n La sección es {}\\n La subsección es {}\\n El nombre es {}\\n La marca es {}\\n El precio es {}\".format(self.departamento, self.seccion, self.subseccion, self.nombre, self.marca, self.precio))"
   ]
  },
  {
   "cell_type": "code",
   "execution_count": 183,
   "id": "700dafea-9ce6-46e5-afb9-48437e2b638d",
   "metadata": {},
   "outputs": [
    {
     "name": "stdout",
     "output_type": "stream",
     "text": [
      "El departamento, la sección, la subsección y la ubicación se han creado correctamente\n",
      "El nombre, marca y precio del artículo se han creado correctamente\n"
     ]
    }
   ],
   "source": [
    "jersey_liverpool = Articulo(\"Deportes\", \"Ropa\", \"Jerseys\", \"Liverpool\", \"Nike\", \"1300\")"
   ]
  },
  {
   "cell_type": "code",
   "execution_count": 185,
   "id": "0624cc6e-2c83-444f-98a2-632ebe0cd9a0",
   "metadata": {},
   "outputs": [
    {
     "name": "stdout",
     "output_type": "stream",
     "text": [
      "El departamento creado es: Deportes\n"
     ]
    }
   ],
   "source": [
    "jersey_liverpool.print_departamento()"
   ]
  },
  {
   "cell_type": "code",
   "execution_count": 191,
   "id": "09b98ba2-f9d9-4232-baae-2c580a7b9576",
   "metadata": {},
   "outputs": [
    {
     "name": "stdout",
     "output_type": "stream",
     "text": [
      "La seccion creada es: Ropa\n"
     ]
    }
   ],
   "source": [
    "jersey_liverpool.print_seccion()"
   ]
  },
  {
   "cell_type": "code",
   "execution_count": 193,
   "id": "1f727318-568d-4a2c-878d-757ad89538c0",
   "metadata": {},
   "outputs": [
    {
     "name": "stdout",
     "output_type": "stream",
     "text": [
      "La subsección creada es: Jerseys\n"
     ]
    }
   ],
   "source": [
    "jersey_liverpool.print_subseccion()"
   ]
  },
  {
   "cell_type": "code",
   "execution_count": 195,
   "id": "0b29f024-10e2-45ae-a032-88ef9779237d",
   "metadata": {},
   "outputs": [
    {
     "name": "stdout",
     "output_type": "stream",
     "text": [
      " La ubicación del artículo es:\n",
      " Departamento: Deportes \n",
      " Sección: Ropa\n",
      " Subsección: Jerseys\n"
     ]
    }
   ],
   "source": [
    "jersey_liverpool.print_ubicacion()"
   ]
  },
  {
   "cell_type": "code",
   "execution_count": 197,
   "id": "8e344cbb-0231-4edd-9aed-2dc16604fb71",
   "metadata": {},
   "outputs": [
    {
     "name": "stdout",
     "output_type": "stream",
     "text": [
      " El artículo se encuentra en:\n",
      " El departamento de Deportes \n",
      " La sección es Ropa\n",
      " La subsección es Jerseys\n",
      " El nombre es Liverpool\n",
      " La marca es Nike\n",
      " El precio es 1300\n"
     ]
    }
   ],
   "source": [
    "jersey_liverpool.print_article()"
   ]
  },
  {
   "cell_type": "code",
   "execution_count": 199,
   "id": "8ba10a64-417f-41f7-ae93-97c2673f585d",
   "metadata": {},
   "outputs": [
    {
     "name": "stdout",
     "output_type": "stream",
     "text": [
      "El departamento, la sección, la subsección y la ubicación se han creado correctamente\n",
      "El nombre, marca y precio del artículo se han creado correctamente\n"
     ]
    }
   ],
   "source": [
    "laptop_elite = Articulo(\"Electrónicos\", \"Computo\", \"Laptops\", \"Elite Notebook\", \"HP\", \"21000\")"
   ]
  },
  {
   "cell_type": "code",
   "execution_count": 203,
   "id": "828123f7-4ff3-44bb-9de8-46d4f3c43267",
   "metadata": {},
   "outputs": [
    {
     "name": "stdout",
     "output_type": "stream",
     "text": [
      "El departamento creado es: Electrónicos\n"
     ]
    }
   ],
   "source": [
    "laptop_elite.print_departamento()"
   ]
  },
  {
   "cell_type": "code",
   "execution_count": 205,
   "id": "cb7ea9d4-d1f6-4840-9a90-63a6c7ee3a69",
   "metadata": {},
   "outputs": [
    {
     "name": "stdout",
     "output_type": "stream",
     "text": [
      "La seccion creada es: Computo\n"
     ]
    }
   ],
   "source": [
    "laptop_elite.print_seccion()"
   ]
  },
  {
   "cell_type": "code",
   "execution_count": 207,
   "id": "0f98a1dd-7bd9-4878-bdfc-ed0101d8ab6c",
   "metadata": {},
   "outputs": [
    {
     "name": "stdout",
     "output_type": "stream",
     "text": [
      "La subsección creada es: Laptops\n"
     ]
    }
   ],
   "source": [
    "laptop_elite.print_subseccion()"
   ]
  },
  {
   "cell_type": "code",
   "execution_count": 177,
   "id": "fbd3a32f-6a26-45de-acf7-9b8d89ef9529",
   "metadata": {},
   "outputs": [
    {
     "name": "stdout",
     "output_type": "stream",
     "text": [
      " La ubicación del artículo es:\n",
      " Departamento: Electrónicos \n",
      " Sección: Computo\n",
      " Subsección: Laptops\n"
     ]
    }
   ],
   "source": [
    "laptop_elite.print_ubicacion()"
   ]
  },
  {
   "cell_type": "code",
   "execution_count": 209,
   "id": "06302b1a-0143-443a-b8d4-333737a49190",
   "metadata": {},
   "outputs": [
    {
     "name": "stdout",
     "output_type": "stream",
     "text": [
      " El artículo se encuentra en:\n",
      " El departamento de Electrónicos \n",
      " La sección es Computo\n",
      " La subsección es Laptops\n",
      " El nombre es Elite Notebook\n",
      " La marca es HP\n",
      " El precio es 21000\n"
     ]
    }
   ],
   "source": [
    "laptop_elite.print_article()"
   ]
  },
  {
   "cell_type": "code",
   "execution_count": null,
   "id": "30b6c211-a857-47f0-adb1-bdb607741f73",
   "metadata": {},
   "outputs": [],
   "source": []
  }
 ],
 "metadata": {
  "kernelspec": {
   "display_name": "Python 3 (ipykernel)",
   "language": "python",
   "name": "python3"
  },
  "language_info": {
   "codemirror_mode": {
    "name": "ipython",
    "version": 3
   },
   "file_extension": ".py",
   "mimetype": "text/x-python",
   "name": "python",
   "nbconvert_exporter": "python",
   "pygments_lexer": "ipython3",
   "version": "3.11.5"
  }
 },
 "nbformat": 4,
 "nbformat_minor": 5
}
