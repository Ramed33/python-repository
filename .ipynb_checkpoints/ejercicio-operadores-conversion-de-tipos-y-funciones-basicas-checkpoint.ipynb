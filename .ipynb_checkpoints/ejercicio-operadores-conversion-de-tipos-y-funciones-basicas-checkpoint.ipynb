{
 "cells": [
  {
   "cell_type": "code",
   "execution_count": 45,
   "id": "d84d29e9-f791-4d5f-9080-5a062619cc1d",
   "metadata": {},
   "outputs": [
    {
     "name": "stdin",
     "output_type": "stream",
     "text": [
      " Ingresa + para suma:\n",
      " Ingresa - para resta:\n",
      " Ingresa * para multiplicación:\n",
      " Ingresa / para división:\n",
      " Ingresa ** para potencia:\n",
      " *\n"
     ]
    },
    {
     "name": "stdout",
     "output_type": "stream",
     "text": [
      "Ingresa cinco números a una list: \n",
      "Ingresa el numero 1 a la list: \n"
     ]
    },
    {
     "name": "stdin",
     "output_type": "stream",
     "text": [
      " 2\n"
     ]
    },
    {
     "name": "stdout",
     "output_type": "stream",
     "text": [
      "Ingresa el numero 2 a la list: \n"
     ]
    },
    {
     "name": "stdin",
     "output_type": "stream",
     "text": [
      " 3\n"
     ]
    },
    {
     "name": "stdout",
     "output_type": "stream",
     "text": [
      "Ingresa el numero 3 a la list: \n"
     ]
    },
    {
     "name": "stdin",
     "output_type": "stream",
     "text": [
      " 4\n"
     ]
    },
    {
     "name": "stdout",
     "output_type": "stream",
     "text": [
      "Ingresa el numero 4 a la list: \n"
     ]
    },
    {
     "name": "stdin",
     "output_type": "stream",
     "text": [
      " 6\n"
     ]
    },
    {
     "name": "stdout",
     "output_type": "stream",
     "text": [
      "Ingresa el numero 5 a la list: \n"
     ]
    },
    {
     "name": "stdin",
     "output_type": "stream",
     "text": [
      " 9\n"
     ]
    },
    {
     "name": "stdout",
     "output_type": "stream",
     "text": [
      "Ingresa cinco números a un set: \n",
      "Ingresa el numero 1 al set: \n"
     ]
    },
    {
     "name": "stdin",
     "output_type": "stream",
     "text": [
      " 1\n"
     ]
    },
    {
     "name": "stdout",
     "output_type": "stream",
     "text": [
      "Ingresa el numero 2 al set: \n"
     ]
    },
    {
     "name": "stdin",
     "output_type": "stream",
     "text": [
      " 23\n"
     ]
    },
    {
     "name": "stdout",
     "output_type": "stream",
     "text": [
      "Ingresa el numero 3 al set: \n"
     ]
    },
    {
     "name": "stdin",
     "output_type": "stream",
     "text": [
      " 45\n"
     ]
    },
    {
     "name": "stdout",
     "output_type": "stream",
     "text": [
      "Ingresa el numero 4 al set: \n"
     ]
    },
    {
     "name": "stdin",
     "output_type": "stream",
     "text": [
      " 78\n"
     ]
    },
    {
     "name": "stdout",
     "output_type": "stream",
     "text": [
      "Ingresa el numero 5 al set: \n"
     ]
    },
    {
     "name": "stdin",
     "output_type": "stream",
     "text": [
      " 87\n"
     ]
    },
    {
     "name": "stdout",
     "output_type": "stream",
     "text": [
      "Ingresa cinco números a una tupla: \n",
      "Ingresa el numero 1 a la tupla: \n"
     ]
    },
    {
     "name": "stdin",
     "output_type": "stream",
     "text": [
      " 5\n"
     ]
    },
    {
     "name": "stdout",
     "output_type": "stream",
     "text": [
      "Ingresa el numero 2 a la tupla: \n"
     ]
    },
    {
     "name": "stdin",
     "output_type": "stream",
     "text": [
      " 23\n"
     ]
    },
    {
     "name": "stdout",
     "output_type": "stream",
     "text": [
      "Ingresa el numero 3 a la tupla: \n"
     ]
    },
    {
     "name": "stdin",
     "output_type": "stream",
     "text": [
      " 7\n"
     ]
    },
    {
     "name": "stdout",
     "output_type": "stream",
     "text": [
      "Ingresa el numero 4 a la tupla: \n"
     ]
    },
    {
     "name": "stdin",
     "output_type": "stream",
     "text": [
      " 9\n"
     ]
    },
    {
     "name": "stdout",
     "output_type": "stream",
     "text": [
      "Ingresa el numero 5 a la tupla: \n"
     ]
    },
    {
     "name": "stdin",
     "output_type": "stream",
     "text": [
      " 78\n"
     ]
    },
    {
     "name": "stdout",
     "output_type": "stream",
     "text": [
      "Ingresa cinco números a un diccionario: \n",
      "Ingresa el numero 1 al diccionario: \n"
     ]
    },
    {
     "name": "stdin",
     "output_type": "stream",
     "text": [
      " 12\n"
     ]
    },
    {
     "name": "stdout",
     "output_type": "stream",
     "text": [
      "Ingresa el numero 2 al diccionario: \n"
     ]
    },
    {
     "name": "stdin",
     "output_type": "stream",
     "text": [
      " 5\n"
     ]
    },
    {
     "name": "stdout",
     "output_type": "stream",
     "text": [
      "Ingresa el numero 3 al diccionario: \n"
     ]
    },
    {
     "name": "stdin",
     "output_type": "stream",
     "text": [
      " 1\n"
     ]
    },
    {
     "name": "stdout",
     "output_type": "stream",
     "text": [
      "Ingresa el numero 4 al diccionario: \n"
     ]
    },
    {
     "name": "stdin",
     "output_type": "stream",
     "text": [
      " 2\n"
     ]
    },
    {
     "name": "stdout",
     "output_type": "stream",
     "text": [
      "Ingresa el numero 5 al diccionario: \n"
     ]
    },
    {
     "name": "stdin",
     "output_type": "stream",
     "text": [
      " 2\n"
     ]
    },
    {
     "name": "stdout",
     "output_type": "stream",
     "text": [
      "Los elementos de la lista son:  ['2', '3', '4', '6', '9']\n",
      "<class 'list'>\n",
      "La operacion seleccionada es:  *\n",
      "El resultado es:  1296\n",
      "Los elementos del set son:  {'45', '87', '23', '78', '1'}\n",
      "<class 'set'>\n",
      "Los elementos de un set no se pueden indexar, no se puede hacer la operación solicitada\n",
      "Los elementos de la tupla son:  ('5', '23', '7', '9', '78')\n",
      "<class 'tuple'>\n",
      "La operacion seleccionada es:  *\n",
      "El resultado es:  565110\n",
      "Los elementos del diccionario son:  {'elemento1': '12', 'elemento2': '5', 'elemento3': '1', 'elemento4': '2', 'elemento5': '2'}\n",
      "<class 'dict'>\n",
      "La operacion seleccionada es:  *\n",
      "El resultado es:  240\n"
     ]
    }
   ],
   "source": [
    "operacion = input(\" Ingresa + para suma:\\n Ingresa - para resta:\\n Ingresa * para multiplicación:\\n Ingresa / para división:\\n Ingresa ** para potencia:\\n\")\n",
    "my_list = []\n",
    "print(\"Ingresa cinco números a una list: \")\n",
    "for x in range (5):\n",
    "    x+=1\n",
    "    print(\"Ingresa el numero\", x, \"a la list: \")\n",
    "    number = input()\n",
    "    my_list.append(number)\n",
    "\n",
    "my_set = set()\n",
    "print(\"Ingresa cinco números a un set: \")\n",
    "for x in range (5):\n",
    "    x+=1\n",
    "    print(\"Ingresa el numero\", x, \"al set: \")\n",
    "    number = input()\n",
    "    my_set.add(number)\n",
    "\n",
    "my_tuple = ()\n",
    "print(\"Ingresa cinco números a una tupla: \")\n",
    "for x in range (5):\n",
    "    x+=1\n",
    "    print(\"Ingresa el numero\", x, \"a la tupla: \")\n",
    "    number = input()\n",
    "    y = list(my_tuple)\n",
    "    y.append(number)\n",
    "    my_tuple = tuple(y)\n",
    "\n",
    "my_dictionary = {}\n",
    "print(\"Ingresa cinco números a un diccionario: \")\n",
    "for x in range (5):\n",
    "    x += 1\n",
    "    print(\"Ingresa el numero\", x, \"al diccionario: \")\n",
    "    number = input()\n",
    "    y = str(x)\n",
    "    entrada = \"elemento\"+y\n",
    "    my_dictionary[entrada] = number\n",
    "\n",
    "print(\"Los elementos de la lista son: \", my_list)\n",
    "print(type(my_list))\n",
    "resultado = my_list[0]+operacion+my_list[1]+operacion+my_list[2]+operacion+my_list[3]+operacion+my_list[4]\n",
    "print(\"La operacion seleccionada es: \", operacion)\n",
    "print(\"El resultado es: \", eval(resultado))\n",
    "\n",
    "print(\"Los elementos del set son: \", my_set)\n",
    "print(type(my_set))\n",
    "print(\"Los elementos de un set no se pueden indexar, no se puede hacer la operación solicitada\")\n",
    "\n",
    "print(\"Los elementos de la tupla son: \", my_tuple)\n",
    "print(type(my_tuple))\n",
    "resultado = my_tuple[0]+operacion+my_tuple[1]+operacion+my_tuple[2]+operacion+my_tuple[3]+operacion+my_tuple[4]\n",
    "print(\"La operacion seleccionada es: \", operacion)\n",
    "print(\"El resultado es: \", eval(resultado))\n",
    "\n",
    "print(\"Los elementos del diccionario son: \", my_dictionary)\n",
    "print(type(my_dictionary))\n",
    "resultado = my_dictionary['elemento1']+operacion+my_dictionary['elemento2']+operacion+my_dictionary['elemento3']+operacion+my_dictionary['elemento4']+operacion+my_dictionary['elemento5']\n",
    "print(\"La operacion seleccionada es: \", operacion)\n",
    "print(\"El resultado es: \", eval(resultado))"
   ]
  },
  {
   "cell_type": "code",
   "execution_count": null,
   "id": "33cbf466-03aa-4aee-bbcc-97ae909d7f17",
   "metadata": {},
   "outputs": [],
   "source": []
  }
 ],
 "metadata": {
  "kernelspec": {
   "display_name": "Python 3 (ipykernel)",
   "language": "python",
   "name": "python3"
  },
  "language_info": {
   "codemirror_mode": {
    "name": "ipython",
    "version": 3
   },
   "file_extension": ".py",
   "mimetype": "text/x-python",
   "name": "python",
   "nbconvert_exporter": "python",
   "pygments_lexer": "ipython3",
   "version": "3.11.5"
  }
 },
 "nbformat": 4,
 "nbformat_minor": 5
}
