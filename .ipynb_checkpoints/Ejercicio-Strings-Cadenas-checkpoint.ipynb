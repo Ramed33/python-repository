{
 "cells": [
  {
   "cell_type": "markdown",
   "id": "ed074bef-37fa-4dee-80e2-a8dd27c2c6fa",
   "metadata": {},
   "source": [
    "# Ejercicio: Strings/Cadenas"
   ]
  },
  {
   "cell_type": "code",
   "execution_count": 34,
   "id": "7072717a-164e-4a42-b576-a1417007a62e",
   "metadata": {},
   "outputs": [
    {
     "name": "stdout",
     "output_type": "stream",
     "text": [
      "\n",
      "\n"
     ]
    },
    {
     "name": "stdin",
     "output_type": "stream",
     "text": [
      "De las palabras: bueno, defectuoso, regular. Teclea la que mejor defina el producto:  bueno\n",
      "De las palabras: excellente, malo, aceptable. Teclea la que mejor defina el producto:  malo\n",
      "De las palabras: maravilloso, horrible, mediocre. Teclea la que mejor defina el producto:  mediocre\n"
     ]
    },
    {
     "name": "stdout",
     "output_type": "stream",
     "text": [
      "\n",
      "\n",
      "Analizador de sentimientos\n",
      "\n",
      "Este producto es: bueno, malo y mediocre\n",
      "score: 0 \n",
      "resultado: Neutro\n"
     ]
    }
   ],
   "source": [
    "print(\"\\n\")\n",
    "x = input(\"De las palabras: bueno, defectuoso, regular. Teclea la que mejor defina el producto: \")\n",
    "y = input(\"De las palabras: excellente, malo, aceptable. Teclea la que mejor defina el producto: \")\n",
    "z = input(\"De las palabras: maravilloso, horrible, mediocre. Teclea la que mejor defina el producto: \")\n",
    "my_string_1 = \"Este producto es: {}, {} y {}\".format(x, y, z)\n",
    "positive_words = [\"bueno\", \"excelente\", \"maravilloso\"] \n",
    "negative_words = [\"defectuoso\", \"malo\", \"horrible\"]\n",
    "neutral_words = [\"regular\", \"aceptable\", \"mediocre\"]\n",
    "score = 0 \n",
    "for positive_word in positive_words:\n",
    "    score = score + my_string_1.count(positive_word) \n",
    "for negative_word in negative_words:\n",
    "    score = score - my_string_1.count(negative_word)\n",
    "for neutral_word in neutral_words:\n",
    "    score = score + my_string_1.count(neutral_word) - my_string_1.count(neutral_word)\n",
    "if score == 0:\n",
    "    result = \"Neutro\" \n",
    "if score > 0:\n",
    "    result = \"Positivo\" \n",
    "if score < 0:\n",
    "    result = \"Negativo\" \n",
    "print(\"\\n\")\n",
    "print(\"Analizador de sentimientos\\n\") \n",
    "print(\"{}\\nscore: {} \\nresultado: {}\".format(my_string_1, score, result))"
   ]
  },
  {
   "cell_type": "code",
   "execution_count": 36,
   "id": "4e16be18-3024-4ee8-83e7-523d780c068d",
   "metadata": {},
   "outputs": [
    {
     "name": "stdout",
     "output_type": "stream",
     "text": [
      "\n",
      "\n"
     ]
    },
    {
     "name": "stdin",
     "output_type": "stream",
     "text": [
      "De las palabras: bueno, defectuoso, regular. Teclea la que mejor defina el producto:  bueno\n",
      "De las palabras: excellente, malo, aceptable. Teclea la que mejor defina el producto:  aceptable\n",
      "De las palabras: maravilloso, horrible, mediocre. Teclea la que mejor defina el producto:  maravilloso\n"
     ]
    },
    {
     "name": "stdout",
     "output_type": "stream",
     "text": [
      "\n",
      "\n",
      "Analizador de sentimientos\n",
      "\n",
      "Este producto es: bueno, aceptable y maravilloso\n",
      "score: 2 \n",
      "resultado: Positivo\n"
     ]
    }
   ],
   "source": [
    "print(\"\\n\")\n",
    "x = input(\"De las palabras: bueno, defectuoso, regular. Teclea la que mejor defina el producto: \")\n",
    "y = input(\"De las palabras: excellente, malo, aceptable. Teclea la que mejor defina el producto: \")\n",
    "z = input(\"De las palabras: maravilloso, horrible, mediocre. Teclea la que mejor defina el producto: \")\n",
    "my_string_1 = \"Este producto es: {}, {} y {}\".format(x, y, z)\n",
    "positive_words = [\"bueno\", \"excelente\", \"maravilloso\"] \n",
    "negative_words = [\"defectuoso\", \"malo\", \"horrible\"]\n",
    "neutral_words = [\"regular\", \"aceptable\", \"mediocre\"]\n",
    "score = 0 \n",
    "for positive_word in positive_words:\n",
    "    score = score + my_string_1.count(positive_word) \n",
    "for negative_word in negative_words:\n",
    "    score = score - my_string_1.count(negative_word)\n",
    "for neutral_word in neutral_words:\n",
    "    score = score + my_string_1.count(neutral_word) - my_string_1.count(neutral_word)\n",
    "if score == 0:\n",
    "    result = \"Neutro\" \n",
    "if score > 0:\n",
    "    result = \"Positivo\" \n",
    "if score < 0:\n",
    "    result = \"Negativo\" \n",
    "print(\"\\n\")\n",
    "print(\"Analizador de sentimientos\\n\") \n",
    "print(\"{}\\nscore: {} \\nresultado: {}\".format(my_string_1, score, result))"
   ]
  },
  {
   "cell_type": "code",
   "execution_count": 38,
   "id": "8e91a24b-4077-45d7-aed7-0d9e9e8e9e95",
   "metadata": {},
   "outputs": [
    {
     "name": "stdout",
     "output_type": "stream",
     "text": [
      "\n",
      "\n"
     ]
    },
    {
     "name": "stdin",
     "output_type": "stream",
     "text": [
      "De las palabras: bueno, defectuoso, regular. Teclea la que mejor defina el producto:  defectuoso\n",
      "De las palabras: excellente, malo, aceptable. Teclea la que mejor defina el producto:  malo\n",
      "De las palabras: maravilloso, horrible, mediocre. Teclea la que mejor defina el producto:  mediocre\n"
     ]
    },
    {
     "name": "stdout",
     "output_type": "stream",
     "text": [
      "\n",
      "\n",
      "Analizador de sentimientos\n",
      "\n",
      "Este producto es: defectuoso, malo y mediocre\n",
      "score: -2 \n",
      "resultado: Negativo\n"
     ]
    }
   ],
   "source": [
    "print(\"\\n\")\n",
    "x = input(\"De las palabras: bueno, defectuoso, regular. Teclea la que mejor defina el producto: \")\n",
    "y = input(\"De las palabras: excellente, malo, aceptable. Teclea la que mejor defina el producto: \")\n",
    "z = input(\"De las palabras: maravilloso, horrible, mediocre. Teclea la que mejor defina el producto: \")\n",
    "my_string_1 = \"Este producto es: {}, {} y {}\".format(x, y, z)\n",
    "positive_words = [\"bueno\", \"excelente\", \"maravilloso\"] \n",
    "negative_words = [\"defectuoso\", \"malo\", \"horrible\"]\n",
    "neutral_words = [\"regular\", \"aceptable\", \"mediocre\"]\n",
    "score = 0 \n",
    "for positive_word in positive_words:\n",
    "    score = score + my_string_1.count(positive_word) \n",
    "for negative_word in negative_words:\n",
    "    score = score - my_string_1.count(negative_word)\n",
    "for neutral_word in neutral_words:\n",
    "    score = score + my_string_1.count(neutral_word) - my_string_1.count(neutral_word)\n",
    "if score == 0:\n",
    "    result = \"Neutro\" \n",
    "if score > 0:\n",
    "    result = \"Positivo\" \n",
    "if score < 0:\n",
    "    result = \"Negativo\" \n",
    "print(\"\\n\")\n",
    "print(\"Analizador de sentimientos\\n\") \n",
    "print(\"{}\\nscore: {} \\nresultado: {}\".format(my_string_1, score, result))"
   ]
  }
 ],
 "metadata": {
  "kernelspec": {
   "display_name": "Python 3 (ipykernel)",
   "language": "python",
   "name": "python3"
  },
  "language_info": {
   "codemirror_mode": {
    "name": "ipython",
    "version": 3
   },
   "file_extension": ".py",
   "mimetype": "text/x-python",
   "name": "python",
   "nbconvert_exporter": "python",
   "pygments_lexer": "ipython3",
   "version": "3.11.5"
  }
 },
 "nbformat": 4,
 "nbformat_minor": 5
}
