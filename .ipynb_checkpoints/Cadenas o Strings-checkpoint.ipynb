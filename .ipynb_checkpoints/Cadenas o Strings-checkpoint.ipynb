{
 "cells": [
  {
   "cell_type": "markdown",
   "id": "bc61240d-14b7-4fb4-a543-5d5ccead1315",
   "metadata": {},
   "source": [
    "# Indexación de cadenas"
   ]
  },
  {
   "cell_type": "markdown",
   "id": "f37a9ccc-b69c-4982-a2c4-7963671aa90e",
   "metadata": {},
   "source": [
    "- ¿Qué es un índice?\n",
    "- ¿Por qué es necesario?\n",
    "\n",
    "- Indexación significa acceder alos elementos\n",
    "- Para acceder alos elementos podemos utilizar corchetes \"[]\"\n",
    "- El índice ó número que pongamos se refiere a la posición dentro de la lista ordenada\n",
    "- La indexación puede utilizarse para extraer elementos individuales de una estructura de datos\n",
    "- En python, toda la indexación parte desde el número cero como primera posición\n",
    "- En python, tenemos dos tipos de índices:\n",
    "  - Positivos: comienzan desde 0; estos índices buscan de izquierda a derecha la posición solicitada\n",
    "  - Negativos comienzan desde -1; estos índices buscan de derecha a izquierda la posición solicitada"
   ]
  },
  {
   "cell_type": "markdown",
   "id": "e426236e-887e-49a8-b0a5-43b028c98ede",
   "metadata": {},
   "source": [
    "## Segmentación de cadenas"
   ]
  },
  {
   "cell_type": "code",
   "execution_count": 3,
   "id": "a1cc5d13-0aad-4af7-8980-30b414a1d4cf",
   "metadata": {},
   "outputs": [
    {
     "name": "stdout",
     "output_type": "stream",
     "text": [
      "Curso de backend python\n",
      "<class 'str'>\n",
      "C\n",
      "Curso\n",
      "Curso\n",
      "Curso de backend python\n",
      "de ba\n"
     ]
    }
   ],
   "source": [
    "# Índices positivos\n",
    "my_string = \"Curso de backend python\"\n",
    "print(my_string)\n",
    "print(type(my_string))\n",
    "print(my_string[0])\n",
    "print(my_string[0:5]) # 0,1,2,3,4\n",
    "print(my_string[:5]) # 0,1,2,3,4\n",
    "print(my_string[:]) # todos\n",
    "print(my_string[6:11]) # 6,7,8,9,10"
   ]
  },
  {
   "cell_type": "code",
   "execution_count": 5,
   "id": "d42a5dca-908b-44b5-9fc8-207e8d7514e9",
   "metadata": {},
   "outputs": [
    {
     "ename": "IndexError",
     "evalue": "string index out of range",
     "output_type": "error",
     "traceback": [
      "\u001b[1;31m---------------------------------------------------------------------------\u001b[0m",
      "\u001b[1;31mIndexError\u001b[0m                                Traceback (most recent call last)",
      "Cell \u001b[1;32mIn[5], line 3\u001b[0m\n\u001b[0;32m      1\u001b[0m \u001b[38;5;66;03m# error\u001b[39;00m\n\u001b[0;32m      2\u001b[0m my_string \u001b[38;5;241m=\u001b[39m \u001b[38;5;124m\"\u001b[39m\u001b[38;5;124mCurso de backend python\u001b[39m\u001b[38;5;124m\"\u001b[39m\n\u001b[1;32m----> 3\u001b[0m \u001b[38;5;28mprint\u001b[39m(my_string[\u001b[38;5;241m9999\u001b[39m])\n",
      "\u001b[1;31mIndexError\u001b[0m: string index out of range"
     ]
    }
   ],
   "source": [
    "# error\n",
    "my_string = \"Curso de backend python\"\n",
    "print(my_string[9999])"
   ]
  },
  {
   "cell_type": "code",
   "execution_count": 9,
   "id": "5359b431-757d-4c2e-bba4-c95a03ec42ce",
   "metadata": {},
   "outputs": [
    {
     "name": "stdout",
     "output_type": "stream",
     "text": [
      "n\n",
      "n\n",
      "ython\n"
     ]
    }
   ],
   "source": [
    "# Índices negativos\n",
    "my_string = \"Curso de backend python\"\n",
    "print(my_string[len(my_string)-1])\n",
    "print(my_string[-1])\n",
    "print(my_string[-5:])"
   ]
  },
  {
   "cell_type": "markdown",
   "id": "c26ef42a-cdd6-40b5-918a-516373ade53c",
   "metadata": {},
   "source": [
    "## Concatenación de cadenas"
   ]
  },
  {
   "cell_type": "code",
   "execution_count": 14,
   "id": "2131fd63-7494-47f5-a46a-e0b3f84a0faa",
   "metadata": {},
   "outputs": [
    {
     "name": "stdout",
     "output_type": "stream",
     "text": [
      "Curso\n",
      "Backend Python\n",
      "CursoBackend Python\n",
      "Curso Backend Python\n",
      "Curso Backend Python\n"
     ]
    }
   ],
   "source": [
    "my_string_1 = \"Curso\"\n",
    "my_string_2 = \"Backend Python\"\n",
    "print(my_string_1)\n",
    "print(my_string_2)\n",
    "print(my_string_1+my_string_2)\n",
    "print(my_string_1+\" \"+my_string_2)\n",
    "print(\"{} {}\".format(my_string_1, my_string_2)) # Esta forma es la más recomendada"
   ]
  },
  {
   "cell_type": "code",
   "execution_count": 18,
   "id": "d68320a4-005f-4f46-8eb4-5c75d633aa78",
   "metadata": {},
   "outputs": [
    {
     "name": "stdout",
     "output_type": "stream",
     "text": [
      "1020\n",
      "1020\n",
      "30\n",
      "30\n"
     ]
    }
   ],
   "source": [
    "my_string_1 = \"10\"\n",
    "my_string_2 = \"20\"\n",
    "print(my_string_1+my_string_2)\n",
    "print(eval(my_string_1+my_string_2))\n",
    "print(eval(\"{}+{}\".format(my_string_1, my_string_2)))\n",
    "print(int(my_string_1)+int(my_string_2))"
   ]
  },
  {
   "cell_type": "code",
   "execution_count": 20,
   "id": "6d759450-3648-4854-b51e-b3ea9d702f7d",
   "metadata": {},
   "outputs": [
    {
     "ename": "TypeError",
     "evalue": "unsupported operand type(s) for +: 'int' and 'str'",
     "output_type": "error",
     "traceback": [
      "\u001b[1;31m---------------------------------------------------------------------------\u001b[0m",
      "\u001b[1;31mTypeError\u001b[0m                                 Traceback (most recent call last)",
      "Cell \u001b[1;32mIn[20], line 2\u001b[0m\n\u001b[0;32m      1\u001b[0m \u001b[38;5;66;03m# error\u001b[39;00m\n\u001b[1;32m----> 2\u001b[0m \u001b[38;5;241m10\u001b[39m \u001b[38;5;241m+\u001b[39m \u001b[38;5;124m\"\u001b[39m\u001b[38;5;124m10\u001b[39m\u001b[38;5;124m\"\u001b[39m\n",
      "\u001b[1;31mTypeError\u001b[0m: unsupported operand type(s) for +: 'int' and 'str'"
     ]
    }
   ],
   "source": [
    "# error\n",
    "10 + \"10\""
   ]
  },
  {
   "cell_type": "markdown",
   "id": "ba54b35f-27b4-4fd3-83f5-05e202f88680",
   "metadata": {},
   "source": [
    "## Multiplicación de cadenas"
   ]
  },
  {
   "cell_type": "code",
   "execution_count": 23,
   "id": "fc3ccec6-7596-44ea-962b-26716c64bfc8",
   "metadata": {},
   "outputs": [
    {
     "name": "stdout",
     "output_type": "stream",
     "text": [
      "cargando...cargando...cargando...cargando...cargando...\n"
     ]
    }
   ],
   "source": [
    "my_string = \"cargando...\"\n",
    "print(my_string*5)"
   ]
  },
  {
   "cell_type": "code",
   "execution_count": 26,
   "id": "8fbd0363-9e24-432a-9e66-01f0c717d410",
   "metadata": {},
   "outputs": [
    {
     "name": "stdout",
     "output_type": "stream",
     "text": [
      "cargando...\n",
      "cargando...\n",
      "cargando...\n",
      "cargando...\n",
      "cargando...\n",
      "\n"
     ]
    }
   ],
   "source": [
    "my_string = \"cargando...\\n\"\n",
    "print(my_string*5)"
   ]
  },
  {
   "cell_type": "code",
   "execution_count": 28,
   "id": "cf38cd07-1e24-4133-8a64-9b7df3698a16",
   "metadata": {},
   "outputs": [
    {
     "name": "stdout",
     "output_type": "stream",
     "text": [
      "cargando...\n",
      "cargando...\n",
      "cargando...\n",
      "cargando...\n",
      "cargando...\n",
      "cargando...\n",
      "cargando...\n",
      "cargando...\n",
      "cargando...\n",
      "cargando...\n",
      "\n"
     ]
    }
   ],
   "source": [
    "my_string = \"cargando...\\n\"\n",
    "print(my_string*10)"
   ]
  },
  {
   "cell_type": "code",
   "execution_count": 32,
   "id": "f12702d2-f079-4ab1-9c54-ac43380d46a9",
   "metadata": {},
   "outputs": [
    {
     "name": "stdout",
     "output_type": "stream",
     "text": [
      "\n"
     ]
    }
   ],
   "source": [
    "# vacío\n",
    "my_string = \"cargando...\\n\"\n",
    "print(my_string*0)"
   ]
  },
  {
   "cell_type": "code",
   "execution_count": 34,
   "id": "e44ba231-1db8-407b-b5d0-37087463952f",
   "metadata": {},
   "outputs": [
    {
     "name": "stdout",
     "output_type": "stream",
     "text": [
      "\n"
     ]
    }
   ],
   "source": [
    "# vacío\n",
    "my_string = \"cargando...\\n\"\n",
    "print(my_string*-5)"
   ]
  },
  {
   "cell_type": "code",
   "execution_count": 36,
   "id": "82178d5d-0281-48d5-9936-b626803b0a8b",
   "metadata": {},
   "outputs": [
    {
     "name": "stdout",
     "output_type": "stream",
     "text": [
      "\n"
     ]
    }
   ],
   "source": [
    "# vacío\n",
    "my_string = \"cargando...\\n\"\n",
    "print(-5*my_string)"
   ]
  },
  {
   "cell_type": "code",
   "execution_count": 38,
   "id": "49fce8a2-63f8-4d1e-bcba-1743be014c79",
   "metadata": {},
   "outputs": [
    {
     "ename": "TypeError",
     "evalue": "can't multiply sequence by non-int of type 'float'",
     "output_type": "error",
     "traceback": [
      "\u001b[1;31m---------------------------------------------------------------------------\u001b[0m",
      "\u001b[1;31mTypeError\u001b[0m                                 Traceback (most recent call last)",
      "Cell \u001b[1;32mIn[38], line 3\u001b[0m\n\u001b[0;32m      1\u001b[0m \u001b[38;5;66;03m# error\u001b[39;00m\n\u001b[0;32m      2\u001b[0m my_string \u001b[38;5;241m=\u001b[39m \u001b[38;5;124m\"\u001b[39m\u001b[38;5;124mcargando...\u001b[39m\u001b[38;5;130;01m\\n\u001b[39;00m\u001b[38;5;124m\"\u001b[39m\n\u001b[1;32m----> 3\u001b[0m \u001b[38;5;28mprint\u001b[39m(\u001b[38;5;241m-\u001b[39m\u001b[38;5;241m5.0\u001b[39m\u001b[38;5;241m*\u001b[39mmy_string)\n",
      "\u001b[1;31mTypeError\u001b[0m: can't multiply sequence by non-int of type 'float'"
     ]
    }
   ],
   "source": [
    "# error\n",
    "my_string = \"cargando...\\n\"\n",
    "print(-5.0*my_string)"
   ]
  },
  {
   "cell_type": "markdown",
   "id": "39a0ddff-81fa-4fe0-8513-575bce9b8371",
   "metadata": {},
   "source": [
    "## Comparación de cadenas"
   ]
  },
  {
   "cell_type": "code",
   "execution_count": 41,
   "id": "59bceb7c-86a7-4d7b-92e5-c7c55e7b4cd9",
   "metadata": {},
   "outputs": [
    {
     "name": "stdout",
     "output_type": "stream",
     "text": [
      "True\n"
     ]
    }
   ],
   "source": [
    "my_string_1 = \"Prueba\"\n",
    "my_string_2 = \"prueba\"\n",
    "print(my_string_1 != my_string_2)"
   ]
  },
  {
   "cell_type": "code",
   "execution_count": 43,
   "id": "7408fd37-6857-4f0b-b6d4-52fb81563ae3",
   "metadata": {},
   "outputs": [
    {
     "name": "stdout",
     "output_type": "stream",
     "text": [
      "False\n"
     ]
    }
   ],
   "source": [
    "my_string_1 = \"Prueba\"\n",
    "my_string_2 = \"prueba\"\n",
    "print(my_string_1 == my_string_2)"
   ]
  },
  {
   "cell_type": "code",
   "execution_count": 45,
   "id": "96068a9d-418a-4491-9963-2dfe57961c7b",
   "metadata": {},
   "outputs": [
    {
     "name": "stdout",
     "output_type": "stream",
     "text": [
      "True\n"
     ]
    }
   ],
   "source": [
    "my_string_1 = \"Prueba\"\n",
    "my_string_2 = \"Prueba\"\n",
    "print(my_string_1 == my_string_2)"
   ]
  },
  {
   "cell_type": "code",
   "execution_count": 47,
   "id": "e158de94-b3e0-457d-8874-c2c5e7c1888f",
   "metadata": {},
   "outputs": [
    {
     "name": "stdout",
     "output_type": "stream",
     "text": [
      "False\n"
     ]
    }
   ],
   "source": [
    "my_string_1 = \"Prueba\"\n",
    "my_string_2 = \"Prueba\"\n",
    "print(my_string_1 != my_string_2)"
   ]
  },
  {
   "cell_type": "markdown",
   "id": "e21770dc-67b0-4cf2-bd8a-d6ebbabaa6a3",
   "metadata": {},
   "source": [
    "# Funciones de cadenas"
   ]
  },
  {
   "cell_type": "markdown",
   "id": "4aa77fa4-7208-4418-a6e6-31c3077e8dea",
   "metadata": {},
   "source": [
    "### split\n",
    "Divide la cadena basándose en el separador especificado"
   ]
  },
  {
   "cell_type": "code",
   "execution_count": 65,
   "id": "ccf23ab0-354c-4cab-b075-2865b2656519",
   "metadata": {},
   "outputs": [
    {
     "name": "stdout",
     "output_type": "stream",
     "text": [
      "['El', 'curso', 'de', 'Backend', 'Python', 'te', 'lleva', 'de', 'la', 'mano', 'para', 'que', 'aprendas', 'a', 'programar']\n"
     ]
    }
   ],
   "source": [
    "my_string = \"El curso de Backend Python te lleva de la mano para que aprendas a programar\"\n",
    "split_result = my_string.split(\" \")\n",
    "print(split_result)"
   ]
  },
  {
   "cell_type": "code",
   "execution_count": 58,
   "id": "97b02d49-9786-4cd0-bec6-e97819282f87",
   "metadata": {},
   "outputs": [
    {
     "name": "stdout",
     "output_type": "stream",
     "text": [
      "user123\n",
      "gmail.com\n"
     ]
    }
   ],
   "source": [
    "my_string = \"user123@gmail.com\"\n",
    "user_name, domain = my_string.split(\"@\")\n",
    "print(user_name)\n",
    "print(domain)"
   ]
  },
  {
   "cell_type": "code",
   "execution_count": 62,
   "id": "ebbd06f8-4e5d-4a9e-825e-9a0d524080c4",
   "metadata": {},
   "outputs": [
    {
     "name": "stdout",
     "output_type": "stream",
     "text": [
      "date:  2022-09-28\n",
      "log_level:  error\n",
      "message:  Este es un mensaje de error\n",
      "date:  2022-09-27\n",
      "log_level:  warning\n",
      "message:  Este es un mensaje de advertencia\n",
      "date:  2022-09-25\n",
      "log_level:  info\n",
      "message:  Este es un mensaje informativo\n"
     ]
    }
   ],
   "source": [
    "my_string = \"\"\"2022-09-28|error|Este es un mensaje de error\n",
    "2022-09-27|warning|Este es un mensaje de advertencia\n",
    "2022-09-25|info|Este es un mensaje informativo\"\"\"\n",
    "\n",
    "logs = my_string.split(\"\\n\")\n",
    "for log in logs:\n",
    "    date, log_level, message = log.split(\"|\")\n",
    "    print(\"date: \", date)\n",
    "    print(\"log_level: \", log_level)\n",
    "    print(\"message: \", message)"
   ]
  },
  {
   "cell_type": "markdown",
   "id": "63af8377-6044-4669-b2f6-2cc5320fe88f",
   "metadata": {},
   "source": [
    "### index / find\n",
    "Busca la primer posición de la subcadena solicitada en la cadena deseada"
   ]
  },
  {
   "cell_type": "code",
   "execution_count": 69,
   "id": "46b30a8d-2629-4597-9105-8f799ed2501f",
   "metadata": {},
   "outputs": [
    {
     "name": "stdout",
     "output_type": "stream",
     "text": [
      "La primera posición de 'Python' en my_string es:  20\n",
      "La primera posición de 'Python' en my_string es:  20\n"
     ]
    }
   ],
   "source": [
    "my_string = \"El curso de Backend Python te lleva de la mano para que aprendas a programar\"\n",
    "\n",
    "print(\"La primera posición de 'Python' en my_string es: \", my_string.index(\"Python\"))\n",
    "print(\"La primera posición de 'Python' en my_string es: \", my_string.find(\"Python\"))"
   ]
  },
  {
   "cell_type": "code",
   "execution_count": 71,
   "id": "72ed3e24-a4dd-4d01-814c-f894dbef5d4b",
   "metadata": {},
   "outputs": [
    {
     "name": "stdout",
     "output_type": "stream",
     "text": [
      "La primera posición de 'Backend' en my_string es:  12\n",
      "La primera posición de 'Backend' en my_string es:  12\n"
     ]
    }
   ],
   "source": [
    "my_string = \"El curso de Backend Python te lleva de la mano para que aprendas a programar\"\n",
    "\n",
    "print(\"La primera posición de 'Backend' en my_string es: \", my_string.index(\"Backend\"))\n",
    "print(\"La primera posición de 'Backend' en my_string es: \", my_string.find(\"Backend\"))"
   ]
  },
  {
   "cell_type": "code",
   "execution_count": 75,
   "id": "ae7bc8cc-7310-47fc-802f-159e8871ca60",
   "metadata": {},
   "outputs": [
    {
     "name": "stdout",
     "output_type": "stream",
     "text": [
      "La primera posición de 'E' en my_string es:  0\n",
      "La primera posición de 'E' en my_string es:  0\n"
     ]
    }
   ],
   "source": [
    "my_string = \"El curso de Backend Python te lleva de la mano para que aprendas a programar\"\n",
    "\n",
    "print(\"La primera posición de 'E' en my_string es: \", my_string.index(\"E\"))\n",
    "print(\"La primera posición de 'E' en my_string es: \", my_string.find(\"E\"))"
   ]
  },
  {
   "cell_type": "markdown",
   "id": "e294aed6-41c4-4811-be8c-7e3b3356b46a",
   "metadata": {},
   "source": [
    "### count\n",
    "Cuenta el número de apariciones de la subcadena solicitada en la cadena completa"
   ]
  },
  {
   "cell_type": "code",
   "execution_count": 78,
   "id": "cf55520b-6df8-4a72-aa92-6775269d4956",
   "metadata": {},
   "outputs": [
    {
     "name": "stdout",
     "output_type": "stream",
     "text": [
      "La cantidad de 'E' en my_string es:  1\n"
     ]
    }
   ],
   "source": [
    "my_string = \"El curso de Backend Python te lleva de la mano para que aprendas a programar\"\n",
    "\n",
    "print(\"La cantidad de 'E' en my_string es: \", my_string.count(\"E\"))"
   ]
  },
  {
   "cell_type": "code",
   "execution_count": 80,
   "id": "933d5afc-7797-451a-8b2e-163e67ecf890",
   "metadata": {},
   "outputs": [
    {
     "name": "stdout",
     "output_type": "stream",
     "text": [
      "La cantidad de 'de' en my_string es:  2\n"
     ]
    }
   ],
   "source": [
    "my_string = \"El curso de Backend Python te lleva de la mano para que aprendas a programar\"\n",
    "\n",
    "print(\"La cantidad de 'de' en my_string es: \", my_string.count(\"de\"))"
   ]
  },
  {
   "cell_type": "markdown",
   "id": "9588f26a-fed8-4600-a868-86680354a3c7",
   "metadata": {},
   "source": [
    "### len\n",
    "Cuenta la longitud o cuántos caracteres hay"
   ]
  },
  {
   "cell_type": "code",
   "execution_count": 87,
   "id": "0a965a1f-09d0-4554-ad02-0cee27636deb",
   "metadata": {},
   "outputs": [
    {
     "name": "stdout",
     "output_type": "stream",
     "text": [
      "La cantidad de caracteres en my_string es:  84\n"
     ]
    }
   ],
   "source": [
    "my_string = \"El curso de Backend Python de EBAC te lleva de la mano para que aprendas a programar\"\n",
    "\n",
    "print(\"La cantidad de caracteres en my_string es: \", len(my_string))"
   ]
  },
  {
   "cell_type": "code",
   "execution_count": 92,
   "id": "c632bf3e-3ff5-4ec9-a9ba-b1cb0a1526ae",
   "metadata": {},
   "outputs": [
    {
     "name": "stdout",
     "output_type": "stream",
     "text": [
      "La cantidad de caracteres en my_string es:  14\n"
     ]
    }
   ],
   "source": [
    "my_string = \"Backend Python\"\n",
    "\n",
    "print(\"La cantidad de caracteres en my_string es: \", len(my_string))"
   ]
  },
  {
   "cell_type": "markdown",
   "id": "d64f57ab-18a5-458e-8961-6314daf981b0",
   "metadata": {},
   "source": [
    "### strip\n",
    "Remueve espacios"
   ]
  },
  {
   "cell_type": "code",
   "execution_count": 100,
   "id": "e0d07195-06d9-405a-bb3a-3ca2e414a59a",
   "metadata": {},
   "outputs": [
    {
     "name": "stdout",
     "output_type": "stream",
     "text": [
      "[    Backend Python    ]\n",
      "[Backend Python]\n"
     ]
    }
   ],
   "source": [
    "my_string = \"    Backend Python    \"\n",
    "print(\"[{}]\".format(my_string))\n",
    "print(\"[{}]\".format(my_string.strip()))"
   ]
  },
  {
   "cell_type": "code",
   "execution_count": 102,
   "id": "21fa229b-8eb7-4ef1-84b2-bd555a5ecaa9",
   "metadata": {},
   "outputs": [
    {
     "name": "stdout",
     "output_type": "stream",
     "text": [
      "[    \n",
      "\n",
      "Backend Python\n",
      "\n",
      "    ]\n",
      "[Backend Python]\n"
     ]
    }
   ],
   "source": [
    "my_string = \"    \\n\\n\\t\\rBackend Python\\n\\n\\t\\r    \"\n",
    "print(\"[{}]\".format(my_string))\n",
    "print(\"[{}]\".format(my_string.strip()))"
   ]
  },
  {
   "cell_type": "code",
   "execution_count": 106,
   "id": "e8d29c97-86c6-4d48-aab7-1c7ab23ee344",
   "metadata": {},
   "outputs": [
    {
     "name": "stdout",
     "output_type": "stream",
     "text": [
      "[nBackend Python]\n",
      "[Backend Pytho]\n"
     ]
    }
   ],
   "source": [
    "my_string = \"nBackend Python\"\n",
    "print(\"[{}]\".format(my_string))\n",
    "print(\"[{}]\".format(my_string.strip(\"n\")))"
   ]
  },
  {
   "cell_type": "markdown",
   "id": "a1f93344-d643-4f1d-ac81-67f04fff9d5b",
   "metadata": {},
   "source": [
    "### isdecimal/isnumeric/isdigit\n",
    "Analiza si la cadena o string contiene solamente números enteros"
   ]
  },
  {
   "cell_type": "code",
   "execution_count": 111,
   "id": "20eb6c93-210a-408c-a525-9c2221d0895e",
   "metadata": {},
   "outputs": [
    {
     "name": "stdout",
     "output_type": "stream",
     "text": [
      "True\n",
      "True\n",
      "True\n"
     ]
    }
   ],
   "source": [
    "my_string = \"123456789\"\n",
    "print(my_string.isdecimal())\n",
    "print(my_string.isnumeric())\n",
    "print(my_string.isdigit())"
   ]
  },
  {
   "cell_type": "code",
   "execution_count": 113,
   "id": "02807ad7-7de9-4fdd-ab75-c0e6d5d631b5",
   "metadata": {},
   "outputs": [
    {
     "name": "stdout",
     "output_type": "stream",
     "text": [
      "False\n",
      "False\n",
      "False\n"
     ]
    }
   ],
   "source": [
    "my_string = \"1234.56789\"\n",
    "print(my_string.isdecimal())\n",
    "print(my_string.isnumeric())\n",
    "print(my_string.isdigit())"
   ]
  },
  {
   "cell_type": "code",
   "execution_count": 115,
   "id": "3d86ffb9-6faf-44ee-9929-869fba4e8061",
   "metadata": {},
   "outputs": [
    {
     "name": "stdout",
     "output_type": "stream",
     "text": [
      "False\n",
      "False\n",
      "False\n"
     ]
    }
   ],
   "source": [
    "my_string = \"123456789test\"\n",
    "print(my_string.isdecimal())\n",
    "print(my_string.isnumeric())\n",
    "print(my_string.isdigit())"
   ]
  },
  {
   "cell_type": "code",
   "execution_count": 117,
   "id": "6f06ab36-7db6-4f4d-9b5e-ea146d4f8c1b",
   "metadata": {},
   "outputs": [
    {
     "name": "stdout",
     "output_type": "stream",
     "text": [
      "False\n",
      "False\n",
      "False\n"
     ]
    }
   ],
   "source": [
    "my_string = \"1234 56789\"\n",
    "print(my_string.isdecimal())\n",
    "print(my_string.isnumeric())\n",
    "print(my_string.isdigit())"
   ]
  },
  {
   "cell_type": "markdown",
   "id": "cb2c70d2-e81c-45fb-969f-a184ef719d0b",
   "metadata": {},
   "source": [
    "# isalnum\n",
    "Analiza si todos los caracteres son alfanuméricos (letras ó números)"
   ]
  },
  {
   "cell_type": "code",
   "execution_count": 120,
   "id": "c410c1ef-2a7e-4c3e-af93-b2f80b7119f7",
   "metadata": {},
   "outputs": [
    {
     "name": "stdout",
     "output_type": "stream",
     "text": [
      "True\n"
     ]
    }
   ],
   "source": [
    "my_string = \"123456789\"\n",
    "print(my_string.isalnum())"
   ]
  },
  {
   "cell_type": "code",
   "execution_count": 122,
   "id": "ab82ce12-4a67-4276-a42f-832626d0caea",
   "metadata": {},
   "outputs": [
    {
     "name": "stdout",
     "output_type": "stream",
     "text": [
      "True\n"
     ]
    }
   ],
   "source": [
    "my_string = \"123456789test\"\n",
    "print(my_string.isalnum())"
   ]
  },
  {
   "cell_type": "code",
   "execution_count": 124,
   "id": "77de3a4e-14ce-4a37-b41e-136d26259b98",
   "metadata": {},
   "outputs": [
    {
     "name": "stdout",
     "output_type": "stream",
     "text": [
      "False\n"
     ]
    }
   ],
   "source": [
    "my_string = \"1234 56789\"\n",
    "print(my_string.isalnum())"
   ]
  },
  {
   "cell_type": "markdown",
   "id": "581a5e90-c12c-4df2-92dd-5131f139811c",
   "metadata": {},
   "source": [
    "### isupper\n",
    "Analiza si todas las letras presentes en la cadena son todas mayúsculas"
   ]
  },
  {
   "cell_type": "code",
   "execution_count": 129,
   "id": "3428f347-2516-421b-82c1-d3a198c08fc2",
   "metadata": {},
   "outputs": [
    {
     "name": "stdout",
     "output_type": "stream",
     "text": [
      "False\n"
     ]
    }
   ],
   "source": [
    "my_string = \"test\"\n",
    "print(my_string.isupper())"
   ]
  },
  {
   "cell_type": "code",
   "execution_count": 135,
   "id": "04d70285-f510-4564-a495-ec6efc561ff9",
   "metadata": {},
   "outputs": [
    {
     "name": "stdout",
     "output_type": "stream",
     "text": [
      "True\n"
     ]
    }
   ],
   "source": [
    "my_string = \"TEST\"\n",
    "print(my_string.isupper())"
   ]
  },
  {
   "cell_type": "code",
   "execution_count": 137,
   "id": "4782ac65-114f-40c8-8386-f0f0ef7a1fed",
   "metadata": {},
   "outputs": [
    {
     "name": "stdout",
     "output_type": "stream",
     "text": [
      "False\n"
     ]
    }
   ],
   "source": [
    "my_string = \"Test\"\n",
    "print(my_string.isupper())"
   ]
  },
  {
   "cell_type": "code",
   "execution_count": 139,
   "id": "212282d5-5c73-4153-ba4b-a2e08d0e6b33",
   "metadata": {},
   "outputs": [
    {
     "name": "stdout",
     "output_type": "stream",
     "text": [
      "True\n"
     ]
    }
   ],
   "source": [
    "my_string = \"TEST123\"\n",
    "print(my_string.isupper())"
   ]
  },
  {
   "cell_type": "markdown",
   "id": "f26531fc-cf38-42b7-b22c-31dcb98cb60b",
   "metadata": {},
   "source": [
    "### islower\n",
    "Analiza si todas las letras presentes en la cadena son minúsculas"
   ]
  },
  {
   "cell_type": "code",
   "execution_count": 142,
   "id": "0337fe75-2881-4d9b-b362-5386c471288a",
   "metadata": {},
   "outputs": [
    {
     "name": "stdout",
     "output_type": "stream",
     "text": [
      "True\n"
     ]
    }
   ],
   "source": [
    "my_string = \"test\"\n",
    "print(my_string.islower())"
   ]
  },
  {
   "cell_type": "code",
   "execution_count": 146,
   "id": "d8944179-39ba-4629-ab91-216c6c91d8e5",
   "metadata": {},
   "outputs": [
    {
     "name": "stdout",
     "output_type": "stream",
     "text": [
      "False\n"
     ]
    }
   ],
   "source": [
    "my_string = \"TEST\"\n",
    "print(my_string.islower())"
   ]
  },
  {
   "cell_type": "code",
   "execution_count": 148,
   "id": "73bb1911-05b8-4008-8e65-6b914eafb977",
   "metadata": {},
   "outputs": [
    {
     "name": "stdout",
     "output_type": "stream",
     "text": [
      "False\n"
     ]
    }
   ],
   "source": [
    "my_string = \"TEST123\"\n",
    "print(my_string.islower())"
   ]
  },
  {
   "cell_type": "code",
   "execution_count": 150,
   "id": "268d6481-7384-46e0-99ce-a720dfdeb99f",
   "metadata": {},
   "outputs": [
    {
     "name": "stdout",
     "output_type": "stream",
     "text": [
      "True\n"
     ]
    }
   ],
   "source": [
    "my_string = \"test123\"\n",
    "print(my_string.islower())"
   ]
  },
  {
   "cell_type": "markdown",
   "id": "63c0e1a5-34e1-4fc6-8a64-0cb725a3a699",
   "metadata": {},
   "source": [
    "### join\n",
    "Crea una cadena de una lista, usando el separador especificado"
   ]
  },
  {
   "cell_type": "code",
   "execution_count": 155,
   "id": "320501d1-0c3d-445b-a73d-82c220bae170",
   "metadata": {},
   "outputs": [
    {
     "name": "stdout",
     "output_type": "stream",
     "text": [
      "32|22|389\n"
     ]
    }
   ],
   "source": [
    "num_list = [\"32\", \"22\", \"389\"] # list\n",
    "separator = \"|\"\n",
    "print(separator.join(num_list))"
   ]
  },
  {
   "cell_type": "code",
   "execution_count": 157,
   "id": "4c964e30-4713-4050-a261-f3c8ef7ccc50",
   "metadata": {},
   "outputs": [
    {
     "name": "stdout",
     "output_type": "stream",
     "text": [
      "32-22-389\n"
     ]
    }
   ],
   "source": [
    "num_list = [\"32\", \"22\", \"389\"] # list\n",
    "separator = \"-\"\n",
    "print(separator.join(num_list))"
   ]
  },
  {
   "cell_type": "code",
   "execution_count": 159,
   "id": "e86b12bb-b2a9-4313-bc3c-7265b0259f38",
   "metadata": {},
   "outputs": [
    {
     "name": "stdout",
     "output_type": "stream",
     "text": [
      "32,22,389\n"
     ]
    }
   ],
   "source": [
    "num_list = [\"32\", \"22\", \"389\"] # list\n",
    "separator = \",\"\n",
    "print(separator.join(num_list))"
   ]
  },
  {
   "cell_type": "markdown",
   "id": "2abbf639-0f0c-4b61-b117-80a61e403641",
   "metadata": {},
   "source": [
    "### capitalize\n",
    "Hace mayúcula la primer letra"
   ]
  },
  {
   "cell_type": "markdown",
   "id": "38fdcfa1-2a3c-4166-925b-3569f9576e80",
   "metadata": {},
   "source": [
    "my_string = \"backend Python\"\n",
    "print(my_string.capitalize())"
   ]
  },
  {
   "cell_type": "markdown",
   "id": "66e2d460-afeb-4d65-8d6c-c214e94e04f1",
   "metadata": {},
   "source": [
    "### format\n",
    "Nos ayuda a configurar valores dentro de una cadena que es nuestro molde"
   ]
  },
  {
   "cell_type": "code",
   "execution_count": 171,
   "id": "a40d1c93-2932-455d-94b5-4aea9766c3ae",
   "metadata": {},
   "outputs": [
    {
     "name": "stdout",
     "output_type": "stream",
     "text": [
      "44 es el valor\n",
      "38 es el valor\n",
      "7 es el valor\n"
     ]
    }
   ],
   "source": [
    "my_string = \"{} es el valor\"\n",
    "print(my_string.format(\"44\"))\n",
    "print(my_string.format(\"38\"))\n",
    "print(my_string.format(\"7\"))"
   ]
  },
  {
   "cell_type": "code",
   "execution_count": 179,
   "id": "b0848a94-027e-4434-a518-1e39a2132eb1",
   "metadata": {},
   "outputs": [
    {
     "name": "stdout",
     "output_type": "stream",
     "text": [
      "año: 1995 hora: 9:40\n",
      "año: 2000 hora: 14:30\n",
      "año: 2024 hora: 3:21\n"
     ]
    }
   ],
   "source": [
    "my_string = \"año: {} hora: {}\"\n",
    "print(my_string.format(\"1995\", \"9:40\"))\n",
    "print(my_string.format(\"2000\", \"14:30\"))\n",
    "print(my_string.format(\"2024\", \"3:21\"))"
   ]
  },
  {
   "cell_type": "code",
   "execution_count": 183,
   "id": "96a851a5-4a66-4cd2-95c4-b273e28e29ab",
   "metadata": {},
   "outputs": [
    {
     "name": "stdout",
     "output_type": "stream",
     "text": [
      "hora: 9:40 año: 1995\n",
      "hora: 14:30 año: 2000\n",
      "hora: 3:21 año: 2024\n"
     ]
    }
   ],
   "source": [
    "my_string = \"hora: {1} año: {0}\" # se usan índices para acomodar\n",
    "print(my_string.format(\"1995\", \"9:40\"))\n",
    "print(my_string.format(\"2000\", \"14:30\"))\n",
    "print(my_string.format(\"2024\", \"3:21\"))"
   ]
  },
  {
   "cell_type": "markdown",
   "id": "6dffd5f6-8386-415b-9d48-d8df550dab2d",
   "metadata": {},
   "source": [
    "### center\n",
    "Centra el texto dada cierta longitud"
   ]
  },
  {
   "cell_type": "code",
   "execution_count": 190,
   "id": "03e903fa-5b2e-4b45-9d8b-85ffb15ee4ab",
   "metadata": {},
   "outputs": [
    {
     "name": "stdout",
     "output_type": "stream",
     "text": [
      "[ Probando funciones ]\n",
      "[      Probando funciones      ]\n",
      "[           Probando funciones           ]\n",
      "[                Probando funciones                ]\n"
     ]
    }
   ],
   "source": [
    "my_string = \"Probando funciones\"\n",
    "print(\"[{}]\".format(my_string.center(20)))\n",
    "print(\"[{}]\".format(my_string.center(30)))\n",
    "print(\"[{}]\".format(my_string.center(40)))\n",
    "print(\"[{}]\".format(my_string.center(50)))"
   ]
  },
  {
   "cell_type": "markdown",
   "id": "0559ed34-dcb0-496b-ae3e-c1f028ed2888",
   "metadata": {},
   "source": [
    "### endswidth\n",
    "Evalúa si la cadena termina con el caracter, palabra ó subcadena solicitada"
   ]
  },
  {
   "cell_type": "code",
   "execution_count": 193,
   "id": "210ab368-e4cb-41c7-98d2-194e5f61b90b",
   "metadata": {},
   "outputs": [
    {
     "name": "stdout",
     "output_type": "stream",
     "text": [
      "True\n"
     ]
    }
   ],
   "source": [
    "my_string = \"Probando funciones\"\n",
    "print(my_string.endswith(\"funciones\"))"
   ]
  },
  {
   "cell_type": "code",
   "execution_count": 195,
   "id": "fb771b63-67de-418c-b2ce-d584d00a4dea",
   "metadata": {},
   "outputs": [
    {
     "name": "stdout",
     "output_type": "stream",
     "text": [
      "True\n"
     ]
    }
   ],
   "source": [
    "my_string = \"Probando funciones\"\n",
    "print(my_string.endswith(\"ando funciones\"))"
   ]
  },
  {
   "cell_type": "code",
   "execution_count": 198,
   "id": "5cc376d3-dfac-4105-84b9-a008596e2ea6",
   "metadata": {},
   "outputs": [
    {
     "name": "stdout",
     "output_type": "stream",
     "text": [
      "False\n"
     ]
    }
   ],
   "source": [
    "my_string = \"Probando funciones\"\n",
    "print(my_string.endswith(\"Probando\"))"
   ]
  },
  {
   "cell_type": "markdown",
   "id": "b3b3d713-e369-41f0-acbe-1de9aa62c4a9",
   "metadata": {},
   "source": [
    "### swapcase\n",
    "Invierte mayúsculas y minúsculas"
   ]
  },
  {
   "cell_type": "code",
   "execution_count": 202,
   "id": "dffc1128-07d0-4629-a87a-69f3df35d0a5",
   "metadata": {},
   "outputs": [
    {
     "name": "stdout",
     "output_type": "stream",
     "text": [
      "pROBANDO FUNCIONES\n"
     ]
    }
   ],
   "source": [
    "my_string = \"Probando funciones\"\n",
    "print(my_string.swapcase())"
   ]
  },
  {
   "cell_type": "code",
   "execution_count": 204,
   "id": "975af2eb-74e7-45c9-89d4-d9240733326c",
   "metadata": {},
   "outputs": [
    {
     "name": "stdout",
     "output_type": "stream",
     "text": [
      "probando FUNCIONES\n"
     ]
    }
   ],
   "source": [
    "my_string = \"PROBANDO funciones\"\n",
    "print(my_string.swapcase())"
   ]
  },
  {
   "cell_type": "code",
   "execution_count": 206,
   "id": "00d0370f-0ddc-45ed-84fc-f95a53610195",
   "metadata": {},
   "outputs": [
    {
     "name": "stdout",
     "output_type": "stream",
     "text": [
      "pROBANDO fUNCIONES\n"
     ]
    }
   ],
   "source": [
    "my_string = \"Probando Funciones\"\n",
    "print(my_string.swapcase())"
   ]
  },
  {
   "cell_type": "markdown",
   "id": "77d38825-538e-4b5d-a4cf-a594905c9df8",
   "metadata": {},
   "source": [
    "### replace\n",
    "Reemplaza una subcadena por otra subcadena dentro de una cadena"
   ]
  },
  {
   "cell_type": "code",
   "execution_count": 209,
   "id": "d191b80c-4b02-4e1a-b195-bba1a03d16c4",
   "metadata": {},
   "outputs": [
    {
     "name": "stdout",
     "output_type": "stream",
     "text": [
      "Utilizando funciones\n"
     ]
    }
   ],
   "source": [
    "my_string = \"Probando funciones\"\n",
    "print(my_string.replace(\"Probando\", \"Utilizando\"))"
   ]
  },
  {
   "cell_type": "code",
   "execution_count": 211,
   "id": "9500540a-44fe-4807-bd1d-f7f7d9392369",
   "metadata": {},
   "outputs": [
    {
     "name": "stdout",
     "output_type": "stream",
     "text": [
      "Probando\n",
      "funciones\n"
     ]
    }
   ],
   "source": [
    "my_string = \"Probando funciones\"\n",
    "print(my_string.replace(\" \", \"\\n\"))"
   ]
  },
  {
   "cell_type": "code",
   "execution_count": 213,
   "id": "d106b910-d3e5-4f55-9486-826656061134",
   "metadata": {},
   "outputs": [
    {
     "name": "stdout",
     "output_type": "stream",
     "text": [
      "PrObandO funciOnes\n"
     ]
    }
   ],
   "source": [
    "my_string = \"Probando funciones\"\n",
    "print(my_string.replace(\"o\", \"O\"))"
   ]
  },
  {
   "cell_type": "code",
   "execution_count": 215,
   "id": "280b9d2d-814c-4288-9639-5fe1414e6e9b",
   "metadata": {},
   "outputs": [
    {
     "name": "stdout",
     "output_type": "stream",
     "text": [
      "Probando funciones\n"
     ]
    }
   ],
   "source": [
    "my_string = \"Probando funciones\"\n",
    "print(my_string.replace(\"y\", \"O\"))"
   ]
  },
  {
   "cell_type": "markdown",
   "id": "2e520329-7872-496e-9a3c-53e6ad5829fe",
   "metadata": {},
   "source": [
    "### Formateo de cadenas y datetime"
   ]
  },
  {
   "cell_type": "code",
   "execution_count": 221,
   "id": "0de903d2-bc39-455e-b240-dd4c9a591969",
   "metadata": {},
   "outputs": [
    {
     "name": "stdout",
     "output_type": "stream",
     "text": [
      "2024-09-11 16:48:16.478229\n"
     ]
    }
   ],
   "source": [
    "from datetime import datetime\n",
    "now = datetime.now()\n",
    "\n",
    "print(now)"
   ]
  },
  {
   "cell_type": "code",
   "execution_count": 223,
   "id": "63b27825-0ce1-4d6c-8966-38f6aeb4e17c",
   "metadata": {},
   "outputs": [
    {
     "name": "stdout",
     "output_type": "stream",
     "text": [
      "AÑO:  2024\n",
      "MES:  09\n",
      "DÍA:  11\n",
      "HORA:  16:48:16\n"
     ]
    }
   ],
   "source": [
    "year = now.strftime(\"%Y\")\n",
    "month = now.strftime(\"%m\")\n",
    "day = now.strftime(\"%d\")\n",
    "time = now.strftime(\"%H:%M:%S\")\n",
    "print(\"AÑO: \", year)\n",
    "print(\"MES: \", month)\n",
    "print(\"DÍA: \", day)\n",
    "print(\"HORA: \", time)"
   ]
  },
  {
   "cell_type": "markdown",
   "id": "322f5921-578d-4dfd-9079-543f12c1f4f4",
   "metadata": {},
   "source": [
    "### reverse / reversa\n",
    "Invertir una cadena"
   ]
  },
  {
   "cell_type": "code",
   "execution_count": 226,
   "id": "96a1ba90-1375-4d20-96e9-d96daf8a8610",
   "metadata": {},
   "outputs": [
    {
     "name": "stdout",
     "output_type": "stream",
     "text": [
      "senoicnuf odnaborP\n"
     ]
    }
   ],
   "source": [
    "my_string = \"Probando funciones\"\n",
    "print(my_string [::-1])"
   ]
  },
  {
   "cell_type": "code",
   "execution_count": null,
   "id": "6d50b019-c1ab-4c60-9090-e8f9a3e2b208",
   "metadata": {},
   "outputs": [],
   "source": []
  }
 ],
 "metadata": {
  "kernelspec": {
   "display_name": "Python 3 (ipykernel)",
   "language": "python",
   "name": "python3"
  },
  "language_info": {
   "codemirror_mode": {
    "name": "ipython",
    "version": 3
   },
   "file_extension": ".py",
   "mimetype": "text/x-python",
   "name": "python",
   "nbconvert_exporter": "python",
   "pygments_lexer": "ipython3",
   "version": "3.11.5"
  }
 },
 "nbformat": 4,
 "nbformat_minor": 5
}
