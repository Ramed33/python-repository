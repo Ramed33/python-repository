{
 "cells": [
  {
   "cell_type": "markdown",
   "id": "70779b99-557c-4ab6-aea6-51aa92663330",
   "metadata": {},
   "source": [
    "## Diferentes formas de crear tuplas"
   ]
  },
  {
   "cell_type": "code",
   "execution_count": 3,
   "id": "cb648d77-75bd-4509-a6c2-099da0a8229b",
   "metadata": {},
   "outputs": [
    {
     "name": "stdout",
     "output_type": "stream",
     "text": [
      "<class 'tuple'>\n",
      "('Carlos', 'Test', 3000, 15.79)\n"
     ]
    }
   ],
   "source": [
    "my_tuple = (\"Carlos\", \"Test\", 3000, 15.79)\n",
    "print(type(my_tuple))\n",
    "print(my_tuple)"
   ]
  },
  {
   "cell_type": "code",
   "execution_count": 5,
   "id": "926776bc-a939-4081-ad55-fa3b39690681",
   "metadata": {},
   "outputs": [
    {
     "name": "stdout",
     "output_type": "stream",
     "text": [
      "<class 'tuple'>\n",
      "('Carlos', 'Test', 3000, 15.79)\n"
     ]
    }
   ],
   "source": [
    "my_tuple = \"Carlos\", \"Test\", 3000, 15.79\n",
    "print(type(my_tuple))\n",
    "print(my_tuple)"
   ]
  },
  {
   "cell_type": "code",
   "execution_count": 7,
   "id": "f4741faa-de41-486e-8722-1ecb979bb553",
   "metadata": {},
   "outputs": [
    {
     "name": "stdout",
     "output_type": "stream",
     "text": [
      "<class 'tuple'>\n",
      "(100, 200, 300, 400, 500)\n"
     ]
    }
   ],
   "source": [
    "my_list = [100,200,300,400,500]\n",
    "my_tuple = tuple(my_list)\n",
    "print(type(my_tuple))\n",
    "print(my_tuple)"
   ]
  },
  {
   "cell_type": "markdown",
   "id": "176c17cc-f14f-4380-80a5-bfab40ddcb32",
   "metadata": {},
   "source": [
    "## Método sort en tuplas"
   ]
  },
  {
   "cell_type": "code",
   "execution_count": 10,
   "id": "89164b37-6861-4733-a79c-8c7a652cbd0b",
   "metadata": {},
   "outputs": [
    {
     "name": "stdout",
     "output_type": "stream",
     "text": [
      "<class 'tuple'>\n",
      "(5, 4, 2, 7, 9, 0, 1)\n",
      "<class 'list'>\n",
      "[0, 1, 2, 4, 5, 7, 9]\n",
      "<class 'tuple'>\n",
      "(0, 1, 2, 4, 5, 7, 9)\n"
     ]
    }
   ],
   "source": [
    "my_tuple = (5,4,2,7,9,0,1)\n",
    "my_sorted_tuple = sorted(my_tuple)\n",
    "my_sorted_tuple_2 = tuple(sorted(my_tuple))\n",
    "\n",
    "print(type(my_tuple))\n",
    "print(my_tuple)\n",
    "\n",
    "print(type(my_sorted_tuple))\n",
    "print(my_sorted_tuple)\n",
    "\n",
    "print(type(my_sorted_tuple_2))\n",
    "print(my_sorted_tuple_2)"
   ]
  },
  {
   "cell_type": "markdown",
   "id": "14310479-f52e-4ed7-97fb-d269148a5e81",
   "metadata": {},
   "source": [
    "## Método all en tuplas"
   ]
  },
  {
   "cell_type": "code",
   "execution_count": 15,
   "id": "b4bf6121-23e4-44da-8461-0f745d16e7f7",
   "metadata": {},
   "outputs": [
    {
     "name": "stdout",
     "output_type": "stream",
     "text": [
      "True\n"
     ]
    }
   ],
   "source": [
    "my_tuple = (5,4,2,7,9,2,1)\n",
    "print(all(my_tuple))"
   ]
  },
  {
   "cell_type": "code",
   "execution_count": 17,
   "id": "b9624d7c-75c9-427f-b266-233a3d930925",
   "metadata": {},
   "outputs": [
    {
     "name": "stdout",
     "output_type": "stream",
     "text": [
      "False\n"
     ]
    }
   ],
   "source": [
    "my_tuple = (5,4,2,7,9,0,1)\n",
    "print(all(my_tuple))"
   ]
  },
  {
   "cell_type": "code",
   "execution_count": 19,
   "id": "b8c2bade-5797-4767-9f5c-83b524510f14",
   "metadata": {},
   "outputs": [
    {
     "name": "stdout",
     "output_type": "stream",
     "text": [
      "False\n"
     ]
    }
   ],
   "source": [
    "my_tuple = (5,4,2,7,9,\"\",1)\n",
    "print(all(my_tuple))"
   ]
  },
  {
   "cell_type": "code",
   "execution_count": 25,
   "id": "f428d175-db63-43c9-b8b5-a825e6855073",
   "metadata": {},
   "outputs": [
    {
     "name": "stdout",
     "output_type": "stream",
     "text": [
      "True\n"
     ]
    }
   ],
   "source": [
    "my_tuple = (5,4,2,7,9,\"test\",1)\n",
    "print(all(my_tuple))"
   ]
  },
  {
   "cell_type": "code",
   "execution_count": 21,
   "id": "c810091d-6cac-43e9-beef-67e5259110af",
   "metadata": {},
   "outputs": [
    {
     "name": "stdout",
     "output_type": "stream",
     "text": [
      "False\n"
     ]
    }
   ],
   "source": [
    "my_tuple = (5,4,2,7,9,None,1)\n",
    "print(all(my_tuple))"
   ]
  },
  {
   "cell_type": "code",
   "execution_count": 29,
   "id": "def41c27-b434-4623-9093-e37100978b56",
   "metadata": {},
   "outputs": [
    {
     "name": "stdout",
     "output_type": "stream",
     "text": [
      "True\n"
     ]
    }
   ],
   "source": [
    "my_tuple = (5,4,2,7,9,3.5,1)\n",
    "print(all(my_tuple))"
   ]
  },
  {
   "cell_type": "code",
   "execution_count": 23,
   "id": "d1bb8429-dc4c-409a-83d1-6f2b42b0ad60",
   "metadata": {},
   "outputs": [
    {
     "name": "stdout",
     "output_type": "stream",
     "text": [
      "False\n"
     ]
    }
   ],
   "source": [
    "my_tuple = (5,4,2,7,9,False,1)\n",
    "print(all(my_tuple))"
   ]
  },
  {
   "cell_type": "code",
   "execution_count": 27,
   "id": "6aa0b1b8-8cde-4f4d-95d9-2a532e8b3012",
   "metadata": {},
   "outputs": [
    {
     "name": "stdout",
     "output_type": "stream",
     "text": [
      "True\n"
     ]
    }
   ],
   "source": [
    "my_tuple = (5,4,2,7,9,True,1)\n",
    "print(all(my_tuple))"
   ]
  },
  {
   "cell_type": "markdown",
   "id": "9a2676ad-2390-458f-951e-fd06744ac844",
   "metadata": {},
   "source": [
    "## Método any en tuplas"
   ]
  },
  {
   "cell_type": "code",
   "execution_count": 32,
   "id": "96fa4368-b31b-4da3-889b-0ee7fb941157",
   "metadata": {},
   "outputs": [
    {
     "name": "stdout",
     "output_type": "stream",
     "text": [
      "True\n"
     ]
    }
   ],
   "source": [
    "my_tuple = (5,4,2,7,9,2,1)\n",
    "print(any(my_tuple))"
   ]
  },
  {
   "cell_type": "code",
   "execution_count": 34,
   "id": "a09cb9d2-73d5-48f3-81b1-bbd0f39d8bde",
   "metadata": {},
   "outputs": [
    {
     "name": "stdout",
     "output_type": "stream",
     "text": [
      "True\n"
     ]
    }
   ],
   "source": [
    "my_tuple = (5,4,2,7,9,0,1)\n",
    "print(any(my_tuple))"
   ]
  },
  {
   "cell_type": "code",
   "execution_count": 36,
   "id": "881e951e-59b8-4882-8034-998dc1967170",
   "metadata": {},
   "outputs": [
    {
     "name": "stdout",
     "output_type": "stream",
     "text": [
      "True\n"
     ]
    }
   ],
   "source": [
    "my_tuple = (0,0,0,0,0,0,1)\n",
    "print(any(my_tuple))"
   ]
  },
  {
   "cell_type": "code",
   "execution_count": 38,
   "id": "80f92349-2677-4232-8d89-db4c42abe5a7",
   "metadata": {},
   "outputs": [
    {
     "name": "stdout",
     "output_type": "stream",
     "text": [
      "False\n"
     ]
    }
   ],
   "source": [
    "my_tuple = (0,0,0,0,0,0,0)\n",
    "print(any(my_tuple))"
   ]
  },
  {
   "cell_type": "code",
   "execution_count": 40,
   "id": "104ced6a-0fb3-4e37-8634-0b353c78bc75",
   "metadata": {},
   "outputs": [
    {
     "name": "stdout",
     "output_type": "stream",
     "text": [
      "False\n"
     ]
    }
   ],
   "source": [
    "my_tuple = (\"\",\"\",\"\",\"\",\"\",\"\",\"\")\n",
    "print(any(my_tuple))"
   ]
  },
  {
   "cell_type": "code",
   "execution_count": 42,
   "id": "65264ece-a98d-4bcf-b8e5-48714f48c05d",
   "metadata": {},
   "outputs": [
    {
     "name": "stdout",
     "output_type": "stream",
     "text": [
      "True\n"
     ]
    }
   ],
   "source": [
    "my_tuple = (\",\"\",\"\",\"\",\"t\",\"\",\"\")\n",
    "print(any(my_tuple))"
   ]
  },
  {
   "cell_type": "code",
   "execution_count": 44,
   "id": "f956eb0b-9b42-4323-b6f1-ef896e5f92c9",
   "metadata": {},
   "outputs": [
    {
     "name": "stdout",
     "output_type": "stream",
     "text": [
      "False\n"
     ]
    }
   ],
   "source": [
    "my_tuple = (None, None)\n",
    "print(any(my_tuple))"
   ]
  },
  {
   "cell_type": "code",
   "execution_count": 46,
   "id": "39170d94-6637-451b-b5c5-96a628743463",
   "metadata": {},
   "outputs": [
    {
     "name": "stdout",
     "output_type": "stream",
     "text": [
      "True\n"
     ]
    }
   ],
   "source": [
    "my_tuple = (None, None, 1)\n",
    "print(any(my_tuple))"
   ]
  },
  {
   "cell_type": "markdown",
   "id": "07921f23-3899-45c8-9e5d-9e997da484a8",
   "metadata": {},
   "source": [
    "my_tuple = (False, False)\n",
    "print(any(my_tuple))"
   ]
  },
  {
   "cell_type": "code",
   "execution_count": 50,
   "id": "a987afda-485f-4509-9e14-20a89083c52f",
   "metadata": {},
   "outputs": [
    {
     "name": "stdout",
     "output_type": "stream",
     "text": [
      "True\n"
     ]
    }
   ],
   "source": [
    "my_tuple = (False, True)\n",
    "print(any(my_tuple))"
   ]
  },
  {
   "cell_type": "markdown",
   "id": "3ce5e4d0-7146-49e5-acd7-ab1455fe5465",
   "metadata": {},
   "source": [
    "## Método len en tuplas"
   ]
  },
  {
   "cell_type": "code",
   "execution_count": 53,
   "id": "d76f9f22-35e0-4919-b17b-f1a7b3bf91b8",
   "metadata": {},
   "outputs": [
    {
     "name": "stdout",
     "output_type": "stream",
     "text": [
      "<class 'tuple'>\n",
      "(5, 4, 2, 7, 9, 2, 1)\n",
      "7\n"
     ]
    }
   ],
   "source": [
    "my_tuple = (5,4,2,7,9,2,1)\n",
    "print(type(my_tuple))\n",
    "print(my_tuple)\n",
    "print(len(my_tuple))"
   ]
  },
  {
   "cell_type": "markdown",
   "id": "9b765c53-cd7c-4de2-bed6-0ec66f646f5b",
   "metadata": {},
   "source": [
    "## Indexación en tuplas"
   ]
  },
  {
   "cell_type": "code",
   "execution_count": 56,
   "id": "292f67d7-8533-4dcc-8666-a635c715c4ac",
   "metadata": {},
   "outputs": [
    {
     "name": "stdout",
     "output_type": "stream",
     "text": [
      "<class 'tuple'>\n",
      "(5, 4, 2, 7, 9, 2, 1)\n",
      "5\n",
      "1\n",
      "7\n",
      "7\n"
     ]
    }
   ],
   "source": [
    "my_tuple = (5,4,2,7,9,2,1)\n",
    "print(type(my_tuple))\n",
    "print(my_tuple)\n",
    "print(my_tuple[0])\n",
    "print(my_tuple[-1])\n",
    "print(my_tuple[3])\n",
    "print(my_tuple[-4])"
   ]
  },
  {
   "cell_type": "markdown",
   "id": "ff60a854-6931-4f01-9a51-87d1a2078551",
   "metadata": {},
   "source": [
    "# Conversión de tuplas"
   ]
  },
  {
   "cell_type": "markdown",
   "id": "73567632-889f-48dd-a013-826e26e2a600",
   "metadata": {},
   "source": [
    "## Cadena a tupla"
   ]
  },
  {
   "cell_type": "code",
   "execution_count": 60,
   "id": "c44023eb-4a8f-405d-a694-080267e90819",
   "metadata": {},
   "outputs": [
    {
     "name": "stdout",
     "output_type": "stream",
     "text": [
      "Backend Python\n",
      "('B', 'a', 'c', 'k', 'e', 'n', 'd', ' ', 'P', 'y', 't', 'h', 'o', 'n')\n"
     ]
    }
   ],
   "source": [
    "my_string = \"Backend Python\"\n",
    "my_tuple = tuple(my_string)\n",
    "print(my_string)\n",
    "print(my_tuple)"
   ]
  },
  {
   "cell_type": "markdown",
   "id": "e905e03c-b333-436b-8509-1bf4756a5f27",
   "metadata": {},
   "source": [
    "## Lista a tupla"
   ]
  },
  {
   "cell_type": "code",
   "execution_count": 64,
   "id": "454577a0-aab9-41f1-8417-c5df7338525b",
   "metadata": {},
   "outputs": [
    {
     "name": "stdout",
     "output_type": "stream",
     "text": [
      "['Python', 'Javascript', 'Java', 'Go', 'Scala']\n",
      "('Python', 'Javascript', 'Java', 'Go', 'Scala')\n"
     ]
    }
   ],
   "source": [
    "my_list = [\"Python\", \"Javascript\", \"Java\", \"Go\", \"Scala\"]\n",
    "my_tuple = tuple(my_list)\n",
    "\n",
    "print(my_list)\n",
    "print(my_tuple)"
   ]
  },
  {
   "cell_type": "markdown",
   "id": "f815eb7d-2903-445d-a520-a88281949a2b",
   "metadata": {},
   "source": [
    "## Tupla a cadena"
   ]
  },
  {
   "cell_type": "code",
   "execution_count": 69,
   "id": "110f36bc-a9e5-4ac8-8527-4275cfa815ca",
   "metadata": {},
   "outputs": [
    {
     "name": "stdout",
     "output_type": "stream",
     "text": [
      "('B', 'a', 'c', 'k', 'e', 'n', 'd', ' ', 'P', 'y', 't', 'h', 'o', 'n')\n",
      "Backend Python\n"
     ]
    }
   ],
   "source": [
    "my_tuple = ('B', 'a', 'c', 'k', 'e', 'n', 'd', ' ', 'P', 'y', 't', 'h', 'o', 'n')\n",
    "my_string = \"\".join(my_tuple)\n",
    "\n",
    "print(my_tuple)\n",
    "print(my_string)"
   ]
  },
  {
   "cell_type": "markdown",
   "id": "67500d2b-473b-4431-ad01-b432b042de46",
   "metadata": {},
   "source": [
    "## Tupla a lista"
   ]
  },
  {
   "cell_type": "code",
   "execution_count": 72,
   "id": "bb87ace9-dd4a-4a30-be82-faf4894d2e0d",
   "metadata": {},
   "outputs": [
    {
     "name": "stdout",
     "output_type": "stream",
     "text": [
      "('Python', 'Javascript', 'Java', 'Go', 'Scala')\n",
      "['Python', 'Javascript', 'Java', 'Go', 'Scala']\n"
     ]
    }
   ],
   "source": [
    "my_tuple = (\"Python\", \"Javascript\", \"Java\", \"Go\", \"Scala\")\n",
    "my_list = list(my_tuple)\n",
    "\n",
    "print(my_tuple)\n",
    "print(my_list)"
   ]
  },
  {
   "cell_type": "markdown",
   "id": "00494f1f-2af9-41fb-94e6-bd2a484c7aa0",
   "metadata": {},
   "source": [
    "# Ventajas de la tupla sobre la lista"
   ]
  },
  {
   "cell_type": "markdown",
   "id": "5f605405-6f68-447e-b0f1-685ad8dfc31e",
   "metadata": {},
   "source": [
    "- Generalmente usamos tuplas para elementos heterogéneos (de diferente tipo de datos) y usamos listas para elementos homogéneos (del mismo tipo de dato)\n",
    "- Las tuplas son inmutables, iterar a través de una tupla es más rápido que con una lista. Por lo tanto hay una pequeña mejora de rendimiento\n",
    "- Las tuplas que contienen elementos inmutables pueden ser usadas como llaves para un diccionario. Con listas no es posible\n",
    "- Si tienes data que no cambia implementarla como tupla te garantiza que se mantendrá protegida a modificaciones"
   ]
  },
  {
   "cell_type": "code",
   "execution_count": 82,
   "id": "a88763ab-ae03-4c9d-8775-1465a8cdd316",
   "metadata": {},
   "outputs": [
    {
     "ename": "TypeError",
     "evalue": "'tuple' object does not support item assignment",
     "output_type": "error",
     "traceback": [
      "\u001b[1;31m---------------------------------------------------------------------------\u001b[0m",
      "\u001b[1;31mTypeError\u001b[0m                                 Traceback (most recent call last)",
      "Cell \u001b[1;32mIn[82], line 1\u001b[0m\n\u001b[1;32m----> 1\u001b[0m my_tuple[\u001b[38;5;241m0\u001b[39m] \u001b[38;5;241m=\u001b[39m \u001b[38;5;124m\"\u001b[39m\u001b[38;5;124mvalor intruso\u001b[39m\u001b[38;5;124m\"\u001b[39m\n",
      "\u001b[1;31mTypeError\u001b[0m: 'tuple' object does not support item assignment"
     ]
    }
   ],
   "source": [
    "my_tuple[0] = \"valor intruso\""
   ]
  },
  {
   "cell_type": "code",
   "execution_count": 78,
   "id": "4091071e-d6c6-440b-a245-778d79555fba",
   "metadata": {},
   "outputs": [],
   "source": [
    "my_list[0] = \"valor intruso\""
   ]
  },
  {
   "cell_type": "code",
   "execution_count": 84,
   "id": "b3e2d271-a715-4943-8034-38c415b433b1",
   "metadata": {},
   "outputs": [
    {
     "name": "stdout",
     "output_type": "stream",
     "text": [
      "('Python', 'Javascript', 'Java', 'Go', 'Scala')\n",
      "['valor intruso', 'Javascript', 'Java', 'Go', 'Scala']\n"
     ]
    }
   ],
   "source": [
    "print(my_tuple)\n",
    "print(my_list)"
   ]
  },
  {
   "cell_type": "code",
   "execution_count": null,
   "id": "2ab6189b-ea49-4955-9383-fd52d1421be6",
   "metadata": {},
   "outputs": [],
   "source": []
  }
 ],
 "metadata": {
  "kernelspec": {
   "display_name": "Python 3 (ipykernel)",
   "language": "python",
   "name": "python3"
  },
  "language_info": {
   "codemirror_mode": {
    "name": "ipython",
    "version": 3
   },
   "file_extension": ".py",
   "mimetype": "text/x-python",
   "name": "python",
   "nbconvert_exporter": "python",
   "pygments_lexer": "ipython3",
   "version": "3.11.5"
  }
 },
 "nbformat": 4,
 "nbformat_minor": 5
}
