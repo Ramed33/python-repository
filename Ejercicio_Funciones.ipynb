{
 "cells": [
  {
   "cell_type": "markdown",
   "id": "ffeb5b66-e6c5-4839-b05e-631fa07ce7d7",
   "metadata": {},
   "source": [
    "# Ejercicio Funciones"
   ]
  },
  {
   "cell_type": "code",
   "execution_count": null,
   "id": "7432476e-72de-4776-a0f9-c23230b629d5",
   "metadata": {},
   "outputs": [],
   "source": [
    "def my_cart_items(*args):\n",
    "    print(\"Corriendo {}, con los parámetros {}\".format(func.__name__,args))\n",
    "    print(func(*args))\n",
    "    return my_cart_items\n",
    "\n",
    "def cart(art1, art2, art3):\n",
    "    return print(\"Los artículos del carrito de compras son:\", art1, art2, art3)\n",
    "\n",
    "items = my_cart(cart)"
   ]
  },
  {
   "cell_type": "code",
   "execution_count": 161,
   "id": "e5c17278-3fd2-4c1e-892f-e745b0b4b17a",
   "metadata": {},
   "outputs": [
    {
     "name": "stdout",
     "output_type": "stream",
     "text": [
      "Corriendo cart, con los parámetros ('queso', 'leche', 'crema')\n",
      "Los artículos del carrito de compras son: queso leche crema\n",
      "None\n"
     ]
    }
   ],
   "source": [
    "items(\"queso\", \"leche\", \"crema\")"
   ]
  },
  {
   "cell_type": "code",
   "execution_count": 163,
   "id": "cc39d3bc-b599-42c0-9472-7a1a2cbb13a6",
   "metadata": {},
   "outputs": [
    {
     "name": "stdout",
     "output_type": "stream",
     "text": [
      "Corriendo cart, con los parámetros ('pan', 'jamón', 'mayonesa')\n",
      "Los artículos del carrito de compras son: pan jamón mayonesa\n",
      "None\n"
     ]
    }
   ],
   "source": [
    "items(\"pan\", \"jamón\", \"mayonesa\")"
   ]
  }
 ],
 "metadata": {
  "kernelspec": {
   "display_name": "Python 3 (ipykernel)",
   "language": "python",
   "name": "python3"
  },
  "language_info": {
   "codemirror_mode": {
    "name": "ipython",
    "version": 3
   },
   "file_extension": ".py",
   "mimetype": "text/x-python",
   "name": "python",
   "nbconvert_exporter": "python",
   "pygments_lexer": "ipython3",
   "version": "3.11.5"
  }
 },
 "nbformat": 4,
 "nbformat_minor": 5
}
