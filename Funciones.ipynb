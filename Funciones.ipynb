{
 "cells": [
  {
   "cell_type": "markdown",
   "id": "bef6dc06-6c38-4b48-95e7-ca86eb1095ae",
   "metadata": {},
   "source": [
    "## Funciones\n",
    "Una función:\n",
    "- Es un conjunto de operaciones\n",
    "- Puede ser usada como un molde reutilizabele\n",
    "- Puede regresar un valor\n",
    "- Puede ahorrar mucho tiempo de desarrollo\n",
    "- Puede aceptar parámetros para mandar valores al programa/función "
   ]
  },
  {
   "cell_type": "markdown",
   "id": "12bd72ae-121b-4fa2-a6be-7aa168e3a6ca",
   "metadata": {},
   "source": [
    "## Funciones definidas por el usuario\n",
    "- Las funciones son comúnmente usadas en todos los programas\n",
    "- Código reutilizable para ejecutar btareas específicas\n",
    "- Pueden regresar valores\n",
    "- Las funciones actúan como un molde para tareas repetidas\n",
    "- Las funciones pueden ser creadas con la palabra clave \"def\"\n",
    "- Podemos usar la palabra clave \"return\" para regresar un valor\n",
    "\n",
    "Notas:\n",
    "\n",
    "- La palabra clave \"def\" es obligatoria para definir una función\n",
    "- Los parámetros son opcionales\n",
    "- Las instrucciones dentro de la función son obligatorias, en caso de no especificar estas instrucciones se deben sustituir con un \"pass\"\n",
    "- La palabra clave \"return\" es opcional en una función"
   ]
  },
  {
   "cell_type": "code",
   "execution_count": 4,
   "id": "c49ce770-a7ad-4d9b-9456-29712a271d69",
   "metadata": {},
   "outputs": [],
   "source": [
    "def my_function(parameters):\n",
    "    print(paso1)\n",
    "    print(paso2)\n",
    "    print(paso3)\n",
    "    return \"Completado\""
   ]
  },
  {
   "cell_type": "markdown",
   "id": "7e29b39f-b87c-4e14-9621-2f7a767b144f",
   "metadata": {},
   "source": [
    "## Parámetros de funciones\n",
    "- Los parámetros son opcionales en una función\n",
    "- Podemos declarar los parámetros en la definición de la función\n",
    "- También podemos llamarlas argumentos\n",
    "- Los parámetros son usados para pasar valores dinámicamente a la función\n",
    "- Tenemos dos tipos de parámetros:\n",
    "  - Formales\n",
    "  - Reales\n",
    "\n",
    "## Tipos de parámetros\n",
    "\n",
    "### Parámetros formales\n",
    "- Son valores usados en la creación/definición de la función\n",
    "\n",
    "### Parámetros reales\n",
    "- Son los valores usados al llamar/invovar la función"
   ]
  },
  {
   "cell_type": "code",
   "execution_count": 7,
   "id": "8c360dbc-52c9-45ae-92fe-4a9e5c423479",
   "metadata": {},
   "outputs": [],
   "source": [
    "def print_number(number): # Parámetros formales\n",
    "    print(\"El valor de number es:\", number)    "
   ]
  },
  {
   "cell_type": "code",
   "execution_count": 9,
   "id": "fe116335-8c5d-451b-a5a5-21591aac9be1",
   "metadata": {},
   "outputs": [
    {
     "name": "stdout",
     "output_type": "stream",
     "text": [
      "El valor de number es: 3800\n"
     ]
    }
   ],
   "source": [
    "print_number(3800) # Parámetro real"
   ]
  },
  {
   "cell_type": "markdown",
   "id": "ec61d9dd-1a46-4e4f-afec-c0ac3d593d8c",
   "metadata": {},
   "source": [
    "## Invocando funciones"
   ]
  },
  {
   "cell_type": "code",
   "execution_count": 14,
   "id": "f7121ae4-6ca6-41e6-8ea6-32b3f1dc417f",
   "metadata": {},
   "outputs": [],
   "source": [
    "def plus_ten(number):\n",
    "    return number + 10\n",
    "\n",
    "def minus_ten(number):\n",
    "    return number - 10\n",
    "\n",
    "def another_function(f, number):\n",
    "    result = f(number)\n",
    "    return result"
   ]
  },
  {
   "cell_type": "code",
   "execution_count": 16,
   "id": "d41eb8ed-60ea-4aa1-a5eb-223eadde8514",
   "metadata": {},
   "outputs": [
    {
     "data": {
      "text/plain": [
       "210"
      ]
     },
     "execution_count": 16,
     "metadata": {},
     "output_type": "execute_result"
    }
   ],
   "source": [
    "plus_ten(200)"
   ]
  },
  {
   "cell_type": "code",
   "execution_count": 18,
   "id": "f825b4ec-2b2b-449f-a71e-61e6fc4d5141",
   "metadata": {},
   "outputs": [
    {
     "data": {
      "text/plain": [
       "190"
      ]
     },
     "execution_count": 18,
     "metadata": {},
     "output_type": "execute_result"
    }
   ],
   "source": [
    "minus_ten(200)"
   ]
  },
  {
   "cell_type": "code",
   "execution_count": 24,
   "id": "990d479c-9441-407f-bb26-7ef4a1bc33b6",
   "metadata": {},
   "outputs": [
    {
     "data": {
      "text/plain": [
       "210"
      ]
     },
     "execution_count": 24,
     "metadata": {},
     "output_type": "execute_result"
    }
   ],
   "source": [
    "another_function(plus_ten, 200)"
   ]
  },
  {
   "cell_type": "markdown",
   "id": "a62e38d0-4349-4a32-ba69-8c11c90b6a68",
   "metadata": {},
   "source": [
    "## Funciones anidadas\n",
    "\n",
    "- Básicamente es una función dentro de otra función\n",
    "- Así como hay listas anidadas ó ciclos anidados\n",
    "- Las funciones internas pueden ser útiles al ejecutar tareas complejas más de una vez dentro de una función\n",
    "- Pueden ayudar a evitar ciclos ó código duplicado\n",
    "\n",
    "### Usos\n",
    "\n",
    "- Simplificar la lógica y estructura\n",
    "- Construir nuevas funciones basádas en parámetros\n",
    "- Pasar funciones a otras funciones para generar resultados precisos"
   ]
  },
  {
   "cell_type": "code",
   "execution_count": 29,
   "id": "9055ae97-ee08-4a20-9d40-f6e2c84a9957",
   "metadata": {},
   "outputs": [],
   "source": [
    "def my_function():\n",
    "    def nested_function():\n",
    "        print(\"Función anidada\")\n",
    "    return nested_function"
   ]
  },
  {
   "cell_type": "code",
   "execution_count": 31,
   "id": "404dc276-1c77-4287-9185-cb9e1ea96350",
   "metadata": {},
   "outputs": [],
   "source": [
    "result = my_function()"
   ]
  },
  {
   "cell_type": "code",
   "execution_count": 33,
   "id": "669bada6-9146-47da-9464-f7243c50f8f6",
   "metadata": {},
   "outputs": [
    {
     "data": {
      "text/plain": [
       "<function __main__.my_function.<locals>.nested_function()>"
      ]
     },
     "execution_count": 33,
     "metadata": {},
     "output_type": "execute_result"
    }
   ],
   "source": [
    "result"
   ]
  },
  {
   "cell_type": "code",
   "execution_count": 35,
   "id": "b0fe30d9-04a8-4ff4-bb6d-57215f8d8e12",
   "metadata": {},
   "outputs": [
    {
     "name": "stdout",
     "output_type": "stream",
     "text": [
      "Función anidada\n"
     ]
    }
   ],
   "source": [
    "result()"
   ]
  },
  {
   "cell_type": "code",
   "execution_count": 37,
   "id": "ca281361-64ef-4db8-91fc-f31f6f0ba329",
   "metadata": {},
   "outputs": [
    {
     "ename": "NameError",
     "evalue": "name 'nested_function' is not defined",
     "output_type": "error",
     "traceback": [
      "\u001b[1;31m---------------------------------------------------------------------------\u001b[0m",
      "\u001b[1;31mNameError\u001b[0m                                 Traceback (most recent call last)",
      "Cell \u001b[1;32mIn[37], line 1\u001b[0m\n\u001b[1;32m----> 1\u001b[0m nested_function()\n",
      "\u001b[1;31mNameError\u001b[0m: name 'nested_function' is not defined"
     ]
    }
   ],
   "source": [
    "nested_function()"
   ]
  },
  {
   "cell_type": "code",
   "execution_count": 39,
   "id": "2b22aeff-0bf4-4ef8-83ac-5b77bb5a9982",
   "metadata": {},
   "outputs": [],
   "source": [
    "# Caso un poco más realista"
   ]
  },
  {
   "cell_type": "code",
   "execution_count": 41,
   "id": "a8009ffd-7ccc-483f-b527-bfb6c7367e5c",
   "metadata": {},
   "outputs": [],
   "source": [
    "def logger(func):\n",
    "    def log_func(*args):\n",
    "        print(\"Corriendo '{}' con los parámetros {}\".format(func.__name__, args))\n",
    "        print(func(*args))\n",
    "    return log_func\n",
    "\n",
    "def add(x, y):\n",
    "    return x + y\n",
    "\n",
    "def sub(x, y):\n",
    "    return x - y\n",
    "\n",
    "add_logger = logger(add)\n",
    "sub_logger = logger(sub)"
   ]
  },
  {
   "cell_type": "code",
   "execution_count": 43,
   "id": "8d14fbe4-00aa-4788-8365-6ccbc9a7724d",
   "metadata": {},
   "outputs": [
    {
     "data": {
      "text/plain": [
       "5"
      ]
     },
     "execution_count": 43,
     "metadata": {},
     "output_type": "execute_result"
    }
   ],
   "source": [
    "add(3, 2)"
   ]
  },
  {
   "cell_type": "code",
   "execution_count": 45,
   "id": "58123771-5ce7-4994-8f8c-a358fc52356b",
   "metadata": {},
   "outputs": [
    {
     "name": "stdout",
     "output_type": "stream",
     "text": [
      "Corriendo 'add' con los parámetros (3, 2)\n",
      "5\n"
     ]
    }
   ],
   "source": [
    "add_logger(3, 2)"
   ]
  },
  {
   "cell_type": "code",
   "execution_count": 47,
   "id": "1a737f08-99b3-4263-96cd-1e900aafcad7",
   "metadata": {},
   "outputs": [
    {
     "data": {
      "text/plain": [
       "1"
      ]
     },
     "execution_count": 47,
     "metadata": {},
     "output_type": "execute_result"
    }
   ],
   "source": [
    "sub(3, 2)"
   ]
  },
  {
   "cell_type": "code",
   "execution_count": 49,
   "id": "a0b21eb1-e109-492b-92c4-a68e2c06eebf",
   "metadata": {},
   "outputs": [
    {
     "name": "stdout",
     "output_type": "stream",
     "text": [
      "Corriendo 'sub' con los parámetros (3, 2)\n",
      "1\n"
     ]
    }
   ],
   "source": [
    "sub_logger(3, 2)"
   ]
  },
  {
   "cell_type": "markdown",
   "id": "e89da703-ea9c-4c6d-a75e-5492cbac6b5c",
   "metadata": {},
   "source": [
    "## Función dir"
   ]
  },
  {
   "cell_type": "code",
   "execution_count": 9,
   "id": "8d667a80-ecdf-4a9e-8e72-8f2e51f41485",
   "metadata": {},
   "outputs": [
    {
     "data": {
      "text/plain": [
       "['__annotations__',\n",
       " '__builtins__',\n",
       " '__call__',\n",
       " '__class__',\n",
       " '__closure__',\n",
       " '__code__',\n",
       " '__defaults__',\n",
       " '__delattr__',\n",
       " '__dict__',\n",
       " '__dir__',\n",
       " '__doc__',\n",
       " '__eq__',\n",
       " '__format__',\n",
       " '__ge__',\n",
       " '__get__',\n",
       " '__getattribute__',\n",
       " '__getstate__',\n",
       " '__globals__',\n",
       " '__gt__',\n",
       " '__hash__',\n",
       " '__init__',\n",
       " '__init_subclass__',\n",
       " '__kwdefaults__',\n",
       " '__le__',\n",
       " '__lt__',\n",
       " '__module__',\n",
       " '__name__',\n",
       " '__ne__',\n",
       " '__new__',\n",
       " '__qualname__',\n",
       " '__reduce__',\n",
       " '__reduce_ex__',\n",
       " '__repr__',\n",
       " '__setattr__',\n",
       " '__sizeof__',\n",
       " '__str__',\n",
       " '__subclasshook__']"
      ]
     },
     "execution_count": 9,
     "metadata": {},
     "output_type": "execute_result"
    }
   ],
   "source": [
    "dir(add)"
   ]
  },
  {
   "cell_type": "code",
   "execution_count": 11,
   "id": "1d78eafc-7e18-41ba-a6ee-a0e4805e6314",
   "metadata": {},
   "outputs": [
    {
     "data": {
      "text/plain": [
       "'add'"
      ]
     },
     "execution_count": 11,
     "metadata": {},
     "output_type": "execute_result"
    }
   ],
   "source": [
    "add.__name__"
   ]
  },
  {
   "cell_type": "code",
   "execution_count": 17,
   "id": "02528e6f-08bd-4c32-a50c-52b9e0737fb7",
   "metadata": {},
   "outputs": [
    {
     "name": "stdout",
     "output_type": "stream",
     "text": [
      "<class 'dict'>\n",
      "['__class__', '__class_getitem__', '__contains__', '__delattr__', '__delitem__', '__dir__', '__doc__', '__eq__', '__format__', '__ge__', '__getattribute__', '__getitem__', '__getstate__', '__gt__', '__hash__', '__init__', '__init_subclass__', '__ior__', '__iter__', '__le__', '__len__', '__lt__', '__ne__', '__new__', '__or__', '__reduce__', '__reduce_ex__', '__repr__', '__reversed__', '__ror__', '__setattr__', '__setitem__', '__sizeof__', '__str__', '__subclasshook__', 'clear', 'copy', 'fromkeys', 'get', 'items', 'keys', 'pop', 'popitem', 'setdefault', 'update', 'values']\n"
     ]
    }
   ],
   "source": [
    "my_dictionary = {\n",
    "    \"a\": 100,\n",
    "    \"b\": 200,\n",
    "    \"c\": 300\n",
    "}\n",
    "\n",
    "print(type(my_dictionary))\n",
    "print(dir(my_dictionary))"
   ]
  },
  {
   "cell_type": "code",
   "execution_count": 19,
   "id": "e0ccac08-e882-4b86-88da-89eb4a5a3e80",
   "metadata": {},
   "outputs": [
    {
     "name": "stdout",
     "output_type": "stream",
     "text": [
      "<class 'list'>\n",
      "['__add__', '__class__', '__class_getitem__', '__contains__', '__delattr__', '__delitem__', '__dir__', '__doc__', '__eq__', '__format__', '__ge__', '__getattribute__', '__getitem__', '__getstate__', '__gt__', '__hash__', '__iadd__', '__imul__', '__init__', '__init_subclass__', '__iter__', '__le__', '__len__', '__lt__', '__mul__', '__ne__', '__new__', '__reduce__', '__reduce_ex__', '__repr__', '__reversed__', '__rmul__', '__setattr__', '__setitem__', '__sizeof__', '__str__', '__subclasshook__', 'append', 'clear', 'copy', 'count', 'extend', 'index', 'insert', 'pop', 'remove', 'reverse', 'sort']\n"
     ]
    }
   ],
   "source": [
    "my_list = [120, 53, 28]\n",
    "\n",
    "print(type(my_list))\n",
    "print(dir(my_list))"
   ]
  },
  {
   "cell_type": "code",
   "execution_count": 21,
   "id": "c830bf31-51a9-4d2c-aec2-f58ccc9cf53c",
   "metadata": {},
   "outputs": [
    {
     "name": "stdout",
     "output_type": "stream",
     "text": [
      "<class 'tuple'>\n",
      "['__add__', '__class__', '__class_getitem__', '__contains__', '__delattr__', '__dir__', '__doc__', '__eq__', '__format__', '__ge__', '__getattribute__', '__getitem__', '__getnewargs__', '__getstate__', '__gt__', '__hash__', '__init__', '__init_subclass__', '__iter__', '__le__', '__len__', '__lt__', '__mul__', '__ne__', '__new__', '__reduce__', '__reduce_ex__', '__repr__', '__rmul__', '__setattr__', '__sizeof__', '__str__', '__subclasshook__', 'count', 'index']\n"
     ]
    }
   ],
   "source": [
    "my_tuple = (120, 53, 28)\n",
    "\n",
    "print(type(my_tuple))\n",
    "print(dir(my_tuple))"
   ]
  },
  {
   "cell_type": "code",
   "execution_count": 23,
   "id": "703fc13a-106e-4895-b8b8-d6db88cbedf6",
   "metadata": {},
   "outputs": [
    {
     "name": "stdout",
     "output_type": "stream",
     "text": [
      "<class 'set'>\n",
      "['__and__', '__class__', '__class_getitem__', '__contains__', '__delattr__', '__dir__', '__doc__', '__eq__', '__format__', '__ge__', '__getattribute__', '__getstate__', '__gt__', '__hash__', '__iand__', '__init__', '__init_subclass__', '__ior__', '__isub__', '__iter__', '__ixor__', '__le__', '__len__', '__lt__', '__ne__', '__new__', '__or__', '__rand__', '__reduce__', '__reduce_ex__', '__repr__', '__ror__', '__rsub__', '__rxor__', '__setattr__', '__sizeof__', '__str__', '__sub__', '__subclasshook__', '__xor__', 'add', 'clear', 'copy', 'difference', 'difference_update', 'discard', 'intersection', 'intersection_update', 'isdisjoint', 'issubset', 'issuperset', 'pop', 'remove', 'symmetric_difference', 'symmetric_difference_update', 'union', 'update']\n"
     ]
    }
   ],
   "source": [
    "my_set = {120, 53, 28}\n",
    "\n",
    "print(type(my_set))\n",
    "print(dir(my_set))"
   ]
  },
  {
   "cell_type": "markdown",
   "id": "a3421e22-ce4e-46c4-afa3-f9bfae4dd975",
   "metadata": {},
   "source": [
    "! pip install requests"
   ]
  },
  {
   "cell_type": "code",
   "execution_count": 33,
   "id": "13a81d24-4805-4dce-b5af-8b3c8e390f75",
   "metadata": {},
   "outputs": [
    {
     "name": "stdout",
     "output_type": "stream",
     "text": [
      "['ConnectTimeout', 'ConnectionError', 'DependencyWarning', 'FileModeWarning', 'HTTPError', 'JSONDecodeError', 'NullHandler', 'PreparedRequest', 'ReadTimeout', 'Request', 'RequestException', 'RequestsDependencyWarning', 'Response', 'Session', 'Timeout', 'TooManyRedirects', 'URLRequired', '__author__', '__author_email__', '__build__', '__builtins__', '__cached__', '__cake__', '__copyright__', '__description__', '__doc__', '__file__', '__license__', '__loader__', '__name__', '__package__', '__path__', '__spec__', '__title__', '__url__', '__version__', '_check_cryptography', '_internal_utils', 'adapters', 'api', 'auth', 'certs', 'chardet_version', 'charset_normalizer_version', 'check_compatibility', 'codes', 'compat', 'cookies', 'delete', 'exceptions', 'get', 'head', 'hooks', 'logging', 'models', 'options', 'packages', 'patch', 'post', 'put', 'request', 'session', 'sessions', 'ssl', 'status_codes', 'structures', 'urllib3', 'utils', 'warnings']\n"
     ]
    }
   ],
   "source": [
    "import requests\n",
    "print(dir(requests))"
   ]
  },
  {
   "cell_type": "markdown",
   "id": "c32651b3-0f61-4ce7-bd48-fa3512dabf3f",
   "metadata": {},
   "source": [
    "## Función format"
   ]
  },
  {
   "cell_type": "code",
   "execution_count": 42,
   "id": "9b9a9b17-90fc-49c0-8cdd-a12dc5e59b8e",
   "metadata": {},
   "outputs": [
    {
     "name": "stdout",
     "output_type": "stream",
     "text": [
      "El tipo de dato de my_variable es <class 'str'>\n",
      "El valor de my_variable es test\n"
     ]
    }
   ],
   "source": [
    "my_variable = 'test'\n",
    "print(\"El tipo de dato de my_variable es {}\".format(type(my_variable)))\n",
    "print(\"El valor de my_variable es {}\".format(my_variable))"
   ]
  },
  {
   "cell_type": "code",
   "execution_count": 44,
   "id": "919af006-f85f-48ef-846f-6add2f6bf1d4",
   "metadata": {},
   "outputs": [
    {
     "name": "stdout",
     "output_type": "stream",
     "text": [
      "Valor test, Tipo <class 'str'>\n"
     ]
    }
   ],
   "source": [
    "my_variable = 'test'\n",
    "print(\"Valor {}, Tipo {}\".format(my_variable, type(my_variable)))"
   ]
  },
  {
   "cell_type": "code",
   "execution_count": 46,
   "id": "7e59f00c-d752-446b-93f0-c13a8dba40c2",
   "metadata": {},
   "outputs": [
    {
     "name": "stdout",
     "output_type": "stream",
     "text": [
      "Tipo <class 'str'>, Valor test\n"
     ]
    }
   ],
   "source": [
    "my_variable = 'test'\n",
    "print(\"Tipo {1}, Valor {0}\".format(my_variable, type(my_variable)))"
   ]
  },
  {
   "cell_type": "code",
   "execution_count": 48,
   "id": "cf5980bf-926d-4403-9dae-6b3724072cbf",
   "metadata": {},
   "outputs": [
    {
     "name": "stdout",
     "output_type": "stream",
     "text": [
      "Tipo <class 'str'>, Tipo <class 'str'>, Tipo <class 'str'>, Tipo <class 'str'>, Valor test\n"
     ]
    }
   ],
   "source": [
    "my_variable = 'test'\n",
    "print(\"Tipo {1}, Tipo {1}, Tipo {1}, Tipo {1}, Valor {0}\".format(my_variable, type(my_variable)))"
   ]
  },
  {
   "cell_type": "markdown",
   "id": "ea99b7ea-8c52-4596-ad63-3242146eb885",
   "metadata": {},
   "source": [
    "## Función enumerate"
   ]
  },
  {
   "cell_type": "code",
   "execution_count": 65,
   "id": "d4288d92-2e84-46e7-b2c6-51ab906204ca",
   "metadata": {},
   "outputs": [
    {
     "name": "stdout",
     "output_type": "stream",
     "text": [
      "Python\n",
      "Go\n",
      "Javascript\n",
      "Java\n",
      "Scala\n"
     ]
    }
   ],
   "source": [
    "programming_languages = [\"Python\", \"Go\", \"Javascript\", \"Java\", \"Scala\"]\n",
    "\n",
    "for language_name in programming_languages:\n",
    "    print(language_name)"
   ]
  },
  {
   "cell_type": "code",
   "execution_count": 67,
   "id": "74036837-bafd-4519-8557-a9ea90228716",
   "metadata": {},
   "outputs": [
    {
     "name": "stdout",
     "output_type": "stream",
     "text": [
      "El lenguaje en el índice 0 es Python\n",
      "El lenguaje en el índice 1 es Go\n",
      "El lenguaje en el índice 2 es Javascript\n",
      "El lenguaje en el índice 3 es Java\n",
      "El lenguaje en el índice 4 es Scala\n"
     ]
    }
   ],
   "source": [
    "for i, language_name in enumerate(programming_languages):\n",
    "    print(\"El lenguaje en el índice {} es {}\".format(i, language_name))"
   ]
  },
  {
   "cell_type": "code",
   "execution_count": 69,
   "id": "0a1c4dda-19e2-4d5c-8576-f487fdc0a008",
   "metadata": {},
   "outputs": [
    {
     "name": "stdout",
     "output_type": "stream",
     "text": [
      "El lenguaje en la posición 1 es Python\n",
      "El lenguaje en la posición 2 es Go\n",
      "El lenguaje en la posición 3 es Javascript\n",
      "El lenguaje en la posición 4 es Java\n",
      "El lenguaje en la posición 5 es Scala\n"
     ]
    }
   ],
   "source": [
    "for i, language_name in enumerate(programming_languages):\n",
    "    print(\"El lenguaje en la posición {} es {}\".format(i+1, language_name))"
   ]
  },
  {
   "cell_type": "code",
   "execution_count": 71,
   "id": "e84b0e3c-93ab-4fdb-a7b2-0ac8e2102f6e",
   "metadata": {},
   "outputs": [
    {
     "name": "stdout",
     "output_type": "stream",
     "text": [
      "El lenguaje en la posición 1 es Python\n",
      "El lenguaje en la posición 2 es Go\n",
      "El lenguaje en la posición 3 es Javascript\n",
      "El lenguaje en la posición 4 es Java\n",
      "El lenguaje en la posición 5 es Scala\n"
     ]
    }
   ],
   "source": [
    "for i, language_name in enumerate(programming_languages, start = 1):\n",
    "    print(\"El lenguaje en la posición {} es {}\".format(i, language_name))"
   ]
  },
  {
   "cell_type": "markdown",
   "id": "22ed9389-ff19-4844-83ef-33ba3bf79840",
   "metadata": {},
   "source": [
    "## Funciones Lambda\n",
    "\n",
    "Función Lambda\n",
    "- Es una función anónima\n",
    "- Puede recibir cualquier número de argumentos pero sólo puede tener una expresión\n",
    "- \"lambda\" es una palabra clave en python que representa una función anónima dentro de otra función\n",
    "- La ventaja principal es usarla en combinación con built-in functions como map ó filter\n",
    "- La función es regresada como valor por otra función"
   ]
  },
  {
   "cell_type": "code",
   "execution_count": 74,
   "id": "0cd066ce-05fc-4733-82c2-11379f359dea",
   "metadata": {},
   "outputs": [],
   "source": [
    "plus_ten = lambda x:x+10"
   ]
  },
  {
   "cell_type": "code",
   "execution_count": 76,
   "id": "ef314b1a-0446-41f3-9398-617a18fe96e3",
   "metadata": {},
   "outputs": [
    {
     "name": "stdout",
     "output_type": "stream",
     "text": [
      "20\n",
      "60\n",
      "150\n"
     ]
    }
   ],
   "source": [
    "print(plus_ten(10))\n",
    "print(plus_ten(50))\n",
    "print(plus_ten(140))"
   ]
  },
  {
   "cell_type": "code",
   "execution_count": 78,
   "id": "d671b1a5-3228-45c8-86e3-162d0bfc5e57",
   "metadata": {},
   "outputs": [],
   "source": [
    "my_list = [10, 50, 140, 200, 700, 16, 18]\n",
    "result = map(plus_ten, my_list)"
   ]
  },
  {
   "cell_type": "code",
   "execution_count": 80,
   "id": "36576b46-1b7b-441f-adec-6529b27d8c82",
   "metadata": {},
   "outputs": [
    {
     "data": {
      "text/plain": [
       "<map at 0x210636330a0>"
      ]
     },
     "execution_count": 80,
     "metadata": {},
     "output_type": "execute_result"
    }
   ],
   "source": [
    "result"
   ]
  },
  {
   "cell_type": "code",
   "execution_count": 82,
   "id": "72d2a15f-3468-4b8e-a708-3ec1f5934f5c",
   "metadata": {},
   "outputs": [
    {
     "data": {
      "text/plain": [
       "[20, 60, 150, 210, 710, 26, 28]"
      ]
     },
     "execution_count": 82,
     "metadata": {},
     "output_type": "execute_result"
    }
   ],
   "source": [
    "list(result)"
   ]
  },
  {
   "cell_type": "code",
   "execution_count": null,
   "id": "c3337a18-2d33-468e-bbf8-275557cc217c",
   "metadata": {},
   "outputs": [],
   "source": []
  }
 ],
 "metadata": {
  "kernelspec": {
   "display_name": "Python 3 (ipykernel)",
   "language": "python",
   "name": "python3"
  },
  "language_info": {
   "codemirror_mode": {
    "name": "ipython",
    "version": 3
   },
   "file_extension": ".py",
   "mimetype": "text/x-python",
   "name": "python",
   "nbconvert_exporter": "python",
   "pygments_lexer": "ipython3",
   "version": "3.11.5"
  }
 },
 "nbformat": 4,
 "nbformat_minor": 5
}
