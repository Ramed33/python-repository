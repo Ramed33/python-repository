{
 "cells": [
  {
   "cell_type": "markdown",
   "id": "204cc1ea-ef84-40e7-acc0-16217779a104",
   "metadata": {},
   "source": [
    "## Creando una vista hardcodeada"
   ]
  },
  {
   "cell_type": "markdown",
   "id": "cfa70494-aa35-4fc8-aabd-df3c98136183",
   "metadata": {},
   "source": [
    "### Views - Vistas\n",
    "- Vistas basadas en funciones\n",
    "- Vistas basadas en clases"
   ]
  },
  {
   "cell_type": "markdown",
   "id": "7a0c8037-daba-4d18-952e-22b519cb3433",
   "metadata": {},
   "source": [
    "## Cómo crear una aplicación en django"
   ]
  },
  {
   "cell_type": "markdown",
   "id": "c8f7d04f-328d-4b56-abf3-e766d4d8a506",
   "metadata": {},
   "source": [
    "python manage.py startapp <nombre_de_la_app>\n",
    "\n",
    "python manage.py startapp ecommerce"
   ]
  },
  {
   "cell_type": "markdown",
   "id": "8349a157-99b3-4f76-a52b-161383ea70de",
   "metadata": {},
   "source": [
    "- funciones - nombrarlas con minúsculas\n",
    "- clases - nombrarlas comenzando con mayúsculas"
   ]
  },
  {
   "cell_type": "markdown",
   "id": "519803a1-ea1b-4148-bb93-d7fef5fee13f",
   "metadata": {},
   "source": [
    "## correr en terminal para levantar nuevamente contenedor\n",
    "\n",
    "- docker compose up "
   ]
  },
  {
   "cell_type": "markdown",
   "id": "7adfd108-0dda-4176-8a65-ea1ac0e5a24d",
   "metadata": {},
   "source": [
    "dar docker ps para ver contenedores\n",
    "\n",
    "dar el siguiente código para correr un contenedor (en este caso hellodjango-web-1)\n",
    "\n",
    "docker exec -it hellodjango-web-1 bash\n",
    "\n",
    "dar ls para ver directorios\n",
    "\n",
    "dar\n",
    "\n",
    "python manage.py startapp ecommerce para crear aplicación y abrir vsch1>\")"
   ]
  },
  {
   "cell_type": "markdown",
   "id": "710eaadb-d427-4a5e-8925-1a583dabe924",
   "metadata": {},
   "source": [
    "## ecommerce/urls.py"
   ]
  },
  {
   "cell_type": "code",
   "execution_count": null,
   "id": "c30d48e8-6057-4e79-a665-bea870cab95e",
   "metadata": {},
   "outputs": [],
   "source": [
    "from django.shortcuts import render\n",
    "from django.http import HttpResponse\n",
    "\n",
    "# Create your views here.\n",
    "def home(request):\n",
    "    html = \"\"\"\n",
    "    <!DOCTYPE html>\n",
    "    <html>\n",
    "        <head>\n",
    "            <style>\n",
    "                h1 {color: blue}\n",
    "            </style>\n",
    "        </head>\n",
    "        <body>\n",
    "            <h1>Hola mundo</h1>\n",
    "        </body>\n",
    "    </html>\n",
    "    \"\"\"\n",
    "    return HttpResponse(html)"
   ]
  },
  {
   "cell_type": "markdown",
   "id": "0d7cff60-27d7-4598-ae4b-0f9628ca199c",
   "metadata": {},
   "source": [
    "## ecommerce/urls.py"
   ]
  },
  {
   "cell_type": "code",
   "execution_count": null,
   "id": "62c8b012-1502-49aa-881c-41960c7567c7",
   "metadata": {},
   "outputs": [],
   "source": [
    "from django.urls import path\n",
    "\n",
    "from pages import views\n",
    "\n",
    "urlpatterns = [\n",
    "    path(\"\", views.home, name=\"home\"),\n",
    "]"
   ]
  },
  {
   "cell_type": "markdown",
   "id": "4d799fa1-55e1-408b-914d-86c2ed8b5ad0",
   "metadata": {},
   "source": [
    "## config/urls.py"
   ]
  },
  {
   "cell_type": "code",
   "execution_count": null,
   "id": "98c832d9-f004-4f88-baf1-0674312c98ee",
   "metadata": {},
   "outputs": [],
   "source": [
    "urlpatterns = [\n",
    "    path(\"up/\", include(\"up.urls\")),\n",
    "    path(\"\", include(\"pages.urls\")),\n",
    "    path(\"ecommerce/\", include(\"ecommerce.urls\")), # línea agregada\n",
    "    path(\"admin/\", admin.site.urls),\n",
    "]"
   ]
  },
  {
   "cell_type": "markdown",
   "id": "c2e18cdd-6dae-4a9a-8fcb-c76ca4df7e84",
   "metadata": {},
   "source": [
    "## Respuesta http y redireccionamiento"
   ]
  },
  {
   "cell_type": "markdown",
   "id": "55b741e5-5678-4005-9276-452558d07d6b",
   "metadata": {},
   "source": [
    "middlewares: procesos intermedios entre un request y un response"
   ]
  },
  {
   "cell_type": "code",
   "execution_count": null,
   "id": "d0e3a4bc-7a77-4613-90aa-bdfae70ee6c8",
   "metadata": {},
   "outputs": [],
   "source": [
    "from django.conf import settings\n",
    "from django.contrib import admin\n",
    "from django.urls import include\n",
    "from django.urls import path\n",
    "\n",
    "urlpatterns = [\n",
    "    path(\"up/\", include(\"up.urls\")),\n",
    "    path(\"\", include(\"pages.urls\")),\n",
    "    path(\"ecommerce/\", include(\"ecommerce.urls\")), # línea agregada\n",
    "    path(\"admin/\", admin.site.urls),\n",
    "]\n",
    "if not settings.TESTING:\n",
    "    urlpatterns = [\n",
    "        *urlpatterns,\n",
    "        path(\"__debug__/\", include(\"debug_toolbar.urls\")),\n",
    "    ]"
   ]
  },
  {
   "cell_type": "markdown",
   "id": "094e8092-464d-45d6-9dba-72fab60da84e",
   "metadata": {},
   "source": [
    "## CRUD y Vistas"
   ]
  },
  {
   "cell_type": "markdown",
   "id": "4116ff83-8c1a-48a5-bdb7-9d1d3d236bf9",
   "metadata": {},
   "source": [
    "Forma dinámica de usar las vistas\n",
    "\n",
    "CRUD - Create, Retrieve, Update, Delete\n",
    "\n",
    "(Crear, Consultar, Actualizar, Eliminar)\n",
    "\n",
    "- Crear modelos\n",
    "- Agregar la app a INSTALLED_APPS\n",
    "- Crear y aplicar migraciones\n",
    "- Agregar admin"
   ]
  },
  {
   "cell_type": "markdown",
   "id": "d398079b-e6e4-449b-b05e-5f20d48cffe0",
   "metadata": {},
   "source": [
    "### ecommerce/models.py"
   ]
  },
  {
   "cell_type": "code",
   "execution_count": null,
   "id": "103666db-b596-4091-ae07-100055e39af5",
   "metadata": {},
   "outputs": [],
   "source": [
    "from django.db import models\n",
    "\n",
    "# Create your models here.\n",
    "class ProductModel(models.Model):\n",
    "    title = models.TextField()\n",
    "    price = models.FloatField()"
   ]
  }
 ],
 "metadata": {
  "kernelspec": {
   "display_name": "Python 3 (ipykernel)",
   "language": "python",
   "name": "python3"
  },
  "language_info": {
   "codemirror_mode": {
    "name": "ipython",
    "version": 3
   },
   "file_extension": ".py",
   "mimetype": "text/x-python",
   "name": "python",
   "nbconvert_exporter": "python",
   "pygments_lexer": "ipython3",
   "version": "3.11.5"
  }
 },
 "nbformat": 4,
 "nbformat_minor": 5
}
