{
 "cells": [
  {
   "cell_type": "markdown",
   "id": "737d05b7-536b-406f-bafc-4258dc15dd21",
   "metadata": {},
   "source": [
    "# Ejercicio - Ciclos y Declaraciones Especiales"
   ]
  },
  {
   "cell_type": "code",
   "execution_count": 1,
   "id": "8df7913d-d685-45a4-a2f3-4b518bf7042f",
   "metadata": {},
   "outputs": [
    {
     "name": "stdout",
     "output_type": "stream",
     "text": [
      "01:06\n",
      " Stopped after: 66 seconds\n"
     ]
    }
   ],
   "source": [
    "import time\n",
    "\n",
    "def countup(time_sec): \n",
    "    x = 0\n",
    "    while time_sec != x:\n",
    "        mins, secs = divmod(x, 60) \n",
    "        timeformat = '{:02d}:{:02d}'.format(mins, secs)\n",
    "        print(timeformat, end= '\\r')\n",
    "        time.sleep(1)\n",
    "        x += 1\n",
    "    timeformat = '{:02d}:{:02d}'.format(mins, secs+1)\n",
    "    print(timeformat, end= '\\r')\n",
    "    print(\"\\n\", \"Stopped after:\", x, \"seconds\")\n",
    "\n",
    "countup(66)"
   ]
  },
  {
   "cell_type": "code",
   "execution_count": null,
   "id": "187a2c13-4eb9-452f-b231-3ae4440733e7",
   "metadata": {},
   "outputs": [],
   "source": []
  }
 ],
 "metadata": {
  "kernelspec": {
   "display_name": "Python 3 (ipykernel)",
   "language": "python",
   "name": "python3"
  },
  "language_info": {
   "codemirror_mode": {
    "name": "ipython",
    "version": 3
   },
   "file_extension": ".py",
   "mimetype": "text/x-python",
   "name": "python",
   "nbconvert_exporter": "python",
   "pygments_lexer": "ipython3",
   "version": "3.11.5"
  }
 },
 "nbformat": 4,
 "nbformat_minor": 5
}
