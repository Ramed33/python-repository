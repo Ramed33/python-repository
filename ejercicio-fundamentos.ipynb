{
 "cells": [
  {
   "cell_type": "code",
   "execution_count": 2,
   "id": "6be0cc3f-612d-4720-9d1e-2adfbfd3e660",
   "metadata": {},
   "outputs": [
    {
     "name": "stdin",
     "output_type": "stream",
     "text": [
      "Ingresa un entero:  21\n",
      "Ingresa un float:  33.99\n",
      "Ingresa una cadena:  \"Hola\"\n"
     ]
    },
    {
     "name": "stdout",
     "output_type": "stream",
     "text": [
      "El valor del primer número es:  21\n",
      "El tipo de dato del primer número es:  <class 'int'>\n",
      "El valor del segundo número es:  33.99\n",
      "El tipo de dato del segundo número es:  <class 'float'>\n",
      "El valor de la cadena es:  Hola\n",
      "El tipo de dato de la cadena es:  <class 'str'>\n"
     ]
    }
   ],
   "source": [
    "x = eval(input(\"Ingresa un entero: \"))\n",
    "y = eval(input(\"Ingresa un float: \"))\n",
    "z = eval(input(\"Ingresa una cadena: \"))\n",
    "print(\"El valor del primer número es: \", x)\n",
    "print(\"El tipo de dato del primer número es: \", type(x))\n",
    "print(\"El valor del segundo número es: \", y)\n",
    "print(\"El tipo de dato del segundo número es: \", type(y))\n",
    "print(\"El valor de la cadena es: \", z)\n",
    "print(\"El tipo de dato de la cadena es: \", type(z))"
   ]
  },
  {
   "cell_type": "code",
   "execution_count": null,
   "id": "94c04cc4-cd6a-43af-94be-40bd5dca8248",
   "metadata": {},
   "outputs": [],
   "source": []
  }
 ],
 "metadata": {
  "kernelspec": {
   "display_name": "Python 3 (ipykernel)",
   "language": "python",
   "name": "python3"
  },
  "language_info": {
   "codemirror_mode": {
    "name": "ipython",
    "version": 3
   },
   "file_extension": ".py",
   "mimetype": "text/x-python",
   "name": "python",
   "nbconvert_exporter": "python",
   "pygments_lexer": "ipython3",
   "version": "3.11.5"
  }
 },
 "nbformat": 4,
 "nbformat_minor": 5
}
