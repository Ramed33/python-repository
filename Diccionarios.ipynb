{
 "cells": [
  {
   "cell_type": "markdown",
   "id": "c3d2b38f-fb40-4e6f-9152-c31f068c3a39",
   "metadata": {},
   "source": [
    "## Diferentes formas de crear diccionarios"
   ]
  },
  {
   "cell_type": "code",
   "execution_count": 2,
   "id": "81de983a-0f98-4160-be73-18e2dac8031a",
   "metadata": {},
   "outputs": [
    {
     "name": "stdout",
     "output_type": "stream",
     "text": [
      "{}\n",
      "<class 'dict'>\n"
     ]
    }
   ],
   "source": [
    "my_dict = {}\n",
    "print(my_dict)\n",
    "print(type(my_dict))"
   ]
  },
  {
   "cell_type": "code",
   "execution_count": 4,
   "id": "20f642b0-8113-47eb-a767-1f0437c07bdb",
   "metadata": {},
   "outputs": [
    {
     "name": "stdout",
     "output_type": "stream",
     "text": [
      "{}\n",
      "<class 'dict'>\n"
     ]
    }
   ],
   "source": [
    "my_dict = dict()\n",
    "print(my_dict)\n",
    "print(type(my_dict))"
   ]
  },
  {
   "cell_type": "code",
   "execution_count": 6,
   "id": "61ea9969-b95a-4a5c-a428-dea5a9ab6e0a",
   "metadata": {},
   "outputs": [
    {
     "name": "stdout",
     "output_type": "stream",
     "text": [
      "{1: 'Uno', 2: 'Dos', 3: 'Tres', 4: 'Cuatro', 5: 'Cinco'}\n",
      "<class 'dict'>\n"
     ]
    }
   ],
   "source": [
    "# Representando el diccionario como tal\n",
    "my_dict = {\n",
    "    1:\"Uno\",\n",
    "    2:\"Dos\",\n",
    "    3:\"Tres\",\n",
    "    4:\"Cuatro\",\n",
    "    5:\"Cinco\"\n",
    "}\n",
    "print(my_dict)\n",
    "print(type(my_dict))"
   ]
  },
  {
   "cell_type": "code",
   "execution_count": 10,
   "id": "9c0feda0-48ba-47df-89a9-f98ddd3cb49c",
   "metadata": {},
   "outputs": [
    {
     "name": "stdout",
     "output_type": "stream",
     "text": [
      "{'Uno': 1, 'Dos': 2, 'Tres': 3, 'Cuatro': 4, 'Cinco': 5}\n",
      "<class 'dict'>\n"
     ]
    }
   ],
   "source": [
    "# Usando nombre de las llaves con valores\n",
    "my_dict = dict(Uno=1, Dos=2, Tres=3, Cuatro=4, Cinco=5)\n",
    "print(my_dict)\n",
    "print(type(my_dict))"
   ]
  },
  {
   "cell_type": "code",
   "execution_count": 14,
   "id": "230895ed-d737-4568-aa63-a035bbe652d9",
   "metadata": {},
   "outputs": [
    {
     "name": "stdout",
     "output_type": "stream",
     "text": [
      "{1: 'Uno', 2: 'Dos', 3: 'Tres', 4: 'Cuatro', 5: 'Cinco'}\n",
      "<class 'dict'>\n"
     ]
    }
   ],
   "source": [
    "# Usando una lista de tuplas\n",
    "my_dict = dict([\n",
    "    (1, \"Uno\"),\n",
    "    (2, \"Dos\"),\n",
    "    (3, \"Tres\"),\n",
    "    (4, \"Cuatro\"),\n",
    "    (5, \"Cinco\")\n",
    "])\n",
    "print(my_dict)\n",
    "print(type(my_dict))"
   ]
  },
  {
   "cell_type": "markdown",
   "id": "aefc84ef-3554-479e-b2c2-9801851cb55c",
   "metadata": {},
   "source": [
    "## Método update"
   ]
  },
  {
   "cell_type": "code",
   "execution_count": 19,
   "id": "dd2b6d7f-cd31-4cdd-b3d6-c0a0427c688b",
   "metadata": {},
   "outputs": [
    {
     "name": "stdout",
     "output_type": "stream",
     "text": [
      "{1: 'Uno', 2: 'Dos', 3: 'Tres', 4: 'Cuatro', 5: 'Cinco'}\n",
      "<class 'dict'>\n",
      "{6: 'Seis', 7: 'Siete', 8: 'Ocho', 9: 'Nueve'}\n",
      "<class 'dict'>\n"
     ]
    }
   ],
   "source": [
    "my_dict = {\n",
    "    1:\"Uno\",\n",
    "    2:\"Dos\",\n",
    "    3:\"Tres\",\n",
    "    4:\"Cuatro\",\n",
    "    5:\"Cinco\"\n",
    "}\n",
    "my_dict_2 = {\n",
    "    6:\"Seis\",\n",
    "    7:\"Siete\",\n",
    "    8:\"Ocho\",\n",
    "    9:\"Nueve\"\n",
    "}\n",
    "print(my_dict)\n",
    "print(type(my_dict))\n",
    "\n",
    "print(my_dict_2)\n",
    "print(type(my_dict_2))"
   ]
  },
  {
   "cell_type": "code",
   "execution_count": 21,
   "id": "1b70c328-42bb-44d5-9ec6-6d100392e1f9",
   "metadata": {},
   "outputs": [
    {
     "name": "stdout",
     "output_type": "stream",
     "text": [
      "{1: 'Uno', 2: 'Dos', 3: 'Tres', 4: 'Cuatro', 5: 'Cinco', 6: 'Seis', 7: 'Siete', 8: 'Ocho', 9: 'Nueve'}\n",
      "<class 'dict'>\n"
     ]
    }
   ],
   "source": [
    "my_dict.update(my_dict_2)\n",
    "print(my_dict)\n",
    "print(type(my_dict))"
   ]
  },
  {
   "cell_type": "code",
   "execution_count": 26,
   "id": "4072290f-70e4-40b9-8737-efb15c735537",
   "metadata": {},
   "outputs": [
    {
     "name": "stdout",
     "output_type": "stream",
     "text": [
      "{1: 'Uno', 2: 'Dos', 3: 'Tres', 4: 'Cuatro', 5: 'Cinco'}\n",
      "<class 'dict'>\n",
      "{1: 'UNO', 3: 'TRES', 4: 'CUATRO'}\n",
      "<class 'dict'>\n",
      "{1: 'UNO', 2: 'Dos', 3: 'TRES', 4: 'CUATRO', 5: 'Cinco'}\n",
      "<class 'dict'>\n"
     ]
    }
   ],
   "source": [
    "my_dict = {\n",
    "    1:\"Uno\",\n",
    "    2:\"Dos\",\n",
    "    3:\"Tres\",\n",
    "    4:\"Cuatro\",\n",
    "    5:\"Cinco\"\n",
    "}\n",
    "my_dict_2 = {\n",
    "    1:\"UNO\",\n",
    "    3:\"TRES\",\n",
    "    4:\"CUATRO\"\n",
    "}\n",
    "print(my_dict)\n",
    "print(type(my_dict))\n",
    "\n",
    "print(my_dict_2)\n",
    "print(type(my_dict_2))\n",
    "\n",
    "my_dict.update(my_dict_2)\n",
    "print(my_dict)\n",
    "print(type(my_dict))"
   ]
  },
  {
   "cell_type": "markdown",
   "id": "d829614d-e7da-4011-91c9-6faec6bd145a",
   "metadata": {},
   "source": [
    "## Copy & alias"
   ]
  },
  {
   "cell_type": "code",
   "execution_count": 41,
   "id": "547040c4-5031-42f6-9600-09da5dedb23e",
   "metadata": {},
   "outputs": [],
   "source": [
    "laptops = {\n",
    "    \"HP\": 11999.0,\n",
    "    \"Apple\": 24999.0,\n",
    "    \"Acer\": 12012.03,\n",
    "    \"Lenovo\": 17299.0,\n",
    "    \"Dell\": 15524.87\n",
    "}"
   ]
  },
  {
   "cell_type": "code",
   "execution_count": 43,
   "id": "9e47c2aa-4dcc-4407-ab6a-63d4db3bf1fb",
   "metadata": {},
   "outputs": [
    {
     "name": "stdout",
     "output_type": "stream",
     "text": [
      "{'HP': 11999.0, 'Apple': 24999.0, 'Acer': 12012.03, 'Lenovo': 17299.0, 'Dell': 15524.87}\n",
      "{'HP': 9999.0, 'Apple': 24999.0, 'Acer': 12012.03, 'Lenovo': 17299.0, 'Dell': 15524.87}\n",
      "{'HP': 9999.0, 'Apple': 24999.0, 'Acer': 12012.03, 'Lenovo': 17299.0, 'Dell': 15524.87}\n"
     ]
    }
   ],
   "source": [
    "## usar un alias va a afectar al diccionario original\n",
    "alias = laptops # no es recomendable\n",
    "print(alias)\n",
    "alias[\"HP\"] = 9999.0\n",
    "print(alias)\n",
    "print(laptops)"
   ]
  },
  {
   "cell_type": "code",
   "execution_count": 35,
   "id": "a0782e73-47ea-4927-87e8-5b686ec98bce",
   "metadata": {},
   "outputs": [
    {
     "name": "stdout",
     "output_type": "stream",
     "text": [
      "{'HP': 11999.0, 'Apple': 24999.0, 'Acer': 12012.03, 'Lenovo': 17299.0, 'Dell': 15524.87}\n",
      "{'HP': 9999.0, 'Apple': 24999.0, 'Acer': 12012.03, 'Lenovo': 17299.0, 'Dell': 15524.87}\n",
      "{'HP': 11999.0, 'Apple': 24999.0, 'Acer': 12012.03, 'Lenovo': 17299.0, 'Dell': 15524.87}\n"
     ]
    }
   ],
   "source": [
    "laptops = {\n",
    "    \"HP\": 11999.0,\n",
    "    \"Apple\": 24999.0,\n",
    "    \"Acer\": 12012.03,\n",
    "    \"Lenovo\": 17299.0,\n",
    "    \"Dell\": 15524.87\n",
    "}\n",
    "copy = laptops.copy() # siempre es recomendable\n",
    "## usar copy es la forma correcta ya que mantiene los valores del diccionario original\n",
    "print(copy)\n",
    "copy[\"HP\"] = 9999.0\n",
    "print(copy)\n",
    "print(laptops)"
   ]
  },
  {
   "cell_type": "markdown",
   "id": "ab77d31a-8492-4008-8033-ced85db2eaaf",
   "metadata": {},
   "source": [
    "## Obtener las keys/LLaves y values/valores por separado"
   ]
  },
  {
   "cell_type": "code",
   "execution_count": 46,
   "id": "ad49d6c2-933c-4da4-a932-00af7f60933f",
   "metadata": {},
   "outputs": [],
   "source": [
    "laptops = {\n",
    "    \"HP\": 11999.0,\n",
    "    \"Apple\": 24999.0,\n",
    "    \"Acer\": 12012.03,\n",
    "    \"Lenovo\": 17299.0,\n",
    "    \"Dell\": 15524.87\n",
    "}"
   ]
  },
  {
   "cell_type": "markdown",
   "id": "91a89bba-4b83-47f2-b0cc-21a904cf4377",
   "metadata": {},
   "source": [
    "### keys"
   ]
  },
  {
   "cell_type": "code",
   "execution_count": 51,
   "id": "df657b62-c4bc-42e1-885b-8e4530e826e0",
   "metadata": {},
   "outputs": [
    {
     "name": "stdout",
     "output_type": "stream",
     "text": [
      "dict_keys(['HP', 'Apple', 'Acer', 'Lenovo', 'Dell'])\n"
     ]
    }
   ],
   "source": [
    "print(laptops.keys())"
   ]
  },
  {
   "cell_type": "code",
   "execution_count": 59,
   "id": "0582c2fd-33f9-493c-9c0d-6abf6d694ebe",
   "metadata": {},
   "outputs": [
    {
     "name": "stdout",
     "output_type": "stream",
     "text": [
      "Para la llave HP el valor es 11999.0\n",
      "Para la llave Apple el valor es 24999.0\n",
      "Para la llave Acer el valor es 12012.03\n",
      "Para la llave Lenovo el valor es 17299.0\n",
      "Para la llave Dell el valor es 15524.87\n"
     ]
    }
   ],
   "source": [
    "for key in laptops.keys():\n",
    "    print(\"Para la llave {} el valor es {}\".format(key, laptops[key]))"
   ]
  },
  {
   "cell_type": "markdown",
   "id": "ff69a5d6-cd1e-450d-9c8e-251f31bea25a",
   "metadata": {},
   "source": [
    "### values"
   ]
  },
  {
   "cell_type": "code",
   "execution_count": 57,
   "id": "782dd62a-ba35-4e1c-b8d7-2bb865ec0527",
   "metadata": {},
   "outputs": [
    {
     "name": "stdout",
     "output_type": "stream",
     "text": [
      "dict_values([11999.0, 24999.0, 12012.03, 17299.0, 15524.87])\n"
     ]
    }
   ],
   "source": [
    "print(laptops.values())"
   ]
  },
  {
   "cell_type": "code",
   "execution_count": 61,
   "id": "9a48d70d-f72f-4279-9b41-9777ad8807eb",
   "metadata": {},
   "outputs": [
    {
     "name": "stdout",
     "output_type": "stream",
     "text": [
      "El valor es 11999.0\n",
      "El valor es 24999.0\n",
      "El valor es 12012.03\n",
      "El valor es 17299.0\n",
      "El valor es 15524.87\n"
     ]
    }
   ],
   "source": [
    "for value in laptops.values():\n",
    "    print(\"El valor es {}\".format(value))"
   ]
  },
  {
   "cell_type": "code",
   "execution_count": 63,
   "id": "7559bf09-1563-47d0-80bc-20568cb3a545",
   "metadata": {},
   "outputs": [
    {
     "name": "stdout",
     "output_type": "stream",
     "text": [
      "Para la llave HP el valor es 11999.0\n",
      "Para la llave Apple el valor es 24999.0\n",
      "Para la llave Acer el valor es 12012.03\n",
      "Para la llave Lenovo el valor es 17299.0\n",
      "Para la llave Dell el valor es 15524.87\n"
     ]
    }
   ],
   "source": [
    "def get_key(d, val):\n",
    "    keys = [k for k, v in d.items() if v == val]\n",
    "    if keys:\n",
    "        return keys[0]\n",
    "    return None\n",
    "\n",
    "for value in laptops.values():\n",
    "    print(\"Para la llave {} el valor es {}\".format(get_key(laptops, value), value))"
   ]
  },
  {
   "cell_type": "markdown",
   "id": "fb7a04db-6bee-47b4-b6ef-ae5c1ceed972",
   "metadata": {},
   "source": [
    "## Obteniendo las keys y values al mismo tiempo"
   ]
  },
  {
   "cell_type": "markdown",
   "id": "a2b165c6-2223-45a3-8ced-8b8a385cfb3e",
   "metadata": {},
   "source": [
    "### items"
   ]
  },
  {
   "cell_type": "code",
   "execution_count": 67,
   "id": "9edfeb93-7a26-488e-916d-5057a14e4527",
   "metadata": {},
   "outputs": [
    {
     "name": "stdout",
     "output_type": "stream",
     "text": [
      "Para la llave HP el valor es 11999.0\n",
      "Para la llave Apple el valor es 24999.0\n",
      "Para la llave Acer el valor es 12012.03\n",
      "Para la llave Lenovo el valor es 17299.0\n",
      "Para la llave Dell el valor es 15524.87\n"
     ]
    }
   ],
   "source": [
    "for key, value in laptops.items():\n",
    "    print(\"Para la llave {} el valor es {}\".format(key, value))"
   ]
  },
  {
   "cell_type": "markdown",
   "id": "1a29720e-8e7c-4467-a799-aad97e15435c",
   "metadata": {},
   "source": [
    "## Métodos para manipulación de diccionarios"
   ]
  },
  {
   "cell_type": "markdown",
   "id": "3caf8b0f-8edb-4e3d-a4d9-6fd428a5021e",
   "metadata": {},
   "source": [
    "### clear\n",
    "elimina los elementos de un diccionario"
   ]
  },
  {
   "cell_type": "markdown",
   "id": "d82e8e35-bcdf-4b02-ba81-9e05fc97c804",
   "metadata": {},
   "source": [
    "laptops = {\n",
    "    \"HP\": 11999.0,\n",
    "    \"Apple\": 24999.0,\n",
    "    \"Acer\": 12012.03,\n",
    "    \"Lenovo\": 17299.0,\n",
    "    \"Dell\": 15524.87\n",
    "}\n",
    "\n",
    "print(laptops)\n",
    "print(type(laptops))\n",
    "print(len(laptops))\n",
    "\n",
    "laptops.clear()\n",
    "\n",
    "print(laptops)\n",
    "print(type(laptops))\n",
    "print(len(laptops))"
   ]
  },
  {
   "cell_type": "markdown",
   "id": "4a7486a4-cdb1-4ce3-b11e-efa76a1453e1",
   "metadata": {},
   "source": [
    "### copy\n",
    "sirve para hacer una copia del diccionario"
   ]
  },
  {
   "cell_type": "code",
   "execution_count": 15,
   "id": "49b0aeeb-b0c2-48d9-8c53-10a373ac568d",
   "metadata": {},
   "outputs": [
    {
     "name": "stdout",
     "output_type": "stream",
     "text": [
      "{'HP': 11999.0, 'Apple': 24999.0, 'Acer': 12012.03, 'Lenovo': 17299.0, 'Dell': 15524.87}\n",
      "<class 'dict'>\n",
      "5\n",
      "{'HP': 11999.0, 'Apple': 24999.0, 'Acer': 12012.03, 'Lenovo': 17299.0, 'Dell': 15524.87}\n",
      "<class 'dict'>\n",
      "5\n",
      "{'HP': 11999.0, 'Apple': 24999.0, 'Acer': 12012.03, 'Lenovo': 17299.0, 'Dell': 15524.87}\n",
      "<class 'dict'>\n",
      "5\n",
      "{}\n",
      "<class 'dict'>\n",
      "0\n"
     ]
    }
   ],
   "source": [
    "laptops = {\n",
    "    \"HP\": 11999.0,\n",
    "    \"Apple\": 24999.0,\n",
    "    \"Acer\": 12012.03,\n",
    "    \"Lenovo\": 17299.0,\n",
    "    \"Dell\": 15524.87\n",
    "}\n",
    "\n",
    "print(laptops)\n",
    "print(type(laptops))\n",
    "print(len(laptops))\n",
    "\n",
    "copy = laptops.copy()\n",
    "\n",
    "print(copy)\n",
    "print(type(copy))\n",
    "print(len(copy))\n",
    "\n",
    "copy.clear()\n",
    "\n",
    "print(laptops)\n",
    "print(type(laptops))\n",
    "print(len(laptops))\n",
    "\n",
    "print(copy)\n",
    "print(type(copy))\n",
    "print(len(copy))"
   ]
  },
  {
   "cell_type": "markdown",
   "id": "09f68465-f253-4b17-8c9c-df1b462ae71d",
   "metadata": {},
   "source": [
    "### from keys\n",
    "construye un nuevo diccionario tomando como referencia las keys en un diccionario"
   ]
  },
  {
   "cell_type": "code",
   "execution_count": 18,
   "id": "cd58fc4a-a364-4914-8537-e652faa4368e",
   "metadata": {},
   "outputs": [
    {
     "name": "stdout",
     "output_type": "stream",
     "text": [
      "{'HP': 'Marca de laptop', 'Apple': 'Marca de laptop', 'Acer': 'Marca de laptop', 'Lenovo': 'Marca de laptop', 'Dell': 'Marca de laptop'}\n"
     ]
    }
   ],
   "source": [
    "laptops = {\n",
    "    \"HP\": 11999.0,\n",
    "    \"Apple\": 24999.0,\n",
    "    \"Acer\": 12012.03,\n",
    "    \"Lenovo\": 17299.0,\n",
    "    \"Dell\": 15524.87\n",
    "}\n",
    "\n",
    "category = \"Marca de laptop\"\n",
    "new_dict = dict.fromkeys(laptops, category)\n",
    "print(new_dict)"
   ]
  },
  {
   "cell_type": "markdown",
   "id": "abb68f85-0f7c-4a5b-80dd-65970ac1237b",
   "metadata": {},
   "source": [
    "### get\n",
    "obtiene el valos de un diccionario de forma segura y con la opción de configurar un valor por default"
   ]
  },
  {
   "cell_type": "code",
   "execution_count": 21,
   "id": "9c8523fc-0cd4-4724-8be6-b3df7c7e5f1a",
   "metadata": {},
   "outputs": [
    {
     "name": "stdout",
     "output_type": "stream",
     "text": [
      "17299.0\n",
      "17299.0\n"
     ]
    }
   ],
   "source": [
    "laptops = {\n",
    "    \"HP\": 11999.0,\n",
    "    \"Apple\": 24999.0,\n",
    "    \"Acer\": 12012.03,\n",
    "    \"Lenovo\": 17299.0,\n",
    "    \"Dell\": 15524.87\n",
    "}\n",
    "\n",
    "print(laptops[\"Lenovo\"])\n",
    "print(laptops.get(\"Lenovo\"))"
   ]
  },
  {
   "cell_type": "code",
   "execution_count": 23,
   "id": "485d6482-4632-4ba2-b1c7-2ac849359425",
   "metadata": {},
   "outputs": [
    {
     "ename": "KeyError",
     "evalue": "'Asus'",
     "output_type": "error",
     "traceback": [
      "\u001b[1;31m---------------------------------------------------------------------------\u001b[0m",
      "\u001b[1;31mKeyError\u001b[0m                                  Traceback (most recent call last)",
      "Cell \u001b[1;32mIn[23], line 2\u001b[0m\n\u001b[0;32m      1\u001b[0m \u001b[38;5;66;03m# forma insegura de obtener un valor\u001b[39;00m\n\u001b[1;32m----> 2\u001b[0m \u001b[38;5;28mprint\u001b[39m(laptops[\u001b[38;5;124m\"\u001b[39m\u001b[38;5;124mAsus\u001b[39m\u001b[38;5;124m\"\u001b[39m])\n",
      "\u001b[1;31mKeyError\u001b[0m: 'Asus'"
     ]
    }
   ],
   "source": [
    "# forma insegura de obtener un valor\n",
    "print(laptops[\"Asus\"])"
   ]
  },
  {
   "cell_type": "code",
   "execution_count": 25,
   "id": "93e37d36-be2f-4e5a-9c45-6cadfcb17828",
   "metadata": {},
   "outputs": [
    {
     "name": "stdout",
     "output_type": "stream",
     "text": [
      "None\n"
     ]
    }
   ],
   "source": [
    "# forma segura de obtener un valor\n",
    "print(laptops.get(\"Asus\"))"
   ]
  },
  {
   "cell_type": "code",
   "execution_count": 32,
   "id": "810de3f7-defb-4137-83f5-44336f137590",
   "metadata": {},
   "outputs": [
    {
     "name": "stdout",
     "output_type": "stream",
     "text": [
      "0\n",
      "No disponible\n"
     ]
    }
   ],
   "source": [
    "# forma segura de obtener un valor y configurando valor por default\n",
    "print(laptops.get(\"Asus\", 0))\n",
    "print(laptops.get(\"Asus\", \"No disponible\"))"
   ]
  },
  {
   "cell_type": "code",
   "execution_count": 34,
   "id": "7d094d4e-55c5-4f78-bedc-6ecbd8bfc2c0",
   "metadata": {},
   "outputs": [
    {
     "name": "stdout",
     "output_type": "stream",
     "text": [
      "17299.0\n",
      "17299.0\n"
     ]
    }
   ],
   "source": [
    "# forma segura de obtener un valor y configurando valor por default\n",
    "print(laptops.get(\"Lenovo\", 0))\n",
    "print(laptops.get(\"Lenovo\", \"No disponible\"))"
   ]
  },
  {
   "cell_type": "markdown",
   "id": "8ea62047-0c24-4396-a7a9-70b081704d71",
   "metadata": {},
   "source": [
    "### items\n",
    "obtiene cada llave y valor en el diccionario de forma simultanea"
   ]
  },
  {
   "cell_type": "code",
   "execution_count": 45,
   "id": "17b2c760-53f5-4543-853c-b3838e105c23",
   "metadata": {},
   "outputs": [
    {
     "name": "stdout",
     "output_type": "stream",
     "text": [
      "Para la llave 'HP' el valor es 11999.0\n",
      "Para la llave 'Apple' el valor es 24999.0\n",
      "Para la llave 'Acer' el valor es 12012.03\n",
      "Para la llave 'Lenovo' el valor es 17299.0\n",
      "Para la llave 'Dell' el valor es 15524.87\n"
     ]
    }
   ],
   "source": [
    "laptops = {\n",
    "    \"HP\": 11999.0,\n",
    "    \"Apple\": 24999.0,\n",
    "    \"Acer\": 12012.03,\n",
    "    \"Lenovo\": 17299.0,\n",
    "    \"Dell\": 15524.87\n",
    "}\n",
    "\n",
    "for key, value in laptops.items():\n",
    "    print(\"Para la llave '{}' el valor es {}\".format(key, value))"
   ]
  },
  {
   "cell_type": "markdown",
   "id": "c54a2cab-4fea-49fe-bbd7-2d3a326f0ae0",
   "metadata": {},
   "source": [
    "### keys\n",
    "sirve para obtener las llaves de un diccionario"
   ]
  },
  {
   "cell_type": "code",
   "execution_count": 51,
   "id": "c1b4fb9a-e659-49ef-8f00-3ae2d64c7dec",
   "metadata": {},
   "outputs": [
    {
     "name": "stdout",
     "output_type": "stream",
     "text": [
      "Una llave del diccionario es 'HP'\n",
      "Una llave del diccionario es 'Apple'\n",
      "Una llave del diccionario es 'Acer'\n",
      "Una llave del diccionario es 'Lenovo'\n",
      "Una llave del diccionario es 'Dell'\n"
     ]
    }
   ],
   "source": [
    "laptops = {\n",
    "    \"HP\": 11999.0,\n",
    "    \"Apple\": 24999.0,\n",
    "    \"Acer\": 12012.03,\n",
    "    \"Lenovo\": 17299.0,\n",
    "    \"Dell\": 15524.87\n",
    "}\n",
    "\n",
    "for key in laptops.keys():\n",
    "    print(\"Una llave del diccionario es '{}'\".format(key))"
   ]
  },
  {
   "cell_type": "markdown",
   "id": "2ec03765-c579-4688-8dd6-e1d4a1797cbc",
   "metadata": {},
   "source": [
    "### values\n",
    "obtiene los valores de un diccionario"
   ]
  },
  {
   "cell_type": "code",
   "execution_count": 57,
   "id": "530eb0ba-1f38-4b43-b18d-cc38f66b7513",
   "metadata": {},
   "outputs": [
    {
     "name": "stdout",
     "output_type": "stream",
     "text": [
      "Un valor del diccionario es '11999.0'\n",
      "Un valor del diccionario es '24999.0'\n",
      "Un valor del diccionario es '12012.03'\n",
      "Un valor del diccionario es '17299.0'\n",
      "Un valor del diccionario es '15524.87'\n"
     ]
    }
   ],
   "source": [
    "laptops = {\n",
    "    \"HP\": 11999.0,\n",
    "    \"Apple\": 24999.0,\n",
    "    \"Acer\": 12012.03,\n",
    "    \"Lenovo\": 17299.0,\n",
    "    \"Dell\": 15524.87\n",
    "}\n",
    "\n",
    "for value in laptops.values():\n",
    "    print(\"Un valor del diccionario es '{}'\".format(value))"
   ]
  },
  {
   "cell_type": "markdown",
   "id": "2d818526-2d62-49a9-bf74-8b677a8f834c",
   "metadata": {},
   "source": [
    "### pop\n",
    "elimina la llave y valor de un diccionario pasando la llave como parámetro"
   ]
  },
  {
   "cell_type": "code",
   "execution_count": 60,
   "id": "98864c5a-64d7-4575-82bc-9acda6fe0ac8",
   "metadata": {},
   "outputs": [
    {
     "name": "stdout",
     "output_type": "stream",
     "text": [
      "{'HP': 11999.0, 'Apple': 24999.0, 'Acer': 12012.03, 'Lenovo': 17299.0, 'Dell': 15524.87}\n",
      "5\n",
      "{'HP': 11999.0, 'Apple': 24999.0, 'Acer': 12012.03, 'Dell': 15524.87}\n",
      "4\n"
     ]
    }
   ],
   "source": [
    "laptops = {\n",
    "    \"HP\": 11999.0,\n",
    "    \"Apple\": 24999.0,\n",
    "    \"Acer\": 12012.03,\n",
    "    \"Lenovo\": 17299.0,\n",
    "    \"Dell\": 15524.87\n",
    "}\n",
    "\n",
    "print(laptops)\n",
    "print(len(laptops))\n",
    "\n",
    "laptops.pop(\"Lenovo\")\n",
    "print(laptops)\n",
    "print(len(laptops))"
   ]
  },
  {
   "cell_type": "code",
   "execution_count": 62,
   "id": "2b5701d8-7541-4cc7-88a6-1ba20336e3c7",
   "metadata": {},
   "outputs": [
    {
     "ename": "KeyError",
     "evalue": "'Asus'",
     "output_type": "error",
     "traceback": [
      "\u001b[1;31m---------------------------------------------------------------------------\u001b[0m",
      "\u001b[1;31mKeyError\u001b[0m                                  Traceback (most recent call last)",
      "Cell \u001b[1;32mIn[62], line 1\u001b[0m\n\u001b[1;32m----> 1\u001b[0m laptops\u001b[38;5;241m.\u001b[39mpop(\u001b[38;5;124m\"\u001b[39m\u001b[38;5;124mAsus\u001b[39m\u001b[38;5;124m\"\u001b[39m)\n\u001b[0;32m      2\u001b[0m \u001b[38;5;28mprint\u001b[39m(laptops)\n\u001b[0;32m      3\u001b[0m \u001b[38;5;28mprint\u001b[39m(\u001b[38;5;28mlen\u001b[39m(laptops))\n",
      "\u001b[1;31mKeyError\u001b[0m: 'Asus'"
     ]
    }
   ],
   "source": [
    "laptops.pop(\"Asus\")\n",
    "print(laptops)\n",
    "print(len(laptops))"
   ]
  },
  {
   "cell_type": "markdown",
   "id": "ab4f2e63-e036-4751-806e-5cdc99be055c",
   "metadata": {},
   "source": [
    "print(laptops)\n",
    "print(len(laptops))\n",
    "\n",
    "if \"Asus\" in laptops.keys():\n",
    "    laptops.pop(\"Asus\")\n",
    "    print(laptops)\n",
    "    print(len(laptops))\n",
    "else:\n",
    "    print(\"La llave 'Asus' no está en el diccionario\")"
   ]
  },
  {
   "cell_type": "markdown",
   "id": "864aaddc-e069-4baa-9e56-5d8136494ad2",
   "metadata": {},
   "source": [
    "### popitem\n",
    "elimina el índice -1 (el último elemento llave_valor)"
   ]
  },
  {
   "cell_type": "code",
   "execution_count": 72,
   "id": "9eea9a7f-a138-4141-9609-6b7c9e26bc32",
   "metadata": {},
   "outputs": [
    {
     "name": "stdout",
     "output_type": "stream",
     "text": [
      "{'HP': 11999.0, 'Apple': 24999.0, 'Acer': 12012.03, 'Lenovo': 17299.0, 'Dell': 15524.87}\n",
      "5\n",
      "{'HP': 11999.0, 'Apple': 24999.0, 'Acer': 12012.03, 'Lenovo': 17299.0}\n",
      "4\n",
      "{'HP': 11999.0, 'Apple': 24999.0, 'Acer': 12012.03}\n",
      "3\n",
      "{'HP': 11999.0, 'Apple': 24999.0}\n",
      "2\n"
     ]
    }
   ],
   "source": [
    "laptops = {\n",
    "    \"HP\": 11999.0,\n",
    "    \"Apple\": 24999.0,\n",
    "    \"Acer\": 12012.03,\n",
    "    \"Lenovo\": 17299.0,\n",
    "    \"Dell\": 15524.87\n",
    "}\n",
    "\n",
    "print(laptops)\n",
    "print(len(laptops))\n",
    "\n",
    "laptops.popitem() # índice -1 (el último elemento llave_valor)\n",
    "print(laptops)\n",
    "print(len(laptops))\n",
    "\n",
    "laptops.popitem() # índice -1 (el último elemento llave_valor)\n",
    "print(laptops)\n",
    "print(len(laptops))\n",
    "\n",
    "laptops.popitem() # índice -1 (el último elemento llave_valor)\n",
    "print(laptops)\n",
    "print(len(laptops))"
   ]
  },
  {
   "cell_type": "markdown",
   "id": "65525589-a259-4fd3-be11-492449e97b94",
   "metadata": {},
   "source": [
    "### setdefault\n",
    "configura un valor por default para cierta llave en caso de que no esté presente en el diccionario\n",
    "\n",
    "Si la llave está presente no tendrá ningún efecto, pero, si la llave no está configurará el valor para esa llave"
   ]
  },
  {
   "cell_type": "code",
   "execution_count": 81,
   "id": "edbb3f30-f2df-4e92-b48e-e4713cd24215",
   "metadata": {},
   "outputs": [
    {
     "name": "stdout",
     "output_type": "stream",
     "text": [
      "11999.0\n",
      "10000.0\n"
     ]
    }
   ],
   "source": [
    "laptops_store_1 = {\n",
    "    \"HP\": 11999.0,\n",
    "    \"Apple\": 24999.0,\n",
    "    \"Acer\": 12012.03,\n",
    "    \"Lenovo\": 17299.0,\n",
    "    \"Dell\": 15524.87\n",
    "}\n",
    "\n",
    "laptops_store_2 = {\n",
    "    \"Apple\": 24999.0,\n",
    "    \"Acer\": 12012.03,\n",
    "    \"Lenovo\": 17299.0,\n",
    "    \"Dell\": 15524.87\n",
    "}\n",
    "\n",
    "laptops_store_1.setdefault(\"HP\", 10000.0)\n",
    "laptops_store_2.setdefault(\"HP\", 10000.0)\n",
    "\n",
    "print(laptops_store_1.get(\"HP\"))\n",
    "print(laptops_store_2.get(\"HP\"))"
   ]
  },
  {
   "cell_type": "code",
   "execution_count": null,
   "id": "0a525180-ecec-4256-87c5-110b0188f459",
   "metadata": {},
   "outputs": [],
   "source": []
  }
 ],
 "metadata": {
  "kernelspec": {
   "display_name": "Python 3 (ipykernel)",
   "language": "python",
   "name": "python3"
  },
  "language_info": {
   "codemirror_mode": {
    "name": "ipython",
    "version": 3
   },
   "file_extension": ".py",
   "mimetype": "text/x-python",
   "name": "python",
   "nbconvert_exporter": "python",
   "pygments_lexer": "ipython3",
   "version": "3.11.5"
  }
 },
 "nbformat": 4,
 "nbformat_minor": 5
}
