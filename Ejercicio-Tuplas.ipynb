{
 "cells": [
  {
   "cell_type": "markdown",
   "id": "f989b5f0-6e04-4727-85c4-35c370a40016",
   "metadata": {},
   "source": [
    "# Ejercicio Tuplas"
   ]
  },
  {
   "cell_type": "code",
   "execution_count": 30,
   "id": "3a6df444-a06d-412b-8a95-8e13230435de",
   "metadata": {},
   "outputs": [
    {
     "name": "stdout",
     "output_type": "stream",
     "text": [
      "Lista de Reproducción\n",
      "\n",
      "Ingresa la palabra que te gustaría\n",
      "Ejemplo: 'rock', y obtendrás un playlist de canciones o artistas que incluyan la palabra rock\n"
     ]
    },
    {
     "name": "stdin",
     "output_type": "stream",
     "text": [
      " rock\n"
     ]
    },
    {
     "name": "stdout",
     "output_type": "stream",
     "text": [
      "('rockstar', 'Post Malone')\n",
      "(\"Rocket Man (I Think It's Going To Be A Long, Long Time)\", 'Elton John')\n",
      "('Rockstar', 'LISA')\n",
      "('Rock Your Body', 'Justin Timberlake')\n",
      "('Rock My Body', 'R3HAB')\n",
      "('Rockstar', 'Nickelback')\n",
      "('ROCKSTAR', 'Junior H')\n",
      "('ROCKSTAR', 'DaBaby')\n",
      "('Rock the Casbah (Remastered)', 'The Clash')\n",
      "('Rock This Party (Everybody Dance Now)', 'Bob Sinclar')\n",
      "('Rock And Roll All Nite', 'Kiss')\n",
      "(\"Somebody's Watching Me\", 'Rockwell')\n",
      "('Rock You Like a Hurricane (2015 - Remaster)', 'Scorpions')\n",
      "('Rockabye (feat. Sean Paul & Anne-Marie)', 'Clean Bandit')\n",
      "('Rock You Like a Hurricane (2011)', 'Scorpions')\n",
      "('Rock N Roll Train', 'AC/DC')\n",
      "(\"Rockin' in the Free World\", 'Neil Young')\n",
      "(\"Rock and Roll Ain't Noise Pollution\", 'AC/DC')\n",
      "('Rockstar (Extended)', 'LISA')\n",
      "('Rock with You (Single Version)', 'Michael Jackson')\n",
      "('Rock The Boat', 'Aaliyah')\n",
      "('Rock and A Hard Place', 'Bailey Zimmerman')\n",
      "('Rockin’', 'The Weeknd')\n",
      "('Rock and Roll (Remaster)', 'Led Zeppelin')\n",
      "('The Rock Show', 'blink-182')\n"
     ]
    }
   ],
   "source": [
    "import requests\n",
    "\n",
    "print(\"Lista de Reproducción\\n\") \n",
    "\n",
    "# Referencia: https://www.deezer.com/en/channels/explore \n",
    "\n",
    "print(\"Ingresa la palabra que te gustaría\")\n",
    "print(\"Ejemplo: 'rock', y obtendrás un playlist de canciones o artistas que incluyan la palabra rock\")\n",
    "\n",
    "word_to_search = input()\n",
    "\n",
    "url = \"https://deezerdevs-deezer.p.rapidapi.com/search\"\n",
    "querystring = {\"q\":word_to_search}\n",
    "headers = {\n",
    "    \"X-RapidAPI-Key\": \"3ed98f551fmshe4e6260228c4eadp13db17jsn8c893e1194da\", \n",
    "    \"X-RapidAPI-Host\": \"deezerdevs-deezer.p.rapidapi.com\"\n",
    "}\n",
    "response = requests.request(\"GET\", url, headers=headers, params=querystring).json()\n",
    "for element in response['data']:\n",
    "    my_list = [element['title'], element['artist']['name']] \n",
    "    my_tuple = (tuple(my_list))\n",
    "    print(my_tuple)"
   ]
  },
  {
   "cell_type": "code",
   "execution_count": null,
   "id": "2c7ef54e-3c43-4859-b6ad-0343ad87dcf7",
   "metadata": {},
   "outputs": [],
   "source": []
  }
 ],
 "metadata": {
  "kernelspec": {
   "display_name": "Python 3 (ipykernel)",
   "language": "python",
   "name": "python3"
  },
  "language_info": {
   "codemirror_mode": {
    "name": "ipython",
    "version": 3
   },
   "file_extension": ".py",
   "mimetype": "text/x-python",
   "name": "python",
   "nbconvert_exporter": "python",
   "pygments_lexer": "ipython3",
   "version": "3.11.5"
  }
 },
 "nbformat": 4,
 "nbformat_minor": 5
}
