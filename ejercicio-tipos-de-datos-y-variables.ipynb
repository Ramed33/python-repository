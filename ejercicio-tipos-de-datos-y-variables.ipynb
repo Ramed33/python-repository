{
 "cells": [
  {
   "cell_type": "markdown",
   "id": "46260b40-e5a2-42e1-94ad-0a74b38ab6dc",
   "metadata": {},
   "source": [
    "# Bienvenido al programa. Puedes seleccionar una de las siguientes operaciones: suma, resta, multiplicación, división y potencia. Puedes ingresar dos números en cualquiera de los siguientes formatos: decimal, binario, octal y hexadecimal. El resultado se dará en formato decimal."
   ]
  },
  {
   "cell_type": "code",
   "execution_count": 114,
   "id": "8fcf0af6-142d-4847-8b0e-d5ac4c36d9d0",
   "metadata": {},
   "outputs": [
    {
     "name": "stdin",
     "output_type": "stream",
     "text": [
      " Ingresa + para suma:\n",
      " Ingresa - para resta:\n",
      " Ingresa * para multiplicación:\n",
      " Ingresa / para división:\n",
      " Ingresa ** para potencia:\n",
      " /\n",
      "Ingresa dos números separados por coma:  0xF, 0x3\n"
     ]
    },
    {
     "name": "stdout",
     "output_type": "stream",
     "text": [
      "El primer valor de entrada es:  0xF\n",
      "El segundo valor de entrada es:   0x3\n",
      "La operacion seleccionada es:  /\n",
      "El resultado es:  5.0\n"
     ]
    }
   ],
   "source": [
    "operacion = input(\" Ingresa + para suma:\\n Ingresa - para resta:\\n Ingresa * para multiplicación:\\n Ingresa / para división:\\n Ingresa ** para potencia:\\n\")\n",
    "x, y = input(\"Ingresa dos números separados por coma: \").split(\",\")\n",
    "print(\"El primer valor de entrada es: \", x)\n",
    "print(\"El segundo valor de entrada es: \", y)\n",
    "print(\"La operacion seleccionada es: \", operacion)\n",
    "resultado = x+operacion+y\n",
    "print(\"El resultado es: \", eval(resultado))"
   ]
  },
  {
   "cell_type": "code",
   "execution_count": null,
   "id": "ca1b8eff-979a-4c67-b4b5-72116d1647b3",
   "metadata": {},
   "outputs": [],
   "source": []
  }
 ],
 "metadata": {
  "kernelspec": {
   "display_name": "Python 3 (ipykernel)",
   "language": "python",
   "name": "python3"
  },
  "language_info": {
   "codemirror_mode": {
    "name": "ipython",
    "version": 3
   },
   "file_extension": ".py",
   "mimetype": "text/x-python",
   "name": "python",
   "nbconvert_exporter": "python",
   "pygments_lexer": "ipython3",
   "version": "3.11.5"
  }
 },
 "nbformat": 4,
 "nbformat_minor": 5
}
